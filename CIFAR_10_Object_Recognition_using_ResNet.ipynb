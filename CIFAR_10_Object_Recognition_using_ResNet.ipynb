{
  "cells": [
    {
      "cell_type": "markdown",
      "metadata": {
        "id": "view-in-github",
        "colab_type": "text"
      },
      "source": [
        "<a href=\"https://colab.research.google.com/github/ayeshammn/Object-Recognition-Using-ResNet/blob/main/CIFAR_10_Object_Recognition_using_ResNet.ipynb\" target=\"_parent\"><img src=\"https://colab.research.google.com/assets/colab-badge.svg\" alt=\"Open In Colab\"/></a>"
      ]
    },
    {
      "cell_type": "code",
      "execution_count": 6,
      "metadata": {
        "colab": {
          "base_uri": "https://localhost:8080/"
        },
        "id": "GZktXNwbtPhw",
        "outputId": "76c002b7-fbfc-4d7d-963a-1edcc20903ab"
      },
      "outputs": [
        {
          "output_type": "stream",
          "name": "stdout",
          "text": [
            "Requirement already satisfied: kaggle in /usr/local/lib/python3.10/dist-packages (1.5.16)\n",
            "Requirement already satisfied: six>=1.10 in /usr/local/lib/python3.10/dist-packages (from kaggle) (1.16.0)\n",
            "Requirement already satisfied: certifi in /usr/local/lib/python3.10/dist-packages (from kaggle) (2023.7.22)\n",
            "Requirement already satisfied: python-dateutil in /usr/local/lib/python3.10/dist-packages (from kaggle) (2.8.2)\n",
            "Requirement already satisfied: requests in /usr/local/lib/python3.10/dist-packages (from kaggle) (2.31.0)\n",
            "Requirement already satisfied: tqdm in /usr/local/lib/python3.10/dist-packages (from kaggle) (4.66.1)\n",
            "Requirement already satisfied: python-slugify in /usr/local/lib/python3.10/dist-packages (from kaggle) (8.0.1)\n",
            "Requirement already satisfied: urllib3 in /usr/local/lib/python3.10/dist-packages (from kaggle) (2.0.5)\n",
            "Requirement already satisfied: bleach in /usr/local/lib/python3.10/dist-packages (from kaggle) (6.0.0)\n",
            "Requirement already satisfied: webencodings in /usr/local/lib/python3.10/dist-packages (from bleach->kaggle) (0.5.1)\n",
            "Requirement already satisfied: text-unidecode>=1.3 in /usr/local/lib/python3.10/dist-packages (from python-slugify->kaggle) (1.3)\n",
            "Requirement already satisfied: charset-normalizer<4,>=2 in /usr/local/lib/python3.10/dist-packages (from requests->kaggle) (3.2.0)\n",
            "Requirement already satisfied: idna<4,>=2.5 in /usr/local/lib/python3.10/dist-packages (from requests->kaggle) (3.4)\n"
          ]
        }
      ],
      "source": [
        "!pip install kaggle\n"
      ]
    },
    {
      "cell_type": "code",
      "execution_count": 7,
      "metadata": {
        "id": "3HVKoZ-Gu0n6"
      },
      "outputs": [],
      "source": [
        "!mkdir -p ~/.kaggle\n",
        "!cp kaggle.json ~/.kaggle/\n",
        "!chmod 600 ~/.kaggle/kaggle.json"
      ]
    },
    {
      "cell_type": "code",
      "execution_count": 8,
      "metadata": {
        "colab": {
          "base_uri": "https://localhost:8080/"
        },
        "id": "95D4DxaOvlmU",
        "outputId": "e4d29a8d-ad44-4083-95d8-a10f9d1c82ad"
      },
      "outputs": [
        {
          "output_type": "stream",
          "name": "stdout",
          "text": [
            "Downloading cifar-10.zip to /content\n",
            " 99% 711M/715M [00:11<00:00, 110MB/s]\n",
            "100% 715M/715M [00:11<00:00, 63.8MB/s]\n"
          ]
        }
      ],
      "source": [
        "!kaggle competitions download -c cifar-10"
      ]
    },
    {
      "cell_type": "code",
      "execution_count": 9,
      "metadata": {
        "colab": {
          "base_uri": "https://localhost:8080/"
        },
        "id": "ksMtlccCvzoL",
        "outputId": "a0473f4a-c57e-44c1-d01d-8c845494de51"
      },
      "outputs": [
        {
          "output_type": "stream",
          "name": "stdout",
          "text": [
            "cifar-10.zip  kaggle.json  sample_data\n"
          ]
        }
      ],
      "source": [
        "!ls"
      ]
    },
    {
      "cell_type": "code",
      "execution_count": 10,
      "metadata": {
        "colab": {
          "base_uri": "https://localhost:8080/"
        },
        "id": "S_eMTyAZwEtG",
        "outputId": "6e5e951b-a257-45b0-e698-760b6c167a7b"
      },
      "outputs": [
        {
          "output_type": "stream",
          "name": "stdout",
          "text": [
            "mkdir: missing operand\n",
            "Try 'mkdir --help' for more information.\n",
            "Extracted file\n"
          ]
        }
      ],
      "source": [
        "import zipfile\n",
        "\n",
        "# Define the path to the uploaded ZIP file\n",
        "zip_file_path = '/content/cifar-10.zip'\n",
        "\n",
        "# Create the extraction directory if it doesn't exist\n",
        "!mkdir -p $extract_path\n",
        "\n",
        "# Extract the ZIP file\n",
        "with zipfile.ZipFile(zip_file_path, 'r') as zip_ref:\n",
        "    zip_ref.extractall()\n",
        "    print(\"Extracted file\")"
      ]
    },
    {
      "cell_type": "code",
      "execution_count": 11,
      "metadata": {
        "colab": {
          "base_uri": "https://localhost:8080/"
        },
        "id": "OM1QWgU3wEl8",
        "outputId": "314d83ad-c31c-4d34-9ce9-608c86d6dd35"
      },
      "outputs": [
        {
          "output_type": "stream",
          "name": "stdout",
          "text": [
            "cifar-10.zip  sample_data\t    test.7z   trainLabels.csv\n",
            "kaggle.json   sampleSubmission.csv  train.7z\n"
          ]
        }
      ],
      "source": [
        "!ls"
      ]
    },
    {
      "cell_type": "code",
      "execution_count": 12,
      "metadata": {
        "colab": {
          "base_uri": "https://localhost:8080/"
        },
        "id": "XZ055SUCw7zW",
        "outputId": "5fb5aaad-8efb-4181-d2f4-08b96701e951"
      },
      "outputs": [
        {
          "output_type": "stream",
          "name": "stdout",
          "text": [
            "Collecting py7zr\n",
            "  Downloading py7zr-0.20.6-py3-none-any.whl (66 kB)\n",
            "\u001b[2K     \u001b[90m━━━━━━━━━━━━━━━━━━━━━━━━━━━━━━━━━━━━━━━━\u001b[0m \u001b[32m66.7/66.7 kB\u001b[0m \u001b[31m1.6 MB/s\u001b[0m eta \u001b[36m0:00:00\u001b[0m\n",
            "\u001b[?25hCollecting texttable (from py7zr)\n",
            "  Downloading texttable-1.7.0-py2.py3-none-any.whl (10 kB)\n",
            "Collecting pycryptodomex>=3.6.6 (from py7zr)\n",
            "  Downloading pycryptodomex-3.19.0-cp35-abi3-manylinux_2_17_x86_64.manylinux2014_x86_64.whl (2.1 MB)\n",
            "\u001b[2K     \u001b[90m━━━━━━━━━━━━━━━━━━━━━━━━━━━━━━━━━━━━━━━━\u001b[0m \u001b[32m2.1/2.1 MB\u001b[0m \u001b[31m27.0 MB/s\u001b[0m eta \u001b[36m0:00:00\u001b[0m\n",
            "\u001b[?25hCollecting pyzstd>=0.14.4 (from py7zr)\n",
            "  Downloading pyzstd-0.15.9-cp310-cp310-manylinux_2_17_x86_64.manylinux2014_x86_64.whl (412 kB)\n",
            "\u001b[2K     \u001b[90m━━━━━━━━━━━━━━━━━━━━━━━━━━━━━━━━━━━━━━━\u001b[0m \u001b[32m412.3/412.3 kB\u001b[0m \u001b[31m6.6 MB/s\u001b[0m eta \u001b[36m0:00:00\u001b[0m\n",
            "\u001b[?25hCollecting pyppmd<1.1.0,>=0.18.1 (from py7zr)\n",
            "  Downloading pyppmd-1.0.0-cp310-cp310-manylinux_2_17_x86_64.manylinux2014_x86_64.whl (138 kB)\n",
            "\u001b[2K     \u001b[90m━━━━━━━━━━━━━━━━━━━━━━━━━━━━━━━━━━━━━━━\u001b[0m \u001b[32m138.8/138.8 kB\u001b[0m \u001b[31m8.7 MB/s\u001b[0m eta \u001b[36m0:00:00\u001b[0m\n",
            "\u001b[?25hCollecting pybcj>=0.6.0 (from py7zr)\n",
            "  Downloading pybcj-1.0.1-cp310-cp310-manylinux_2_17_x86_64.manylinux2014_x86_64.whl (49 kB)\n",
            "\u001b[2K     \u001b[90m━━━━━━━━━━━━━━━━━━━━━━━━━━━━━━━━━━━━━━━━\u001b[0m \u001b[32m49.8/49.8 kB\u001b[0m \u001b[31m2.3 MB/s\u001b[0m eta \u001b[36m0:00:00\u001b[0m\n",
            "\u001b[?25hCollecting multivolumefile>=0.2.3 (from py7zr)\n",
            "  Downloading multivolumefile-0.2.3-py3-none-any.whl (17 kB)\n",
            "Collecting brotli>=1.0.9 (from py7zr)\n",
            "  Downloading Brotli-1.1.0-cp310-cp310-manylinux_2_5_x86_64.manylinux1_x86_64.manylinux_2_12_x86_64.manylinux2010_x86_64.whl (3.0 MB)\n",
            "\u001b[2K     \u001b[90m━━━━━━━━━━━━━━━━━━━━━━━━━━━━━━━━━━━━━━━━\u001b[0m \u001b[32m3.0/3.0 MB\u001b[0m \u001b[31m20.9 MB/s\u001b[0m eta \u001b[36m0:00:00\u001b[0m\n",
            "\u001b[?25hCollecting inflate64>=0.3.1 (from py7zr)\n",
            "  Downloading inflate64-0.3.1-cp310-cp310-manylinux_2_17_x86_64.manylinux2014_x86_64.whl (93 kB)\n",
            "\u001b[2K     \u001b[90m━━━━━━━━━━━━━━━━━━━━━━━━━━━━━━━━━━━━━━━━\u001b[0m \u001b[32m93.1/93.1 kB\u001b[0m \u001b[31m5.3 MB/s\u001b[0m eta \u001b[36m0:00:00\u001b[0m\n",
            "\u001b[?25hRequirement already satisfied: psutil in /usr/local/lib/python3.10/dist-packages (from py7zr) (5.9.5)\n",
            "Installing collected packages: texttable, brotli, pyzstd, pyppmd, pycryptodomex, pybcj, multivolumefile, inflate64, py7zr\n",
            "Successfully installed brotli-1.1.0 inflate64-0.3.1 multivolumefile-0.2.3 py7zr-0.20.6 pybcj-1.0.1 pycryptodomex-3.19.0 pyppmd-1.0.0 pyzstd-0.15.9 texttable-1.7.0\n"
          ]
        }
      ],
      "source": [
        "!pip install py7zr"
      ]
    },
    {
      "cell_type": "code",
      "execution_count": 13,
      "metadata": {
        "id": "7HABjROBxc96"
      },
      "outputs": [],
      "source": [
        "import py7zr\n",
        "archieve = py7zr.SevenZipFile('/content/train.7z', mode = 'r')\n",
        "archieve.extractall()\n",
        "archieve.close()"
      ]
    },
    {
      "cell_type": "code",
      "execution_count": 14,
      "metadata": {
        "colab": {
          "base_uri": "https://localhost:8080/"
        },
        "id": "DPdD3WcHyrun",
        "outputId": "e3a45c48-6200-42eb-ac26-89973e674dd9"
      },
      "outputs": [
        {
          "output_type": "stream",
          "name": "stdout",
          "text": [
            "cifar-10.zip  sample_data\t    test.7z  train.7z\n",
            "kaggle.json   sampleSubmission.csv  train    trainLabels.csv\n"
          ]
        }
      ],
      "source": [
        "!ls"
      ]
    },
    {
      "cell_type": "markdown",
      "metadata": {
        "id": "UKrxt2fWywao"
      },
      "source": [
        "Import dependancies"
      ]
    },
    {
      "cell_type": "code",
      "execution_count": 15,
      "metadata": {
        "id": "uIZ9Y_SyyuBI"
      },
      "outputs": [],
      "source": [
        "import os\n",
        "import pandas as pd\n",
        "import numpy as np\n",
        "from PIL import Image\n",
        "import matplotlib.pyplot as plt\n",
        "import matplotlib.image as img\n",
        "from sklearn.model_selection import train_test_split"
      ]
    },
    {
      "cell_type": "code",
      "execution_count": 16,
      "metadata": {
        "id": "zXWF5LK5yt8p"
      },
      "outputs": [],
      "source": [
        "filenames = os.listdir('/content/train')"
      ]
    },
    {
      "cell_type": "code",
      "execution_count": 17,
      "metadata": {
        "colab": {
          "base_uri": "https://localhost:8080/"
        },
        "id": "ndnNAszrytqm",
        "outputId": "ff35b78e-b8f6-41d3-be39-62efc0d1eadc"
      },
      "outputs": [
        {
          "output_type": "execute_result",
          "data": {
            "text/plain": [
              "50000"
            ]
          },
          "metadata": {},
          "execution_count": 17
        }
      ],
      "source": [
        "len(filenames)"
      ]
    },
    {
      "cell_type": "code",
      "execution_count": 18,
      "metadata": {
        "colab": {
          "base_uri": "https://localhost:8080/"
        },
        "id": "4g7fy73h6oMU",
        "outputId": "fe4c967a-0a91-4914-cc1d-1a37d1010c22"
      },
      "outputs": [
        {
          "output_type": "stream",
          "name": "stdout",
          "text": [
            "['10939.png', '6299.png', '26874.png', '6627.png', '32364.png']\n",
            "['12806.png', '10074.png', '24823.png', '8533.png', '27460.png']\n"
          ]
        }
      ],
      "source": [
        "print(filenames[:5])\n",
        "print(filenames[-5:])"
      ]
    },
    {
      "cell_type": "code",
      "execution_count": 19,
      "metadata": {
        "id": "TVmf3AIS6yZ7"
      },
      "outputs": [],
      "source": [
        "label_df = pd.read_csv('/content/trainLabels.csv')"
      ]
    },
    {
      "cell_type": "code",
      "execution_count": 20,
      "metadata": {
        "colab": {
          "base_uri": "https://localhost:8080/"
        },
        "id": "PaoR-pPS6ySc",
        "outputId": "68bba12a-c968-4ac5-eb96-0bb0993a34f7"
      },
      "outputs": [
        {
          "output_type": "execute_result",
          "data": {
            "text/plain": [
              "(50000, 2)"
            ]
          },
          "metadata": {},
          "execution_count": 20
        }
      ],
      "source": [
        "label_df.shape"
      ]
    },
    {
      "cell_type": "code",
      "execution_count": 21,
      "metadata": {
        "colab": {
          "base_uri": "https://localhost:8080/",
          "height": 206
        },
        "id": "Kir8a04-6yJ7",
        "outputId": "b6f65041-ec4c-439e-e5cd-aed14968cfcd"
      },
      "outputs": [
        {
          "output_type": "execute_result",
          "data": {
            "text/plain": [
              "   id       label\n",
              "0   1        frog\n",
              "1   2       truck\n",
              "2   3       truck\n",
              "3   4        deer\n",
              "4   5  automobile"
            ],
            "text/html": [
              "\n",
              "  <div id=\"df-60a9e1c3-28c6-4ef9-a197-396265d2b91e\" class=\"colab-df-container\">\n",
              "    <div>\n",
              "<style scoped>\n",
              "    .dataframe tbody tr th:only-of-type {\n",
              "        vertical-align: middle;\n",
              "    }\n",
              "\n",
              "    .dataframe tbody tr th {\n",
              "        vertical-align: top;\n",
              "    }\n",
              "\n",
              "    .dataframe thead th {\n",
              "        text-align: right;\n",
              "    }\n",
              "</style>\n",
              "<table border=\"1\" class=\"dataframe\">\n",
              "  <thead>\n",
              "    <tr style=\"text-align: right;\">\n",
              "      <th></th>\n",
              "      <th>id</th>\n",
              "      <th>label</th>\n",
              "    </tr>\n",
              "  </thead>\n",
              "  <tbody>\n",
              "    <tr>\n",
              "      <th>0</th>\n",
              "      <td>1</td>\n",
              "      <td>frog</td>\n",
              "    </tr>\n",
              "    <tr>\n",
              "      <th>1</th>\n",
              "      <td>2</td>\n",
              "      <td>truck</td>\n",
              "    </tr>\n",
              "    <tr>\n",
              "      <th>2</th>\n",
              "      <td>3</td>\n",
              "      <td>truck</td>\n",
              "    </tr>\n",
              "    <tr>\n",
              "      <th>3</th>\n",
              "      <td>4</td>\n",
              "      <td>deer</td>\n",
              "    </tr>\n",
              "    <tr>\n",
              "      <th>4</th>\n",
              "      <td>5</td>\n",
              "      <td>automobile</td>\n",
              "    </tr>\n",
              "  </tbody>\n",
              "</table>\n",
              "</div>\n",
              "    <div class=\"colab-df-buttons\">\n",
              "\n",
              "  <div class=\"colab-df-container\">\n",
              "    <button class=\"colab-df-convert\" onclick=\"convertToInteractive('df-60a9e1c3-28c6-4ef9-a197-396265d2b91e')\"\n",
              "            title=\"Convert this dataframe to an interactive table.\"\n",
              "            style=\"display:none;\">\n",
              "\n",
              "  <svg xmlns=\"http://www.w3.org/2000/svg\" height=\"24px\" viewBox=\"0 -960 960 960\">\n",
              "    <path d=\"M120-120v-720h720v720H120Zm60-500h600v-160H180v160Zm220 220h160v-160H400v160Zm0 220h160v-160H400v160ZM180-400h160v-160H180v160Zm440 0h160v-160H620v160ZM180-180h160v-160H180v160Zm440 0h160v-160H620v160Z\"/>\n",
              "  </svg>\n",
              "    </button>\n",
              "\n",
              "  <style>\n",
              "    .colab-df-container {\n",
              "      display:flex;\n",
              "      gap: 12px;\n",
              "    }\n",
              "\n",
              "    .colab-df-convert {\n",
              "      background-color: #E8F0FE;\n",
              "      border: none;\n",
              "      border-radius: 50%;\n",
              "      cursor: pointer;\n",
              "      display: none;\n",
              "      fill: #1967D2;\n",
              "      height: 32px;\n",
              "      padding: 0 0 0 0;\n",
              "      width: 32px;\n",
              "    }\n",
              "\n",
              "    .colab-df-convert:hover {\n",
              "      background-color: #E2EBFA;\n",
              "      box-shadow: 0px 1px 2px rgba(60, 64, 67, 0.3), 0px 1px 3px 1px rgba(60, 64, 67, 0.15);\n",
              "      fill: #174EA6;\n",
              "    }\n",
              "\n",
              "    .colab-df-buttons div {\n",
              "      margin-bottom: 4px;\n",
              "    }\n",
              "\n",
              "    [theme=dark] .colab-df-convert {\n",
              "      background-color: #3B4455;\n",
              "      fill: #D2E3FC;\n",
              "    }\n",
              "\n",
              "    [theme=dark] .colab-df-convert:hover {\n",
              "      background-color: #434B5C;\n",
              "      box-shadow: 0px 1px 3px 1px rgba(0, 0, 0, 0.15);\n",
              "      filter: drop-shadow(0px 1px 2px rgba(0, 0, 0, 0.3));\n",
              "      fill: #FFFFFF;\n",
              "    }\n",
              "  </style>\n",
              "\n",
              "    <script>\n",
              "      const buttonEl =\n",
              "        document.querySelector('#df-60a9e1c3-28c6-4ef9-a197-396265d2b91e button.colab-df-convert');\n",
              "      buttonEl.style.display =\n",
              "        google.colab.kernel.accessAllowed ? 'block' : 'none';\n",
              "\n",
              "      async function convertToInteractive(key) {\n",
              "        const element = document.querySelector('#df-60a9e1c3-28c6-4ef9-a197-396265d2b91e');\n",
              "        const dataTable =\n",
              "          await google.colab.kernel.invokeFunction('convertToInteractive',\n",
              "                                                    [key], {});\n",
              "        if (!dataTable) return;\n",
              "\n",
              "        const docLinkHtml = 'Like what you see? Visit the ' +\n",
              "          '<a target=\"_blank\" href=https://colab.research.google.com/notebooks/data_table.ipynb>data table notebook</a>'\n",
              "          + ' to learn more about interactive tables.';\n",
              "        element.innerHTML = '';\n",
              "        dataTable['output_type'] = 'display_data';\n",
              "        await google.colab.output.renderOutput(dataTable, element);\n",
              "        const docLink = document.createElement('div');\n",
              "        docLink.innerHTML = docLinkHtml;\n",
              "        element.appendChild(docLink);\n",
              "      }\n",
              "    </script>\n",
              "  </div>\n",
              "\n",
              "\n",
              "<div id=\"df-dafcd883-d0ef-4ba9-8610-efcdc5092c15\">\n",
              "  <button class=\"colab-df-quickchart\" onclick=\"quickchart('df-dafcd883-d0ef-4ba9-8610-efcdc5092c15')\"\n",
              "            title=\"Suggest charts.\"\n",
              "            style=\"display:none;\">\n",
              "\n",
              "<svg xmlns=\"http://www.w3.org/2000/svg\" height=\"24px\"viewBox=\"0 0 24 24\"\n",
              "     width=\"24px\">\n",
              "    <g>\n",
              "        <path d=\"M19 3H5c-1.1 0-2 .9-2 2v14c0 1.1.9 2 2 2h14c1.1 0 2-.9 2-2V5c0-1.1-.9-2-2-2zM9 17H7v-7h2v7zm4 0h-2V7h2v10zm4 0h-2v-4h2v4z\"/>\n",
              "    </g>\n",
              "</svg>\n",
              "  </button>\n",
              "\n",
              "<style>\n",
              "  .colab-df-quickchart {\n",
              "      --bg-color: #E8F0FE;\n",
              "      --fill-color: #1967D2;\n",
              "      --hover-bg-color: #E2EBFA;\n",
              "      --hover-fill-color: #174EA6;\n",
              "      --disabled-fill-color: #AAA;\n",
              "      --disabled-bg-color: #DDD;\n",
              "  }\n",
              "\n",
              "  [theme=dark] .colab-df-quickchart {\n",
              "      --bg-color: #3B4455;\n",
              "      --fill-color: #D2E3FC;\n",
              "      --hover-bg-color: #434B5C;\n",
              "      --hover-fill-color: #FFFFFF;\n",
              "      --disabled-bg-color: #3B4455;\n",
              "      --disabled-fill-color: #666;\n",
              "  }\n",
              "\n",
              "  .colab-df-quickchart {\n",
              "    background-color: var(--bg-color);\n",
              "    border: none;\n",
              "    border-radius: 50%;\n",
              "    cursor: pointer;\n",
              "    display: none;\n",
              "    fill: var(--fill-color);\n",
              "    height: 32px;\n",
              "    padding: 0;\n",
              "    width: 32px;\n",
              "  }\n",
              "\n",
              "  .colab-df-quickchart:hover {\n",
              "    background-color: var(--hover-bg-color);\n",
              "    box-shadow: 0 1px 2px rgba(60, 64, 67, 0.3), 0 1px 3px 1px rgba(60, 64, 67, 0.15);\n",
              "    fill: var(--button-hover-fill-color);\n",
              "  }\n",
              "\n",
              "  .colab-df-quickchart-complete:disabled,\n",
              "  .colab-df-quickchart-complete:disabled:hover {\n",
              "    background-color: var(--disabled-bg-color);\n",
              "    fill: var(--disabled-fill-color);\n",
              "    box-shadow: none;\n",
              "  }\n",
              "\n",
              "  .colab-df-spinner {\n",
              "    border: 2px solid var(--fill-color);\n",
              "    border-color: transparent;\n",
              "    border-bottom-color: var(--fill-color);\n",
              "    animation:\n",
              "      spin 1s steps(1) infinite;\n",
              "  }\n",
              "\n",
              "  @keyframes spin {\n",
              "    0% {\n",
              "      border-color: transparent;\n",
              "      border-bottom-color: var(--fill-color);\n",
              "      border-left-color: var(--fill-color);\n",
              "    }\n",
              "    20% {\n",
              "      border-color: transparent;\n",
              "      border-left-color: var(--fill-color);\n",
              "      border-top-color: var(--fill-color);\n",
              "    }\n",
              "    30% {\n",
              "      border-color: transparent;\n",
              "      border-left-color: var(--fill-color);\n",
              "      border-top-color: var(--fill-color);\n",
              "      border-right-color: var(--fill-color);\n",
              "    }\n",
              "    40% {\n",
              "      border-color: transparent;\n",
              "      border-right-color: var(--fill-color);\n",
              "      border-top-color: var(--fill-color);\n",
              "    }\n",
              "    60% {\n",
              "      border-color: transparent;\n",
              "      border-right-color: var(--fill-color);\n",
              "    }\n",
              "    80% {\n",
              "      border-color: transparent;\n",
              "      border-right-color: var(--fill-color);\n",
              "      border-bottom-color: var(--fill-color);\n",
              "    }\n",
              "    90% {\n",
              "      border-color: transparent;\n",
              "      border-bottom-color: var(--fill-color);\n",
              "    }\n",
              "  }\n",
              "</style>\n",
              "\n",
              "  <script>\n",
              "    async function quickchart(key) {\n",
              "      const quickchartButtonEl =\n",
              "        document.querySelector('#' + key + ' button');\n",
              "      quickchartButtonEl.disabled = true;  // To prevent multiple clicks.\n",
              "      quickchartButtonEl.classList.add('colab-df-spinner');\n",
              "      try {\n",
              "        const charts = await google.colab.kernel.invokeFunction(\n",
              "            'suggestCharts', [key], {});\n",
              "      } catch (error) {\n",
              "        console.error('Error during call to suggestCharts:', error);\n",
              "      }\n",
              "      quickchartButtonEl.classList.remove('colab-df-spinner');\n",
              "      quickchartButtonEl.classList.add('colab-df-quickchart-complete');\n",
              "    }\n",
              "    (() => {\n",
              "      let quickchartButtonEl =\n",
              "        document.querySelector('#df-dafcd883-d0ef-4ba9-8610-efcdc5092c15 button');\n",
              "      quickchartButtonEl.style.display =\n",
              "        google.colab.kernel.accessAllowed ? 'block' : 'none';\n",
              "    })();\n",
              "  </script>\n",
              "</div>\n",
              "    </div>\n",
              "  </div>\n"
            ]
          },
          "metadata": {},
          "execution_count": 21
        }
      ],
      "source": [
        "label_df.head()"
      ]
    },
    {
      "cell_type": "code",
      "execution_count": 22,
      "metadata": {
        "colab": {
          "base_uri": "https://localhost:8080/"
        },
        "id": "DgrFCeSa6yCb",
        "outputId": "054da58b-99d0-4d4b-a394-60b943090023"
      },
      "outputs": [
        {
          "output_type": "execute_result",
          "data": {
            "text/plain": [
              "frog          5000\n",
              "truck         5000\n",
              "deer          5000\n",
              "automobile    5000\n",
              "bird          5000\n",
              "horse         5000\n",
              "ship          5000\n",
              "cat           5000\n",
              "dog           5000\n",
              "airplane      5000\n",
              "Name: label, dtype: int64"
            ]
          },
          "metadata": {},
          "execution_count": 22
        }
      ],
      "source": [
        "label_df['label'].value_counts()"
      ]
    },
    {
      "cell_type": "code",
      "execution_count": 23,
      "metadata": {
        "colab": {
          "base_uri": "https://localhost:8080/"
        },
        "id": "m0trxtap_gDL",
        "outputId": "31c88af3-cc01-44ed-dfed-c1d9bff2d974"
      },
      "outputs": [
        {
          "output_type": "execute_result",
          "data": {
            "text/plain": [
              "0              frog\n",
              "1             truck\n",
              "2             truck\n",
              "3              deer\n",
              "4        automobile\n",
              "            ...    \n",
              "49995          bird\n",
              "49996          frog\n",
              "49997         truck\n",
              "49998    automobile\n",
              "49999    automobile\n",
              "Name: label, Length: 50000, dtype: object"
            ]
          },
          "metadata": {},
          "execution_count": 23
        }
      ],
      "source": [
        "label_df['label']"
      ]
    },
    {
      "cell_type": "code",
      "execution_count": 24,
      "metadata": {
        "id": "dn7ltRDo_tdb"
      },
      "outputs": [],
      "source": [
        "label_dictionaries = {'airplane':0, 'dog':1, 'cat':2, 'ship':3, 'horse':4, 'bird':5, 'automobile':6, 'deer':7, 'truck':8, 'frog':9}\n",
        "\n",
        "labels = [label_dictionaries[i] for i in label_df['label']]"
      ]
    },
    {
      "cell_type": "code",
      "execution_count": 25,
      "metadata": {
        "colab": {
          "base_uri": "https://localhost:8080/"
        },
        "id": "98CjmP-iAwDV",
        "outputId": "ca3f262b-58be-40a5-c2cf-cc16b9b91132"
      },
      "outputs": [
        {
          "output_type": "stream",
          "name": "stdout",
          "text": [
            "[9, 8, 8, 7, 6, 6, 5, 4, 3, 2, 7, 4, 4, 5, 8, 8, 8, 2, 5, 9, 7, 2, 9, 9, 5, 9, 2, 1, 7, 0, 0, 8, 6, 2, 7, 0, 2, 4, 2, 2, 1, 5, 5, 4, 6, 6, 6, 5, 5, 0, 8, 1, 4, 8, 5, 5, 1, 5, 7, 2, 6, 6, 3, 5, 6, 6, 7, 8, 4, 3, 1, 8, 9, 4, 2, 6, 8, 0, 2, 6, 2, 1, 7, 1, 4, 4, 7, 4, 8, 7, 5, 2, 3, 0, 6, 9, 6, 6, 7, 6, 3, 2, 8, 9, 9, 6, 3, 1, 5, 8, 8, 3, 6, 4, 4, 0, 0, 9, 8, 6, 5, 5, 8, 5, 9, 9, 6, 8, 1, 0, 7, 4, 9, 4, 6, 3, 6, 6, 5, 3, 6, 2, 2, 9, 5, 7, 8, 8, 1, 7, 2, 9, 4, 7, 9, 3, 1, 1, 7, 2, 6, 3, 7, 4, 9, 0, 8, 1, 6, 2, 3, 5, 4, 1, 2, 7, 6, 1, 4, 0, 7, 4, 1, 1, 6, 0, 8, 9, 8, 0, 3, 4, 3, 3, 5, 1, 5, 2, 1, 0, 9, 6, 8, 2, 9, 8, 6, 2, 8, 9, 9, 4, 6, 0, 8, 1, 3, 1, 5, 8, 0, 3, 3, 0, 9, 8, 6, 6, 9, 2, 4, 9, 9, 0, 9, 9, 6, 4, 6, 1, 3, 2, 9, 9, 3, 9, 3, 7, 9, 9, 6, 2, 3, 2, 7, 6, 4, 6, 2, 3, 1, 6, 6, 7, 0, 8, 2, 4, 7, 8, 8, 5, 7, 8, 8, 6, 0, 1, 8, 0, 3, 5, 6, 5, 0, 1, 9, 2, 5, 4, 3, 3, 9, 0, 4, 8, 7, 1, 9, 7, 5, 6, 6, 5, 6, 1, 8, 8, 0, 3, 7, 6, 6, 9, 2, 2, 8, 0, 4, 8, 4, 4, 8, 6, 1, 6, 9, 9, 3, 4, 6, 2, 0, 2, 2, 5, 7, 1, 4, 1, 8, 0, 2, 7, 0, 7, 7, 9, 0, 0, 9, 9, 0, 3, 6, 9, 5, 8, 5, 1, 8, 9, 4, 7, 6, 3, 4, 2, 9, 8, 2, 0, 7, 0, 1, 6, 0, 2, 7, 3, 1, 7, 4, 5, 2, 8, 4, 9, 4, 6, 7, 4, 0, 6, 4, 2, 6, 3, 7, 7, 5, 0, 5, 5, 0, 0, 8, 0, 8, 9, 3, 5, 4, 4, 7, 0, 2, 0, 3, 8, 7, 5, 4, 5, 1, 5, 1, 6, 8, 7, 3, 1, 6, 4, 7, 7, 0, 9, 8, 0, 4, 3, 3, 8, 8, 2, 2, 7, 0, 7, 1, 9, 9, 0, 6, 0, 3, 0, 7, 3, 3, 6, 1, 5, 9, 3, 6, 0, 0, 4, 4, 1, 8, 9, 5, 3, 2, 7, 4, 2, 8, 0, 6, 5, 7, 3, 6, 3, 9, 7, 7, 1, 4, 6, 2, 8, 3, 0, 6, 4, 1, 3, 5, 3, 0, 7, 6, 3, 8, 3, 5, 8, 8, 5, 4, 1, 4, 2, 3, 3, 7, 7, 5, 4, 6, 9, 7, 0, 7, 9, 8, 4, 9, 5, 1, 1, 6, 4, 5, 5, 5, 8, 1, 7, 5, 4, 3, 6, 2, 7, 2, 4, 9, 8, 3, 0, 9, 0, 5, 5, 5, 6, 3, 7, 0, 6, 3, 3, 6, 1, 4, 9, 7, 1, 3, 4, 6, 8, 6, 8, 3, 7, 4, 2, 3, 3, 5, 9, 9, 4, 6, 9, 3, 6, 8, 4, 3, 2, 0, 6, 0, 3, 3, 2, 0, 0, 6, 1, 0, 3, 3, 4, 8, 8, 0, 8, 7, 6, 2, 9, 9, 7, 7, 4, 1, 9, 0, 3, 0, 2, 5, 3, 7, 9, 8, 8, 4, 0, 2, 2, 9, 4, 7, 8, 6, 9, 5, 4, 5, 5, 0, 9, 4, 1, 4, 9, 3, 8, 0, 8, 7, 7, 4, 0, 8, 7, 8, 9, 8, 7, 1, 4, 8, 5, 7, 1, 6, 7, 2, 8, 9, 1, 9, 8, 2, 2, 1, 0, 4, 5, 6, 2, 9, 7, 0, 0, 5, 1, 0, 6, 0, 5, 2, 8, 3, 7, 8, 3, 0, 5, 9, 7, 7, 0, 6, 3, 3, 2, 9, 8, 9, 9, 4, 3, 5, 7, 1, 4, 9, 1, 2, 0, 1, 0, 1, 0, 3, 5, 9, 4, 2, 3, 5, 6, 4, 9, 4, 6, 0, 8, 1, 1, 0, 6, 4, 9, 8, 0, 7, 4, 4, 6, 1, 8, 7, 0, 3, 1, 8, 8, 9, 4, 6, 3, 2, 5, 2, 3, 5, 5, 7, 9, 0, 0, 1, 2, 3, 5, 2, 4, 5, 8, 2, 3, 4, 3, 5, 4, 8, 0, 5, 2, 5, 5, 5, 2, 2, 9, 5, 2, 5, 3, 0, 1, 1, 6, 7, 1, 9, 9, 5, 4, 0, 6, 4, 4, 3, 5, 8, 5, 5, 7, 5, 6, 6, 6, 9, 9, 9, 1, 6, 6, 4, 0, 7, 2, 2, 4, 6, 5, 2, 1, 1, 1, 9, 6, 7, 2, 4, 3, 3, 2, 9, 9, 5, 2, 0, 8, 7, 2, 3, 0, 0, 6, 6, 1, 7, 8, 2, 6, 3, 8, 2, 8, 8, 5, 8, 7, 3, 5, 8, 3, 3, 6, 1, 2, 9, 3, 4, 9, 8, 3, 0, 9, 7, 0, 0, 5, 1, 3, 5, 0, 5, 4, 9, 8, 4, 6, 1, 1, 9, 9, 2, 9, 5, 7, 4, 0, 1, 9, 7, 9, 1, 5, 7, 9, 6, 9, 0, 7, 0, 2, 6, 3, 1, 7, 7, 6, 4, 2, 8, 7, 4, 8, 4, 2, 4, 5, 3, 7, 9, 9, 6, 5, 8, 0, 7, 3, 4, 2, 8, 3, 4, 4, 0, 5, 7, 6, 6, 7, 6, 1, 7, 0, 1, 9, 5, 3, 1, 0, 5, 6, 2, 1, 4, 2, 1, 6, 2, 1, 8, 7, 2, 5, 7, 7, 6, 7, 5, 5, 2, 3, 0, 9, 3, 1, 9, 9, 7, 4, 6, 6, 7, 9, 5, 2, 8, 9, 8, 6, 2, 9, 3, 1, 8, 9, 3, 6, 9, 0, 5, 2, 4, 8, 0, 8, 4, 9, 2, 8, 5, 9, 6, 9, 4, 2, 3, 2, 3, 2, 3, 1, 8, 9, 6, 5, 1, 5, 6, 7, 2, 4, 1, 8, 2, 8, 2, 5, 8, 6, 3, 1, 8, 4, 5, 9, 0, 3, 1, 4, 6, 1, 3, 1, 4, 6, 1, 0, 2, 8, 2, 9, 8, 6, 2, 8, 3, 5, 5, 2, 5, 1, 8, 4, 8, 8, 3, 8, 4, 0, 2, 2, 5, 0, 2, 4, 9, 2, 2, 5, 0, 9, 9, 1, 1, 4, 1, 8, 3, 5, 8, 3, 0, 7, 0, 6, 5, 0, 7, 4, 2, 3, 1, 6, 9, 9, 1, 1, 7, 9, 2, 9, 3, 5, 2, 4, 0, 4, 0, 7, 6, 8, 1, 4, 3, 9, 9, 3, 0, 4, 5, 3, 7, 3, 5, 0, 8, 0, 0, 5, 8, 9, 9, 1, 9, 0, 2, 4, 1, 1, 4, 8, 2, 7, 1, 0, 1, 5, 2, 5, 9, 0, 7, 8, 0, 4, 0, 8, 4, 5, 9, 7, 9, 8, 1, 7, 4, 0, 9, 3, 3, 8, 8, 8, 0, 8, 3, 9, 7, 3, 6, 8, 6, 0, 1, 3, 9, 8, 9, 0, 3, 6, 2, 8, 7, 3, 7, 2, 5, 9, 0, 3, 8, 8, 7, 2, 0, 5, 7, 7, 0, 2, 1, 4, 1, 4, 4, 8, 0, 8, 1, 2, 3, 5, 7, 5, 2, 6, 5, 3, 8, 5, 3, 6, 7, 5, 0, 7, 1, 7, 3, 6, 4, 7, 6, 6, 0, 5, 4, 4, 7, 7, 7, 7, 3, 7, 2, 9, 9, 0, 6, 2, 8, 3, 7, 3, 8, 9, 5, 0, 1, 1, 8, 7, 5, 0, 3, 3, 0, 7, 0, 4, 9, 8, 1, 2, 1, 7, 7, 7, 7, 2, 4, 8, 5, 1, 6, 3, 2, 5, 9, 8, 9, 2, 6, 4, 7, 9, 2, 4, 3, 9, 5, 7, 9, 3, 0, 6, 8, 8, 6, 0, 0, 3, 8, 7, 4, 7, 7, 6, 8, 3, 3, 9, 6, 4, 7, 3, 3, 3, 0, 1, 9, 9, 3, 2, 7, 7, 6, 5, 6, 1, 4, 6, 4, 5, 3, 1, 8, 1, 9, 6, 8, 1, 0, 7, 2, 2, 0, 3, 5, 3, 0, 8, 0, 7, 9, 8, 5, 3, 5, 4, 4, 5, 5, 4, 6, 9, 6, 2, 7, 7, 3, 9, 0, 6, 8, 7, 5, 4, 1, 2, 8, 0, 6, 8, 0, 8, 3, 4, 0, 7, 8, 0, 1, 5, 6, 0, 5, 3, 3, 0, 1, 4, 9, 9, 1, 2, 4, 4, 4, 7, 5, 0, 6, 4, 2, 5, 4, 2, 5, 5, 6, 1, 8, 8, 3, 0, 3, 7, 2, 2, 3, 1, 0, 3, 7, 1, 4, 1, 6, 1, 0, 5, 0, 1, 7, 5, 2, 9, 5, 9, 5, 5, 2, 7, 9, 9, 1, 2, 0, 6, 5, 4, 4, 1, 2, 6, 6, 4, 9, 6, 9, 2, 2, 2, 2, 7, 3, 6, 0, 4, 4, 9, 3, 6, 5, 1, 2, 7, 6, 6, 8, 2, 6, 7, 5, 4, 6, 9, 1, 4, 4, 4, 9, 9, 6, 8, 1, 0, 8, 1, 4, 0, 0, 7, 9, 3, 0, 6, 1, 0, 8, 2, 6, 6, 5, 0, 2, 5, 8, 6, 8, 9, 5, 7, 3, 3, 1, 8, 5, 6, 8, 7, 7, 2, 0, 9, 9, 0, 7, 6, 0, 8, 1, 9, 1, 9, 8, 7, 7, 5, 9, 3, 7, 4, 9, 1, 8, 3, 4, 6, 8, 1, 7, 2, 1, 7, 2, 7, 6, 1, 1, 7, 0, 3, 7, 7, 0, 8, 5, 3, 8, 3, 0, 5, 5, 5, 9, 4, 3, 6, 8, 3, 0, 2, 3, 9, 3, 6, 9, 1, 7, 5, 6, 7, 2, 8, 4, 3, 2, 0, 3, 2, 7, 5, 8, 6, 0, 0, 2, 0, 7, 1, 8, 0, 4, 1, 8, 1, 3, 3, 9, 2, 6, 8, 1, 5, 7, 4, 9, 6, 3, 9, 8, 2, 6, 2, 4, 7, 0, 9, 4, 9, 8, 5, 7, 6, 8, 3, 1, 3, 5, 5, 1, 0, 5, 0, 4, 0, 9, 9, 7, 3, 4, 8, 9, 8, 5, 2, 3, 3, 2, 8, 8, 3, 4, 5, 2, 1, 1, 6, 3, 4, 7, 2, 1, 5, 5, 5, 6, 7, 5, 5, 3, 7, 8, 3, 5, 6, 5, 1, 9, 2, 7, 1, 4, 9, 4, 9, 1, 0, 5, 7, 7, 2, 0, 7, 5, 9, 6, 3, 3, 2, 0, 4, 7, 8, 4, 8, 5, 0, 7, 4, 2, 4, 9, 9, 5, 2, 4, 2, 9, 3, 5, 2, 2, 1, 1, 1, 5, 7, 5, 3, 4, 7, 2, 4, 4, 3, 1, 5, 3, 7, 2, 1, 7, 5, 8, 6, 7, 0, 0, 1, 9, 1, 9, 3, 0, 2, 7, 7, 7, 5, 5, 0, 1, 0, 2, 7, 4, 4, 2, 8, 4, 2, 4, 2, 4, 4, 4, 6, 4, 7, 7, 4, 8, 6, 4, 4, 7, 1, 8, 0, 3, 4, 2, 9, 5, 2, 3, 5, 1, 7, 3, 7, 0, 4, 1, 5, 4, 4, 5, 9, 7, 0, 5, 7, 2, 3, 8, 7, 1, 1, 9, 4, 6, 8, 9, 1, 0, 2, 7, 7, 0, 9, 9, 3, 2, 9, 0, 2, 2, 2, 3, 2, 2, 3, 7, 2, 3, 5, 8, 6, 7, 8, 1, 0, 9, 1, 0, 5, 9, 1, 7, 6, 1, 8, 0, 9, 5, 1, 7, 1, 3, 5, 3, 4, 1, 0, 4, 8, 8, 3, 5, 6, 0, 5, 4, 1, 0, 2, 3, 1, 0, 4, 8, 1, 3, 9, 8, 0, 4, 6, 8, 2, 1, 0, 1, 6, 4, 3, 8, 5, 0, 0, 3, 6, 6, 6, 9, 5, 2, 9, 5, 4, 6, 8, 2, 4, 9, 2, 6, 0, 1, 8, 7, 2, 8, 1, 0, 8, 5, 4, 1, 3, 0, 6, 2, 7, 3, 1, 6, 1, 4, 4, 5, 3, 7, 5, 5, 1, 2, 2, 6, 7, 8, 5, 7, 1, 5, 5, 2, 5, 6, 1, 3, 8, 5, 9, 9, 6, 4, 4, 1, 7, 7, 0, 1, 3, 3, 9, 9, 4, 5, 9, 7, 1, 6, 4, 1, 5, 7, 7, 9, 1, 5, 2, 3, 8, 2, 7, 2, 5, 9, 4, 5, 2, 5, 4, 4, 2, 0, 6, 7, 0, 9, 1, 1, 6, 9, 4, 9, 6, 2, 7, 0, 8, 8, 9, 3, 3, 2, 5, 2, 2, 3, 1, 2, 0, 8, 0, 3, 6, 2, 7, 3, 5, 7, 9, 6, 2, 1, 1, 6, 6, 6, 8, 1, 0, 7, 5, 8, 5, 1, 4, 7, 2, 2, 8, 6, 4, 5, 9, 6, 5, 8, 4, 8, 0, 7, 4, 3, 7, 8, 8, 7, 5, 8, 8, 3, 3, 9, 2, 5, 7, 9, 6, 4, 3, 5, 1, 3, 0, 7, 7, 1, 5, 7, 9, 1, 9, 1, 4, 4, 7, 1, 5, 0, 6, 6, 8, 9, 7, 2, 3, 4, 7, 0, 6, 1, 1, 0, 4, 0, 3, 1, 9, 6, 5, 2, 1, 3, 8, 9, 4, 9, 0, 4, 2, 6, 8, 7, 6, 3, 3, 6, 0, 9, 6, 4, 5, 1, 7, 1, 9, 9, 7, 3, 9, 7, 4, 8, 8, 7, 1, 6, 2, 8, 3, 9, 4, 2, 8, 1, 5, 1, 5, 6, 4, 6, 4, 0, 3, 2, 3, 2, 7, 6, 7, 0, 4, 8, 3, 1, 1, 9, 2, 8, 6, 5, 0, 0, 5, 3, 0, 5, 8, 2, 5, 0, 8, 8, 2, 5, 0, 9, 8, 4, 2, 4, 1, 6, 7, 9, 0, 4, 1, 3, 9, 4, 1, 5, 1, 1, 2, 2, 5, 5, 8, 8, 3, 3, 2, 1, 7, 2, 5, 3, 6, 6, 0, 4, 5, 6, 3, 4, 4, 1, 4, 9, 0, 7, 0, 2, 4, 2, 9, 5, 9, 1, 9, 2, 0, 2, 7, 1, 3, 7, 7, 0, 0, 6, 0, 9, 2, 3, 0, 6, 0, 4, 6, 2, 6, 3, 0, 5, 8, 3, 9, 1, 3, 7, 2, 7, 6, 0, 2, 8, 4, 7, 0, 2, 0, 3, 6, 6, 1, 4, 0, 0, 7, 3, 3, 3, 7, 6, 5, 8, 6, 5, 3, 4, 0, 4, 9, 5, 8, 0, 9, 4, 4, 1, 3, 5, 7, 7, 3, 7, 3, 0, 5, 4, 4, 9, 8, 6, 8, 8, 4, 1, 2, 4, 9, 0, 2, 8, 5, 8, 1, 9, 6, 0, 0, 5, 7, 1, 9, 2, 9, 7, 2, 1, 3, 8, 2, 8, 2, 7, 8, 2, 8, 1, 5, 3, 5, 9, 5, 5, 4, 5, 4, 9, 5, 7, 6, 5, 8, 8, 1, 5, 8, 3, 4, 4, 1, 9, 5, 3, 2, 4, 5, 2, 4, 2, 2, 9, 5, 6, 6, 6, 9, 8, 7, 0, 5, 7, 3, 0, 1, 7, 2, 6, 9, 6, 8, 3, 6, 6, 5, 3, 7, 3, 3, 2, 5, 9, 6, 0, 3, 6, 4, 9, 3, 1, 9, 2, 9, 4, 8, 5, 4, 4, 0, 4, 6, 4, 0, 9, 5, 4, 1, 0, 9, 8, 9, 5, 2, 6, 7, 6, 9, 8, 0, 1, 3, 8, 8, 9, 0, 3, 5, 0, 3, 8, 8, 3, 7, 2, 2, 9, 4, 0, 9, 7, 8, 6, 1, 3, 0, 0, 6, 0, 3, 8, 2, 3, 8, 2, 4, 3, 8, 7, 7, 9, 0, 8, 4, 5, 3, 0, 9, 5, 0, 9, 1, 1, 3, 1, 3, 9, 7, 0, 5, 9, 7, 2, 9, 5, 2, 4, 4, 5, 7, 5, 7, 8, 0, 5, 1, 7, 1, 7, 9, 0, 4, 4, 1, 0, 5, 0, 3, 1, 2, 4, 7, 1, 6, 8, 9, 1, 6, 3, 1, 7, 3, 1, 5, 2, 2, 3, 5, 5, 3, 5, 1, 4, 1, 1, 3, 4, 9, 6, 6, 3, 1, 6, 8, 8, 5, 5, 8, 6, 1, 5, 6, 2, 8, 8, 6, 2, 6, 5, 0, 9, 6, 4, 9, 3, 7, 0, 2, 2, 4, 5, 2, 9, 7, 1, 5, 4, 5, 7, 8, 1, 6, 9, 3, 3, 5, 6, 4, 6, 3, 0, 3, 1, 4, 0, 2, 9, 7, 5, 4, 4, 3, 5, 3, 8, 3, 3, 7, 9, 4, 0, 6, 5, 6, 6, 8, 7, 9, 7, 5, 4, 7, 9, 6, 8, 7, 8, 6, 7, 1, 6, 8, 5, 3, 0, 6, 1, 6, 4, 8, 5, 0, 7, 3, 7, 0, 5, 0, 6, 0, 1, 2, 9, 5, 5, 5, 5, 9, 9, 3, 9, 5, 2, 1, 5, 3, 8, 3, 0, 6, 1, 0, 8, 6, 9, 4, 8, 4, 2, 9, 5, 0, 7, 4, 9, 7, 7, 1, 5, 2, 7, 7, 1, 5, 8, 9, 6, 7, 4, 7, 3, 9, 1, 8, 3, 8, 8, 7, 7, 3, 9, 9, 7, 5, 6, 3, 2, 2, 0, 2, 3, 8, 5, 9, 5, 9, 1, 9, 3, 7, 2, 1, 0, 2, 5, 0, 0, 7, 3, 8, 3, 9, 8, 5, 6, 0, 4, 8, 0, 1, 0, 9, 5, 0, 9, 4, 9, 5, 9, 4, 3, 5, 7, 4, 9, 3, 4, 4, 2, 5, 1, 8, 2, 3, 5, 9, 7, 8, 9, 5, 6, 7, 0, 9, 9, 7, 2, 7, 1, 2, 9, 1, 8, 8, 1, 6, 9, 0, 5, 4, 8, 1, 2, 1, 9, 5, 6, 1, 1, 8, 0, 6, 2, 7, 1, 4, 7, 1, 8, 9, 6, 4, 7, 5, 3, 3, 1, 9, 0, 2, 7, 8, 7, 1, 9, 0, 4, 0, 2, 0, 4, 1, 3, 2, 3, 6, 1, 8, 6, 0, 6, 3, 0, 3, 5, 1, 9, 4, 6, 0, 5, 8, 0, 7, 6, 8, 1, 2, 1, 4, 2, 6, 8, 2, 8, 7, 8, 9, 0, 3, 3, 9, 9, 8, 9, 8, 2, 5, 0, 6, 4, 2, 9, 1, 2, 2, 2, 9, 7, 0, 0, 3, 7, 5, 5, 5, 6, 3, 9, 3, 1, 2, 8, 8, 0, 8, 3, 6, 1, 7, 2, 4, 0, 8, 4, 9, 0, 7, 6, 8, 3, 7, 4, 4, 1, 8, 4, 4, 1, 1, 9, 3, 1, 4, 1, 3, 3, 5, 1, 1, 5, 3, 7, 1, 9, 3, 3, 1, 2, 1, 1, 8, 7, 2, 2, 8, 0, 5, 7, 6, 0, 5, 4, 1, 2, 7, 2, 4, 9, 5, 2, 1, 5, 0, 1, 8, 9, 2, 8, 9, 0, 5, 1, 9, 4, 4, 5, 0, 6, 4, 0, 3, 8, 7, 2, 7, 2, 1, 2, 9, 0, 7, 5, 9, 8, 1, 6, 6, 8, 6, 8, 5, 7, 8, 6, 8, 3, 9, 2, 9, 3, 5, 0, 8, 2, 1, 3, 4, 7, 5, 5, 4, 8, 6, 3, 5, 7, 4, 9, 0, 1, 1, 9, 8, 3, 3, 1, 1, 4, 6, 5, 4, 8, 0, 1, 4, 1, 5, 1, 7, 4, 6, 2, 2, 7, 2, 9, 5, 0, 1, 3, 0, 7, 5, 8, 5, 7, 5, 2, 3, 0, 3, 7, 9, 7, 5, 3, 9, 8, 3, 7, 6, 8, 4, 0, 3, 2, 5, 7, 9, 3, 5, 7, 6, 2, 0, 3, 5, 0, 3, 0, 0, 0, 0, 5, 5, 2, 9, 8, 4, 0, 8, 6, 0, 4, 5, 3, 2, 0, 3, 7, 2, 1, 3, 4, 3, 7, 0, 0, 8, 4, 2, 6, 1, 5, 9, 1, 2, 5, 2, 4, 0, 2, 7, 6, 6, 3, 8, 0, 7, 3, 2, 6, 6, 1, 4, 5, 2, 8, 7, 1, 5, 1, 7, 4, 6, 4, 9, 5, 9, 6, 3, 3, 8, 7, 8, 1, 9, 9, 4, 6, 6, 5, 5, 7, 3, 1, 1, 8, 5, 8, 3, 1, 4, 5, 2, 3, 1, 4, 7, 4, 9, 5, 9, 0, 9, 5, 0, 7, 0, 6, 7, 5, 2, 1, 3, 4, 1, 6, 1, 5, 5, 1, 2, 9, 1, 7, 2, 5, 8, 7, 7, 0, 6, 3, 3, 9, 1, 2, 4, 5, 2, 5, 8, 0, 8, 5, 4, 3, 6, 5, 6, 2, 4, 5, 8, 2, 1, 1, 3, 7, 1, 1, 3, 1, 1, 9, 8, 1, 3, 9, 6, 5, 7, 5, 7, 8, 5, 6, 8, 2, 0, 3, 5, 3, 7, 5, 9, 7, 6, 2, 9, 8, 7, 9, 3, 9, 8, 9, 7, 4, 5, 0, 8, 7, 7, 7, 3, 8, 4, 4, 8, 2, 1, 0, 0, 2, 2, 2, 4, 9, 6, 7, 1, 5, 7, 7, 3, 1, 9, 0, 2, 7, 9, 2, 5, 0, 2, 1, 4, 0, 2, 1, 7, 4, 3, 1, 4, 0, 5, 3, 0, 5, 7, 9, 9, 9, 2, 4, 9, 2, 1, 8, 8, 4, 7, 8, 6, 8, 9, 1, 6, 4, 0, 5, 0, 5, 4, 7, 8, 3, 2, 1, 2, 0, 1, 6, 9, 4, 4, 3, 3, 5, 4, 8, 5, 7, 9, 1, 8, 3, 7, 9, 4, 3, 5, 3, 1, 3, 8, 0, 5, 2, 0, 8, 4, 2, 4, 8, 1, 2, 9, 9, 8, 8, 6, 1, 6, 5, 5, 7, 0, 8, 1, 7, 5, 3, 8, 8, 5, 0, 5, 9, 8, 6, 2, 3, 3, 9, 9, 7, 8, 9, 7, 7, 0, 7, 8, 5, 5, 0, 7, 0, 8, 9, 4, 8, 0, 8, 2, 8, 8, 8, 9, 5, 2, 9, 4, 9, 0, 1, 4, 9, 7, 7, 8, 3, 0, 8, 7, 9, 0, 4, 6, 2, 9, 9, 0, 7, 4, 6, 6, 7, 8, 3, 9, 3, 0, 9, 6, 6, 3, 1, 1, 1, 2, 7, 1, 1, 3, 9, 8, 2, 7, 2, 7, 5, 7, 2, 2, 3, 3, 8, 1, 4, 5, 3, 5, 2, 6, 8, 9, 7, 3, 1, 6, 9, 6, 4, 9, 7, 2, 5, 2, 8, 0, 1, 5, 2, 8, 1, 2, 5, 7, 7, 1, 3, 2, 7, 1, 9, 9, 4, 2, 6, 9, 1, 8, 3, 2, 5, 0, 7, 4, 2, 8, 8, 7, 6, 9, 4, 9, 9, 6, 1, 3, 6, 0, 3, 9, 2, 4, 6, 1, 8, 7, 6, 9, 0, 2, 4, 5, 8, 5, 5, 9, 8, 6, 0, 1, 4, 7, 5, 3, 8, 0, 3, 9, 7, 2, 2, 9, 7, 1, 7, 5, 2, 6, 7, 9, 3, 2, 8, 4, 8, 7, 0, 3, 8, 3, 0, 3, 6, 8, 2, 5, 4, 0, 9, 0, 1, 8, 1, 7, 3, 6, 0, 5, 1, 0, 3, 2, 0, 6, 7, 0, 2, 6, 9, 7, 4, 8, 1, 1, 0, 7, 4, 8, 6, 8, 6, 7, 9, 2, 8, 8, 8, 3, 8, 4, 6, 6, 7, 6, 0, 4, 0, 8, 9, 9, 5, 7, 4, 9, 7, 1, 3, 0, 7, 4, 6, 4, 2, 7, 4, 1, 1, 5, 0, 5, 0, 1, 1, 3, 1, 3, 7, 0, 3, 7, 8, 4, 9, 8, 3, 0, 3, 7, 5, 8, 6, 7, 9, 0, 4, 4, 6, 9, 6, 1, 9, 1, 4, 2, 3, 7, 1, 3, 1, 3, 1, 8, 6, 2, 5, 1, 2, 6, 5, 6, 5, 9, 4, 5, 0, 1, 2, 6, 9, 5, 4, 2, 9, 0, 8, 3, 0, 9, 7, 2, 5, 9, 3, 4, 5, 6, 6, 8, 1, 7, 1, 3, 0, 6, 0, 8, 6, 3, 5, 7, 4, 7, 5, 7, 7, 4, 0, 0, 9, 7, 9, 4, 3, 1, 8, 8, 5, 8, 2, 2, 1, 4, 4, 9, 4, 0, 0, 0, 9, 2, 6, 5, 9, 2, 4, 2, 5, 5, 3, 3, 9, 9, 0, 0, 2, 6, 6, 6, 2, 7, 7, 9, 7, 4, 2, 5, 2, 8, 4, 5, 4, 8, 5, 2, 9, 4, 1, 8, 5, 9, 2, 1, 9, 1, 2, 7, 9, 8, 6, 4, 4, 1, 8, 7, 5, 2, 3, 0, 8, 9, 9, 6, 2, 9, 9, 2, 8, 2, 9, 1, 5, 0, 7, 4, 7, 3, 1, 1, 0, 0, 8, 0, 2, 9, 5, 8, 3, 6, 6, 7, 2, 7, 0, 2, 4, 2, 3, 9, 7, 5, 7, 6, 5, 4, 1, 5, 9, 3, 0, 7, 9, 7, 5, 2, 5, 7, 6, 9, 0, 1, 3, 3, 6, 3, 9, 5, 3, 5, 7, 7, 0, 8, 4, 9, 4, 7, 5, 2, 3, 8, 7, 3, 3, 7, 5, 0, 6, 7, 7, 3, 9, 9, 4, 5, 4, 0, 0, 4, 5, 2, 6, 3, 8, 4, 4, 0, 6, 4, 8, 4, 4, 1, 8, 5, 4, 1, 1, 6, 7, 7, 4, 6, 2, 9, 2, 0, 0, 0, 3, 0, 3, 1, 9, 3, 9, 9, 7, 0, 0, 3, 9, 4, 7, 3, 2, 8, 7, 8, 3, 5, 2, 0, 7, 7, 3, 6, 3, 7, 2, 3, 3, 7, 5, 7, 2, 9, 2, 0, 1, 3, 0, 4, 1, 7, 4, 1, 3, 8, 0, 7, 9, 4, 6, 6, 7, 2, 1, 4, 6, 4, 6, 8, 2, 0, 0, 3, 8, 4, 5, 3, 8, 8, 2, 1, 0, 2, 2, 5, 6, 0, 6, 1, 5, 4, 6, 7, 6, 2, 1, 6, 8, 3, 1, 5, 0, 4, 5, 8, 5, 0, 8, 5, 5, 9, 5, 6, 3, 7, 7, 3, 7, 6, 4, 0, 2, 9, 6, 9, 2, 4, 7, 7, 4, 3, 5, 4, 7, 4, 2, 9, 9, 2, 1, 8, 3, 9, 0, 0, 3, 7, 2, 9, 8, 9, 5, 1, 0, 9, 2, 6, 1, 5, 5, 4, 2, 7, 9, 5, 3, 4, 9, 2, 8, 2, 7, 2, 9, 4, 4, 6, 6, 4, 3, 7, 1, 2, 9, 1, 9, 5, 8, 5, 1, 8, 6, 6, 4, 3, 2, 1, 6, 2, 3, 1, 0, 3, 0, 5, 2, 8, 3, 2, 0, 0, 4, 1, 4, 2, 5, 2, 2, 4, 1, 1, 9, 8, 0, 5, 6, 5, 1, 1, 6, 7, 0, 4, 6, 3, 3, 7, 0, 6, 4, 3, 8, 0, 4, 5, 1, 4, 3, 2, 0, 6, 5, 2, 8, 5, 4, 0, 0, 5, 5, 7, 6, 1, 2, 2, 1, 6, 1, 1, 8, 0, 8, 3, 0, 8, 2, 0, 4, 8, 9, 1, 1, 5, 9, 3, 0, 6, 4, 4, 4, 6, 2, 0, 6, 7, 6, 0, 2, 6, 8, 0, 9, 2, 9, 0, 1, 7, 0, 3, 3, 0, 6, 1, 3, 2, 4, 5, 8, 6, 8, 8, 5, 4, 9, 6, 0, 8, 3, 3, 9, 0, 5, 0, 1, 0, 3, 8, 5, 9, 9, 6, 5, 6, 1, 3, 8, 4, 7, 6, 5, 3, 8, 0, 5, 0, 8, 8, 6, 6, 1, 1, 2, 8, 2, 6, 1, 5, 5, 1, 6, 9, 8, 1, 7, 1, 7, 8, 9, 0, 3, 5, 6, 8, 4, 0, 3, 0, 6, 0, 5, 2, 3, 9, 7, 6, 1, 9, 6, 8, 7, 8, 9, 2, 3, 4, 2, 0, 2, 8, 4, 5, 9, 5, 8, 7, 9, 0, 8, 9, 4, 7, 4, 0, 8, 8, 1, 9, 1, 7, 6, 2, 1, 1, 5, 8, 1, 5, 8, 4, 4, 7, 8, 7, 7, 3, 4, 3, 4, 7, 1, 0, 3, 5, 2, 0, 0, 3, 3, 7, 0, 5, 1, 4, 5, 9, 5, 1, 9, 8, 4, 2, 7, 6, 1, 7, 3, 3, 7, 2, 0, 4, 5, 8, 7, 9, 9, 7, 8, 5, 7, 3, 3, 0, 2, 3, 6, 7, 6, 0, 9, 9, 8, 6, 9, 5, 2, 7, 0, 6, 5, 5, 0, 3, 3, 7, 4, 8, 8, 9, 9, 0, 1, 9, 4, 2, 9, 4, 3, 4, 2, 6, 0, 2, 3, 7, 1, 6, 3, 9, 5, 3, 1, 4, 9, 5, 3, 9, 1, 3, 0, 1, 8, 5, 4, 0, 1, 3, 9, 3, 8, 2, 3, 2, 5, 9, 3, 4, 3, 2, 2, 3, 1, 7, 6, 5, 8, 9, 1, 8, 7, 2, 3, 1, 1, 3, 3, 5, 0, 2, 6, 7, 6, 0, 3, 0, 1, 3, 7, 8, 6, 3, 0, 0, 9, 4, 4, 4, 1, 9, 2, 9, 1, 3, 5, 9, 1, 4, 1, 7, 4, 2, 5, 8, 1, 3, 3, 1, 4, 5, 5, 3, 4, 9, 4, 4, 5, 4, 9, 7, 0, 9, 2, 6, 7, 9, 2, 8, 3, 2, 3, 6, 0, 0, 1, 2, 1, 3, 7, 0, 9, 6, 4, 0, 5, 5, 6, 4, 2, 0, 3, 9, 4, 4, 0, 0, 6, 7, 6, 6, 9, 9, 9, 6, 2, 9, 0, 6, 2, 3, 1, 0, 6, 9, 1, 1, 7, 2, 8, 3, 9, 0, 1, 7, 8, 5, 3, 7, 3, 3, 5, 6, 7, 3, 9, 4, 2, 6, 2, 7, 8, 7, 3, 7, 1, 0, 8, 6, 2, 3, 4, 1, 7, 9, 9, 4, 8, 0, 1, 5, 2, 2, 2, 8, 0, 8, 5, 8, 6, 0, 5, 2, 8, 9, 9, 6, 9, 2, 4, 9, 5, 4, 0, 7, 3, 8, 9, 0, 4, 4, 1, 0, 7, 1, 8, 9, 7, 1, 4, 8, 2, 4, 3, 1, 0, 7, 6, 2, 3, 9, 8, 1, 4, 9, 4, 4, 2, 7, 5, 2, 9, 7, 1, 0, 6, 8, 2, 3, 7, 7, 6, 8, 3, 8, 2, 9, 0, 8, 6, 9, 2, 5, 2, 0, 1, 3, 3, 0, 0, 9, 5, 2, 1, 6, 1, 4, 6, 0, 8, 3, 2, 2, 1, 9, 2, 5, 6, 2, 4, 0, 4, 4, 5, 7, 4, 4, 9, 5, 9, 6, 4, 5, 2, 2, 0, 5, 5, 8, 9, 1, 1, 6, 8, 4, 8, 7, 9, 7, 6, 8, 6, 2, 9, 6, 5, 5, 1, 3, 0, 3, 1, 6, 4, 9, 4, 8, 2, 0, 8, 5, 5, 9, 4, 9, 8, 6, 8, 7, 0, 1, 9, 9, 7, 7, 7, 6, 9, 2, 5, 3, 8, 7, 4, 5, 2, 8, 2, 7, 0, 6, 6, 6, 8, 8, 4, 1, 6, 8, 5, 1, 9, 6, 1, 2, 0, 6, 7, 8, 7, 5, 0, 3, 2, 5, 4, 2, 3, 9, 6, 7, 5, 7, 8, 7, 9, 8, 6, 1, 8, 8, 6, 7, 5, 4, 5, 4, 2, 6, 8, 3, 3, 6, 5, 0, 3, 3, 5, 3, 4, 3, 7, 6, 4, 7, 2, 6, 3, 9, 7, 1, 0, 1, 9, 4, 1, 8, 3, 3, 3, 8, 4, 2, 3, 4, 3, 5, 6, 3, 3, 7, 8, 6, 1, 7, 5, 9, 9, 8, 5, 4, 5, 3, 7, 5, 8, 6, 9, 1, 3, 1, 8, 4, 9, 5, 8, 6, 3, 4, 0, 8, 8, 4, 9, 2, 8, 2, 0, 0, 0, 4, 4, 0, 4, 2, 8, 0, 8, 5, 6, 1, 4, 6, 9, 3, 5, 0, 7, 5, 6, 7, 0, 7, 3, 0, 7, 8, 8, 9, 2, 9, 6, 4, 7, 9, 3, 9, 0, 4, 7, 3, 4, 1, 4, 1, 5, 0, 1, 3, 9, 9, 9, 3, 3, 1, 9, 9, 8, 8, 5, 4, 5, 6, 8, 2, 8, 0, 6, 1, 8, 8, 4, 8, 9, 1, 2, 4, 9, 4, 0, 7, 5, 2, 8, 9, 5, 1, 4, 1, 0, 5, 3, 5, 8, 9, 6, 1, 6, 2, 9, 2, 0, 3, 0, 9, 2, 1, 0, 6, 7, 9, 4, 8, 6, 1, 7, 0, 7, 9, 5, 2, 3, 4, 1, 4, 2, 7, 3, 8, 3, 2, 9, 0, 1, 6, 6, 8, 7, 3, 8, 8, 8, 1, 0, 3, 0, 5, 0, 2, 9, 2, 8, 0, 2, 2, 3, 0, 3, 3, 0, 8, 7, 3, 7, 9, 7, 7, 2, 2, 0, 7, 8, 9, 4, 8, 1, 7, 2, 1, 1, 1, 5, 2, 9, 1, 1, 8, 6, 9, 7, 6, 0, 1, 4, 8, 2, 0, 9, 3, 8, 4, 9, 5, 3, 0, 0, 5, 8, 0, 2, 5, 4, 5, 4, 2, 5, 2, 4, 4, 1, 2, 3, 1, 7, 0, 5, 8, 6, 2, 5, 1, 3, 0, 9, 6, 4, 1, 8, 4, 4, 1, 0, 6, 6, 8, 7, 5, 6, 3, 5, 5, 5, 4, 2, 4, 0, 7, 9, 9, 5, 8, 2, 0, 9, 0, 6, 8, 2, 1, 7, 8, 9, 4, 2, 9, 3, 2, 8, 5, 0, 8, 1, 7, 4, 5, 2, 8, 8, 1, 0, 2, 6, 4, 5, 7, 4, 8, 8, 0, 7, 7, 1, 6, 4, 6, 3, 7, 6, 7, 5, 6, 9, 8, 5, 5, 0, 3, 0, 3, 3, 1, 1, 5, 3, 0, 8, 1, 4, 7, 8, 1, 5, 0, 3, 0, 5, 9, 8, 6, 2, 0, 6, 3, 8, 7, 1, 8, 3, 0, 4, 3, 7, 7, 2, 9, 9, 1, 9, 6, 0, 6, 5, 3, 8, 9, 1, 8, 8, 8, 9, 1, 0, 8, 1, 0, 1, 3, 0, 0, 7, 2, 7, 5, 9, 6, 4, 9, 5, 2, 6, 5, 3, 5, 9, 0, 2, 7, 6, 9, 5, 2, 7, 5, 9, 1, 3, 8, 3, 2, 1, 4, 1, 4, 0, 7, 9, 2, 7, 0, 2, 9, 5, 6, 4, 1, 3, 1, 3, 4, 7, 1, 7, 0, 5, 6, 1, 4, 5, 9, 3, 0, 4, 4, 7, 6, 0, 4, 8, 5, 4, 0, 8, 3, 4, 4, 1, 5, 4, 8, 4, 9, 7, 3, 7, 9, 7, 6, 4, 8, 3, 3, 9, 2, 4, 2, 2, 8, 4, 0, 4, 6, 3, 3, 1, 4, 6, 6, 4, 7, 0, 7, 6, 5, 5, 8, 3, 4, 6, 2, 5, 5, 7, 6, 0, 7, 1, 6, 1, 9, 6, 3, 5, 1, 2, 8, 1, 6, 4, 0, 7, 9, 4, 5, 2, 1, 1, 8, 0, 1, 4, 3, 2, 9, 0, 2, 6, 8, 5, 4, 0, 8, 3, 5, 8, 3, 2, 5, 1, 0, 0, 3, 2, 2, 9, 9, 7, 8, 9, 0, 8, 6, 1, 4, 0, 5, 4, 3, 5, 8, 7, 6, 2, 6, 9, 1, 9, 5, 7, 5, 3, 1, 3, 9, 7, 7, 3, 3, 9, 5, 2, 2, 3, 6, 2, 7, 1, 9, 5, 8, 0, 4, 5, 4, 0, 3, 4, 7, 3, 5, 4, 4, 4, 8, 8, 6, 7, 3, 2, 4, 7, 2, 7, 6, 3, 3, 7, 6, 0, 3, 0, 0, 0, 7, 4, 6, 1, 1, 1, 2, 9, 1, 2, 5, 8, 0, 1, 6, 0, 0, 8, 6, 4, 3, 8, 5, 2, 1, 4, 6, 0, 3, 3, 3, 0, 4, 5, 4, 5, 1, 0, 4, 4, 8, 7, 3, 9, 1, 8, 9, 3, 9, 8, 7, 0, 7, 4, 5, 8, 0, 2, 0, 8, 1, 5, 5, 6, 7, 7, 5, 1, 9, 5, 7, 5, 1, 2, 6, 4, 1, 8, 9, 8, 1, 8, 7, 6, 5, 1, 8, 3, 2, 9, 1, 1, 7, 3, 4, 8, 1, 0, 3, 7, 8, 1, 4, 2, 2, 0, 5, 6, 1, 8, 0, 6, 5, 2, 2, 4, 5, 6, 0, 4, 4, 6, 2, 7, 5, 1, 8, 7, 0, 3, 8, 1, 2, 0, 1, 1, 9, 1, 9, 9, 5, 0, 3, 1, 9, 1, 7, 1, 1, 5, 9, 2, 6, 7, 8, 0, 0, 8, 7, 8, 4, 9, 4, 6, 6, 6, 3, 0, 9, 5, 9, 7, 8, 6, 1, 0, 5, 3, 2, 6, 6, 3, 3, 1, 6, 0, 3, 7, 9, 5, 4, 9, 8, 8, 2, 8, 3, 1, 1, 5, 4, 8, 3, 3, 6, 2, 8, 4, 0, 3, 2, 7, 2, 0, 8, 9, 7, 8, 7, 3, 5, 8, 9, 7, 7, 3, 8, 1, 2, 2, 0, 0, 4, 0, 6, 3, 9, 4, 8, 6, 4, 2, 2, 2, 8, 1, 7, 7, 2, 7, 2, 2, 5, 5, 7, 7, 9, 7, 1, 4, 2, 4, 3, 1, 0, 1, 2, 9, 3, 6, 5, 5, 2, 5, 6, 1, 6, 7, 4, 5, 8, 3, 4, 0, 6, 0, 7, 6, 8, 9, 3, 1, 7, 3, 7, 9, 1, 9, 4, 2, 4, 8, 1, 0, 4, 9, 2, 8, 5, 7, 9, 8, 6, 7, 4, 6, 9, 7, 8, 0, 9, 4, 1, 7, 7, 8, 4, 2, 6, 8, 4, 8, 7, 9, 4, 7, 8, 9, 6, 5, 9, 7, 4, 9, 4, 6, 7, 2, 5, 2, 4, 0, 2, 8, 7, 0, 0, 7, 5, 3, 5, 6, 2, 4, 4, 3, 5, 2, 6, 4, 5, 0, 4, 2, 7, 2, 1, 5, 4, 9, 3, 1, 7, 1, 5, 3, 2, 7, 1, 3, 6, 2, 6, 9, 2, 1, 6, 0, 1, 6, 8, 1, 5, 8, 7, 5, 4, 8, 8, 6, 9, 2, 5, 0, 6, 4, 0, 0, 6, 0, 1, 7, 3, 0, 8, 0, 6, 8, 2, 4, 7, 5, 7, 5, 9, 5, 0, 2, 9, 0, 3, 4, 0, 0, 4, 2, 3, 2, 2, 9, 3, 5, 4, 7, 6, 5, 8, 5, 7, 9, 9, 3, 1, 6, 7, 2, 4, 1, 0, 8, 5, 0, 6, 2, 8, 7, 2, 6, 3, 1, 7, 8, 8, 0, 4, 9, 1, 1, 5, 6, 9, 5, 4, 7, 9, 7, 6, 9, 1, 6, 8, 2, 3, 4, 5, 2, 9, 6, 7, 2, 5, 3, 5, 3, 9, 7, 9, 3, 7, 1, 5, 3, 0, 8, 4, 2, 1, 5, 7, 9, 4, 5, 6, 2, 2, 2, 2, 6, 6, 2, 4, 7, 5, 9, 3, 5, 0, 0, 7, 9, 2, 3, 7, 9, 2, 0, 4, 3, 6, 8, 9, 0, 1, 5, 9, 4, 9, 7, 8, 9, 7, 4, 3, 1, 8, 7, 1, 6, 7, 9, 9, 4, 8, 2, 3, 5, 0, 6, 9, 8, 5, 9, 5, 6, 9, 4, 0, 9, 2, 2, 2, 5, 6, 7, 1, 7, 0, 4, 3, 9, 2, 4, 7, 0, 8, 9, 4, 2, 1, 3, 1, 9, 8, 1, 9, 9, 5, 2, 2, 7, 8, 4, 6, 2, 7, 9, 5, 7, 2, 2, 0, 3, 9, 4, 4, 2, 7, 1, 7, 5, 2, 6, 0, 8, 7, 7, 7, 5, 1, 5, 0, 2, 2, 9, 5, 1, 6, 4, 8, 5, 3, 5, 0, 6, 3, 3, 4, 5, 2, 7, 2, 5, 6, 0, 4, 1, 8, 8, 9, 3, 9, 5, 2, 0, 3, 7, 4, 7, 4, 6, 8, 2, 6, 5, 6, 8, 0, 9, 0, 8, 3, 6, 2, 6, 8, 9, 6, 2, 1, 4, 4, 6, 3, 4, 7, 0, 6, 2, 5, 9, 0, 0, 1, 2, 5, 8, 8, 1, 4, 4, 1, 1, 4, 2, 6, 0, 6, 5, 8, 8, 1, 8, 6, 7, 0, 9, 4, 2, 4, 2, 3, 3, 0, 7, 9, 9, 1, 2, 6, 4, 8, 3, 2, 1, 6, 2, 6, 4, 0, 6, 6, 5, 4, 3, 9, 2, 0, 5, 9, 8, 9, 4, 9, 9, 6, 4, 2, 9, 9, 3, 5, 2, 4, 1, 0, 3, 4, 4, 6, 8, 2, 9, 6, 7, 1, 5, 3, 5, 3, 4, 9, 1, 6, 7, 1, 2, 2, 8, 7, 6, 2, 3, 3, 2, 3, 4, 4, 1, 9, 3, 1, 6, 5, 4, 5, 5, 3, 9, 5, 3, 1, 4, 7, 9, 8, 2, 6, 6, 1, 5, 3, 4, 6, 6, 4, 4, 3, 9, 3, 9, 4, 6, 9, 3, 6, 9, 0, 8, 8, 5, 2, 7, 4, 7, 4, 4, 5, 7, 8, 3, 2, 3, 2, 4, 6, 7, 1, 9, 2, 5, 5, 0, 9, 0, 8, 3, 7, 4, 4, 1, 0, 2, 6, 8, 6, 2, 1, 1, 7, 4, 7, 1, 7, 3, 3, 3, 2, 5, 6, 5, 8, 9, 6, 8, 7, 4, 9, 7, 6, 6, 7, 3, 6, 8, 5, 2, 8, 0, 2, 8, 7, 6, 3, 2, 7, 3, 2, 2, 6, 3, 5, 9, 0, 0, 5, 6, 0, 7, 9, 9, 5, 6, 0, 2, 6, 9, 6, 8, 9, 2, 8, 9, 4, 7, 9, 3, 7, 5, 2, 5, 0, 3, 9, 7, 8, 0, 4, 0, 6, 5, 1, 1, 6, 9, 2, 9, 5, 3, 1, 4, 6, 9, 6, 5, 6, 0, 0, 3, 3, 5, 3, 1, 4, 2, 2, 1, 7, 8, 7, 4, 9, 6, 3, 7, 8, 4, 7, 2, 3, 5, 8, 4, 4, 1, 9, 0, 9, 2, 6, 2, 3, 5, 5, 8, 4, 3, 3, 0, 0, 4, 1, 6, 6, 9, 1, 3, 4, 7, 9, 5, 4, 4, 3, 4, 1, 1, 4, 9, 7, 9, 5, 5, 3, 8, 9, 8, 7, 9, 3, 3, 5, 6, 2, 2, 3, 7, 0, 7, 4, 5, 1, 7, 7, 0, 3, 7, 2, 9, 2, 3, 3, 5, 8, 9, 8, 1, 9, 5, 2, 4, 6, 7, 4, 8, 0, 1, 3, 9, 4, 2, 6, 4, 5, 1, 9, 9, 0, 1, 0, 3, 7, 5, 7, 7, 4, 6, 1, 3, 1, 5, 2, 3, 3, 7, 8, 3, 1, 8, 1, 5, 1, 3, 7, 4, 2, 2, 2, 6, 2, 3, 8, 2, 3, 6, 3, 2, 9, 8, 5, 5, 9, 2, 1, 1, 4, 2, 9, 0, 6, 5, 6, 6, 3, 1, 5, 4, 2, 7, 7, 3, 1, 1, 9, 1, 2, 1, 7, 1, 5, 5, 8, 0, 3, 8, 2, 9, 6, 0, 9, 6, 6, 5, 0, 2, 1, 4, 0, 5, 4, 4, 0, 7, 1, 9, 4, 1, 4, 5, 1, 0, 4, 6, 8, 2, 4, 9, 0, 4, 2, 7, 7, 1, 5, 8, 5, 0, 2, 6, 9, 5, 5, 7, 4, 2, 6, 3, 4, 2, 0, 9, 1, 2, 1, 2, 3, 9, 3, 2, 2, 1, 3, 6, 9, 8, 1, 9, 0, 8, 8, 1, 9, 3, 8, 9, 0, 9, 2, 9, 6, 0, 9, 5, 2, 1, 6, 8, 0, 9, 9, 1, 9, 2, 7, 1, 6, 9, 4, 7, 5, 8, 9, 9, 5, 1, 3, 3, 7, 6, 4, 6, 3, 6, 6, 2, 4, 8, 1, 3, 7, 7, 6, 5, 0, 6, 7, 8, 5, 4, 1, 3, 2, 5, 2, 3, 0, 6, 2, 4, 9, 9, 7, 2, 1, 0, 9, 7, 4, 6, 4, 6, 0, 0, 3, 5, 4, 5, 4, 3, 9, 5, 8, 6, 9, 5, 9, 6, 2, 0, 1, 2, 0, 9, 6, 6, 1, 6, 4, 1, 2, 7, 6, 6, 7, 0, 3, 7, 5, 1, 7, 3, 2, 7, 2, 6, 6, 4, 8, 6, 6, 3, 0, 6, 6, 5, 6, 7, 7, 3, 4, 7, 3, 9, 2, 6, 8, 9, 9, 7, 7, 0, 5, 1, 8, 4, 6, 4, 9, 7, 4, 1, 7, 6, 0, 5, 2, 2, 3, 8, 8, 4, 1, 8, 8, 4, 8, 9, 0, 7, 1, 2, 2, 6, 1, 6, 3, 2, 3, 0, 1, 7, 3, 6, 2, 3, 8, 6, 3, 0, 0, 1, 3, 6, 5, 4, 3, 5, 8, 1, 3, 8, 8, 9, 7, 2, 8, 0, 4, 0, 5, 5, 2, 3, 2, 0, 8, 1, 9, 2, 6, 1, 5, 2, 8, 5, 9, 4, 2, 3, 2, 9, 2, 4, 2, 0, 9, 2, 2, 8, 6, 3, 3, 2, 3, 2, 2, 0, 6, 0, 0, 4, 3, 3, 0, 1, 0, 8, 6, 3, 1, 9, 2, 1, 2, 0, 5, 5, 3, 9, 5, 8, 0, 0, 6, 0, 7, 2, 2, 3, 3, 7, 0, 9, 2, 6, 9, 5, 0, 4, 1, 4, 0, 6, 9, 0, 2, 5, 9, 8, 5, 8, 7, 4, 7, 1, 3, 1, 7, 4, 4, 2, 2, 4, 3, 8, 8, 6, 0, 7, 9, 5, 4, 1, 6, 3, 0, 4, 8, 2, 7, 5, 6, 0, 5, 1, 9, 0, 2, 8, 7, 5, 6, 4, 0, 6, 1, 7, 2, 4, 6, 4, 6, 8, 4, 3, 4, 0, 4, 3, 2, 5, 3, 4, 7, 1, 4, 6, 7, 4, 7, 7, 3, 8, 8, 3, 0, 9, 5, 7, 5, 7, 4, 9, 3, 6, 4, 7, 0, 5, 8, 3, 0, 9, 6, 9, 2, 8, 5, 0, 0, 7, 8, 5, 6, 0, 5, 5, 0, 5, 2, 4, 2, 3, 9, 7, 2, 4, 6, 0, 9, 7, 1, 3, 1, 2, 2, 4, 6, 4, 1, 4, 8, 5, 2, 7, 8, 8, 3, 8, 3, 5, 1, 8, 1, 0, 9, 3, 8, 8, 9, 6, 6, 8, 6, 9, 8, 7, 5, 5, 9, 3, 4, 6, 2, 9, 6, 6, 6, 1, 4, 1, 0, 6, 1, 3, 0, 9, 7, 2, 6, 4, 3, 6, 5, 6, 5, 1, 7, 3, 5, 8, 0, 3, 2, 1, 7, 8, 2, 9, 1, 4, 0, 4, 8, 8, 5, 9, 8, 8, 2, 5, 7, 2, 1, 0, 2, 0, 1, 6, 7, 1, 6, 6, 1, 1, 4, 0, 5, 0, 1, 8, 7, 0, 2, 3, 8, 0, 8, 3, 9, 6, 5, 4, 9, 4, 0, 2, 2, 2, 0, 9, 5, 0, 4, 0, 7, 2, 4, 2, 1, 4, 4, 7, 4, 9, 6, 7, 9, 9, 9, 0, 6, 7, 4, 4, 4, 6, 4, 3, 2, 4, 2, 8, 2, 5, 6, 0, 9, 5, 4, 1, 0, 9, 4, 5, 7, 2, 5, 8, 7, 8, 3, 5, 0, 9, 6, 6, 4, 1, 0, 9, 9, 5, 2, 1, 3, 2, 1, 4, 6, 3, 5, 5, 6, 7, 9, 5, 0, 6, 4, 3, 6, 5, 0, 5, 8, 8, 2, 4, 4, 7, 5, 0, 9, 3, 1, 8, 7, 8, 5, 2, 0, 1, 2, 7, 9, 6, 6, 0, 6, 9, 8, 9, 5, 8, 1, 4, 4, 2, 0, 1, 9, 2, 5, 0, 2, 2, 7, 3, 1, 6, 9, 1, 4, 4, 3, 5, 8, 8, 4, 2, 3, 5, 3, 9, 5, 5, 6, 7, 4, 7, 7, 9, 9, 8, 4, 5, 7, 9, 0, 3, 9, 9, 4, 0, 0, 0, 3, 5, 9, 9, 6, 1, 0, 8, 1, 9, 6, 7, 0, 4, 2, 6, 4, 8, 0, 6, 9, 9, 3, 3, 2, 0, 2, 2, 6, 9, 8, 7, 3, 3, 3, 9, 9, 5, 2, 8, 2, 3, 9, 5, 5, 0, 5, 1, 9, 3, 0, 5, 5, 3, 3, 2, 2, 2, 3, 5, 9, 9, 6, 4, 5, 4, 1, 1, 2, 3, 5, 0, 3, 7, 7, 3, 7, 1, 1, 4, 9, 2, 5, 2, 3, 6, 6, 9, 8, 0, 9, 4, 5, 7, 2, 7, 9, 3, 9, 0, 3, 3, 8, 4, 5, 4, 0, 7, 5, 2, 0, 9, 6, 0, 8, 2, 8, 6, 9, 5, 6, 6, 6, 0, 0, 0, 0, 5, 2, 0, 8, 2, 2, 4, 6, 9, 4, 8, 3, 5, 3, 7, 4, 0, 7, 0, 6, 3, 5, 2, 3, 6, 8, 8, 6, 9, 4, 6, 7, 0, 2, 1, 6, 0, 7, 3, 2, 1, 8, 4, 7, 5, 8, 8, 0, 5, 6, 3, 2, 8, 2, 1, 0, 1, 5, 2, 8, 0, 2, 2, 3, 2, 5, 5, 1, 3, 5, 9, 9, 5, 5, 6, 6, 4, 7, 5, 2, 3, 6, 5, 2, 7, 0, 5, 4, 1, 6, 0, 6, 5, 2, 9, 5, 1, 6, 1, 0, 0, 6, 4, 4, 1, 1, 9, 0, 7, 0, 2, 3, 9, 8, 3, 9, 6, 0, 5, 5, 9, 6, 3, 1, 2, 6, 8, 6, 6, 3, 1, 9, 6, 7, 5, 3, 7, 5, 4, 1, 1, 3, 0, 1, 6, 8, 2, 7, 3, 0, 3, 2, 1, 9, 7, 2, 9, 7, 0, 2, 7, 1, 2, 7, 5, 1, 2, 3, 0, 1, 3, 7, 0, 3, 1, 5, 1, 4, 3, 7, 5, 8, 1, 3, 3, 2, 2, 1, 2, 7, 8, 1, 0, 9, 6, 8, 0, 0, 8, 4, 6, 3, 2, 8, 5, 6, 4, 6, 8, 9, 8, 4, 4, 0, 5, 4, 4, 8, 8, 2, 1, 5, 5, 8, 5, 1, 1, 8, 1, 3, 2, 7, 6, 5, 1, 9, 2, 3, 7, 6, 5, 5, 0, 4, 9, 4, 6, 5, 3, 2, 6, 4, 7, 1, 8, 0, 2, 4, 3, 0, 4, 7, 5, 9, 8, 0, 5, 4, 7, 4, 2, 6, 4, 1, 6, 7, 0, 5, 7, 7, 2, 2, 0, 0, 3, 2, 2, 0, 8, 6, 4, 4, 0, 9, 8, 5, 7, 3, 1, 3, 1, 3, 8, 7, 7, 7, 3, 1, 2, 4, 0, 5, 1, 8, 3, 7, 8, 7, 5, 6, 2, 0, 2, 7, 3, 0, 6, 6, 8, 3, 4, 9, 6, 9, 2, 8, 9, 0, 5, 8, 5, 8, 9, 0, 0, 3, 9, 7, 8, 6, 6, 0, 1, 0, 5, 3, 7, 1, 8, 5, 9, 4, 7, 1, 1, 4, 9, 2, 3, 4, 8, 3, 7, 7, 9, 6, 6, 5, 0, 8, 6, 4, 5, 3, 3, 5, 6, 7, 7, 3, 7, 7, 9, 8, 1, 3, 1, 1, 4, 4, 1, 8, 1, 2, 7, 8, 8, 2, 4, 9, 8, 1, 3, 9, 9, 0, 4, 8, 5, 3, 2, 4, 0, 7, 0, 3, 3, 9, 5, 6, 5, 3, 8, 4, 5, 0, 5, 4, 9, 8, 6, 7, 3, 5, 3, 9, 4, 6, 6, 0, 6, 7, 9, 0, 7, 4, 6, 9, 0, 6, 8, 8, 3, 6, 9, 8, 6, 8, 8, 0, 6, 6, 4, 6, 3, 8, 6, 0, 0, 1, 4, 7, 7, 9, 1, 5, 1, 8, 3, 9, 1, 1, 2, 4, 3, 4, 4, 9, 2, 2, 6, 1, 8, 9, 4, 4, 2, 6, 4, 2, 5, 9, 9, 8, 3, 4, 5, 9, 3, 4, 4, 1, 6, 0, 4, 6, 4, 5, 6, 2, 7, 7, 8, 9, 5, 2, 3, 3, 0, 7, 4, 5, 4, 4, 8, 2, 4, 9, 3, 2, 8, 9, 7, 4, 7, 0, 2, 3, 8, 4, 0, 0, 1, 0, 4, 3, 3, 6, 3, 5, 8, 1, 3, 8, 1, 1, 5, 7, 3, 9, 2, 4, 5, 1, 1, 0, 2, 4, 7, 3, 6, 1, 6, 6, 4, 0, 6, 9, 4, 9, 3, 7, 0, 9, 9, 7, 5, 3, 4, 9, 2, 2, 4, 5, 2, 3, 8, 3, 4, 4, 7, 3, 2, 3, 4, 8, 5, 8, 8, 6, 1, 1, 7, 0, 9, 6, 5, 9, 2, 2, 5, 0, 1, 8, 4, 4, 0, 1, 0, 8, 5, 4, 4, 0, 8, 1, 1, 6, 8, 0, 2, 2, 8, 9, 4, 7, 3, 5, 1, 3, 5, 6, 7, 8, 0, 3, 5, 7, 0, 6, 5, 2, 0, 8, 7, 3, 2, 3, 8, 5, 2, 6, 7, 1, 6, 1, 6, 0, 5, 1, 5, 6, 3, 9, 7, 1, 0, 8, 2, 6, 0, 8, 6, 0, 4, 9, 9, 4, 4, 5, 9, 8, 2, 7, 1, 6, 8, 9, 9, 7, 3, 3, 9, 0, 7, 8, 1, 8, 8, 2, 8, 8, 0, 5, 5, 4, 2, 1, 6, 0, 8, 1, 3, 0, 3, 6, 6, 0, 0, 4, 7, 3, 5, 2, 2, 5, 1, 9, 0, 6, 3, 5, 9, 9, 5, 6, 2, 9, 1, 3, 2, 5, 0, 3, 6, 4, 8, 4, 5, 0, 7, 9, 3, 6, 1, 4, 8, 4, 0, 7, 6, 4, 1, 3, 4, 7, 3, 4, 2, 4, 7, 7, 0, 7, 4, 7, 2, 1, 2, 3, 6, 4, 3, 1, 4, 0, 3, 4, 1, 1, 7, 4, 6, 8, 0, 1, 5, 9, 6, 7, 3, 0, 9, 2, 6, 8, 4, 2, 1, 9, 9, 8, 3, 0, 1, 8, 9, 5, 9, 8, 1, 3, 2, 0, 1, 6, 4, 5, 3, 0, 7, 0, 3, 6, 2, 8, 4, 6, 2, 9, 4, 7, 3, 9, 4, 1, 2, 7, 2, 1, 5, 9, 8, 1, 0, 6, 4, 7, 3, 8, 7, 5, 5, 8, 0, 2, 2, 6, 2, 0, 7, 5, 6, 7, 0, 3, 5, 6, 7, 7, 2, 9, 9, 3, 2, 8, 8, 8, 8, 9, 1, 0, 3, 5, 2, 1, 8, 3, 5, 3, 2, 7, 6, 6, 4, 9, 8, 5, 6, 7, 9, 2, 2, 5, 6, 3, 6, 0, 0, 0, 2, 7, 0, 3, 0, 8, 6, 5, 3, 0, 6, 4, 4, 2, 7, 4, 3, 0, 5, 4, 6, 2, 4, 7, 9, 6, 4, 9, 6, 5, 9, 8, 3, 5, 0, 6, 0, 8, 9, 1, 2, 5, 7, 9, 1, 7, 8, 2, 3, 3, 4, 2, 9, 6, 5, 8, 3, 3, 6, 0, 2, 0, 3, 0, 0, 9, 9, 6, 2, 2, 9, 9, 1, 4, 1, 2, 3, 5, 6, 8, 0, 7, 9, 8, 5, 2, 8, 7, 6, 7, 5, 5, 2, 7, 3, 7, 2, 0, 9, 3, 3, 9, 5, 2, 2, 4, 2, 1, 5, 8, 9, 0, 5, 2, 1, 5, 7, 8, 1, 6, 9, 0, 2, 2, 4, 2, 4, 8, 3, 6, 1, 5, 3, 0, 5, 8, 1, 9, 9, 5, 9, 4, 7, 5, 7, 1, 3, 4, 9, 6, 6, 8, 1, 8, 4, 5, 6, 5, 8, 9, 3, 0, 2, 4, 4, 4, 3, 5, 2, 8, 0, 7, 6, 9, 7, 1, 0, 9, 9, 4, 5, 9, 8, 4, 8, 9, 9, 6, 2, 5, 7, 6, 6, 0, 7, 5, 9, 0, 3, 7, 7, 8, 3, 6, 1, 3, 6, 6, 3, 3, 8, 4, 5, 7, 1, 9, 7, 8, 9, 4, 1, 0, 3, 2, 1, 7, 1, 0, 1, 0, 5, 2, 0, 2, 4, 1, 0, 5, 2, 5, 2, 1, 8, 9, 2, 2, 3, 2, 8, 6, 4, 2, 0, 5, 0, 4, 1, 6, 6, 5, 9, 9, 6, 9, 3, 0, 3, 6, 0, 4, 5, 4, 2, 5, 2, 6, 8, 1, 2, 9, 8, 5, 7, 2, 3, 2, 3, 4, 5, 7, 5, 3, 7, 7, 5, 1, 9, 2, 8, 7, 9, 4, 0, 7, 7, 6, 3, 9, 5, 4, 7, 2, 6, 0, 4, 0, 8, 1, 3, 0, 6, 9, 8, 1, 0, 0, 5, 3, 1, 7, 0, 1, 6, 2, 2, 7, 8, 1, 2, 2, 6, 0, 6, 5, 5, 2, 9, 6, 5, 4, 3, 6, 8, 0, 9, 3, 9, 0, 3, 8, 5, 2, 4, 9, 5, 8, 3, 3, 9, 2, 0, 9, 8, 1, 8, 0, 4, 5, 0, 6, 5, 7, 6, 4, 1, 1, 5, 8, 5, 0, 1, 4, 7, 4, 4, 5, 4, 9, 1, 6, 1, 8, 4, 5, 0, 3, 8, 3, 9, 3, 1, 0, 4, 4, 3, 5, 6, 9, 6, 2, 6, 9, 9, 3, 5, 2, 4, 8, 3, 2, 3, 1, 4, 0, 6, 0, 4, 7, 5, 0, 7, 8, 7, 5, 4, 4, 7, 7, 6, 6, 0, 8, 0, 8, 3, 9, 7, 4, 5, 5, 5, 9, 0, 5, 6, 0, 5, 3, 7, 7, 9, 1, 8, 0, 6, 6, 3, 1, 6, 6, 3, 8, 0, 9, 7, 3, 7, 1, 4, 6, 7, 9, 5, 5, 9, 3, 5, 8, 5, 5, 4, 6, 7, 1, 2, 6, 0, 3, 7, 7, 2, 4, 3, 8, 2, 9, 6, 5, 6, 5, 5, 4, 6, 6, 6, 5, 1, 4, 5, 5, 4, 2, 7, 7, 1, 6, 0, 5, 8, 3, 2, 8, 6, 5, 0, 1, 8, 1, 8, 2, 6, 0, 2, 2, 0, 7, 0, 3, 7, 0, 6, 4, 1, 3, 2, 9, 8, 3, 4, 5, 3, 5, 2, 7, 1, 5, 9, 4, 7, 5, 4, 1, 1, 7, 3, 3, 6, 2, 3, 1, 7, 3, 8, 9, 8, 7, 2, 0, 6, 5, 5, 7, 9, 3, 3, 1, 0, 2, 6, 3, 2, 0, 4, 8, 3, 3, 8, 1, 5, 9, 7, 9, 3, 8, 3, 7, 3, 0, 1, 4, 6, 7, 3, 3, 2, 7, 0, 0, 1, 3, 2, 8, 2, 1, 8, 8, 9, 1, 3, 9, 2, 4, 5, 7, 0, 8, 5, 6, 0, 4, 2, 8, 3, 3, 7, 4, 4, 9, 8, 1, 3, 7, 9, 5, 5, 4, 9, 2, 2, 8, 5, 4, 9, 3, 6, 6, 1, 3, 1, 7, 7, 0, 2, 9, 6, 0, 9, 5, 9, 0, 2, 7, 9, 5, 9, 6, 6, 0, 4, 9, 1, 7, 1, 4, 6, 7, 7, 7, 4, 7, 7, 6, 7, 2, 9, 9, 3, 8, 9, 4, 5, 7, 2, 1, 2, 4, 3, 9, 5, 0, 0, 0, 5, 5, 1, 4, 6, 8, 9, 6, 8, 1, 8, 0, 9, 1, 7, 2, 3, 0, 9, 4, 6, 4, 7, 8, 3, 5, 9, 4, 2, 0, 1, 9, 4, 1, 4, 6, 9, 9, 7, 2, 2, 8, 3, 7, 2, 9, 7, 6, 9, 4, 7, 0, 6, 9, 2, 6, 5, 0, 0, 3, 9, 6, 9, 2, 3, 1, 0, 8, 6, 1, 7, 7, 0, 1, 5, 9, 6, 1, 8, 0, 3, 3, 6, 7, 8, 7, 7, 6, 0, 4, 2, 8, 6, 0, 5, 2, 6, 1, 5, 9, 8, 5, 2, 0, 4, 7, 2, 2, 0, 8, 2, 3, 2, 7, 5, 5, 6, 8, 0, 5, 3, 9, 9, 0, 2, 2, 9, 1, 2, 7, 6, 5, 0, 3, 8, 7, 6, 4, 5, 9, 6, 2, 2, 0, 6, 8, 1, 7, 7, 3, 5, 9, 5, 8, 4, 4, 4, 8, 3, 8, 7, 7, 4, 6, 0, 7, 2, 9, 2, 8, 3, 2, 9, 3, 2, 9, 9, 5, 9, 4, 2, 0, 0, 0, 5, 1, 6, 5, 8, 5, 5, 6, 9, 2, 8, 6, 6, 1, 6, 9, 9, 3, 3, 2, 7, 9, 0, 9, 0, 2, 9, 9, 1, 7, 3, 2, 5, 9, 0, 2, 6, 7, 0, 9, 9, 5, 4, 9, 8, 0, 7, 1, 4, 6, 9, 4, 8, 6, 4, 4, 3, 0, 2, 4, 7, 4, 2, 6, 0, 7, 9, 9, 6, 7, 8, 5, 9, 7, 1, 0, 7, 9, 0, 3, 2, 7, 3, 3, 2, 8, 1, 4, 6, 8, 7, 4, 8, 6, 8, 4, 1, 5, 4, 2, 7, 3, 3, 5, 6, 1, 8, 5, 4, 3, 3, 9, 3, 3, 6, 2, 3, 3, 1, 7, 4, 6, 9, 9, 6, 9, 6, 9, 4, 0, 7, 9, 8, 1, 3, 4, 6, 8, 0, 2, 2, 4, 9, 8, 0, 7, 4, 6, 7, 2, 7, 2, 8, 3, 4, 0, 3, 2, 8, 6, 0, 3, 0, 8, 7, 0, 5, 6, 7, 5, 4, 6, 4, 0, 5, 8, 4, 8, 3, 9, 7, 7, 6, 6, 4, 3, 3, 9, 7, 1, 9, 2, 8, 7, 5, 1, 2, 9, 4, 4, 2, 8, 6, 2, 6, 3, 2, 2, 1, 9, 7, 0, 8, 9, 9, 1, 0, 9, 5, 0, 1, 7, 8, 2, 7, 9, 0, 9, 4, 0, 4, 5, 9, 8, 9, 1, 7, 1, 7, 4, 4, 9, 3, 6, 1, 8, 4, 3, 3, 4, 6, 7, 9, 7, 5, 5, 1, 0, 2, 3, 8, 7, 6, 6, 7, 6, 8, 9, 2, 2, 9, 8, 1, 4, 9, 8, 7, 5, 7, 0, 0, 0, 3, 4, 1, 6, 3, 9, 4, 0, 6, 4, 4, 3, 5, 4, 7, 3, 3, 8, 3, 8, 3, 5, 3, 8, 6, 2, 1, 4, 7, 0, 6, 7, 7, 0, 3, 7, 2, 4, 8, 4, 4, 8, 2, 9, 8, 3, 6, 1, 8, 3, 1, 1, 2, 2, 2, 0, 1, 6, 0, 9, 4, 2, 0, 8, 0, 4, 0, 7, 3, 3, 0, 4, 0, 2, 8, 0, 3, 9, 3, 4, 4, 9, 7, 8, 6, 0, 3, 0, 9, 9, 4, 6, 5, 3, 6, 6, 9, 0, 1, 7, 4, 3, 6, 4, 7, 8, 9, 8, 3, 6, 5, 9, 6, 3, 1, 2, 4, 7, 4, 6, 8, 5, 8, 5, 7, 6, 0, 3, 5, 1, 5, 0, 9, 0, 3, 6, 7, 8, 5, 1, 3, 5, 1, 3, 5, 1, 2, 7, 3, 5, 2, 7, 6, 8, 4, 1, 1, 0, 7, 2, 5, 1, 2, 9, 1, 5, 3, 4, 5, 3, 5, 2, 5, 2, 3, 3, 9, 3, 6, 7, 8, 4, 6, 7, 2, 6, 2, 0, 3, 5, 6, 4, 9, 5, 2, 2, 2, 4, 4, 8, 2, 5, 0, 1, 7, 8, 5, 3, 6, 7, 7, 6, 5, 4, 1, 3, 1, 7, 0, 0, 2, 7, 4, 6, 2, 0, 8, 6, 4, 8, 5, 0, 7, 2, 4, 1, 8, 5, 2, 4, 2, 1, 9, 3, 5, 0, 1, 1, 0, 9, 2, 7, 8, 1, 6, 8, 3, 7, 0, 2, 4, 4, 3, 6, 9, 8, 2, 6, 7, 3, 4, 7, 4, 1, 1, 3, 6, 0, 4, 4, 0, 1, 9, 9, 4, 0, 9, 1, 1, 2, 2, 8, 4, 7, 4, 9, 6, 2, 1, 5, 6, 6, 7, 6, 3, 4, 0, 2, 6, 0, 0, 9, 4, 8, 5, 4, 4, 3, 1, 2, 5, 0, 8, 5, 7, 7, 5, 2, 9, 1, 4, 1, 9, 0, 4, 1, 7, 7, 3, 0, 5, 7, 3, 2, 5, 3, 6, 7, 5, 0, 2, 2, 3, 4, 8, 4, 5, 3, 8, 6, 5, 7, 6, 9, 1, 7, 2, 9, 9, 0, 3, 3, 7, 7, 6, 4, 6, 3, 3, 9, 6, 9, 0, 5, 6, 2, 7, 6, 0, 1, 8, 8, 5, 7, 8, 3, 3, 9, 4, 0, 1, 1, 1, 5, 4, 3, 0, 0, 9, 3, 6, 6, 3, 0, 3, 5, 4, 4, 0, 4, 3, 0, 0, 1, 1, 6, 7, 4, 1, 7, 8, 7, 5, 7, 3, 1, 9, 2, 7, 7, 3, 1, 1, 6, 4, 0, 6, 1, 0, 8, 9, 7, 7, 3, 2, 8, 1, 5, 1, 4, 7, 0, 4, 2, 0, 9, 4, 4, 7, 1, 9, 1, 1, 0, 5, 8, 1, 2, 2, 6, 6, 2, 5, 8, 2, 2, 4, 6, 5, 9, 1, 1, 1, 0, 8, 3, 0, 7, 7, 5, 1, 8, 2, 6, 4, 3, 9, 3, 0, 0, 4, 4, 1, 8, 0, 9, 2, 3, 9, 0, 2, 4, 6, 8, 9, 8, 9, 6, 0, 6, 0, 8, 1, 5, 5, 1, 0, 3, 8, 5, 7, 2, 3, 0, 0, 4, 2, 9, 4, 3, 4, 6, 1, 9, 3, 4, 6, 2, 6, 8, 9, 8, 8, 1, 6, 5, 7, 1, 3, 9, 7, 6, 3, 9, 5, 2, 1, 8, 6, 0, 3, 7, 8, 7, 4, 8, 2, 0, 3, 2, 4, 8, 5, 7, 1, 1, 3, 7, 5, 0, 6, 2, 2, 4, 0, 4, 4, 7, 3, 7, 1, 4, 1, 8, 6, 2, 4, 5, 4, 4, 7, 9, 7, 4, 4, 0, 8, 6, 0, 1, 5, 8, 7, 5, 6, 3, 7, 4, 3, 1, 9, 9, 6, 0, 6, 7, 1, 8, 4, 3, 2, 3, 9, 1, 9, 3, 1, 7, 5, 4, 3, 2, 8, 2, 4, 5, 8, 5, 9, 2, 9, 9, 5, 8, 2, 8, 5, 1, 9, 7, 2, 2, 7, 7, 0, 6, 0, 0, 3, 4, 2, 5, 2, 9, 3, 6, 6, 3, 7, 2, 5, 6, 7, 1, 8, 7, 3, 3, 5, 6, 1, 7, 3, 2, 7, 8, 9, 9, 3, 0, 4, 0, 0, 5, 6, 2, 4, 1, 8, 3, 4, 2, 6, 3, 0, 5, 1, 3, 5, 6, 0, 9, 3, 2, 5, 3, 0, 5, 1, 5, 0, 4, 7, 7, 0, 0, 1, 2, 2, 3, 2, 0, 5, 0, 1, 7, 1, 5, 7, 6, 9, 4, 2, 9, 3, 1, 9, 7, 4, 2, 9, 3, 5, 4, 2, 4, 0, 2, 0, 4, 3, 4, 0, 1, 1, 3, 7, 4, 9, 2, 4, 3, 9, 1, 1, 0, 7, 6, 0, 1, 0, 2, 0, 7, 6, 1, 5, 8, 3, 5, 4, 5, 9, 3, 7, 9, 1, 3, 8, 1, 9, 5, 0, 9, 4, 2, 8, 2, 5, 0, 4, 6, 9, 8, 1, 9, 0, 5, 7, 3, 7, 2, 2, 1, 0, 5, 9, 7, 8, 8, 8, 7, 6, 2, 6, 6, 6, 9, 4, 5, 7, 8, 8, 3, 1, 1, 9, 1, 4, 9, 3, 3, 9, 0, 8, 1, 4, 1, 5, 8, 3, 3, 1, 7, 4, 6, 1, 1, 1, 4, 5, 0, 8, 5, 8, 8, 1, 5, 0, 3, 0, 6, 3, 9, 9, 2, 8, 1, 1, 5, 2, 1, 7, 9, 2, 5, 5, 2, 6, 5, 5, 2, 3, 1, 5, 4, 9, 2, 3, 3, 0, 7, 8, 2, 9, 8, 4, 9, 0, 1, 0, 9, 5, 5, 2, 6, 0, 8, 7, 8, 4, 0, 8, 2, 8, 9, 2, 7, 2, 0, 0, 9, 0, 5, 6, 6, 3, 1, 9, 1, 3, 7, 7, 0, 5, 3, 7, 0, 5, 2, 8, 1, 4, 3, 1, 0, 6, 3, 3, 1, 2, 1, 5, 2, 3, 9, 1, 8, 0, 3, 4, 7, 0, 4, 7, 0, 4, 1, 5, 9, 5, 4, 9, 2, 8, 2, 2, 5, 8, 0, 1, 7, 4, 6, 0, 9, 0, 0, 3, 2, 6, 3, 9, 8, 8, 5, 1, 7, 8, 1, 9, 9, 2, 4, 1, 4, 2, 0, 5, 3, 1, 4, 1, 9, 8, 2, 4, 5, 6, 2, 4, 2, 5, 1, 5, 3, 2, 3, 9, 1, 5, 5, 4, 1, 3, 2, 5, 4, 0, 2, 9, 2, 8, 6, 5, 9, 2, 1, 2, 6, 3, 9, 2, 9, 0, 8, 0, 1, 1, 4, 3, 2, 5, 9, 5, 8, 7, 5, 2, 2, 8, 2, 4, 4, 9, 4, 9, 6, 1, 9, 7, 8, 0, 7, 7, 6, 9, 1, 9, 6, 9, 2, 4, 4, 9, 3, 4, 5, 0, 4, 6, 2, 5, 6, 8, 7, 0, 0, 4, 6, 4, 9, 8, 0, 9, 5, 2, 7, 5, 1, 9, 9, 0, 1, 1, 5, 6, 9, 4, 2, 4, 2, 1, 0, 5, 8, 5, 5, 5, 8, 2, 9, 4, 3, 1, 1, 6, 1, 9, 5, 9, 4, 6, 5, 8, 6, 0, 0, 2, 2, 5, 0, 2, 7, 6, 4, 4, 8, 5, 0, 3, 9, 3, 1, 2, 1, 1, 1, 1, 6, 2, 7, 5, 3, 4, 3, 8, 3, 7, 1, 9, 0, 7, 5, 2, 1, 0, 6, 8, 8, 5, 1, 4, 7, 6, 1, 3, 1, 7, 4, 5, 3, 1, 2, 6, 8, 2, 0, 1, 9, 5, 9, 2, 8, 7, 6, 2, 5, 6, 8, 5, 8, 7, 1, 8, 4, 0, 8, 2, 8, 6, 3, 1, 4, 7, 0, 2, 7, 3, 7, 2, 3, 4, 6, 0, 7, 6, 1, 3, 3, 2, 6, 6, 4, 7, 0, 9, 6, 7, 5, 9, 8, 7, 3, 8, 3, 8, 4, 2, 8, 3, 8, 1, 8, 9, 1, 8, 4, 5, 8, 4, 9, 1, 4, 0, 3, 6, 0, 3, 2, 0, 6, 8, 4, 1, 2, 1, 2, 7, 3, 2, 5, 5, 6, 2, 0, 9, 7, 1, 1, 9, 2, 6, 5, 0, 0, 9, 6, 6, 9, 4, 7, 5, 9, 3, 2, 9, 2, 4, 9, 8, 8, 8, 0, 1, 6, 6, 3, 5, 3, 2, 4, 7, 0, 9, 3, 3, 9, 3, 8, 8, 6, 2, 8, 0, 6, 5, 8, 6, 9, 8, 0, 9, 0, 6, 3, 1, 6, 6, 4, 6, 9, 8, 1, 6, 8, 4, 5, 3, 6, 6, 0, 5, 9, 1, 5, 2, 8, 6, 8, 2, 9, 8, 0, 1, 1, 2, 1, 9, 2, 9, 9, 5, 5, 0, 9, 0, 1, 2, 1, 2, 2, 1, 4, 4, 2, 6, 5, 5, 8, 9, 4, 6, 9, 2, 1, 9, 8, 9, 7, 2, 7, 2, 4, 0, 2, 2, 7, 5, 6, 0, 7, 1, 8, 0, 8, 8, 0, 6, 8, 4, 5, 9, 4, 6, 0, 9, 7, 8, 6, 4, 5, 1, 6, 9, 3, 7, 1, 4, 8, 3, 6, 9, 8, 0, 8, 6, 2, 8, 7, 3, 2, 7, 5, 0, 5, 8, 5, 5, 6, 1, 1, 7, 9, 6, 9, 6, 5, 1, 9, 8, 6, 3, 6, 3, 9, 8, 0, 2, 4, 0, 7, 4, 4, 3, 5, 0, 7, 4, 1, 4, 0, 6, 9, 1, 1, 1, 2, 8, 6, 2, 7, 7, 1, 7, 3, 2, 8, 3, 4, 2, 7, 4, 7, 7, 5, 2, 9, 8, 4, 7, 0, 1, 4, 5, 8, 5, 5, 3, 0, 7, 8, 6, 5, 7, 1, 2, 6, 6, 0, 3, 1, 3, 8, 2, 9, 9, 1, 3, 3, 0, 4, 6, 9, 0, 0, 7, 5, 6, 9, 8, 0, 6, 5, 1, 5, 1, 7, 4, 7, 1, 2, 7, 8, 9, 1, 5, 4, 5, 0, 2, 0, 8, 8, 3, 5, 0, 7, 0, 1, 3, 1, 4, 4, 7, 1, 6, 6, 7, 7, 0, 5, 2, 5, 5, 0, 9, 3, 6, 7, 9, 2, 2, 6, 6, 5, 4, 0, 2, 3, 3, 0, 1, 9, 7, 7, 8, 5, 3, 9, 1, 0, 4, 5, 5, 3, 7, 1, 4, 7, 2, 9, 9, 8, 8, 9, 9, 1, 7, 2, 8, 0, 0, 8, 1, 2, 9, 1, 2, 9, 4, 9, 3, 5, 7, 4, 3, 6, 7, 6, 0, 0, 0, 9, 2, 2, 9, 8, 4, 0, 6, 2, 8, 3, 2, 5, 5, 2, 5, 6, 9, 6, 2, 1, 0, 1, 6, 9, 0, 9, 5, 7, 5, 8, 0, 8, 6, 3, 9, 5, 1, 1, 5, 6, 0, 0, 5, 7, 2, 9, 0, 0, 6, 9, 1, 0, 7, 8, 8, 3, 1, 1, 3, 2, 3, 3, 7, 0, 2, 4, 1, 4, 6, 9, 6, 7, 8, 2, 7, 5, 7, 5, 7, 2, 8, 2, 6, 3, 8, 7, 2, 1, 3, 0, 9, 6, 7, 3, 3, 6, 3, 0, 0, 0, 7, 0, 7, 1, 7, 5, 9, 0, 5, 5, 4, 7, 1, 2, 9, 2, 5, 0, 6, 9, 8, 3, 7, 2, 5, 4, 6, 8, 7, 5, 8, 4, 6, 0, 5, 6, 9, 6, 6, 9, 3, 5, 2, 3, 3, 1, 0, 7, 5, 0, 8, 6, 1, 6, 8, 8, 5, 3, 2, 5, 0, 9, 3, 2, 3, 3, 1, 9, 5, 3, 1, 9, 7, 1, 3, 3, 7, 0, 6, 2, 5, 7, 9, 2, 2, 7, 9, 5, 4, 9, 9, 1, 7, 2, 0, 4, 6, 4, 0, 6, 6, 3, 0, 1, 3, 2, 9, 1, 9, 2, 1, 4, 4, 8, 1, 6, 8, 3, 5, 3, 0, 7, 9, 2, 1, 0, 3, 8, 6, 7, 8, 9, 6, 0, 3, 5, 3, 4, 0, 4, 4, 9, 1, 6, 6, 3, 2, 8, 6, 1, 7, 6, 0, 7, 3, 5, 8, 2, 1, 6, 6, 9, 0, 6, 0, 0, 8, 6, 1, 7, 9, 6, 2, 9, 6, 7, 6, 7, 1, 6, 8, 7, 8, 8, 2, 5, 3, 3, 4, 9, 1, 5, 7, 0, 1, 4, 0, 2, 1, 7, 2, 7, 7, 6, 6, 9, 5, 9, 6, 1, 2, 7, 0, 0, 5, 8, 6, 1, 6, 3, 1, 3, 9, 0, 9, 1, 8, 9, 6, 5, 5, 0, 4, 4, 2, 9, 7, 9, 2, 1, 3, 6, 9, 0, 5, 2, 6, 9, 5, 4, 2, 8, 6, 8, 2, 5, 6, 6, 1, 2, 8, 0, 4, 3, 9, 4, 5, 5, 3, 3, 4, 3, 8, 8, 7, 9, 7, 0, 4, 9, 6, 8, 0, 4, 7, 7, 3, 0, 0, 5, 3, 5, 6, 2, 3, 8, 2, 0, 0, 1, 4, 9, 9, 0, 2, 4, 3, 4, 2, 9, 3, 3, 7, 9, 4, 9, 5, 2, 2, 6, 3, 7, 2, 5, 8, 3, 9, 9, 8, 0, 5, 4, 4, 5, 4, 8, 1, 0, 6, 5, 5, 5, 4, 2, 4, 0, 7, 4, 1, 3, 4, 8, 7, 1, 8, 3, 1, 7, 3, 9, 0, 0, 6, 9, 1, 8, 3, 0, 2, 5, 4, 3, 5, 7, 5, 0, 9, 0, 7, 7, 9, 3, 1, 1, 6, 2, 1, 5, 3, 6, 7, 6, 9, 9, 9, 4, 2, 4, 7, 8, 1, 5, 0, 4, 5, 6, 6, 7, 0, 8, 0, 3, 3, 1, 2, 4, 6, 5, 9, 6, 2, 0, 9, 8, 1, 3, 2, 1, 6, 9, 8, 8, 1, 4, 4, 1, 8, 1, 6, 1, 4, 1, 5, 6, 4, 7, 1, 4, 7, 1, 5, 5, 5, 3, 6, 9, 8, 5, 7, 7, 6, 1, 6, 2, 9, 9, 2, 3, 3, 2, 5, 7, 9, 3, 3, 5, 8, 9, 3, 7, 2, 8, 3, 3, 5, 4, 2, 9, 6, 1, 6, 5, 9, 4, 3, 4, 6, 6, 1, 2, 9, 4, 0, 9, 7, 8, 5, 2, 0, 9, 2, 6, 8, 7, 3, 2, 6, 1, 3, 5, 1, 8, 8, 1, 5, 9, 4, 0, 0, 1, 8, 7, 8, 7, 9, 5, 0, 5, 8, 2, 7, 2, 0, 5, 6, 4, 5, 9, 8, 2, 1, 4, 9, 6, 1, 1, 3, 9, 4, 7, 9, 5, 5, 4, 1, 5, 7, 3, 8, 1, 6, 5, 0, 4, 8, 2, 8, 8, 5, 5, 8, 4, 4, 8, 1, 7, 8, 6, 5, 5, 4, 7, 5, 3, 1, 7, 1, 8, 0, 3, 6, 4, 1, 9, 9, 7, 4, 9, 0, 6, 5, 6, 4, 8, 6, 3, 5, 0, 2, 4, 5, 5, 0, 6, 4, 0, 2, 4, 8, 0, 3, 4, 0, 9, 6, 0, 1, 1, 4, 3, 3, 6, 6, 8, 2, 0, 4, 9, 2, 9, 5, 2, 5, 0, 2, 4, 9, 8, 5, 1, 3, 8, 4, 7, 9, 7, 2, 9, 6, 3, 0, 7, 9, 7, 3, 0, 0, 0, 7, 2, 7, 3, 6, 2, 8, 0, 0, 5, 0, 2, 8, 2, 9, 1, 7, 8, 6, 1, 3, 9, 1, 1, 3, 8, 0, 2, 4, 1, 8, 6, 4, 7, 4, 4, 7, 5, 4, 6, 9, 1, 9, 2, 0, 3, 6, 3, 7, 7, 5, 3, 7, 8, 4, 6, 3, 3, 3, 4, 2, 5, 2, 8, 9, 6, 3, 5, 8, 9, 3, 6, 2, 0, 1, 9, 2, 9, 4, 4, 1, 3, 5, 6, 6, 8, 7, 9, 7, 4, 4, 4, 8, 6, 2, 3, 9, 3, 1, 4, 0, 0, 1, 1, 6, 0, 0, 6, 3, 6, 6, 7, 0, 6, 5, 4, 3, 6, 9, 6, 9, 1, 3, 9, 9, 3, 0, 1, 3, 9, 5, 4, 4, 2, 0, 5, 6, 1, 8, 6, 8, 3, 2, 2, 3, 8, 2, 8, 5, 7, 0, 4, 1, 6, 6, 2, 2, 0, 7, 2, 8, 2, 8, 2, 1, 7, 8, 6, 5, 8, 4, 6, 6, 4, 4, 4, 8, 1, 2, 7, 5, 0, 5, 0, 4, 4, 9, 7, 4, 6, 8, 2, 6, 8, 3, 7, 6, 5, 0, 4, 6, 0, 7, 2, 4, 3, 0, 8, 9, 2, 3, 7, 4, 7, 8, 7, 4, 3, 0, 9, 0, 0, 6, 5, 8, 5, 5, 6, 7, 4, 6, 3, 5, 0, 6, 1, 9, 5, 1, 9, 1, 0, 6, 2, 3, 0, 6, 1, 4, 5, 0, 2, 2, 8, 2, 6, 9, 1, 0, 0, 8, 5, 3, 1, 8, 5, 9, 9, 8, 3, 9, 5, 2, 4, 0, 2, 0, 1, 6, 2, 0, 2, 4, 2, 2, 3, 8, 1, 6, 6, 1, 9, 7, 1, 1, 4, 0, 5, 6, 3, 0, 1, 1, 4, 5, 3, 3, 9, 6, 4, 9, 1, 6, 9, 4, 8, 4, 9, 8, 6, 5, 3, 4, 8, 7, 4, 4, 9, 8, 3, 9, 5, 1, 9, 6, 7, 4, 4, 8, 6, 1, 1, 6, 9, 5, 8, 6, 3, 6, 1, 8, 1, 9, 5, 7, 0, 6, 2, 9, 3, 2, 4, 8, 1, 0, 3, 9, 5, 4, 5, 9, 0, 4, 7, 9, 4, 7, 1, 9, 2, 1, 6, 4, 4, 0, 5, 7, 3, 4, 8, 4, 2, 2, 1, 2, 2, 0, 6, 8, 9, 7, 8, 7, 9, 8, 7, 9, 6, 6, 4, 9, 2, 2, 0, 4, 0, 5, 3, 5, 0, 0, 7, 5, 3, 6, 2, 1, 4, 0, 6, 6, 3, 6, 5, 6, 1, 1, 2, 0, 1, 5, 1, 1, 2, 2, 8, 1, 1, 3, 2, 0, 9, 6, 8, 6, 8, 3, 4, 4, 7, 5, 4, 4, 5, 3, 5, 4, 6, 5, 7, 4, 2, 7, 1, 4, 1, 5, 2, 1, 0, 5, 9, 7, 3, 8, 4, 6, 2, 8, 4, 5, 6, 2, 7, 4, 3, 9, 7, 8, 7, 7, 6, 0, 2, 5, 3, 1, 6, 5, 7, 8, 5, 3, 6, 0, 3, 0, 6, 2, 2, 2, 9, 6, 4, 0, 9, 4, 8, 3, 4, 5, 5, 8, 8, 9, 1, 8, 4, 0, 2, 3, 4, 1, 4, 9, 3, 1, 0, 8, 1, 1, 1, 5, 7, 8, 9, 6, 9, 0, 3, 8, 2, 4, 4, 6, 1, 4, 4, 4, 8, 8, 8, 0, 9, 8, 7, 3, 1, 3, 9, 9, 7, 1, 2, 4, 7, 2, 5, 5, 8, 0, 0, 6, 9, 3, 1, 3, 8, 5, 4, 9, 1, 7, 5, 9, 5, 7, 6, 5, 0, 0, 8, 6, 4, 5, 3, 3, 7, 7, 8, 4, 5, 9, 5, 0, 5, 0, 5, 5, 2, 9, 9, 4, 2, 6, 4, 2, 5, 5, 3, 4, 7, 9, 7, 8, 9, 1, 0, 2, 0, 3, 1, 6, 2, 7, 5, 7, 0, 6, 7, 6, 2, 7, 0, 8, 8, 3, 5, 5, 9, 0, 3, 4, 0, 9, 5, 5, 5, 6, 0, 0, 8, 5, 4, 4, 9, 9, 0, 7, 1, 9, 3, 2, 8, 3, 6, 5, 0, 6, 6, 7, 9, 8, 7, 4, 9, 4, 1, 2, 3, 8, 4, 0, 6, 5, 4, 6, 1, 1, 8, 2, 8, 1, 2, 6, 3, 7, 9, 8, 4, 4, 2, 5, 6, 6, 3, 3, 4, 1, 0, 9, 1, 2, 3, 9, 6, 5, 5, 6, 5, 2, 0, 3, 6, 5, 3, 4, 5, 7, 4, 0, 6, 3, 9, 3, 0, 3, 8, 0, 1, 8, 2, 3, 0, 2, 5, 8, 3, 8, 9, 2, 3, 1, 2, 0, 2, 9, 4, 1, 8, 9, 2, 2, 9, 1, 4, 3, 9, 6, 8, 1, 9, 2, 0, 3, 6, 3, 9, 1, 9, 3, 5, 4, 3, 1, 8, 5, 0, 4, 0, 2, 4, 4, 3, 9, 9, 7, 5, 4, 5, 5, 3, 8, 5, 1, 4, 7, 6, 5, 0, 0, 1, 7, 2, 7, 5, 0, 8, 1, 5, 0, 2, 8, 7, 7, 8, 3, 6, 0, 8, 8, 5, 3, 1, 3, 5, 1, 5, 2, 1, 1, 7, 5, 9, 3, 1, 2, 9, 2, 1, 8, 7, 9, 3, 3, 3, 4, 6, 5, 8, 2, 6, 3, 4, 8, 8, 4, 0, 7, 4, 0, 8, 0, 6, 0, 7, 0, 8, 4, 9, 3, 1, 6, 9, 8, 2, 7, 5, 3, 3, 8, 3, 4, 2, 9, 5, 9, 4, 3, 8, 6, 4, 6, 3, 3, 8, 7, 0, 2, 4, 2, 0, 5, 9, 9, 6, 9, 5, 1, 5, 7, 5, 7, 6, 7, 1, 6, 8, 6, 7, 5, 8, 7, 1, 6, 4, 9, 5, 7, 8, 8, 1, 8, 9, 6, 7, 5, 7, 3, 4, 4, 8, 1, 2, 5, 8, 9, 9, 8, 4, 0, 0, 9, 7, 9, 1, 9, 8, 3, 8, 3, 2, 5, 2, 5, 7, 3, 0, 4, 5, 5, 6, 2, 6, 2, 9, 2, 8, 7, 1, 2, 5, 7, 0, 7, 0, 3, 5, 9, 6, 1, 0, 1, 6, 9, 6, 7, 9, 5, 6, 0, 3, 6, 5, 3, 7, 5, 2, 6, 3, 0, 0, 2, 7, 0, 1, 9, 8, 3, 8, 8, 7, 1, 2, 3, 7, 0, 6, 9, 5, 0, 8, 7, 3, 6, 1, 3, 7, 4, 8, 9, 5, 4, 3, 0, 6, 7, 6, 5, 6, 4, 5, 0, 7, 8, 7, 8, 2, 6, 7, 8, 1, 3, 2, 2, 0, 9, 8, 2, 8, 9, 9, 6, 3, 6, 2, 1, 7, 2, 3, 1, 2, 9, 7, 5, 4, 5, 0, 9, 9, 6, 2, 4, 7, 6, 7, 7, 4, 1, 9, 4, 0, 6, 2, 3, 5, 9, 2, 3, 7, 1, 4, 8, 8, 0, 9, 0, 3, 6, 8, 5, 2, 7, 6, 4, 4, 2, 4, 7, 0, 1, 3, 3, 1, 7, 5, 2, 7, 9, 5, 1, 2, 3, 7, 6, 7, 6, 6, 1, 6, 7, 1, 4, 9, 1, 6, 6, 6, 8, 9, 3, 3, 5, 5, 2, 1, 8, 5, 2, 7, 8, 5, 7, 0, 9, 0, 1, 9, 3, 5, 2, 2, 2, 1, 1, 6, 7, 3, 7, 9, 6, 7, 9, 9, 4, 3, 3, 2, 6, 3, 4, 7, 0, 8, 3, 6, 0, 4, 3, 8, 7, 6, 5, 5, 2, 9, 4, 6, 6, 0, 2, 8, 8, 7, 6, 7, 1, 8, 5, 0, 0, 4, 7, 8, 9, 5, 4, 7, 5, 2, 7, 2, 6, 1, 5, 4, 6, 8, 9, 8, 8, 6, 4, 1, 7, 7, 5, 2, 2, 4, 6, 7, 8, 7, 5, 2, 0, 6, 2, 1, 5, 1, 2, 3, 0, 2, 4, 5, 0, 6, 4, 9, 3, 9, 7, 5, 0, 0, 0, 9, 1, 3, 7, 4, 4, 6, 5, 7, 2, 3, 4, 7, 7, 0, 5, 2, 5, 5, 3, 1, 1, 2, 9, 9, 7, 6, 3, 6, 6, 0, 8, 2, 5, 8, 5, 5, 3, 8, 9, 8, 5, 7, 6, 3, 1, 1, 7, 2, 9, 8, 0, 4, 5, 0, 0, 5, 4, 8, 8, 5, 9, 6, 4, 0, 6, 8, 5, 3, 3, 6, 0, 3, 9, 0, 4, 4, 0, 8, 4, 4, 8, 1, 4, 1, 8, 2, 7, 1, 5, 5, 2, 9, 2, 4, 2, 7, 9, 2, 6, 2, 6, 9, 4, 7, 7, 3, 1, 6, 5, 6, 8, 7, 5, 2, 4, 7, 7, 9, 7, 1, 3, 4, 7, 7, 2, 8, 5, 9, 0, 2, 5, 8, 4, 1, 9, 0, 1, 3, 8, 8, 5, 3, 2, 7, 7, 5, 3, 3, 6, 2, 4, 9, 3, 9, 5, 8, 5, 2, 1, 5, 6, 4, 6, 7, 5, 7, 3, 0, 5, 0, 7, 6, 0, 2, 5, 2, 7, 5, 3, 4, 1, 2, 1, 8, 7, 0, 8, 5, 3, 0, 2, 1, 8, 4, 0, 0, 6, 1, 8, 6, 2, 0, 9, 0, 2, 9, 1, 0, 3, 4, 0, 6, 9, 5, 3, 1, 4, 8, 6, 7, 5, 8, 7, 4, 5, 0, 1, 6, 2, 3, 4, 5, 4, 2, 4, 4, 6, 7, 6, 6, 2, 6, 7, 5, 6, 7, 2, 8, 7, 3, 0, 1, 9, 0, 4, 9, 7, 7, 4, 5, 4, 8, 3, 4, 5, 1, 8, 0, 1, 6, 7, 9, 7, 0, 9, 7, 4, 6, 7, 2, 8, 5, 2, 5, 8, 6, 5, 3, 9, 7, 4, 4, 1, 8, 0, 5, 8, 1, 3, 5, 7, 0, 3, 9, 9, 6, 4, 7, 6, 4, 0, 6, 4, 1, 2, 6, 0, 9, 8, 5, 0, 6, 8, 5, 3, 1, 2, 8, 0, 7, 6, 8, 5, 5, 7, 8, 9, 1, 5, 0, 9, 6, 0, 3, 7, 2, 0, 0, 0, 4, 7, 2, 7, 4, 2, 1, 5, 3, 6, 0, 5, 6, 6, 4, 1, 9, 8, 6, 9, 0, 8, 2, 6, 9, 9, 8, 7, 4, 6, 6, 0, 7, 1, 8, 6, 8, 2, 2, 0, 3, 1, 4, 7, 1, 0, 7, 2, 4, 6, 3, 4, 8, 3, 2, 9, 8, 6, 9, 0, 6, 0, 3, 8, 9, 2, 7, 4, 7, 2, 5, 7, 4, 8, 8, 8, 3, 7, 0, 2, 5, 1, 8, 8, 7, 2, 2, 7, 4, 2, 1, 2, 3, 4, 5, 7, 0, 8, 3, 5, 4, 2, 0, 0, 6, 0, 5, 4, 0, 6, 8, 7, 5, 5, 4, 9, 2, 3, 7, 9, 8, 8, 4, 7, 3, 4, 0, 8, 8, 7, 5, 5, 9, 9, 2, 3, 9, 8, 1, 9, 9, 4, 9, 1, 4, 7, 7, 4, 3, 9, 9, 5, 4, 3, 6, 7, 7, 5, 2, 3, 7, 1, 2, 0, 4, 0, 5, 7, 1, 5, 6, 9, 8, 6, 1, 7, 3, 0, 7, 6, 1, 7, 4, 5, 1, 2, 5, 6, 1, 9, 9, 4, 1, 1, 8, 3, 2, 4, 8, 5, 0, 7, 1, 4, 3, 9, 8, 1, 5, 0, 7, 1, 9, 2, 2, 7, 8, 2, 1, 0, 2, 3, 3, 0, 6, 3, 5, 6, 6, 3, 9, 5, 6, 6, 8, 1, 4, 7, 0, 3, 3, 2, 8, 0, 4, 1, 2, 3, 7, 4, 5, 6, 4, 4, 8, 7, 4, 9, 7, 1, 9, 1, 2, 5, 3, 0, 9, 5, 4, 4, 1, 1, 5, 1, 1, 6, 8, 3, 3, 5, 5, 5, 4, 9, 7, 5, 4, 6, 7, 0, 2, 4, 7, 0, 8, 8, 5, 7, 7, 4, 7, 3, 1, 1, 5, 2, 6, 0, 1, 7, 4, 2, 4, 1, 8, 3, 6, 0, 0, 4, 8, 7, 5, 5, 8, 5, 7, 7, 2, 4, 5, 2, 3, 4, 3, 9, 8, 3, 7, 9, 5, 9, 3, 3, 9, 5, 5, 6, 4, 9, 5, 5, 1, 5, 5, 6, 9, 3, 8, 0, 6, 1, 6, 7, 7, 3, 6, 0, 7, 7, 6, 5, 2, 4, 4, 9, 4, 3, 0, 8, 7, 3, 6, 3, 9, 6, 1, 3, 0, 6, 7, 8, 1, 7, 3, 9, 8, 7, 5, 7, 9, 6, 3, 8, 7, 9, 8, 1, 4, 0, 5, 6, 3, 8, 5, 6, 7, 9, 7, 1, 0, 4, 7, 6, 8, 7, 5, 9, 8, 5, 2, 2, 7, 3, 7, 2, 7, 5, 6, 4, 1, 5, 1, 1, 7, 3, 7, 2, 7, 2, 4, 9, 2, 2, 7, 4, 0, 5, 4, 0, 0, 9, 9, 1, 8, 8, 4, 7, 7, 0, 9, 1, 1, 2, 1, 6, 1, 6, 6, 2, 3, 8, 3, 2, 9, 7, 1, 4, 4, 6, 3, 4, 9, 3, 4, 9, 8, 2, 1, 5, 4, 8, 3, 1, 2, 9, 6, 7, 7, 8, 9, 0, 9, 4, 0, 7, 8, 1, 3, 0, 7, 2, 3, 7, 4, 6, 3, 2, 1, 7, 1, 4, 7, 3, 9, 7, 3, 9, 8, 9, 1, 0, 8, 1, 8, 5, 9, 7, 4, 9, 9, 9, 9, 6, 3, 0, 4, 3, 4, 9, 3, 9, 6, 9, 2, 5, 4, 8, 2, 4, 6, 9, 6, 8, 9, 9, 5, 8, 4, 5, 6, 4, 9, 4, 4, 1, 9, 9, 0, 9, 4, 2, 4, 8, 2, 9, 8, 0, 0, 5, 1, 8, 5, 3, 9, 5, 7, 8, 0, 4, 4, 6, 8, 0, 1, 8, 7, 2, 9, 2, 5, 9, 3, 7, 0, 6, 0, 9, 4, 5, 8, 4, 5, 2, 8, 5, 5, 7, 2, 3, 2, 1, 7, 4, 1, 5, 3, 4, 0, 2, 5, 7, 8, 8, 7, 5, 2, 5, 0, 4, 0, 8, 6, 7, 0, 2, 7, 2, 4, 7, 8, 5, 3, 6, 9, 3, 9, 1, 4, 7, 2, 7, 8, 6, 5, 3, 2, 5, 1, 7, 9, 8, 2, 5, 6, 5, 9, 1, 8, 8, 5, 8, 0, 9, 9, 4, 6, 7, 8, 3, 7, 5, 7, 2, 7, 8, 6, 3, 1, 4, 8, 2, 9, 5, 1, 5, 8, 4, 2, 9, 1, 9, 8, 4, 3, 2, 0, 2, 9, 2, 1, 5, 9, 9, 1, 2, 4, 0, 3, 7, 3, 0, 3, 1, 7, 8, 4, 2, 2, 6, 8, 3, 2, 8, 7, 7, 0, 7, 1, 0, 7, 3, 6, 5, 8, 8, 2, 2, 7, 3, 2, 4, 4, 9, 6, 8, 6, 3, 5, 2, 2, 8, 6, 4, 4, 2, 5, 6, 8, 0, 5, 4, 9, 4, 1, 9, 6, 4, 5, 2, 6, 2, 1, 8, 5, 0, 2, 6, 7, 6, 0, 5, 2, 1, 2, 5, 6, 9, 4, 0, 1, 1, 2, 3, 3, 4, 4, 5, 4, 3, 3, 8, 8, 4, 0, 3, 2, 1, 8, 9, 7, 1, 2, 7, 9, 4, 2, 3, 1, 7, 9, 8, 9, 0, 0, 1, 4, 5, 6, 4, 4, 9, 2, 1, 6, 4, 1, 4, 3, 8, 5, 1, 1, 2, 8, 3, 8, 5, 7, 1, 0, 5, 6, 8, 2, 8, 9, 6, 9, 2, 6, 9, 4, 2, 1, 6, 7, 0, 2, 5, 7, 4, 8, 9, 1, 5, 3, 7, 3, 1, 7, 9, 2, 2, 4, 0, 7, 3, 2, 3, 5, 8, 2, 3, 6, 9, 6, 7, 4, 7, 3, 5, 1, 1, 4, 7, 0, 0, 6, 3, 0, 9, 7, 9, 5, 2, 9, 7, 6, 2, 1, 1, 6, 0, 2, 7, 3, 6, 9, 9, 4, 6, 6, 6, 8, 5, 0, 0, 2, 5, 6, 2, 2, 4, 0, 9, 1, 1, 5, 9, 9, 8, 4, 7, 0, 9, 1, 6, 7, 1, 9, 3, 3, 9, 2, 0, 8, 6, 9, 9, 1, 0, 8, 0, 7, 3, 5, 6, 8, 7, 0, 1, 4, 6, 9, 4, 7, 0, 9, 6, 7, 3, 4, 5, 2, 6, 7, 7, 1, 6, 5, 7, 9, 7, 7, 9, 6, 9, 7, 7, 4, 8, 0, 0, 4, 1, 2, 0, 4, 0, 1, 4, 4, 9, 3, 0, 2, 1, 6, 6, 6, 5, 8, 2, 5, 4, 5, 8, 4, 5, 9, 8, 0, 0, 3, 6, 1, 5, 6, 7, 4, 0, 0, 7, 6, 5, 5, 8, 7, 8, 5, 0, 1, 9, 5, 0, 2, 7, 8, 5, 4, 9, 6, 1, 2, 4, 3, 1, 3, 9, 6, 6, 5, 9, 4, 2, 3, 8, 3, 3, 3, 0, 5, 0, 0, 7, 7, 4, 7, 0, 3, 3, 9, 6, 6, 9, 3, 0, 8, 5, 5, 2, 2, 2, 7, 4, 7, 6, 4, 3, 5, 9, 9, 8, 1, 5, 6, 7, 9, 5, 2, 7, 0, 6, 7, 9, 6, 7, 7, 7, 6, 6, 3, 1, 5, 7, 9, 3, 0, 0, 4, 8, 3, 2, 7, 7, 1, 1, 8, 3, 0, 8, 4, 6, 8, 8, 5, 5, 5, 3, 3, 5, 1, 6, 7, 6, 5, 2, 0, 1, 1, 6, 6, 4, 1, 2, 7, 3, 5, 7, 9, 4, 3, 9, 7, 1, 8, 9, 3, 1, 8, 7, 5, 4, 1, 7, 0, 1, 7, 6, 2, 6, 2, 6, 3, 7, 3, 3, 1, 6, 6, 8, 5, 8, 2, 5, 0, 6, 3, 8, 3, 7, 1, 9, 8, 1, 5, 2, 0, 3, 4, 6, 9, 4, 7, 1, 1, 6, 7, 2, 6, 3, 7, 8, 6, 8, 8, 1, 9, 5, 5, 7, 4, 6, 2, 2, 3, 4, 6, 1, 2, 9, 6, 7, 3, 9, 9, 4, 2, 1, 6, 9, 3, 9, 5, 6, 1, 9, 8, 2, 2, 5, 8, 4, 9, 4, 8, 2, 0, 5, 2, 9, 0, 6, 9, 2, 3, 2, 5, 8, 0, 9, 8, 4, 3, 2, 1, 9, 5, 0, 1, 4, 0, 5, 4, 2, 6, 2, 8, 2, 4, 2, 1, 1, 0, 7, 3, 0, 6, 6, 5, 0, 0, 2, 2, 8, 9, 2, 2, 4, 9, 3, 4, 2, 6, 0, 6, 0, 0, 5, 4, 5, 6, 3, 0, 1, 5, 5, 6, 1, 5, 0, 8, 9, 6, 9, 6, 6, 5, 1, 7, 5, 3, 2, 5, 3, 1, 4, 7, 7, 7, 3, 8, 5, 0, 8, 7, 5, 3, 3, 5, 8, 0, 4, 4, 6, 3, 8, 2, 7, 1, 5, 2, 4, 1, 5, 9, 0, 7, 3, 0, 6, 3, 1, 2, 2, 3, 4, 2, 7, 0, 9, 6, 9, 7, 3, 8, 6, 2, 1, 4, 4, 9, 5, 1, 2, 5, 8, 5, 8, 4, 1, 5, 5, 9, 6, 1, 9, 1, 6, 1, 7, 9, 0, 8, 9, 5, 2, 4, 4, 4, 4, 8, 0, 9, 0, 4, 6, 7, 9, 1, 0, 0, 6, 2, 2, 0, 8, 6, 2, 6, 7, 4, 4, 6, 7, 4, 4, 3, 5, 6, 5, 4, 4, 7, 5, 2, 6, 6, 7, 4, 4, 5, 3, 1, 3, 5, 8, 1, 0, 3, 5, 8, 4, 5, 8, 8, 0, 5, 7, 9, 0, 8, 9, 6, 9, 0, 6, 9, 7, 9, 2, 3, 3, 7, 4, 0, 3, 6, 8, 1, 5, 1, 6, 6, 3, 7, 3, 6, 4, 6, 3, 4, 8, 5, 8, 4, 4, 9, 1, 5, 0, 7, 5, 0, 4, 7, 9, 8, 3, 4, 1, 5, 7, 0, 4, 0, 0, 8, 3, 2, 2, 3, 4, 5, 9, 3, 7, 3, 6, 9, 2, 2, 3, 6, 1, 7, 7, 0, 4, 7, 3, 3, 8, 8, 4, 4, 0, 3, 0, 4, 1, 7, 8, 9, 2, 7, 3, 2, 6, 3, 0, 3, 4, 8, 2, 5, 1, 3, 1, 0, 8, 4, 6, 7, 8, 4, 5, 9, 3, 7, 6, 7, 0, 4, 4, 1, 0, 4, 1, 6, 2, 0, 4, 3, 7, 7, 0, 6, 4, 1, 7, 9, 5, 8, 1, 8, 3, 5, 5, 2, 1, 6, 1, 0, 0, 5, 7, 3, 9, 0, 7, 5, 7, 6, 4, 0, 8, 4, 2, 4, 0, 2, 5, 6, 8, 0, 1, 8, 0, 3, 7, 7, 9, 2, 7, 0, 3, 1, 6, 5, 6, 4, 6, 0, 7, 8, 6, 3, 6, 3, 4, 6, 8, 7, 7, 4, 5, 8, 6, 1, 1, 2, 6, 2, 5, 6, 6, 1, 6, 5, 1, 3, 1, 9, 2, 9, 6, 9, 5, 2, 5, 1, 0, 8, 7, 2, 2, 0, 4, 6, 4, 2, 8, 5, 3, 0, 5, 8, 2, 6, 6, 1, 5, 0, 5, 3, 0, 8, 5, 5, 6, 1, 2, 7, 4, 6, 5, 5, 7, 8, 3, 6, 6, 9, 4, 2, 3, 9, 6, 2, 3, 2, 3, 8, 4, 2, 0, 8, 4, 5, 4, 1, 5, 9, 8, 4, 7, 5, 1, 8, 2, 1, 8, 2, 2, 6, 2, 9, 6, 8, 0, 0, 5, 8, 1, 0, 4, 1, 8, 5, 0, 3, 8, 7, 7, 6, 9, 9, 3, 9, 9, 0, 0, 9, 8, 3, 8, 0, 9, 4, 6, 2, 5, 1, 9, 2, 5, 8, 1, 9, 6, 2, 6, 8, 3, 5, 5, 4, 2, 1, 0, 2, 3, 0, 9, 3, 7, 2, 6, 9, 3, 1, 2, 7, 7, 3, 1, 6, 2, 5, 9, 5, 9, 3, 1, 7, 5, 8, 0, 2, 0, 9, 2, 1, 8, 9, 0, 3, 8, 1, 0, 7, 5, 7, 4, 7, 3, 4, 4, 1, 1, 6, 5, 3, 6, 9, 3, 4, 9, 3, 8, 7, 8, 3, 4, 7, 7, 0, 8, 9, 6, 8, 7, 9, 1, 2, 1, 0, 5, 9, 9, 0, 2, 7, 4, 7, 4, 9, 9, 3, 1, 0, 3, 0, 7, 7, 4, 8, 7, 8, 3, 0, 2, 8, 1, 7, 2, 7, 2, 0, 5, 0, 3, 8, 1, 8, 2, 4, 2, 9, 1, 0, 7, 6, 1, 9, 9, 2, 0, 6, 4, 8, 0, 0, 0, 6, 1, 4, 3, 0, 1, 2, 9, 6, 0, 4, 1, 0, 8, 5, 5, 5, 3, 2, 9, 6, 6, 6, 1, 0, 1, 5, 4, 2, 9, 9, 2, 7, 6, 4, 9, 8, 8, 5, 6, 8, 0, 3, 6, 8, 4, 8, 8, 9, 2, 7, 9, 3, 3, 5, 1, 9, 8, 6, 8, 7, 5, 8, 4, 2, 3, 9, 5, 1, 0, 0, 1, 2, 2, 6, 3, 8, 0, 4, 0, 2, 7, 0, 6, 9, 7, 8, 8, 1, 5, 4, 2, 0, 7, 3, 3, 3, 4, 1, 4, 8, 2, 3, 1, 7, 5, 2, 5, 9, 8, 4, 4, 4, 9, 7, 9, 5, 7, 6, 7, 9, 3, 0, 5, 6, 2, 8, 6, 5, 8, 9, 0, 9, 8, 7, 5, 5, 3, 5, 5, 5, 9, 3, 1, 8, 3, 1, 7, 2, 0, 2, 4, 8, 8, 7, 6, 6, 5, 9, 2, 5, 3, 8, 8, 4, 8, 0, 2, 6, 3, 8, 6, 3, 8, 3, 3, 2, 5, 0, 0, 8, 6, 8, 3, 5, 2, 1, 5, 5, 8, 6, 2, 5, 1, 7, 4, 2, 0, 6, 2, 6, 9, 5, 2, 2, 9, 5, 9, 0, 4, 6, 6, 1, 9, 8, 6, 1, 7, 8, 6, 3, 0, 6, 9, 3, 2, 1, 9, 5, 9, 0, 5, 2, 4, 9, 5, 2, 3, 0, 9, 1, 2, 1, 1, 1, 6, 0, 7, 8, 5, 2, 7, 5, 2, 8, 6, 4, 1, 6, 2, 4, 3, 2, 8, 5, 3, 8, 9, 1, 4, 0, 4, 2, 4, 6, 3, 0, 3, 5, 6, 1, 0, 2, 0, 4, 0, 9, 7, 4, 9, 7, 3, 3, 6, 8, 6, 2, 1, 6, 4, 6, 3, 7, 7, 1, 3, 3, 9, 9, 2, 7, 0, 5, 4, 2, 4, 2, 2, 1, 9, 5, 4, 4, 7, 4, 7, 4, 6, 9, 8, 8, 1, 9, 7, 7, 7, 7, 0, 7, 0, 5, 1, 7, 3, 1, 5, 8, 3, 0, 2, 7, 5, 2, 7, 8, 8, 8, 0, 9, 4, 9, 9, 8, 0, 5, 0, 4, 7, 8, 7, 6, 7, 9, 2, 6, 3, 1, 2, 1, 1, 1, 7, 6, 6, 0, 9, 4, 3, 8, 4, 9, 2, 6, 7, 1, 2, 7, 0, 6, 0, 1, 6, 1, 6, 7, 9, 7, 6, 0, 6, 0, 8, 7, 7, 1, 9, 2, 4, 8, 5, 8, 1, 8, 3, 1, 5, 6, 9, 2, 8, 6, 6, 2, 3, 6, 6, 3, 6, 8, 7, 4, 4, 6, 9, 8, 9, 4, 6, 2, 3, 4, 1, 3, 6, 1, 3, 0, 3, 3, 6, 0, 5, 6, 2, 9, 3, 8, 3, 4, 2, 9, 0, 1, 3, 9, 6, 6, 6, 7, 3, 9, 2, 4, 7, 7, 4, 2, 8, 5, 7, 7, 2, 2, 3, 7, 4, 2, 8, 2, 0, 1, 0, 5, 2, 4, 9, 8, 2, 3, 5, 1, 3, 2, 8, 4, 5, 0, 9, 3, 2, 9, 0, 7, 7, 1, 0, 4, 0, 7, 0, 5, 5, 9, 0, 5, 8, 6, 5, 0, 1, 4, 2, 8, 2, 8, 0, 0, 1, 0, 2, 9, 6, 0, 8, 8, 4, 6, 6, 4, 5, 0, 3, 5, 9, 4, 3, 1, 5, 7, 2, 3, 6, 5, 6, 4, 3, 7, 9, 0, 5, 6, 6, 2, 5, 8, 0, 1, 8, 9, 2, 7, 7, 7, 1, 3, 7, 9, 1, 9, 0, 2, 0, 4, 8, 4, 4, 7, 3, 8, 2, 1, 0, 3, 3, 6, 3, 8, 9, 9, 0, 1, 8, 4, 0, 7, 3, 4, 4, 0, 2, 5, 1, 8, 5, 1, 1, 9, 8, 7, 5, 2, 0, 7, 4, 7, 0, 8, 4, 0, 9, 6, 5, 5, 9, 6, 3, 7, 5, 8, 2, 8, 8, 5, 8, 6, 3, 0, 0, 6, 0, 3, 0, 5, 8, 8, 4, 9, 0, 0, 9, 9, 1, 0, 9, 5, 8, 8, 4, 2, 6, 9, 3, 0, 9, 5, 3, 2, 3, 0, 4, 6, 4, 0, 8, 1, 7, 8, 5, 8, 8, 1, 7, 5, 6, 6, 8, 3, 9, 5, 6, 6, 8, 3, 1, 6, 8, 3, 9, 9, 6, 9, 7, 9, 7, 8, 3, 5, 2, 1, 6, 9, 8, 1, 4, 7, 2, 9, 5, 0, 5, 1, 1, 7, 5, 6, 9, 0, 6, 8, 4, 1, 0, 9, 3, 6, 5, 2, 2, 7, 4, 5, 9, 3, 0, 5, 3, 6, 1, 2, 6, 3, 8, 2, 7, 5, 2, 8, 9, 1, 5, 3, 1, 5, 3, 0, 7, 9, 0, 0, 1, 0, 8, 0, 1, 8, 3, 6, 5, 5, 4, 2, 6, 8, 1, 2, 9, 8, 9, 5, 4, 1, 1, 4, 4, 5, 5, 2, 5, 0, 6, 2, 3, 0, 1, 9, 3, 2, 1, 8, 3, 0, 0, 6, 4, 1, 1, 2, 7, 5, 8, 3, 8, 5, 4, 6, 2, 4, 7, 2, 2, 5, 3, 9, 3, 5, 7, 5, 0, 3, 9, 1, 9, 9, 8, 8, 2, 1, 0, 8, 8, 8, 4, 7, 0, 4, 2, 2, 3, 4, 3, 1, 2, 8, 9, 2, 7, 2, 8, 0, 6, 2, 0, 6, 0, 3, 6, 6, 4, 4, 4, 0, 8, 4, 8, 4, 8, 6, 4, 4, 6, 6, 9, 4, 2, 6, 9, 5, 3, 7, 9, 0, 0, 5, 0, 4, 0, 9, 6, 1, 4, 1, 2, 2, 7, 4, 7, 1, 4, 4, 5, 2, 5, 7, 1, 0, 7, 0, 5, 7, 0, 6, 3, 0, 1, 3, 0, 4, 5, 9, 4, 0, 8, 1, 1, 2, 2, 3, 4, 3, 6, 8, 9, 4, 5, 6, 2, 2, 4, 2, 8, 2, 7, 1, 6, 4, 7, 8, 7, 6, 9, 9, 7, 2, 6, 5, 3, 5, 9, 4, 4, 2, 9, 2, 0, 4, 7, 5, 2, 0, 9, 4, 7, 9, 2, 8, 6, 4, 5, 9, 7, 7, 6, 4, 3, 4, 8, 1, 3, 6, 7, 1, 9, 9, 5, 1, 8, 3, 9, 9, 9, 4, 6, 8, 7, 6, 3, 1, 1, 7, 2, 2, 4, 3, 4, 1, 0, 6, 4, 7, 3, 3, 6, 4, 3, 8, 3, 2, 7, 0, 7, 7, 4, 3, 1, 8, 4, 2, 1, 4, 2, 1, 2, 6, 4, 4, 2, 5, 4, 3, 3, 2, 1, 5, 2, 1, 2, 2, 6, 9, 2, 1, 6, 7, 4, 5, 1, 7, 2, 6, 7, 9, 9, 0, 4, 8, 9, 7, 5, 3, 9, 3, 7, 8, 9, 5, 5, 9, 0, 5, 6, 5, 3, 9, 2, 2, 6, 6, 5, 8, 8, 3, 8, 7, 1, 8, 1, 1, 5, 7, 4, 9, 8, 0, 6, 7, 4, 1, 6, 9, 9, 7, 6, 7, 7, 3, 3, 8, 6, 1, 6, 5, 3, 4, 9, 5, 1, 5, 9, 0, 9, 5, 6, 8, 9, 5, 6, 9, 6, 3, 4, 6, 1, 5, 3, 9, 6, 5, 0, 0, 0, 8, 9, 5, 2, 5, 7, 6, 6, 1, 5, 4, 9, 7, 1, 5, 1, 6, 4, 3, 8, 2, 5, 7, 9, 3, 9, 7, 0, 9, 1, 1, 9, 1, 8, 3, 7, 7, 6, 2, 4, 4, 3, 4, 5, 1, 9, 1, 4, 3, 2, 6, 8, 5, 5, 7, 3, 2, 4, 7, 3, 1, 5, 8, 2, 0, 1, 2, 5, 1, 5, 2, 2, 4, 0, 7, 4, 2, 0, 6, 5, 7, 8, 9, 4, 8, 5, 5, 7, 3, 3, 1, 6, 9, 9, 5, 6, 6, 0, 2, 2, 0, 0, 6, 1, 8, 7, 1, 4, 9, 3, 8, 4, 7, 7, 2, 1, 3, 1, 5, 0, 8, 4, 5, 8, 1, 3, 3, 5, 6, 3, 8, 8, 2, 1, 3, 5, 6, 5, 8, 2, 8, 8, 8, 9, 2, 4, 4, 2, 4, 7, 5, 1, 0, 8, 2, 2, 1, 3, 3, 6, 9, 2, 8, 8, 4, 2, 1, 0, 3, 1, 3, 9, 7, 9, 2, 9, 8, 4, 4, 4, 8, 4, 0, 0, 5, 6, 4, 9, 7, 5, 5, 4, 9, 7, 0, 9, 8, 3, 0, 6, 0, 9, 7, 8, 0, 6, 1, 5, 8, 8, 8, 0, 8, 2, 4, 5, 5, 8, 0, 6, 4, 6, 8, 9, 4, 8, 8, 7, 4, 0, 6, 9, 4, 0, 9, 8, 1, 9, 1, 1, 9, 2, 6, 7, 0, 4, 7, 0, 0, 7, 2, 1, 4, 0, 8, 8, 9, 4, 4, 9, 9, 5, 5, 7, 9, 8, 4, 7, 9, 7, 6, 3, 4, 1, 9, 5, 4, 7, 7, 7, 3, 9, 0, 6, 5, 9, 4, 7, 5, 7, 3, 7, 6, 4, 1, 7, 1, 6, 6, 1, 7, 6, 3, 8, 6, 9, 8, 2, 0, 1, 5, 3, 1, 6, 4, 0, 3, 1, 1, 5, 9, 5, 1, 5, 2, 9, 4, 5, 6, 8, 4, 1, 6, 9, 7, 0, 5, 0, 9, 3, 0, 0, 3, 4, 2, 7, 2, 3, 8, 7, 7, 8, 6, 3, 2, 8, 1, 3, 6, 4, 3, 9, 2, 1, 9, 7, 1, 3, 0, 6, 7, 7, 1, 5, 4, 3, 3, 7, 5, 4, 3, 5, 2, 2, 5, 1, 1, 4, 3, 3, 7, 1, 2, 9, 3, 6, 7, 5, 5, 5, 4, 8, 1, 3, 2, 1, 3, 9, 9, 1, 8, 1, 3, 6, 9, 2, 6, 3, 8, 5, 7, 2, 2, 2, 1, 3, 5, 0, 3, 1, 4, 7, 7, 5, 1, 0, 3, 1, 0, 5, 8, 6, 7, 9, 8, 5, 0, 1, 8, 0, 0, 2, 9, 0, 4, 3, 3, 2, 6, 9, 5, 8, 4, 6, 1, 1, 0, 3, 2, 5, 8, 3, 1, 6, 5, 2, 5, 5, 1, 8, 1, 6, 6, 5, 0, 9, 7, 8, 3, 9, 4, 9, 9, 4, 2, 8, 9, 1, 6, 7, 9, 3, 1, 4, 5, 9, 0, 7, 0, 3, 5, 6, 1, 1, 7, 1, 1, 9, 2, 9, 5, 2, 5, 1, 7, 7, 0, 4, 7, 1, 3, 5, 8, 0, 0, 7, 8, 0, 6, 7, 3, 0, 3, 9, 9, 8, 6, 3, 4, 7, 0, 6, 1, 1, 1, 7, 6, 5, 4, 2, 9, 4, 3, 5, 2, 9, 6, 6, 6, 9, 2, 9, 8, 9, 4, 7, 7, 9, 8, 8, 6, 1, 1, 2, 3, 4, 9, 4, 9, 6, 8, 2, 8, 0, 9, 5, 8, 2, 7, 5, 7, 2, 3, 0, 8, 9, 2, 5, 2, 7, 5, 5, 6, 3, 3, 9, 0, 3, 0, 7, 5, 0, 2, 6, 2, 0, 0, 8, 2, 8, 3, 9, 3, 7, 1, 2, 4, 0, 7, 7, 4, 0, 9, 2, 7, 2, 4, 2, 6, 2, 6, 1, 4, 7, 5, 9, 3, 2, 8, 0, 6, 9, 1, 4, 8, 8, 4, 3, 9, 7, 4, 0, 7, 6, 8, 1, 1, 2, 4, 3, 0, 2, 4, 4, 2, 7, 0, 2, 8, 9, 7, 6, 5, 6, 1, 5, 3, 2, 1, 5, 7, 5, 8, 4, 2, 1, 6, 1, 7, 2, 1, 7, 5, 1, 2, 6, 4, 2, 6, 4, 5, 2, 2, 8, 5, 7, 4, 3, 7, 9, 6, 5, 2, 8, 2, 4, 3, 7, 5, 4, 0, 2, 7, 0, 9, 5, 1, 7, 8, 3, 3, 1, 4, 6, 4, 2, 1, 3, 7, 4, 0, 6, 6, 4, 5, 3, 2, 9, 9, 4, 3, 7, 4, 0, 8, 9, 1, 9, 9, 7, 0, 3, 8, 3, 4, 7, 6, 1, 7, 9, 6, 4, 8, 3, 7, 7, 3, 6, 1, 5, 3, 7, 8, 1, 1, 2, 9, 0, 5, 1, 1, 1, 4, 0, 4, 8, 1, 2, 6, 2, 9, 5, 1, 5, 4, 4, 0, 7, 3, 6, 9, 9, 9, 1, 0, 1, 4, 7, 0, 9, 0, 7, 3, 1, 3, 9, 9, 5, 1, 0, 9, 3, 3, 9, 2, 4, 9, 7, 3, 0, 6, 1, 7, 7, 1, 0, 3, 1, 7, 1, 5, 4, 7, 2, 6, 8, 4, 8, 1, 3, 3, 5, 2, 8, 6, 5, 2, 5, 9, 6, 9, 9, 0, 7, 0, 3, 5, 2, 2, 7, 9, 8, 4, 8, 7, 6, 6, 3, 2, 5, 3, 9, 0, 5, 2, 0, 8, 9, 6, 2, 1, 4, 1, 4, 8, 7, 3, 8, 3, 0, 4, 6, 0, 6, 7, 3, 4, 6, 8, 0, 7, 0, 3, 1, 3, 0, 4, 4, 0, 1, 8, 6, 5, 3, 6, 5, 1, 9, 4, 9, 3, 3, 5, 3, 1, 7, 1, 1, 5, 7, 0, 9, 0, 7, 7, 8, 3, 9, 1, 6, 0, 5, 5, 1, 8, 8, 4, 6, 5, 6, 2, 5, 5, 1, 8, 8, 8, 1, 0, 1, 0, 7, 0, 0, 2, 1, 2, 1, 1, 3, 4, 6, 3, 8, 8, 2, 4, 0, 3, 6, 8, 8, 2, 5, 8, 5, 4, 8, 4, 9, 3, 8, 3, 2, 1, 8, 9, 4, 0, 4, 8, 3, 7, 0, 9, 6, 7, 3, 7, 2, 1, 9, 8, 7, 5, 9, 7, 3, 4, 7, 6, 9, 3, 4, 7, 1, 0, 6, 2, 7, 4, 7, 5, 2, 0, 3, 7, 3, 4, 6, 1, 8, 0, 3, 0, 8, 9, 1, 3, 0, 5, 1, 0, 2, 6, 8, 0, 2, 5, 0, 2, 9, 2, 9, 4, 9, 9, 5, 1, 4, 7, 7, 8, 8, 6, 5, 4, 5, 1, 9, 6, 5, 2, 5, 2, 6, 7, 3, 0, 1, 9, 2, 3, 8, 8, 0, 5, 6, 9, 9, 0, 0, 6, 6, 9, 9, 4, 7, 1, 4, 1, 4, 3, 7, 1, 0, 1, 4, 4, 9, 0, 6, 6, 1, 8, 8, 7, 6, 3, 1, 0, 9, 8, 4, 1, 0, 4, 2, 8, 9, 1, 1, 8, 5, 2, 3, 0, 5, 0, 2, 0, 4, 8, 1, 3, 2, 6, 1, 8, 5, 9, 1, 8, 8, 2, 2, 1, 4, 4, 9, 4, 9, 7, 9, 0, 3, 1, 8, 1, 7, 1, 1, 5, 9, 8, 9, 3, 9, 2, 6, 5, 3, 4, 2, 0, 9, 5, 6, 1, 0, 2, 7, 1, 4, 0, 4, 0, 1, 9, 7, 0, 3, 0, 6, 9, 3, 1, 1, 1, 1, 2, 4, 0, 3, 1, 0, 6, 7, 7, 8, 3, 3, 4, 9, 5, 9, 0, 1, 7, 5, 7, 6, 7, 8, 2, 8, 3, 5, 8, 6, 8, 5, 5, 4, 7, 2, 2, 4, 6, 4, 0, 0, 0, 2, 3, 5, 1, 8, 8, 4, 2, 8, 9, 8, 6, 2, 3, 0, 1, 0, 4, 8, 9, 2, 4, 3, 5, 9, 2, 0, 6, 1, 3, 7, 2, 8, 2, 3, 0, 0, 1, 0, 9, 5, 9, 5, 8, 7, 2, 8, 0, 0, 2, 7, 4, 8, 4, 8, 3, 3, 6, 2, 0, 9, 3, 5, 3, 3, 3, 7, 9, 7, 5, 9, 9, 2, 3, 7, 6, 6, 7, 8, 3, 9, 3, 1, 2, 3, 5, 1, 4, 1, 5, 5, 4, 1, 7, 4, 5, 6, 6, 6, 3, 7, 1, 7, 3, 3, 0, 8, 3, 1, 1, 7, 4, 7, 6, 1, 2, 9, 6, 3, 2, 0, 9, 8, 1, 4, 8, 7, 3, 0, 7, 4, 8, 4, 1, 6, 8, 5, 5, 4, 5, 7, 1, 0, 1, 4, 5, 3, 7, 0, 5, 5, 3, 5, 2, 1, 5, 5, 5, 6, 3, 9, 2, 9, 5, 0, 9, 2, 4, 5, 0, 3, 9, 1, 5, 6, 8, 4, 2, 2, 4, 8, 2, 4, 3, 1, 3, 3, 2, 7, 5, 5, 4, 8, 7, 7, 4, 7, 6, 8, 5, 9, 3, 5, 1, 9, 0, 1, 9, 2, 0, 4, 8, 5, 9, 0, 3, 7, 7, 0, 5, 4, 8, 8, 2, 6, 1, 0, 5, 5, 3, 5, 8, 4, 6, 8, 9, 4, 0, 4, 7, 9, 3, 6, 8, 2, 6, 3, 7, 1, 0, 0, 1, 1, 4, 9, 8, 6, 4, 4, 2, 5, 0, 5, 7, 0, 8, 1, 1, 3, 5, 1, 0, 7, 6, 3, 5, 2, 7, 4, 0, 4, 4, 1, 6, 2, 8, 6, 8, 8, 3, 7, 5, 7, 4, 1, 6, 5, 8, 9, 8, 1, 8, 0, 0, 4, 5, 3, 2, 5, 8, 7, 3, 8, 2, 6, 4, 5, 7, 0, 2, 2, 4, 0, 4, 5, 4, 4, 0, 4, 1, 3, 6, 7, 1, 3, 9, 1, 6, 7, 7, 4, 0, 8, 8, 2, 3, 2, 3, 3, 4, 4, 9, 9, 9, 2, 1, 8, 5, 7, 2, 5, 8, 9, 4, 8, 2, 1, 5, 4, 1, 0, 5, 5, 7, 8, 4, 0, 0, 6, 2, 6, 2, 6, 9, 7, 5, 6, 2, 9, 6, 7, 1, 7, 4, 7, 5, 3, 2, 4, 4, 2, 8, 8, 7, 3, 5, 8, 7, 1, 9, 4, 3, 0, 6, 9, 1, 6, 6, 8, 1, 8, 9, 6, 1, 0, 0, 7, 9, 2, 2, 8, 6, 6, 9, 3, 0, 5, 8, 1, 4, 9, 3, 7, 9, 7, 3, 2, 1, 7, 8, 2, 4, 7, 7, 6, 8, 1, 8, 6, 0, 7, 0, 3, 3, 7, 6, 8, 4, 5, 1, 8, 6, 1, 0, 4, 7, 2, 9, 6, 3, 7, 8, 6, 5, 9, 4, 0, 4, 9, 3, 5, 9, 4, 1, 9, 8, 6, 6, 2, 3, 7, 7, 6, 6, 6, 0, 6, 6, 5, 2, 2, 5, 2, 6, 4, 1, 7, 7, 9, 3, 9, 2, 8, 4, 3, 8, 6, 1, 1, 8, 6, 4, 4, 8, 1, 3, 9, 3, 1, 2, 9, 6, 1, 5, 1, 2, 7, 5, 6, 2, 3, 6, 8, 3, 3, 1, 1, 8, 6, 7, 6, 4, 0, 2, 0, 0, 0, 1, 4, 5, 4, 0, 8, 9, 4, 7, 0, 9, 9, 2, 3, 2, 7, 4, 1, 9, 7, 5, 3, 7, 3, 8, 8, 8, 0, 1, 0, 9, 3, 6, 6, 8, 8, 8, 5, 2, 8, 9, 9, 0, 6, 8, 8, 2, 0, 1, 7, 9, 5, 8, 8, 7, 1, 4, 9, 1, 5, 5, 3, 0, 1, 6, 5, 9, 7, 8, 7, 9, 3, 9, 1, 8, 6, 7, 4, 3, 5, 9, 0, 2, 3, 8, 3, 7, 8, 1, 8, 3, 2, 2, 0, 5, 0, 9, 9, 3, 5, 1, 6, 5, 2, 4, 0, 0, 7, 5, 4, 6, 7, 4, 3, 0, 2, 8, 2, 0, 1, 4, 1, 1, 7, 4, 6, 0, 9, 9, 6, 6, 8, 9, 3, 6, 9, 2, 4, 6, 7, 3, 8, 4, 0, 4, 2, 2, 2, 6, 7, 5, 1, 2, 3, 5, 7, 4, 6, 6, 4, 2, 8, 7, 9, 2, 1, 8, 4, 7, 0, 8, 5, 0, 2, 1, 6, 5, 0, 7, 0, 5, 4, 3, 0, 1, 2, 4, 7, 9, 8, 1, 8, 2, 0, 3, 2, 8, 4, 7, 9, 1, 3, 2, 2, 2, 8, 8, 8, 3, 4, 5, 7, 2, 7, 4, 4, 3, 7, 2, 3, 9, 1, 7, 0, 0, 0, 1, 6, 1, 2, 6, 6, 6, 5, 6, 9, 2, 2, 8, 5, 2, 8, 9, 0, 4, 6, 2, 7, 4, 0, 7, 6, 3, 5, 1, 6, 8, 1, 8, 0, 2, 1, 7, 6, 5, 1, 5, 2, 7, 0, 4, 7, 9, 1, 4, 3, 6, 7, 2, 5, 5, 5, 7, 5, 8, 2, 3, 2, 8, 9, 1, 9, 9, 0, 2, 6, 4, 5, 1, 8, 6, 7, 3, 1, 6, 4, 9, 0, 7, 5, 0, 6, 6, 3, 9, 5, 4, 7, 8, 3, 9, 4, 7, 1, 9, 4, 0, 4, 5, 5, 1, 9, 9, 4, 5, 9, 6, 1, 4, 0, 3, 8, 5, 4, 3, 7, 5, 0, 6, 9, 5, 4, 3, 0, 6, 7, 3, 8, 1, 2, 3, 3, 4, 5, 1, 3, 1, 0, 9, 8, 5, 3, 2, 9, 5, 4, 7, 9, 8, 0, 0, 4, 2, 4, 5, 1, 9, 9, 0, 8, 9, 3, 9, 4, 5, 4, 1, 2, 2, 2, 0, 9, 1, 5, 0, 3, 3, 6, 1, 7, 0, 7, 6, 5, 7, 2, 5, 3, 1, 7, 5, 6, 6, 2, 1, 7, 5, 4, 4, 3, 5, 1, 2, 8, 8, 0, 9, 4, 5, 6, 1, 1, 5, 4, 6, 2, 3, 3, 1, 1, 7, 0, 1, 6, 3, 1, 2, 1, 9, 4, 8, 7, 0, 9, 4, 3, 1, 5, 7, 9, 0, 9, 6, 7, 4, 3, 2, 5, 9, 6, 9, 7, 2, 3, 6, 7, 2, 1, 7, 0, 5, 1, 0, 3, 8, 5, 2, 0, 7, 8, 9, 7, 7, 5, 2, 1, 9, 7, 2, 2, 5, 9, 7, 9, 5, 3, 2, 2, 2, 7, 6, 1, 7, 4, 2, 9, 3, 6, 2, 1, 8, 4, 8, 6, 0, 4, 1, 8, 7, 2, 4, 8, 9, 1, 4, 0, 8, 3, 5, 2, 1, 4, 8, 0, 5, 0, 4, 7, 9, 2, 6, 2, 6, 3, 6, 1, 1, 4, 2, 2, 0, 7, 1, 2, 3, 2, 8, 5, 8, 6, 2, 5, 0, 4, 3, 5, 3, 6, 4, 8, 9, 5, 3, 3, 8, 4, 8, 8, 0, 2, 4, 0, 3, 9, 3, 9, 8, 0, 7, 6, 6, 3, 4, 8, 4, 8, 4, 2, 7, 9, 2, 0, 0, 9, 3, 5, 2, 0, 9, 8, 0, 5, 0, 9, 2, 7, 2, 5, 6, 7, 0, 7, 1, 9, 1, 7, 2, 7, 5, 5, 5, 5, 0, 3, 2, 3, 4, 1, 9, 7, 0, 8, 9, 3, 4, 3, 2, 0, 7, 6, 8, 7, 6, 5, 4, 9, 6, 6, 6, 4, 1, 9, 5, 5, 0, 1, 7, 1, 5, 9, 7, 2, 6, 0, 2, 2, 6, 9, 9, 0, 2, 6, 2, 2, 2, 7, 7, 7, 7, 2, 2, 2, 4, 1, 0, 3, 6, 3, 6, 8, 0, 4, 4, 3, 3, 3, 1, 9, 7, 4, 1, 6, 2, 6, 4, 3, 2, 9, 7, 7, 3, 6, 9, 2, 0, 8, 6, 1, 0, 9, 8, 9, 1, 8, 4, 2, 6, 4, 0, 1, 3, 0, 2, 0, 4, 3, 2, 8, 5, 0, 3, 7, 7, 9, 7, 2, 7, 7, 2, 1, 1, 1, 4, 2, 3, 8, 1, 1, 4, 0, 2, 5, 8, 8, 4, 8, 2, 9, 4, 0, 7, 4, 9, 6, 7, 6, 8, 6, 4, 6, 1, 7, 2, 2, 0, 7, 1, 0, 6, 0, 3, 8, 5, 0, 3, 1, 3, 8, 6, 4, 2, 3, 3, 5, 2, 7, 0, 8, 0, 0, 6, 4, 1, 1, 3, 9, 8, 9, 1, 1, 7, 6, 9, 2, 4, 5, 3, 3, 1, 6, 1, 2, 6, 7, 4, 3, 9, 3, 9, 9, 2, 9, 2, 3, 3, 6, 7, 1, 6, 9, 7, 8, 8, 8, 8, 2, 7, 2, 0, 2, 2, 5, 9, 2, 2, 3, 2, 0, 5, 2, 9, 6, 0, 5, 0, 3, 9, 1, 7, 4, 5, 6, 5, 9, 6, 4, 5, 8, 7, 6, 0, 5, 6, 5, 8, 5, 9, 1, 5, 7, 4, 0, 4, 0, 2, 5, 2, 5, 7, 0, 7, 4, 2, 8, 5, 5, 4, 9, 2, 0, 7, 9, 8, 7, 5, 4, 2, 6, 2, 3, 6, 3, 9, 3, 8, 8, 2, 0, 1, 3, 6, 0, 4, 7, 9, 7, 0, 3, 8, 4, 1, 6, 3, 4, 6, 3, 5, 0, 9, 2, 2, 2, 1, 9, 7, 2, 2, 2, 5, 8, 8, 8, 6, 2, 2, 7, 9, 7, 6, 1, 5, 4, 1, 2, 6, 3, 5, 3, 8, 7, 7, 5, 8, 0, 7, 5, 6, 3, 9, 3, 8, 9, 6, 3, 1, 8, 5, 1, 5, 6, 8, 8, 3, 4, 8, 6, 4, 0, 8, 1, 2, 0, 9, 1, 9, 4, 2, 1, 8, 0, 5, 5, 8, 7, 4, 5, 4, 3, 5, 2, 3, 9, 4, 0, 0, 0, 3, 5, 8, 2, 1, 3, 9, 8, 3, 8, 2, 0, 0, 5, 6, 3, 3, 3, 8, 7, 6, 1, 1, 9, 8, 6, 5, 4, 3, 3, 4, 6, 0, 4, 6, 6, 1, 4, 3, 6, 0, 6, 6, 5, 9, 3, 4, 0, 0, 2, 6, 3, 0, 6, 8, 9, 9, 1, 7, 2, 9, 7, 4, 6, 9, 1, 6, 7, 5, 4, 6, 7, 6, 2, 7, 3, 8, 9, 9, 0, 4, 4, 5, 1, 0, 6, 5, 7, 8, 9, 1, 9, 9, 8, 5, 2, 1, 4, 1, 7, 6, 3, 0, 9, 7, 0, 0, 5, 4, 2, 9, 3, 7, 0, 8, 7, 8, 7, 6, 9, 0, 7, 7, 0, 6, 1, 1, 5, 5, 6, 3, 5, 6, 6, 5, 4, 9, 4, 2, 5, 8, 0, 9, 8, 8, 6, 6, 6, 5, 1, 1, 0, 3, 5, 6, 6, 3, 2, 8, 7, 7, 2, 3, 6, 3, 5, 2, 9, 4, 5, 9, 2, 4, 4, 9, 4, 9, 7, 3, 7, 0, 2, 4, 8, 6, 6, 6, 3, 1, 4, 8, 0, 4, 7, 1, 7, 6, 5, 3, 0, 6, 8, 3, 6, 8, 0, 2, 2, 9, 2, 9, 1, 7, 0, 8, 9, 9, 0, 2, 9, 6, 2, 6, 9, 9, 3, 6, 1, 1, 1, 5, 3, 8, 8, 9, 3, 8, 7, 3, 9, 6, 1, 2, 3, 8, 7, 5, 3, 5, 4, 2, 3, 2, 7, 2, 7, 7, 2, 0, 6, 4, 9, 0, 8, 9, 0, 9, 7, 4, 0, 9, 1, 0, 3, 0, 9, 7, 6, 4, 5, 1, 4, 9, 6, 8, 5, 0, 4, 3, 0, 4, 7, 6, 9, 3, 1, 4, 8, 1, 8, 1, 0, 3, 6, 2, 7, 2, 5, 9, 6, 7, 2, 0, 9, 4, 3, 6, 3, 1, 9, 5, 9, 7, 5, 1, 3, 9, 9, 5, 5, 7, 3, 0, 0, 8, 1, 9, 7, 2, 3, 4, 7, 2, 0, 2, 6, 5, 3, 1, 4, 1, 1, 5, 0, 8, 7, 8, 7, 4, 2, 0, 9, 6, 0, 1, 5, 1, 7, 9, 6, 7, 4, 4, 9, 2, 4, 0, 6, 1, 5, 9, 0, 8, 6, 0, 4, 9, 8, 5, 4, 4, 5, 2, 6, 0, 2, 4, 4, 4, 8, 3, 6, 4, 8, 5, 2, 7, 6, 0, 4, 8, 2, 3, 1, 9, 1, 1, 1, 8, 1, 5, 9, 8, 3, 5, 4, 6, 8, 5, 3, 6, 6, 0, 0, 5, 9, 2, 1, 6, 6, 6, 6, 6, 6, 9, 2, 3, 0, 8, 3, 7, 5, 5, 3, 3, 0, 5, 5, 3, 8, 7, 3, 7, 2, 3, 7, 9, 6, 1, 6, 6, 8, 9, 8, 4, 1, 7, 7, 5, 1, 7, 9, 2, 7, 0, 6, 7, 1, 6, 9, 7, 3, 8, 0, 5, 6, 2, 5, 8, 5, 4, 8, 8, 1, 6, 9, 0, 6, 8, 1, 8, 7, 5, 5, 4, 3, 0, 9, 7, 6, 0, 0, 1, 6, 1, 8, 8, 6, 2, 5, 3, 8, 0, 4, 6, 3, 5, 0, 3, 2, 7, 7, 3, 7, 4, 2, 3, 1, 0, 7, 1, 5, 3, 9, 1, 1, 3, 4, 4, 6, 1, 0, 8, 2, 0, 4, 2, 1, 1, 6, 7, 8, 6, 5, 5, 1, 2, 0, 8, 8, 8, 9, 6, 3, 3, 3, 0, 3, 2, 8, 4, 4, 7, 7, 0, 0, 7, 0, 6, 0, 9, 3, 9, 4, 2, 5, 4, 1, 3, 1, 5, 0, 7, 4, 1, 2, 7, 6, 4, 8, 6, 5, 6, 8, 4, 8, 3, 0, 3, 4, 7, 3, 4, 4, 0, 7, 2, 5, 9, 8, 2, 1, 4, 7, 8, 1, 9, 9, 9, 0, 3, 9, 5, 7, 5, 2, 4, 2, 6, 1, 4, 8, 2, 3, 8, 8, 3, 4, 1, 8, 4, 7, 3, 6, 7, 0, 0, 4, 7, 8, 7, 5, 0, 4, 3, 4, 6, 6, 5, 2, 8, 2, 5, 0, 7, 8, 6, 8, 4, 4, 8, 5, 0, 3, 2, 6, 7, 6, 7, 2, 1, 6, 6, 9, 7, 5, 3, 1, 6, 4, 3, 3, 5, 3, 9, 1, 6, 9, 0, 0, 4, 5, 3, 3, 8, 5, 9, 6, 1, 1, 3, 5, 7, 7, 6, 3, 3, 0, 2, 7, 8, 2, 9, 3, 1, 0, 0, 2, 0, 8, 8, 0, 7, 6, 9, 5, 3, 8, 3, 7, 9, 4, 3, 3, 8, 5, 5, 0, 8, 5, 5, 7, 4, 1, 7, 8, 9, 6, 3, 5, 2, 1, 3, 5, 3, 8, 8, 4, 9, 2, 8, 4, 5, 9, 3, 8, 2, 8, 8, 8, 5, 0, 8, 2, 7, 5, 2, 6, 6, 6, 0, 5, 0, 1, 4, 2, 8, 6, 0, 6, 3, 8, 1, 2, 3, 3, 6, 1, 2, 5, 2, 2, 4, 1, 8, 1, 4, 6, 8, 9, 1, 8, 6, 0, 3, 7, 2, 3, 1, 7, 8, 9, 0, 2, 8, 4, 5, 2, 3, 9, 9, 7, 8, 8, 6, 1, 5, 9, 4, 5, 5, 8, 6, 0, 1, 3, 7, 1, 4, 8, 4, 0, 7, 6, 0, 2, 7, 3, 8, 1, 3, 9, 4, 8, 6, 1, 4, 8, 7, 9, 9, 4, 5, 6, 2, 7, 6, 8, 7, 5, 6, 8, 0, 0, 3, 9, 5, 3, 0, 2, 4, 7, 5, 9, 8, 3, 0, 8, 7, 5, 6, 2, 6, 5, 2, 5, 4, 8, 7, 4, 6, 6, 5, 3, 3, 7, 3, 5, 1, 1, 3, 2, 9, 0, 6, 7, 1, 1, 3, 8, 3, 1, 8, 7, 6, 2, 2, 8, 1, 8, 4, 4, 7, 7, 4, 8, 2, 9, 3, 8, 5, 7, 2, 9, 1, 6, 1, 7, 1, 3, 5, 2, 8, 8, 4, 3, 9, 4, 9, 6, 0, 9, 0, 2, 5, 1, 2, 2, 8, 9, 2, 0, 7, 1, 4, 2, 1, 8, 2, 1, 3, 4, 0, 2, 8, 5, 9, 5, 2, 5, 4, 6, 7, 4, 3, 9, 7, 0, 3, 0, 0, 3, 9, 3, 5, 8, 1, 7, 2, 3, 7, 7, 4, 0, 8, 1, 0, 5, 7, 1, 7, 0, 2, 4, 3, 8, 4, 7, 7, 9, 9, 1, 8, 7, 6, 6, 1, 0, 8, 9, 8, 3, 0, 1, 5, 9, 9, 6, 1, 1, 9, 3, 6, 4, 0, 4, 8, 2, 5, 4, 4, 4, 3, 5, 0, 2, 2, 9, 6, 3, 9, 2, 4, 1, 2, 5, 8, 7, 1, 3, 5, 3, 4, 3, 7, 9, 8, 6, 5, 6, 2, 4, 7, 8, 1, 3, 4, 1, 5, 5, 6, 3, 0, 2, 0, 8, 5, 7, 0, 6, 6, 9, 2, 0, 4, 4, 6, 0, 1, 3, 0, 2, 8, 3, 5, 5, 8, 6, 1, 6, 4, 0, 6, 8, 8, 7, 5, 2, 7, 5, 3, 4, 0, 4, 3, 5, 8, 9, 2, 1, 1, 7, 2, 2, 1, 1, 9, 4, 3, 1, 2, 5, 8, 0, 5, 8, 4, 1, 7, 0, 3, 0, 6, 9, 9, 3, 9, 6, 8, 5, 9, 5, 3, 1, 0, 7, 6, 2, 7, 7, 7, 2, 3, 8, 7, 9, 1, 9, 6, 8, 1, 2, 4, 0, 9, 7, 4, 8, 2, 9, 6, 3, 5, 0, 0, 6, 1, 7, 9, 7, 5, 2, 0, 6, 6, 1, 5, 8, 9, 2, 2, 6, 8, 4, 4, 1, 0, 3, 8, 3, 6, 9, 1, 9, 7, 5, 2, 2, 8, 3, 2, 5, 6, 5, 4, 8, 8, 7, 4, 5, 1, 3, 3, 8, 2, 0, 9, 2, 9, 2, 4, 5, 8, 0, 5, 4, 6, 8, 9, 0, 6, 2, 6, 9, 5, 4, 1, 6, 2, 7, 8, 4, 7, 6, 6, 3, 7, 9, 1, 6, 1, 0, 6, 3, 9, 9, 6, 9, 4, 6, 2, 6, 1, 5, 8, 4, 8, 4, 1, 0, 9, 9, 1, 0, 9, 1, 9, 6, 6, 6, 8, 9, 6, 3, 8, 3, 4, 7, 1, 9, 9, 8, 1, 5, 2, 4, 5, 6, 0, 2, 6, 0, 9, 5, 4, 4, 8, 0, 1, 4, 4, 5, 0, 7, 2, 4, 8, 4, 0, 4, 1, 3, 7, 8, 2, 4, 7, 4, 7, 8, 3, 0, 2, 7, 6, 0, 3, 7, 7, 8, 6, 8, 7, 6, 5, 8, 9, 1, 0, 8, 2, 8, 6, 0, 6, 8, 0, 5, 4, 5, 2, 3, 7, 1, 6, 9, 3, 0, 4, 4, 8, 8, 7, 1, 7, 8, 8, 1, 0, 0, 9, 7, 2, 0, 7, 8, 8, 4, 8, 0, 4, 7, 7, 4, 7, 8, 4, 8, 2, 7, 5, 6, 7, 3, 5, 2, 6, 3, 4, 8, 6, 4, 2, 1, 1, 2, 6, 5, 1, 7, 2, 1, 8, 3, 1, 9, 9, 0, 2, 8, 7, 9, 7, 2, 2, 7, 7, 5, 0, 5, 2, 8, 2, 0, 3, 9, 0, 0, 7, 9, 6, 3, 9, 0, 6, 9, 4, 3, 6, 6, 0, 4, 2, 7, 5, 0, 9, 2, 5, 5, 5, 9, 9, 7, 8, 0, 5, 7, 1, 9, 4, 6, 0, 2, 9, 8, 5, 6, 0, 3, 1, 2, 6, 0, 1, 6, 5, 0, 4, 5, 8, 4, 5, 6, 8, 6, 0, 7, 4, 0, 1, 5, 4, 4, 4, 0, 4, 9, 0, 8, 5, 9, 8, 6, 6, 1, 9, 1, 9, 3, 4, 1, 7, 4, 9, 8, 9, 8, 6, 0, 9, 7, 9, 9, 1, 9, 1, 6, 4, 7, 7, 9, 9, 2, 6, 8, 8, 2, 7, 0, 7, 6, 5, 3, 5, 5, 2, 7, 6, 4, 4, 6, 0, 9, 7, 7, 1, 6, 9, 1, 7, 1, 9, 6, 6, 6, 5, 4, 6, 3, 3, 2, 4, 9, 4, 2, 1, 0, 3, 0, 2, 1, 2, 4, 8, 1, 7, 0, 6, 2, 6, 6, 1, 1, 2, 3, 1, 9, 4, 1, 7, 5, 8, 1, 0, 1, 6, 7, 9, 3, 5, 8, 7, 4, 1, 5, 8, 5, 0, 6, 6, 8, 2, 4, 3, 2, 4, 0, 5, 2, 7, 3, 2, 8, 3, 8, 2, 7, 1, 1, 3, 6, 1, 6, 8, 9, 3, 1, 6, 7, 2, 8, 1, 2, 4, 5, 1, 9, 2, 6, 7, 3, 1, 8, 5, 3, 8, 7, 6, 6, 4, 9, 6, 3, 2, 0, 2, 5, 7, 5, 5, 2, 7, 3, 5, 6, 2, 3, 7, 4, 0, 6, 2, 3, 9, 4, 4, 9, 6, 9, 3, 6, 6, 9, 5, 7, 3, 8, 5, 0, 4, 2, 8, 7, 6, 7, 1, 2, 2, 9, 3, 6, 6, 4, 2, 8, 0, 1, 9, 2, 5, 2, 5, 6, 2, 4, 9, 2, 4, 5, 5, 9, 8, 4, 7, 3, 2, 3, 0, 7, 3, 7, 3, 3, 4, 6, 5, 0, 3, 1, 5, 4, 2, 5, 4, 6, 3, 8, 4, 3, 4, 5, 5, 0, 8, 7, 6, 0, 0, 9, 2, 4, 1, 8, 4, 3, 7, 5, 7, 2, 7, 0, 8, 4, 4, 4, 6, 0, 8, 1, 9, 1, 8, 2, 3, 6, 8, 2, 5, 9, 0, 7, 8, 3, 0, 7, 4, 0, 3, 1, 8, 8, 4, 9, 4, 6, 1, 6, 6, 2, 3, 2, 8, 2, 0, 1, 5, 3, 4, 9, 1, 5, 7, 0, 6, 5, 7, 4, 1, 0, 1, 3, 7, 0, 8, 9, 4, 0, 6, 0, 5, 0, 0, 8, 2, 3, 6, 7, 0, 2, 2, 5, 4, 4, 3, 4, 1, 5, 9, 6, 7, 3, 0, 3, 1, 0, 7, 8, 8, 7, 9, 1, 4, 0, 4, 5, 7, 5, 5, 4, 1, 5, 5, 5, 9, 3, 1, 5, 4, 7, 4, 1, 7, 7, 6, 9, 6, 2, 7, 7, 3, 9, 8, 6, 5, 8, 1, 3, 2, 3, 2, 6, 6, 9, 7, 1, 9, 2, 0, 5, 1, 4, 0, 3, 1, 3, 0, 2, 1, 5, 5, 4, 7, 3, 9, 9, 9, 6, 4, 6, 3, 4, 2, 2, 9, 0, 5, 7, 0, 0, 9, 8, 5, 9, 8, 4, 8, 5, 2, 5, 3, 4, 3, 1, 8, 6, 6, 6, 1, 7, 4, 6, 7, 6, 7, 2, 3, 9, 6, 1, 5, 2, 6, 1, 5, 9, 7, 7, 9, 1, 5, 2, 5, 0, 5, 4, 0, 1, 3, 2, 2, 4, 1, 4, 2, 8, 7, 0, 6, 9, 2, 3, 9, 5, 2, 2, 6, 2, 5, 1, 4, 9, 0, 5, 0, 1, 5, 9, 1, 8, 0, 6, 4, 6, 9, 7, 4, 3, 9, 1, 2, 4, 1, 4, 1, 4, 5, 8, 6, 6, 4, 7, 5, 0, 2, 6, 0, 1, 9, 9, 1, 1, 2, 2, 8, 2, 8, 8, 2, 3, 8, 2, 2, 0, 8, 9, 4, 4, 2, 6, 5, 1, 2, 4, 8, 6, 1, 6, 0, 9, 1, 4, 6, 7, 3, 7, 9, 3, 7, 8, 0, 6, 5, 3, 4, 8, 6, 4, 8, 5, 1, 0, 7, 7, 4, 5, 0, 9, 7, 0, 7, 7, 0, 5, 6, 3, 5, 1, 2, 4, 7, 6, 6, 6, 7, 9, 5, 5, 8, 7, 0, 3, 0, 2, 8, 7, 0, 6, 1, 4, 8, 0, 5, 0, 9, 6, 1, 9, 8, 0, 3, 6, 7, 5, 6, 0, 7, 2, 8, 6, 0, 7, 8, 0, 9, 9, 2, 8, 7, 9, 3, 6, 2, 4, 0, 9, 4, 5, 1, 9, 5, 1, 0, 1, 3, 1, 8, 2, 3, 9, 9, 6, 4, 9, 1, 0, 7, 6, 1, 6, 0, 5, 2, 5, 2, 9, 1, 2, 5, 5, 7, 7, 3, 5, 8, 7, 0, 7, 0, 3, 3, 9, 2, 9, 3, 9, 9, 6, 8, 1, 8, 1, 1, 2, 5, 0, 9, 4, 0, 6, 9, 5, 8, 2, 9, 0, 6, 9, 3, 3, 8, 2, 0, 2, 8, 6, 3, 5, 1, 2, 1, 2, 5, 4, 3, 0, 6, 5, 8, 9, 4, 4, 7, 7, 9, 2, 8, 5, 6, 4, 8, 6, 9, 9, 2, 1, 5, 3, 3, 1, 6, 9, 3, 9, 0, 6, 0, 5, 5, 6, 7, 1, 0, 6, 5, 8, 4, 2, 8, 4, 0, 3, 1, 1, 0, 1, 3, 4, 7, 9, 5, 0, 3, 1, 1, 4, 7, 5, 2, 6, 7, 6, 9, 0, 6, 4, 2, 6, 3, 7, 3, 2, 6, 4, 3, 1, 1, 9, 5, 6, 7, 4, 6, 3, 3, 9, 5, 2, 3, 6, 0, 5, 7, 0, 8, 4, 1, 2, 8, 9, 7, 6, 1, 1, 2, 4, 5, 1, 2, 0, 5, 8, 8, 9, 0, 4, 7, 6, 1, 2, 9, 7, 2, 0, 7, 2, 9, 3, 4, 6, 2, 4, 6, 5, 4, 2, 3, 1, 9, 2, 8, 3, 1, 8, 6, 7, 6, 2, 7, 6, 3, 3, 5, 8, 1, 2, 8, 5, 5, 4, 8, 4, 5, 3, 2, 4, 0, 4, 8, 6, 3, 8, 8, 4, 8, 2, 3, 4, 7, 4, 6, 3, 6, 2, 5, 1, 6, 1, 3, 0, 3, 2, 9, 9, 8, 2, 7, 9, 7, 4, 4, 6, 8, 7, 1, 8, 7, 6, 9, 5, 8, 3, 5, 4, 6, 5, 5, 2, 1, 7, 3, 0, 2, 7, 3, 4, 6, 8, 8, 1, 6, 7, 9, 4, 2, 9, 7, 8, 1, 9, 0, 2, 9, 3, 9, 2, 0, 2, 6, 2, 4, 2, 8, 3, 1, 0, 9, 5, 2, 9, 6, 1, 7, 7, 5, 6, 8, 0, 3, 8, 2, 4, 8, 1, 3, 9, 6, 3, 2, 8, 9, 9, 9, 5, 4, 5, 2, 9, 0, 7, 7, 8, 6, 7, 6, 8, 8, 6, 8, 2, 6, 1, 8, 3, 4, 3, 1, 3, 6, 3, 5, 5, 2, 8, 7, 0, 7, 1, 0, 5, 9, 5, 5, 3, 7, 4, 1, 9, 1, 7, 2, 0, 6, 8, 2, 3, 8, 7, 9, 9, 8, 3, 7, 7, 2, 7, 6, 0, 9, 3, 0, 1, 2, 4, 0, 4, 8, 1, 6, 4, 0, 5, 5, 1, 5, 5, 3, 2, 9, 6, 4, 9, 1, 6, 4, 4, 0, 5, 3, 1, 7, 7, 3, 6, 1, 9, 9, 1, 5, 9, 9, 0, 1, 6, 7, 2, 9, 0, 6, 5, 8, 7, 6, 3, 3, 2, 5, 3, 9, 3, 2, 9, 4, 1, 7, 6, 4, 6, 9, 8, 8, 5, 2, 1, 8, 1, 1, 5, 5, 3, 4, 8, 9, 6, 3, 0, 3, 3, 8, 9, 4, 3, 3, 7, 8, 4, 4, 6, 9, 8, 0, 9, 3, 2, 4, 5, 1, 5, 2, 2, 7, 9, 9, 2, 3, 9, 5, 6, 4, 4, 6, 0, 7, 7, 9, 9, 6, 8, 4, 0, 7, 4, 8, 1, 8, 9, 3, 9, 1, 4, 4, 2, 1, 8, 3, 4, 4, 9, 0, 9, 3, 5, 8, 7, 6, 5, 7, 7, 1, 3, 1, 5, 4, 0, 8, 6, 8, 6, 4, 5, 8, 0, 5, 7, 7, 5, 8, 2, 0, 0, 1, 6, 1, 8, 1, 3, 0, 1, 3, 5, 7, 3, 5, 0, 4, 4, 5, 9, 8, 9, 3, 4, 9, 0, 6, 9, 8, 2, 1, 2, 9, 5, 3, 1, 2, 5, 9, 9, 4, 2, 8, 2, 6, 9, 5, 9, 3, 9, 6, 4, 6, 1, 8, 6, 2, 5, 8, 4, 5, 8, 1, 8, 3, 1, 3, 8, 4, 3, 7, 8, 3, 0, 1, 9, 2, 3, 7, 0, 7, 3, 1, 5, 7, 4, 9, 0, 9, 7, 8, 4, 8, 6, 4, 0, 7, 1, 3, 8, 8, 9, 2, 9, 2, 9, 3, 3, 0, 6, 1, 8, 9, 2, 4, 1, 5, 0, 1, 4, 7, 9, 0, 1, 8, 4, 4, 0, 9, 5, 6, 7, 0, 7, 3, 4, 9, 0, 0, 8, 3, 1, 1, 1, 1, 0, 0, 6, 2, 0, 8, 1, 4, 6, 8, 7, 2, 7, 7, 3, 8, 3, 9, 0, 7, 2, 0, 7, 3, 4, 4, 0, 1, 6, 6, 4, 4, 0, 6, 3, 3, 8, 8, 4, 5, 4, 3, 8, 0, 0, 1, 6, 0, 4, 7, 0, 3, 8, 2, 3, 2, 4, 8, 2, 0, 6, 3, 0, 4, 8, 7, 3, 3, 3, 4, 1, 8, 9, 8, 9, 7, 4, 9, 7, 3, 2, 2, 8, 6, 9, 4, 3, 0, 4, 3, 8, 6, 9, 6, 1, 0, 6, 6, 1, 4, 8, 5, 1, 3, 8, 4, 4, 5, 9, 2, 1, 9, 1, 9, 5, 5, 7, 6, 2, 6, 0, 4, 8, 9, 4, 6, 5, 8, 7, 6, 9, 2, 6, 7, 0, 9, 4, 1, 2, 7, 5, 9, 3, 1, 2, 1, 5, 5, 0, 3, 7, 9, 9, 8, 7, 6, 3, 8, 3, 2, 0, 3, 4, 1, 7, 6, 4, 1, 0, 3, 2, 8, 1, 2, 0, 8, 2, 1, 6, 6, 0, 7, 2, 9, 4, 7, 8, 8, 2, 4, 7, 2, 2, 0, 2, 0, 9, 8, 5, 6, 4, 2, 1, 5, 6, 8, 6, 8, 4, 4, 4, 1, 5, 2, 6, 5, 0, 0, 2, 1, 6, 4, 4, 8, 1, 8, 5, 2, 8, 5, 7, 7, 2, 1, 6, 3, 7, 6, 8, 6, 6, 3, 7, 2, 8, 9, 4, 0, 4, 3, 4, 8, 1, 0, 0, 3, 2, 5, 3, 8, 5, 2, 8, 7, 6, 5, 8, 2, 0, 2, 5, 6, 8, 2, 8, 0, 7, 2, 2, 3, 7, 3, 8, 8, 4, 8, 4, 4, 2, 3, 0, 3, 0, 5, 1, 2, 2, 0, 3, 9, 0, 1, 2, 8, 7, 6, 6, 0, 2, 0, 8, 5, 8, 9, 2, 6, 1, 6, 4, 7, 2, 8, 1, 3, 1, 4, 1, 3, 3, 8, 5, 2, 5, 6, 3, 3, 3, 4, 3, 9, 0, 9, 6, 2, 2, 8, 3, 6, 8, 1, 2, 9, 9, 6, 0, 4, 1, 6, 8, 0, 3, 5, 5, 3, 5, 0, 5, 7, 4, 8, 2, 8, 9, 2, 3, 0, 9, 4, 8, 3, 9, 3, 9, 9, 8, 2, 1, 6, 2, 2, 6, 5, 1, 4, 9, 5, 6, 5, 3, 8, 9, 7, 6, 4, 2, 1, 5, 8, 0, 9, 8, 9, 3, 6, 5, 6, 6, 7, 7, 5, 6, 9, 1, 4, 6, 0, 7, 9, 9, 4, 8, 4, 7, 4, 1, 7, 6, 7, 9, 1, 1, 8, 8, 6, 8, 9, 7, 3, 0, 8, 5, 6, 0, 0, 0, 4, 3, 9, 2, 6, 5, 7, 9, 4, 6, 6, 3, 3, 5, 8, 1, 9, 2, 3, 8, 9, 6, 3, 9, 1, 6, 0, 3, 1, 6, 9, 7, 0, 6, 4, 6, 1, 8, 6, 9, 8, 0, 2, 1, 1, 8, 2, 7, 9, 7, 1, 8, 4, 9, 5, 1, 3, 8, 2, 7, 0, 8, 9, 5, 1, 8, 0, 1, 4, 3, 6, 2, 8, 2, 0, 5, 2, 6, 2, 6, 1, 1, 0, 6, 8, 1, 8, 4, 3, 2, 0, 3, 0, 1, 1, 9, 0, 0, 1, 2, 9, 0, 0, 3, 1, 2, 0, 5, 0, 4, 7, 4, 4, 8, 5, 0, 6, 3, 7, 1, 5, 1, 6, 9, 0, 2, 6, 3, 0, 8, 9, 4, 8, 5, 7, 9, 0, 7, 9, 6, 5, 6, 9, 2, 5, 0, 7, 4, 8, 8, 5, 8, 2, 3, 5, 3, 1, 4, 6, 9, 7, 0, 7, 4, 9, 9, 6, 3, 4, 6, 5, 7, 9, 5, 1, 2, 3, 8, 5, 3, 4, 1, 6, 1, 2, 3, 0, 6, 0, 7, 4, 6, 3, 1, 8, 7, 3, 3, 5, 8, 1, 2, 5, 6, 6, 7, 5, 6, 5, 4, 4, 6, 3, 4, 1, 8, 9, 0, 8, 9, 9, 6, 3, 1, 8, 6, 7, 6, 1, 0, 1, 2, 0, 0, 8, 8, 1, 5, 9, 7, 4, 5, 3, 0, 1, 7, 4, 1, 0, 4, 3, 9, 0, 6, 7, 0, 6, 1, 4, 2, 9, 6, 0, 2, 8, 7, 7, 3, 6, 6, 7, 8, 9, 1, 5, 0, 5, 4, 8, 2, 6, 6, 6, 8, 0, 6, 4, 1, 4, 7, 0, 8, 2, 9, 1, 3, 5, 9, 0, 1, 4, 2, 6, 2, 3, 3, 2, 6, 0, 4, 5, 8, 2, 7, 4, 4, 1, 5, 9, 3, 6, 6, 0, 7, 0, 7, 1, 3, 0, 3, 0, 6, 6, 0, 4, 7, 6, 4, 2, 2, 4, 0, 8, 6, 8, 8, 0, 2, 6, 3, 8, 5, 2, 4, 4, 8, 8, 6, 5, 2, 8, 6, 4, 0, 5, 7, 6, 9, 8, 1, 3, 7, 3, 3, 5, 2, 9, 5, 1, 8, 0, 8, 0, 0, 5, 0, 4, 9, 8, 1, 9, 1, 1, 2, 7, 6, 5, 1, 8, 7, 7, 9, 0, 1, 1, 7, 6, 2, 2, 0, 2, 5, 9, 9, 9, 7, 4, 0, 0, 6, 0, 6, 0, 4, 8, 5, 0, 7, 1, 3, 3, 0, 2, 3, 8, 5, 0, 2, 3, 4, 5, 0, 9, 1, 1, 2, 2, 5, 2, 4, 8, 5, 1, 8, 0, 1, 4, 3, 9, 8, 5, 0, 0, 9, 8, 9, 6, 2, 2, 9, 4, 8, 8, 9, 2, 5, 0, 5, 7, 8, 5, 3, 1, 5, 9, 1, 0, 6, 5, 3, 2, 0, 2, 3, 0, 1, 0, 5, 2, 4, 3, 3, 3, 6, 1, 0, 3, 3, 6, 4, 7, 8, 5, 5, 5, 6, 2, 7, 5, 7, 2, 5, 9, 4, 9, 4, 7, 4, 3, 8, 5, 7, 0, 0, 0, 4, 0, 1, 7, 5, 7, 9, 2, 0, 2, 7, 5, 7, 6, 9, 9, 7, 3, 4, 1, 0, 4, 8, 2, 0, 1, 4, 3, 1, 7, 4, 3, 1, 7, 6, 7, 7, 1, 1, 6, 0, 5, 7, 0, 1, 2, 1, 3, 2, 9, 0, 4, 7, 2, 7, 8, 4, 0, 9, 4, 9, 3, 4, 5, 4, 0, 3, 7, 4, 6, 9, 5, 7, 1, 2, 2, 9, 2, 9, 6, 7, 1, 3, 1, 3, 9, 8, 0, 9, 7, 7, 5, 9, 0, 9, 7, 1, 6, 4, 8, 3, 9, 2, 9, 4, 1, 7, 4, 5, 2, 5, 3, 2, 3, 4, 1, 2, 5, 9, 4, 1, 4, 4, 4, 9, 5, 7, 9, 2, 6, 8, 7, 5, 5, 9, 3, 4, 0, 6, 7, 3, 5, 6, 1, 8, 0, 4, 4, 7, 0, 4, 3, 9, 1, 4, 2, 9, 1, 1, 1, 4, 9, 9, 0, 2, 1, 8, 2, 5, 6, 8, 6, 9, 7, 6, 1, 4, 0, 9, 9, 4, 6, 3, 5, 5, 6, 5, 1, 4, 0, 3, 8, 6, 8, 4, 9, 3, 2, 9, 5, 5, 4, 7, 7, 1, 6, 9, 8, 3, 7, 0, 9, 2, 6, 2, 8, 8, 3, 1, 3, 7, 1, 0, 7, 5, 2, 6, 8, 5, 0, 7, 9, 1, 0, 2, 3, 5, 3, 9, 4, 5, 9, 8, 0, 5, 9, 3, 5, 3, 4, 6, 4, 6, 3, 6, 5, 6, 8, 5, 1, 3, 2, 1, 1, 2, 9, 8, 6, 2, 6, 5, 1, 0, 9, 4, 6, 0, 6, 3, 2, 2, 1, 9, 2, 3, 4, 4, 2, 0, 0, 2, 9, 5, 1, 3, 5, 4, 8, 0, 3, 8, 5, 3, 0, 7, 7, 6, 5, 4, 2, 3, 6, 0, 4, 4, 4, 0, 3, 8, 7, 7, 5, 4, 6, 3, 3, 8, 9, 4, 3, 3, 5, 3, 1, 3, 8, 5, 4, 4, 3, 9, 6, 2, 6, 2, 9, 0, 1, 7, 8, 0, 5, 9, 7, 5, 5, 6, 6, 9, 7, 4, 9, 4, 1, 4, 8, 0, 5, 6, 3, 4, 6, 5, 0, 9, 9, 1, 1, 5, 8, 5, 5, 3, 0, 0, 2, 1, 6, 4, 5, 2, 2, 8, 0, 3, 0, 0, 0, 5, 1, 2, 5, 6, 4, 0, 0, 5, 6, 1, 5, 1, 1, 6, 3, 6, 6, 6, 2, 0, 4, 2, 2, 7, 5, 2, 2, 0, 2, 5, 9, 6, 3, 4, 4, 4, 9, 1, 7, 7, 1, 9, 2, 0, 3, 3, 3, 1, 4, 0, 0, 0, 6, 2, 2, 1, 1, 7, 0, 1, 2, 2, 9, 2, 2, 3, 2, 1, 0, 1, 5, 6, 1, 4, 0, 5, 4, 0, 4, 1, 2, 5, 0, 5, 2, 6, 6, 6, 2, 5, 4, 1, 8, 7, 1, 0, 7, 0, 9, 7, 9, 9, 5, 5, 8, 9, 7, 6, 7, 5, 8, 4, 2, 6, 2, 8, 2, 4, 1, 5, 7, 6, 2, 0, 8, 0, 8, 3, 9, 4, 6, 2, 8, 5, 3, 4, 4, 0, 6, 7, 1, 4, 7, 3, 0, 8, 0, 9, 5, 4, 4, 9, 9, 7, 7, 3, 4, 0, 7, 0, 1, 5, 7, 1, 9, 9, 2, 8, 8, 0, 6, 3, 4, 5, 5, 3, 4, 4, 7, 1, 9, 3, 8, 2, 6, 2, 5, 2, 5, 9, 7, 2, 0, 3, 8, 6, 6, 1, 0, 3, 8, 1, 3, 9, 9, 5, 3, 5, 7, 7, 7, 8, 6, 9, 8, 1, 8, 4, 4, 3, 4, 7, 5, 9, 9, 1, 0, 0, 8, 0, 7, 2, 1, 5, 5, 6, 7, 9, 0, 1, 8, 7, 7, 7, 7, 6, 0, 5, 7, 9, 2, 7, 1, 5, 2, 9, 5, 3, 4, 1, 4, 4, 5, 9, 0, 7, 6, 0, 8, 0, 6, 4, 1, 4, 5, 8, 9, 3, 2, 3, 9, 7, 9, 8, 0, 5, 6, 7, 7, 9, 8, 5, 4, 8, 3, 6, 0, 2, 5, 2, 9, 7, 5, 5, 4, 7, 8, 9, 3, 0, 3, 2, 1, 8, 8, 3, 2, 8, 9, 5, 3, 0, 1, 5, 1, 3, 9, 2, 3, 1, 6, 3, 7, 9, 2, 5, 7, 5, 0, 0, 3, 6, 2, 5, 4, 0, 4, 3, 2, 8, 5, 6, 2, 0, 2, 8, 0, 1, 9, 1, 4, 4, 1, 7, 3, 6, 2, 8, 2, 4, 2, 5, 9, 3, 6, 4, 9, 2, 0, 4, 3, 0, 4, 7, 3, 0, 7, 3, 0, 6, 1, 4, 7, 8, 5, 1, 1, 8, 5, 4, 5, 4, 9, 6, 1, 4, 0, 6, 4, 5, 1, 8, 0, 1, 1, 6, 0, 1, 6, 9, 4, 6, 0, 0, 4, 3, 6, 7, 6, 9, 8, 0, 6, 5, 2, 5, 3, 8, 8, 3, 2, 1, 7, 7, 4, 9, 2, 2, 9, 2, 7, 0, 9, 5, 8, 8, 2, 5, 0, 6, 3, 8, 1, 1, 9, 1, 0, 3, 1, 1, 2, 2, 5, 7, 2, 0, 3, 1, 5, 7, 2, 7, 7, 2, 1, 9, 4, 9, 9, 6, 2, 2, 6, 2, 2, 2, 6, 7, 3, 7, 1, 3, 5, 0, 6, 1, 1, 6, 4, 1, 7, 9, 2, 2, 1, 8, 9, 6, 4, 0, 2, 0, 7, 2, 3, 6, 0, 1, 3, 1, 9, 4, 3, 2, 1, 3, 9, 1, 6, 1, 1, 5, 1, 8, 3, 2, 8, 1, 4, 4, 5, 3, 2, 0, 9, 0, 3, 6, 1, 8, 7, 3, 4, 3, 5, 3, 8, 3, 9, 0, 0, 4, 2, 8, 7, 7, 2, 4, 2, 2, 2, 1, 1, 7, 1, 4, 7, 3, 7, 2, 3, 8, 7, 0, 0, 4, 0, 3, 4, 0, 9, 3, 9, 3, 0, 7, 6, 8, 5, 2, 7, 4, 1, 7, 0, 0, 4, 0, 4, 2, 7, 0, 9, 0, 6, 7, 9, 0, 1, 5, 3, 1, 2, 1, 6, 9, 9, 5, 5, 8, 5, 7, 9, 4, 8, 0, 8, 1, 9, 6, 0, 9, 1, 7, 5, 4, 1, 9, 9, 6, 0, 1, 3, 6, 6, 1, 5, 7, 5, 0, 7, 1, 4, 9, 8, 4, 3, 1, 7, 6, 4, 6, 1, 4, 9, 9, 7, 0, 6, 2, 8, 5, 2, 1, 5, 3, 4, 4, 0, 9, 7, 1, 4, 4, 8, 7, 2, 9, 5, 3, 1, 9, 0, 3, 8, 3, 6, 6, 5, 5, 9, 9, 6, 4, 4, 1, 1, 0, 5, 2, 2, 3, 1, 6, 4, 5, 5, 0, 7, 9, 2, 2, 9, 8, 4, 3, 5, 9, 7, 0, 2, 3, 8, 8, 2, 4, 7, 2, 3, 4, 2, 7, 7, 5, 4, 2, 7, 8, 6, 7, 8, 9, 8, 9, 9, 4, 0, 0, 2, 9, 8, 6, 6, 0, 7, 8, 9, 1, 1, 5, 2, 5, 9, 2, 3, 8, 5, 9, 8, 7, 6, 8, 0, 2, 2, 5, 9, 0, 5, 8, 0, 3, 2, 4, 0, 6, 2, 1, 8, 8, 8, 1, 3, 8, 4, 0, 5, 9, 8, 2, 7, 1, 9, 6, 0, 1, 2, 1, 4, 4, 1, 5, 3, 2, 4, 3, 8, 0, 8, 9, 2, 2, 0, 4, 7, 7, 0, 8, 5, 1, 8, 9, 3, 4, 8, 5, 6, 0, 8, 7, 9, 2, 6, 9, 4, 7, 8, 5, 1, 1, 1, 6, 9, 0, 6, 8, 1, 6, 0, 6, 0, 9, 9, 4, 2, 0, 9, 6, 9, 0, 6, 3, 1, 5, 2, 3, 7, 7, 8, 1, 9, 4, 3, 2, 4, 3, 3, 5, 2, 3, 8, 7, 6, 2, 8, 7, 5, 9, 8, 9, 2, 0, 1, 2, 6, 5, 7, 7, 3, 2, 4, 1, 9, 8, 0, 1, 9, 3, 6, 7, 1, 0, 7, 5, 3, 5, 3, 8, 9, 8, 1, 2, 5, 3, 9, 6, 8, 2, 2, 0, 4, 0, 4, 4, 1, 6, 5, 3, 1, 3, 1, 1, 5, 5, 0, 0, 1, 6, 5, 3, 2, 0, 1, 5, 5, 3, 2, 9, 3, 9, 4, 1, 3, 4, 9, 3, 9, 0, 8, 2, 4, 5, 9, 9, 0, 4, 8, 2, 9, 7, 5, 3, 5, 3, 4, 8, 5, 3, 1, 8, 5, 2, 3, 0, 8, 9, 8, 6, 9, 9, 7, 5, 9, 1, 1, 3, 3, 9, 6, 5, 9, 2, 9, 3, 9, 6, 4, 3, 1, 8, 2, 3, 1, 4, 6, 0, 4, 2, 2, 8, 5, 4, 5, 5, 6, 9, 0, 4, 5, 9, 7, 5, 9, 4, 1, 1, 5, 1, 1, 5, 2, 8, 4, 0, 5, 6, 8, 6, 4, 6, 6, 6, 6, 0, 7, 6, 5, 0, 7, 2, 1, 6, 5, 3, 7, 5, 9, 6, 0, 0, 1, 4, 6, 3, 4, 4, 9, 6, 5, 0, 2, 9, 1, 7, 2, 3, 7, 1, 6, 0, 9, 3, 9, 2, 3, 3, 9, 9, 0, 0, 4, 6, 4, 7, 8, 8, 1, 6, 7, 3, 7, 1, 9, 4, 2, 4, 4, 7, 0, 6, 1, 9, 1, 9, 7, 6, 3, 1, 3, 2, 8, 8, 6, 0, 1, 7, 9, 7, 3, 1, 9, 8, 8, 5, 9, 1, 4, 5, 0, 4, 8, 8, 9, 5, 4, 5, 2, 5, 4, 3, 9, 6, 6, 4, 2, 2, 9, 1, 4, 0, 9, 5, 9, 0, 7, 1, 9, 4, 0, 4, 7, 6, 5, 5, 0, 9, 9, 0, 9, 9, 6, 7, 8, 2, 3, 3, 8, 3, 4, 5, 1, 4, 8, 8, 8, 9, 5, 6, 4, 6, 2, 3, 2, 6, 3, 8, 7, 7, 9, 2, 3, 4, 6, 8, 6, 8, 9, 6, 6, 2, 1, 6, 7, 9, 7, 9, 1, 8, 3, 2, 8, 3, 2, 1, 3, 0, 8, 4, 6, 9, 0, 4, 0, 8, 7, 6, 0, 5, 1, 9, 1, 1, 0, 8, 0, 8, 6, 3, 8, 7, 9, 3, 4, 9, 9, 8, 6, 1, 6, 0, 5, 9, 2, 6, 5, 3, 1, 8, 8, 6, 4, 2, 2, 5, 9, 3, 2, 7, 5, 9, 1, 2, 1, 0, 3, 1, 5, 6, 5, 0, 4, 2, 7, 2, 2, 2, 2, 1, 8, 4, 3, 2, 0, 9, 4, 5, 9, 5, 0, 5, 2, 8, 2, 6, 5, 6, 3, 3, 1, 3, 3, 7, 8, 7, 1, 5, 1, 3, 1, 0, 5, 3, 9, 8, 8, 2, 0, 8, 6, 7, 3, 3, 5, 4, 0, 3, 2, 8, 9, 7, 2, 6, 4, 8, 6, 9, 9, 8, 3, 8, 3, 2, 8, 2, 8, 4, 5, 5, 7, 0, 4, 9, 8, 6, 6, 7, 3, 1, 5, 2, 3, 0, 7, 6, 8, 5, 7, 8, 5, 6, 7, 8, 8, 0, 2, 8, 8, 2, 4, 0, 5, 3, 2, 3, 0, 8, 4, 4, 3, 3, 4, 8, 2, 1, 8, 3, 1, 1, 8, 1, 4, 0, 9, 1, 4, 2, 2, 2, 8, 4, 0, 3, 5, 5, 4, 9, 4, 1, 9, 4, 3, 0, 1, 7, 2, 0, 4, 7, 2, 6, 7, 3, 7, 2, 7, 3, 9, 3, 2, 0, 0, 0, 9, 2, 9, 1, 6, 5, 1, 4, 4, 5, 1, 2, 6, 1, 1, 6, 6, 6, 0, 0, 7, 6, 1, 9, 4, 5, 1, 4, 1, 7, 1, 8, 5, 5, 8, 5, 0, 5, 8, 0, 5, 8, 4, 5, 8, 2, 9, 7, 5, 8, 1, 0, 3, 0, 4, 8, 7, 9, 0, 3, 1, 5, 6, 4, 6, 8, 1, 5, 9, 6, 5, 4, 2, 9, 1, 9, 3, 8, 5, 1, 8, 3, 5, 1, 7, 4, 4, 7, 2, 4, 0, 4, 8, 6, 7, 4, 4, 8, 7, 0, 8, 4, 1, 8, 9, 7, 4, 8, 5, 9, 4, 1, 5, 7, 8, 0, 9, 0, 6, 7, 1, 0, 8, 8, 2, 7, 4, 8, 6, 7, 5, 3, 1, 4, 2, 7, 4, 2, 3, 5, 7, 4, 1, 8, 8, 6, 1, 9, 5, 1, 8, 2, 6, 6, 0, 8, 6, 7, 2, 1, 9, 7, 4, 8, 1, 7, 5, 7, 5, 7, 4, 1, 7, 3, 6, 2, 4, 7, 4, 2, 6, 2, 2, 8, 1, 4, 7, 2, 0, 1, 6, 4, 1, 0, 9, 1, 9, 0, 3, 7, 3, 7, 3, 2, 7, 6, 4, 8, 1, 2, 6, 7, 6, 3, 2, 9, 8, 8, 7, 3, 8, 7, 4, 3, 1, 6, 3, 8, 7, 1, 8, 5, 5, 1, 7, 5, 5, 1, 4, 2, 2, 9, 3, 5, 1, 8, 1, 8, 4, 2, 7, 5, 3, 7, 7, 3, 3, 5, 4, 4, 0, 6, 1, 3, 8, 5, 4, 5, 3, 6, 5, 1, 7, 1, 5, 0, 5, 6, 7, 0, 8, 4, 0, 9, 6, 9, 8, 2, 2, 7, 4, 1, 7, 8, 6, 2, 2, 9, 7, 6, 8, 0, 3, 7, 7, 8, 7, 1, 3, 3, 4, 4, 6, 4, 4, 8, 8, 0, 4, 7, 8, 5, 0, 0, 5, 7, 9, 6, 1, 4, 4, 3, 3, 8, 0, 4, 3, 7, 7, 2, 1, 1, 3, 3, 2, 8, 0, 5, 6, 7, 0, 5, 2, 4, 4, 0, 5, 9, 8, 6, 8, 4, 9, 9, 6, 2, 5, 1, 1, 1, 9, 2, 5, 4, 6, 7, 6, 9, 5, 0, 7, 7, 1, 2, 1, 5, 8, 8, 4, 2, 2, 4, 9, 2, 8, 9, 5, 8, 4, 3, 1, 9, 9, 0, 6, 6, 5, 6, 8, 9, 7, 2, 0, 2, 7, 1, 1, 2, 6, 7, 4, 8, 0, 8, 5, 1, 8, 2, 3, 9, 0, 2, 4, 1, 1, 8, 4, 8, 5, 9, 2, 7, 7, 8, 5, 0, 3, 4, 7, 6, 0, 0, 9, 6, 0, 7, 7, 4, 9, 8, 5, 5, 4, 1, 4, 8, 5, 5, 7, 6, 6, 8, 5, 8, 7, 6, 5, 0, 2, 5, 7, 7, 1, 2, 2, 2, 0, 2, 7, 7, 6, 0, 4, 9, 1, 7, 7, 2, 1, 1, 1, 4, 7, 6, 9, 4, 0, 4, 2, 7, 2, 7, 8, 6, 5, 9, 3, 4, 3, 4, 8, 2, 7, 4, 8, 2, 6, 3, 5, 2, 4, 8, 1, 7, 7, 6, 3, 6, 2, 5, 1, 5, 0, 6, 1, 2, 3, 6, 6, 2, 2, 7, 8, 0, 1, 0, 3, 7, 1, 6, 7, 0, 8, 4, 1, 1, 8, 1, 3, 4, 9, 4, 2, 2, 8, 1, 0, 7, 7, 2, 1, 6, 8, 5, 5, 3, 8, 0, 7, 5, 0, 1, 2, 6, 6, 4, 6, 7, 0, 0, 5, 5, 4, 5, 9, 6, 2, 9, 5, 7, 4, 8, 3, 0, 3, 8, 8, 7, 8, 8, 1, 9, 1, 1, 1, 8, 2, 3, 9, 6, 1, 5, 9, 0, 1, 8, 2, 9, 4, 3, 8, 7, 9, 5, 8, 3, 6, 7, 5, 4, 0, 9, 1, 3, 9, 8, 4, 6, 1, 7, 9, 3, 1, 7, 9, 7, 7, 1, 5, 7, 8, 4, 1, 3, 5, 4, 1, 6, 9, 6, 6, 4, 2, 1, 7, 3, 4, 7, 2, 9, 0, 5, 7, 2, 6, 8, 4, 1, 4, 2, 0, 0, 0, 7, 7, 5, 0, 2, 2, 0, 8, 3, 9, 0, 8, 0, 2, 6, 1, 0, 1, 7, 6, 8, 3, 9, 4, 4, 7, 9, 7, 1, 8, 3, 1, 0, 7, 1, 1, 9, 6, 7, 2, 7, 7, 5, 8, 1, 9, 9, 2, 5, 5, 9, 7, 5, 4, 5, 8, 5, 2, 9, 0, 6, 7, 3, 7, 5, 7, 7, 1, 3, 0, 5, 5, 7, 7, 0, 9, 9, 4, 6, 3, 9, 6, 6, 4, 6, 7, 1, 3, 0, 5, 7, 7, 1, 5, 0, 8, 8, 2, 9, 8, 1, 4, 1, 7, 3, 0, 7, 7, 3, 0, 6, 4, 2, 3, 5, 3, 2, 6, 5, 7, 8, 5, 3, 8, 0, 0, 9, 5, 2, 5, 7, 2, 5, 3, 0, 9, 8, 4, 8, 9, 4, 8, 8, 0, 7, 4, 4, 8, 6, 9, 5, 7, 5, 8, 6, 4, 6, 2, 2, 5, 8, 8, 1, 8, 5, 8, 5, 9, 7, 5, 1, 5, 4, 6, 9, 8, 7, 2, 9, 6, 2, 0, 9, 9, 3, 7, 7, 3, 8, 8, 3, 2, 2, 3, 8, 0, 7, 6, 9, 6, 2, 7, 7, 7, 9, 1, 4, 4, 6, 4, 0, 0, 3, 2, 6, 3, 7, 0, 0, 7, 9, 7, 6, 9, 2, 1, 8, 3, 6, 4, 2, 7, 9, 3, 2, 7, 1, 2, 1, 9, 8, 3, 3, 1, 4, 2, 3, 8, 5, 1, 9, 1, 9, 0, 4, 2, 5, 5, 0, 9, 9, 1, 1, 1, 3, 8, 8, 8, 5, 4, 2, 3, 6, 1, 2, 0, 5, 5, 0, 8, 9, 6, 0, 1, 4, 1, 2, 3, 6, 8, 7, 8, 1, 5, 2, 7, 0, 7, 4, 3, 3, 5, 6, 6, 1, 8, 2, 2, 8, 5, 5, 9, 8, 9, 2, 5, 5, 6, 5, 3, 4, 0, 5, 0, 8, 2, 7, 8, 4, 7, 0, 2, 0, 2, 7, 4, 5, 9, 2, 9, 0, 6, 1, 1, 2, 6, 4, 4, 1, 0, 4, 2, 0, 4, 4, 3, 8, 8, 2, 7, 8, 7, 7, 8, 6, 9, 6, 5, 2, 1, 8, 8, 5, 7, 6, 9, 1, 1, 1, 8, 3, 6, 8, 8, 7, 0, 6, 8, 5, 7, 8, 1, 3, 8, 4, 5, 4, 5, 2, 4, 1, 6, 9, 2, 0, 1, 9, 1, 4, 8, 1, 3, 4, 3, 3, 9, 1, 5, 3, 7, 7, 4, 0, 3, 7, 7, 3, 0, 9, 3, 3, 1, 7, 3, 0, 5, 3, 5, 3, 0, 6, 1, 3, 6, 9, 0, 5, 7, 2, 5, 5, 1, 2, 9, 7, 4, 5, 1, 3, 3, 7, 8, 1, 7, 1, 1, 4, 5, 3, 7, 7, 8, 8, 0, 3, 1, 2, 6, 2, 8, 0, 2, 4, 0, 1, 4, 7, 4, 4, 8, 1, 3, 2, 7, 1, 7, 3, 1, 9, 9, 9, 4, 4, 0, 3, 9, 0, 7, 4, 9, 2, 7, 0, 1, 6, 1, 0, 1, 7, 1, 5, 8, 1, 4, 4, 6, 0, 3, 1, 8, 3, 8, 3, 0, 0, 2, 7, 8, 5, 2, 1, 4, 6, 9, 8, 5, 1, 8, 3, 1, 3, 8, 5, 0, 3, 8, 5, 4, 0, 4, 3, 6, 7, 1, 9, 2, 6, 8, 9, 8, 4, 1, 0, 6, 7, 0, 8, 6, 3, 1, 6, 0, 8, 9, 3, 7, 0, 4, 3, 0, 6, 8, 2, 9, 1, 4, 6, 0, 5, 6, 2, 2, 4, 5, 9, 0, 2, 0, 0, 3, 6, 7, 7, 6, 9, 5, 4, 6, 8, 1, 4, 7, 2, 5, 0, 8, 6, 2, 9, 5, 2, 6, 9, 9, 1, 0, 6, 8, 3, 2, 0, 1, 1, 8, 7, 4, 7, 2, 7, 6, 2, 1, 0, 6, 4, 2, 7, 3, 6, 4, 9, 6, 1, 2, 0, 1, 1, 5, 6, 7, 6, 1, 7, 4, 4, 3, 4, 6, 9, 5, 5, 2, 6, 4, 5, 0, 5, 3, 5, 4, 4, 8, 8, 2, 6, 8, 5, 3, 0, 6, 3, 8, 1, 2, 4, 0, 3, 2, 9, 6, 0, 9, 0, 8, 2, 9, 1, 4, 7, 1, 6, 2, 4, 7, 4, 3, 3, 2, 4, 2, 5, 8, 7, 5, 2, 6, 5, 7, 8, 7, 4, 9, 7, 9, 1, 5, 7, 6, 5, 9, 0, 0, 3, 9, 4, 6, 4, 0, 7, 6, 9, 8, 2, 7, 6, 6, 9, 4, 6, 4, 4, 8, 7, 4, 4, 9, 3, 3, 4, 8, 0, 2, 6, 4, 0, 7, 2, 8, 0, 1, 1, 7, 6, 1, 9, 0, 5, 5, 7, 5, 7, 8, 3, 0, 7, 8, 4, 8, 9, 2, 5, 3, 4, 1, 2, 4, 6, 6, 7, 1, 6, 4, 7, 1, 9, 2, 9, 7, 4, 4, 9, 8, 7, 8, 4, 1, 4, 6, 3, 0, 6, 3, 0, 7, 0, 0, 6, 9, 6, 9, 7, 3, 6, 5, 1, 1, 3, 8, 1, 3, 6, 7, 7, 5, 6, 4, 1, 3, 4, 6, 6, 1, 0, 5, 0, 9, 8, 0, 1, 5, 2, 8, 3, 0, 2, 7, 6, 7, 2, 7, 8, 7, 0, 1, 9, 3, 3, 9, 6, 5, 4, 8, 2, 2, 3, 5, 7, 6, 1, 8, 7, 1, 1, 1, 1, 5, 6, 5, 7, 6, 5, 7, 1, 8, 6, 8, 0, 9, 2, 5, 8, 8, 0, 2, 6, 0, 4, 8, 4, 9, 2, 4, 9, 8, 7, 2, 9, 7, 8, 5, 9, 8, 0, 6, 9, 6, 3, 4, 1, 7, 7, 1, 8, 8, 4, 6, 6, 9, 3, 5, 4, 5, 0, 0, 0, 5, 1, 8, 8, 7, 0, 1, 5, 1, 3, 9, 7, 8, 9, 6, 3, 2, 6, 9, 5, 2, 3, 1, 5, 1, 0, 4, 1, 3, 9, 2, 6, 3, 3, 2, 1, 1, 1, 6, 1, 5, 0, 9, 4, 2, 8, 0, 3, 8, 5, 4, 9, 4, 0, 2, 5, 8, 1, 3, 9, 4, 7, 4, 9, 0, 4, 0, 7, 1, 2, 4, 6, 1, 6, 2, 7, 5, 4, 9, 9, 8, 1, 7, 4, 0, 2, 7, 9, 3, 9, 3, 9, 8, 4, 5, 4, 3, 7, 9, 4, 9, 9, 1, 9, 3, 1, 7, 1, 8, 0, 2, 8, 0, 1, 5, 5, 1, 4, 5, 7, 2, 4, 0, 6, 8, 4, 2, 6, 1, 6, 9, 8, 6, 1, 3, 6, 6, 9, 6, 9, 8, 8, 5, 3, 8, 0, 8, 1, 5, 6, 4, 2, 7, 2, 5, 0, 6, 8, 7, 3, 2, 5, 9, 4, 8, 5, 4, 0, 8, 8, 4, 2, 1, 7, 7, 4, 4, 6, 8, 2, 7, 0, 6, 3, 2, 9, 4, 7, 8, 2, 5, 5, 1, 7, 2, 6, 3, 7, 8, 1, 7, 8, 6, 9, 9, 2, 2, 9, 5, 1, 7, 7, 6, 1, 6, 5, 0, 7, 9, 6, 6, 8, 0, 6, 0, 5, 1, 9, 2, 1, 1, 6, 8, 0, 4, 4, 4, 6, 5, 3, 6, 9, 5, 5, 7, 5, 7, 0, 9, 1, 0, 7, 6, 8, 2, 7, 1, 1, 1, 5, 9, 5, 0, 7, 5, 9, 2, 4, 6, 9, 5, 8, 0, 7, 1, 9, 1, 5, 0, 3, 3, 8, 6, 5, 3, 6, 5, 9, 1, 9, 1, 6, 4, 7, 2, 2, 0, 2, 8, 8, 0, 2, 5, 3, 3, 5, 8, 4, 7, 2, 8, 8, 4, 0, 2, 1, 4, 1, 4, 9, 1, 0, 2, 1, 4, 3, 7, 1, 2, 9, 0, 5, 4, 1, 9, 2, 7, 1, 1, 0, 3, 7, 9, 1, 8, 5, 9, 0, 7, 7, 8, 1, 7, 1, 1, 1, 4, 9, 6, 3, 6, 4, 0, 7, 0, 3, 7, 5, 4, 2, 2, 8, 3, 9, 1, 8, 1, 6, 8, 3, 8, 6, 7, 2, 2, 5, 7, 6, 0, 2, 7, 0, 7, 7, 7, 6, 7, 3, 4, 5, 7, 6, 6, 9, 3, 2, 7, 6, 2, 4, 2, 5, 4, 9, 0, 6, 2, 9, 6, 6, 7, 2, 1, 0, 5, 0, 3, 7, 1, 4, 0, 5, 2, 4, 7, 2, 2, 6, 3, 3, 1, 6, 1, 8, 6, 6, 5, 8, 1, 1, 4, 1, 3, 5, 1, 6, 9, 9, 6, 5, 8, 2, 0, 0, 5, 4, 9, 1, 8, 5, 6, 3, 7, 6, 1, 5, 8, 2, 7, 6, 0, 4, 7, 8, 0, 8, 1, 5, 2, 7, 5, 4, 4, 6, 0, 3, 8, 1, 8, 1, 7, 7, 4, 6, 8, 8, 1, 6, 4, 0, 7, 4, 8, 4, 0, 3, 0, 4, 0, 3, 4, 0, 9, 6, 5, 3, 3, 0, 8, 8, 5, 5, 5, 4, 6, 6, 7, 3, 6, 2, 9, 5, 4, 1, 1, 5, 8, 3, 4, 1, 2, 3, 3, 9, 6, 6, 8, 8, 1, 7, 6, 2, 4, 0, 1, 8, 4, 5, 7, 0, 1, 8, 6, 1, 4, 0, 3, 9, 6, 1, 2, 2, 3, 9, 4, 8, 6, 9, 2, 9, 9, 5, 1, 2, 1, 9, 1, 8, 2, 8, 0, 2, 5, 1, 6, 7, 9, 2, 2, 2, 8, 3, 2, 4, 4, 4, 6, 1, 2, 1, 6, 7, 8, 4, 3, 2, 6, 3, 1, 1, 5, 7, 4, 4, 1, 2, 0, 1, 7, 5, 8, 6, 8, 7, 4, 5, 6, 2, 3, 7, 0, 8, 3, 3, 0, 5, 8, 0, 1, 4, 9, 4, 7, 6, 3, 6, 7, 7, 7, 8, 8, 2, 3, 5, 1, 3, 5, 9, 4, 2, 7, 2, 8, 7, 5, 6, 9, 5, 8, 0, 9, 8, 9, 2, 9, 7, 0, 7, 7, 7, 9, 0, 8, 9, 9, 9, 2, 1, 7, 8, 2, 8, 8, 8, 6, 0, 9, 6, 6, 8, 9, 4, 7, 5, 1, 7, 7, 8, 7, 1, 6, 3, 5, 9, 4, 7, 2, 0, 9, 8, 6, 1, 1, 6, 3, 8, 6, 5, 0, 7, 0, 2, 4, 5, 8, 4, 2, 0, 7, 5, 7, 9, 2, 4, 8, 8, 8, 3, 6, 7, 0, 0, 3, 6, 2, 4, 8, 5, 5, 8, 7, 7, 4, 8, 2, 6, 0, 0, 9, 7, 8, 9, 4, 4, 8, 5, 3, 2, 2, 7, 6, 1, 6, 4, 8, 4, 6, 8, 4, 6, 2, 9, 2, 9, 9, 7, 0, 5, 8, 8, 9, 8, 0, 6, 3, 8, 5, 6, 6, 0, 9, 8, 2, 4, 7, 8, 3, 7, 9, 1, 5, 0, 4, 0, 2, 8, 5, 7, 1, 6, 9, 7, 2, 1, 0, 8, 9, 2, 6, 3, 2, 6, 7, 1, 7, 1, 5, 6, 1, 4, 2, 0, 6, 1, 6, 7, 9, 0, 4, 9, 6, 9, 6, 0, 3, 6, 0, 6, 7, 9, 0, 9, 0, 9, 5, 5, 6, 5, 8, 1, 5, 1, 4, 8, 0, 6, 6, 9, 6, 4, 2, 6, 6, 3, 3, 6, 3, 4, 1, 2, 4, 2, 6, 4, 9, 3, 7, 6, 4, 9, 3, 8, 8, 0, 2, 0, 9, 3, 0, 1, 0, 3, 5, 6, 6, 0, 8, 4, 5, 8, 7, 5, 4, 8, 9, 1, 4, 9, 7, 3, 5, 0, 4, 7, 0, 7, 4, 4, 3, 9, 1, 5, 9, 7, 7, 0, 5, 0, 9, 1, 9, 8, 9, 1, 4, 9, 5, 1, 9, 1, 1, 6, 2, 7, 2, 1, 3, 0, 8, 1, 5, 7, 7, 4, 3, 9, 6, 6, 1, 0, 0, 3, 5, 4, 5, 8, 7, 7, 3, 1, 2, 5, 1, 9, 9, 3, 6, 6, 8, 1, 5, 9, 8, 9, 3, 8, 2, 8, 4, 2, 4, 0, 7, 3, 6, 5, 2, 1, 2, 1, 4, 1, 3, 9, 9, 8, 1, 2, 4, 8, 1, 2, 9, 7, 2, 0, 6, 5, 7, 8, 6, 1, 3, 3, 3, 2, 3, 0, 4, 1, 5, 2, 6, 4, 0, 2, 7, 3, 1, 0, 3, 6, 8, 7, 0, 2, 4, 3, 5, 2, 5, 8, 0, 9, 8, 1, 1, 3, 5, 6, 0, 8, 0, 9, 5, 0, 8, 2, 1, 6, 2, 3, 7, 4, 6, 7, 8, 3, 5, 5, 4, 4, 4, 6, 3, 9, 7, 0, 5, 0, 6, 0, 6, 6, 9, 5, 1, 9, 8, 6, 3, 1, 6, 3, 4, 1, 3, 9, 2, 1, 5, 3, 8, 1, 2, 9, 2, 5, 6, 9, 9, 8, 1, 6, 1, 0, 1, 8, 5, 7, 2, 3, 8, 4, 0, 4, 6, 8, 6, 4, 0, 5, 5, 0, 7, 3, 0, 3, 3, 8, 1, 8, 7, 0, 2, 1, 8, 7, 5, 5, 7, 4, 1, 6, 3, 4, 4, 0, 4, 4, 0, 1, 5, 4, 9, 8, 7, 1, 1, 7, 6, 0, 7, 5, 5, 2, 6, 9, 0, 8, 2, 4, 5, 4, 3, 4, 1, 5, 8, 4, 0, 2, 0, 4, 7, 5, 0, 1, 3, 2, 7, 4, 0, 0, 4, 8, 4, 7, 4, 8, 5, 3, 6, 3, 9, 5, 7, 9, 5, 5, 1, 2, 2, 4, 9, 4, 3, 3, 9, 2, 6, 3, 3, 9, 8, 7, 6, 8, 2, 4, 6, 0, 2, 5, 5, 3, 5, 6, 6, 1, 1, 5, 5, 6, 0, 4, 4, 9, 8, 3, 7, 0, 3, 3, 4, 5, 0, 5, 9, 0, 4, 3, 0, 9, 7, 7, 8, 4, 4, 5, 7, 6, 4, 3, 3, 0, 9, 8, 9, 9, 8, 0, 1, 7, 1, 1, 0, 1, 6, 3, 6, 3, 6, 3, 9, 2, 1, 7, 7, 0, 3, 1, 1, 8, 6, 4, 5, 2, 3, 3, 0, 8, 1, 3, 7, 3, 4, 9, 6, 6, 2, 6, 1, 1, 9, 9, 7, 4, 6, 9, 0, 1, 8, 6, 6, 6, 6, 2, 3, 5, 6, 5, 9, 1, 1, 1, 0, 8, 7, 6, 4, 4, 8, 3, 7, 6, 6, 7, 9, 1, 9, 2, 7, 1, 0, 9, 2, 4, 7, 1, 8, 0, 5, 9, 9, 2, 7, 3, 8, 7, 5, 0, 2, 0, 1, 1, 4, 0, 2, 7, 3, 0, 2, 2, 8, 3, 7, 5, 2, 4, 3, 6, 6, 6, 3, 9, 0, 0, 0, 3, 1, 0, 5, 4, 2, 0, 9, 1, 7, 4, 0, 6, 3, 1, 5, 9, 4, 4, 6, 5, 3, 4, 6, 5, 5, 6, 8, 4, 6, 5, 9, 4, 3, 4, 0, 8, 3, 5, 1, 7, 2, 8, 5, 8, 0, 3, 3, 3, 9, 6, 3, 3, 9, 2, 4, 8, 7, 0, 0, 5, 5, 0, 1, 1, 7, 5, 3, 2, 3, 6, 6, 3, 1, 8, 4, 9, 6, 2, 1, 4, 6, 3, 9, 6, 6, 3, 1, 1, 9, 8, 9, 6, 4, 9, 0, 8, 2, 0, 3, 2, 7, 3, 8, 6, 8, 5, 5, 8, 3, 8, 4, 9, 5, 1, 2, 4, 6, 0, 9, 0, 5, 4, 5, 6, 5, 7, 6, 1, 9, 9, 2, 6, 2, 1, 1, 3, 6, 7, 5, 2, 5, 6, 5, 3, 8, 1, 0, 4, 9, 4, 9, 3, 3, 4, 7, 8, 6, 5, 9, 1, 8, 7, 5, 1, 6, 0, 6, 6, 8, 0, 4, 1, 2, 8, 9, 2, 2, 2, 7, 6, 1, 8, 4, 4, 5, 8, 0, 5, 3, 1, 8, 9, 4, 3, 7, 0, 7, 8, 5, 4, 6, 0, 1, 6, 3, 6, 9, 1, 8, 4, 0, 7, 1, 5, 2, 1, 1, 9, 0, 5, 6, 6, 1, 3, 1, 5, 7, 5, 5, 1, 2, 0, 2, 0, 5, 8, 6, 6, 4, 2, 3, 1, 7, 1, 8, 9, 1, 9, 7, 7, 1, 1, 6, 6, 1, 9, 5, 1, 0, 3, 9, 5, 5, 9, 3, 3, 9, 4, 7, 0, 7, 6, 1, 7, 5, 0, 2, 0, 8, 1, 4, 3, 6, 6, 4, 3, 3, 2, 0, 0, 7, 4, 8, 9, 0, 8, 8, 8, 5, 6, 6, 4, 7, 2, 4, 1, 1, 4, 8, 2, 9, 8, 4, 1, 4, 6, 4, 0, 1, 9, 4, 2, 0, 7, 1, 6, 6, 3, 3, 9, 2, 5, 8, 4, 3, 6, 2, 8, 3, 9, 8, 5, 7, 7, 6, 7, 5, 7, 1, 5, 0, 6, 1, 6, 5, 6, 5, 0, 5, 7, 7, 6, 6, 5, 8, 1, 9, 7, 5, 3, 4, 5, 4, 7, 0, 5, 9, 1, 3, 3, 8, 4, 4, 2, 0, 7, 6, 2, 0, 0, 3, 4, 1, 8, 3, 4, 1, 0, 6, 7, 1, 9, 8, 5, 5, 2, 7, 1, 7, 9, 6, 3, 0, 4, 0, 4, 3, 7, 1, 9, 3, 0, 2, 7, 7, 1, 8, 1, 2, 5, 6, 6, 5, 6, 5, 2, 4, 3, 0, 3, 9, 0, 5, 7, 8, 3, 3, 4, 0, 2, 5, 9, 3, 9, 1, 2, 2, 4, 7, 1, 8, 6, 7, 2, 2, 4, 1, 9, 8, 5, 7, 7, 0, 1, 3, 7, 1, 8, 2, 6, 8, 8, 5, 3, 9, 4, 8, 1, 5, 1, 3, 6, 1, 0, 5, 0, 8, 3, 1, 4, 0, 7, 4, 2, 1, 3, 2, 9, 5, 8, 1, 9, 1, 5, 4, 3, 6, 0, 4, 5, 5, 8, 5, 3, 6, 0, 4, 4, 3, 8, 7, 7, 0, 8, 4, 6, 4, 8, 4, 4, 3, 2, 7, 0, 9, 0, 0, 4, 4, 2, 3, 4, 7, 7, 5, 3, 6, 0, 1, 7, 3, 3, 6, 6, 4, 3, 7, 7, 5, 2, 5, 5, 4, 1, 6, 6, 2, 3, 2, 8, 6, 7, 8, 5, 0, 7, 9, 5, 6, 3, 1, 7, 5, 2, 1, 5, 2, 5, 9, 1, 3, 4, 9, 6, 0, 3, 6, 2, 9, 6, 5, 9, 6, 9, 0, 4, 7, 1, 7, 1, 8, 3, 5, 1, 7, 3, 3, 3, 5, 9, 5, 3, 3, 6, 0, 7, 1, 0, 0, 7, 1, 5, 8, 9, 7, 7, 3, 6, 5, 5, 3, 6, 0, 9, 0, 4, 0, 1, 2, 5, 1, 3, 6, 8, 7, 4, 4, 3, 7, 4, 6, 1, 8, 4, 3, 8, 7, 6, 7, 4, 9, 0, 8, 8, 1, 4, 9, 6, 2, 5, 2, 2, 0, 9, 3, 8, 1, 8, 4, 6, 9, 5, 7, 2, 2, 9, 7, 1, 0, 4, 7, 9, 0, 5, 0, 8, 4, 7, 3, 5, 9, 0, 0, 2, 3, 9, 0, 9, 2, 5, 6, 7, 8, 7, 4, 1, 8, 8, 9, 1, 8, 2, 9, 9, 7, 5, 1, 7, 5, 5, 3, 2, 0, 0, 8, 7, 3, 3, 6, 1, 0, 9, 0, 6, 3, 8, 8, 6, 4, 0, 2, 5, 7, 8, 1, 8, 4, 3, 6, 1, 5, 3, 5, 9, 0, 2, 5, 4, 4, 5, 6, 7, 8, 6, 7, 8, 4, 5, 7, 9, 2, 1, 9, 3, 2, 5, 1, 5, 3, 8, 6, 5, 0, 6, 8, 1, 0, 5, 1, 8, 1, 2, 5, 9, 7, 2, 0, 0, 1, 6, 1, 6, 7, 6, 8, 1, 7, 4, 2, 8, 1, 9, 7, 5, 9, 8, 8, 0, 5, 1, 8, 7, 1, 8, 2, 6, 9, 5, 9, 1, 0, 0, 3, 5, 6, 9, 0, 6, 5, 6, 2, 2, 3, 2, 1, 8, 9, 4, 4, 3, 1, 8, 5, 1, 5, 6, 0, 3, 8, 2, 8, 2, 8, 8, 2, 5, 2, 8, 4, 6, 6, 2, 8, 5, 5, 3, 2, 7, 5, 6, 1, 7, 5, 8, 4, 9, 7, 9, 7, 7, 4, 6, 4, 2, 3, 3, 2, 6, 0, 9, 9, 6, 7, 9, 2, 5, 1, 0, 6, 7, 8, 4, 4, 7, 0, 9, 0, 0, 1, 7, 9, 5, 3, 5, 0, 2, 2, 6, 7, 9, 8, 3, 4, 3, 1, 2, 5, 8, 6, 4, 8, 3, 5, 6, 7, 5, 3, 3, 8, 2, 3, 9, 6, 2, 1, 2, 7, 7, 1, 3, 8, 5, 7, 4, 9, 5, 6, 2, 7, 3, 4, 7, 7, 2, 5, 0, 1, 4, 6, 7, 5, 5, 0, 2, 4, 8, 8, 7, 8, 6, 8, 0, 5, 9, 7, 9, 0, 9, 7, 6, 0, 0, 7, 3, 7, 9, 4, 9, 7, 9, 6, 0, 4, 3, 1, 4, 0, 0, 1, 8, 2, 8, 4, 8, 3, 9, 4, 5, 3, 7, 6, 9, 6, 8, 2, 3, 6, 7, 6, 1, 9, 8, 3, 4, 3, 7, 0, 2, 3, 7, 0, 2, 1, 8, 7, 0, 5, 7, 0, 4, 8, 5, 2, 9, 0, 1, 0, 5, 4, 9, 2, 4, 8, 2, 4, 5, 1, 3, 4, 6, 4, 1, 2, 4, 3, 8, 6, 0, 3, 5, 7, 0, 5, 7, 5, 8, 8, 8, 6, 8, 2, 8, 0, 2, 1, 3, 6, 5, 1, 2, 0, 4, 9, 5, 7, 1, 0, 7, 1, 3, 7, 4, 5, 4, 3, 1, 8, 5, 5, 9, 1, 1, 5, 6, 1, 0, 4, 2, 3, 3, 7, 5, 1, 8, 5, 5, 1, 7, 7, 1, 5, 1, 2, 3, 8, 8, 3, 3, 9, 6, 4, 5, 7, 3, 8, 2, 6, 9, 2, 4, 0, 7, 3, 0, 0, 7, 8, 5, 1, 7, 4, 2, 8, 8, 3, 0, 9, 6, 6, 6, 2, 3, 0, 8, 6, 9, 1, 6, 1, 9, 6, 8, 8, 1, 4, 9, 0, 1, 3, 6, 4, 7, 3, 6, 0, 9, 1, 5, 3, 1, 9, 2, 9, 2, 1, 6, 9, 9, 2, 9, 7, 0, 1, 2, 6, 2, 1, 2, 6, 6, 7, 4, 1, 4, 3, 6, 9, 7, 2, 8, 7, 0, 0, 6, 7, 3, 5, 3, 5, 4, 5, 8, 9, 8, 5, 2, 2, 1, 9, 3, 3, 3, 1, 8, 3, 3, 3, 1, 5, 4, 6, 2, 6, 3, 9, 2, 2, 1, 0, 3, 6, 2, 8, 4, 0, 6, 6, 8, 7, 4, 0, 0, 4, 8, 4, 1, 3, 3, 1, 1, 5, 4, 1, 1, 7, 9, 5, 5, 5, 9, 8, 1, 9, 4, 5, 9, 7, 1, 6, 2, 1, 3, 6, 0, 4, 1, 0, 3, 6, 8, 6, 2, 1, 7, 9, 3, 3, 2, 2, 4, 4, 1, 4, 3, 3, 6, 5, 9, 7, 5, 1, 6, 5, 4, 7, 3, 9, 5, 7, 6, 8, 0, 5, 0, 8, 6, 5, 7, 8, 1, 5, 5, 2, 8, 6, 8, 9, 6, 9, 1, 1, 4, 7, 7, 5, 5, 1, 7, 6, 9, 3, 3, 9, 4, 3, 5, 6, 4, 4, 6, 6, 8, 9, 4, 3, 3, 6, 1, 4, 3, 5, 9, 8, 4, 2, 6, 0, 3, 4, 9, 5, 2, 6, 2, 1, 6, 7, 4, 6, 6, 9, 3, 1, 9, 4, 0, 4, 4, 5, 3, 6, 4, 7, 2, 3, 4, 0, 3, 5, 3, 9, 5, 5, 1, 5, 8, 3, 2, 4, 9, 2, 9, 8, 3, 8, 8, 4, 3, 0, 3, 7, 5, 6, 9, 0, 9, 8, 2, 5, 2, 8, 2, 9, 2, 6, 9, 1, 5, 5, 0, 9, 2, 2, 9, 3, 5, 5, 5, 9, 8, 3, 3, 3, 3, 9, 5, 7, 9, 7, 4, 7, 7, 0, 4, 2, 5, 1, 2, 8, 1, 3, 4, 6, 7, 9, 9, 2, 0, 9, 4, 8, 5, 9, 3, 9, 8, 0, 2, 4, 3, 2, 7, 9, 9, 5, 4, 5, 7, 0, 4, 6, 1, 5, 7, 4, 5, 2, 3, 0, 4, 8, 7, 1, 5, 9, 0, 3, 8, 4, 5, 5, 1, 5, 5, 3, 3, 2, 9, 5, 6, 2, 4, 7, 0, 7, 9, 8, 6, 3, 6, 4, 7, 7, 1, 8, 4, 5, 4, 0, 6, 6, 8, 1, 3, 2, 4, 4, 3, 5, 5, 8, 6, 2, 7, 3, 8, 6, 8, 3, 2, 1, 2, 8, 5, 7, 1, 7, 5, 1, 6, 3, 4, 1, 0, 1, 9, 1, 2, 1, 5, 3, 9, 3, 8, 2, 1, 4, 9, 8, 5, 4, 1, 9, 3, 9, 1, 7, 9, 3, 1, 6, 2, 7, 0, 6, 7, 4, 3, 0, 1, 0, 3, 4, 3, 4, 9, 6, 0, 9, 2, 2, 6, 8, 2, 6, 3, 7, 2, 1, 7, 8, 5, 7, 9, 3, 8, 6, 1, 5, 9, 5, 4, 3, 2, 7, 3, 9, 8, 1, 2, 2, 6, 0, 5, 8, 8, 9, 3, 1, 7, 8, 3, 6, 1, 1, 0, 2, 1, 9, 3, 4, 0, 6, 9, 6, 0, 4, 9, 3, 8, 3, 8, 6, 7, 1, 7, 6, 3, 4, 9, 1, 0, 3, 2, 5, 0, 7, 3, 9, 9, 7, 5, 9, 8, 5, 1, 7, 8, 5, 3, 0, 6, 3, 1, 3, 2, 7, 0, 7, 7, 6, 5, 5, 9, 5, 1, 7, 1, 6, 2, 8, 3, 0, 1, 3, 4, 4, 6, 5, 8, 4, 6, 3, 0, 9, 0, 1, 3, 2, 3, 7, 9, 7, 4, 6, 4, 4, 2, 5, 8, 5, 8, 3, 4, 6, 9, 6, 7, 7, 9, 9, 2, 7, 0, 0, 8, 5, 8, 6, 3, 3, 4, 6, 5, 7, 8, 7, 5, 8, 8, 5, 8, 7, 6, 4, 3, 4, 9, 1, 1, 6, 9, 5, 6, 3, 2, 4, 8, 1, 9, 1, 9, 3, 7, 2, 9, 7, 4, 1, 5, 5, 7, 8, 9, 4, 9, 5, 3, 8, 9, 5, 3, 8, 3, 1, 4, 0, 9, 5, 4, 5, 8, 2, 9, 8, 4, 8, 6, 6, 3, 1, 9, 9, 1, 0, 8, 4, 7, 3, 9, 7, 2, 8, 3, 4, 7, 7, 5, 4, 9, 3, 6, 0, 1, 9, 9, 9, 7, 2, 8, 0, 1, 0, 7, 1, 2, 8, 8, 4, 3, 4, 5, 1, 4, 1, 8, 3, 0, 8, 5, 1, 5, 8, 2, 5, 0, 9, 6, 9, 1, 7, 9, 9, 0, 5, 7, 6, 2, 1, 7, 3, 0, 8, 9, 2, 2, 8, 2, 8, 2, 2, 4, 3, 7, 3, 8, 3, 8, 4, 1, 2, 4, 6, 5, 0, 9, 3, 3, 9, 7, 9, 2, 6, 2, 8, 3, 7, 2, 5, 9, 9, 4, 6, 3, 0, 9, 1, 3, 6, 4, 7, 7, 0, 8, 6, 4, 6, 1, 0, 8, 9, 9, 4, 3, 4, 3, 6, 0, 8, 9, 1, 2, 2, 0, 1, 2, 5, 4, 3, 4, 8, 9, 6, 8, 0, 6, 8, 4, 0, 4, 7, 1, 1, 3, 5, 7, 5, 4, 1, 0, 6, 4, 7, 2, 7, 8, 0, 9, 6, 1, 5, 3, 1, 0, 7, 7, 3, 4, 2, 0, 3, 7, 0, 7, 9, 5, 7, 5, 1, 4, 0, 3, 9, 5, 3, 3, 8, 8, 8, 6, 2, 1, 5, 2, 5, 1, 5, 7, 3, 2, 4, 2, 1, 0, 5, 0, 5, 9, 4, 0, 9, 8, 8, 7, 5, 4, 7, 0, 5, 8, 4, 9, 2, 0, 3, 0, 1, 9, 0, 9, 6, 8, 2, 3, 6, 7, 3, 0, 0, 3, 1, 7, 7, 8, 4, 2, 6, 7, 5, 8, 5, 8, 9, 5, 0, 2, 0, 8, 3, 8, 2, 3, 8, 4, 7, 1, 7, 7, 6, 1, 8, 1, 9, 9, 5, 2, 8, 7, 0, 3, 8, 2, 6, 5, 1, 3, 2, 0, 5, 2, 2, 0, 2, 8, 6, 4, 0, 4, 5, 4, 5, 4, 2, 8, 4, 8, 6, 2, 6, 4, 8, 8, 3, 5, 5, 6, 7, 9, 3, 2, 0, 9, 8, 8, 4, 3, 7, 2, 5, 3, 3, 1, 4, 7, 4, 0, 6, 0, 9, 8, 9, 0, 1, 1, 9, 9, 1, 3, 7, 6, 3, 0, 3, 0, 3, 4, 8, 6, 4, 9, 3, 7, 2, 1, 0, 0, 2, 0, 8, 2, 8, 7, 7, 6, 1, 9, 7, 2, 1, 0, 0, 3, 6, 4, 9, 1, 4, 9, 4, 8, 3, 7, 8, 3, 0, 9, 8, 2, 0, 6, 7, 8, 1, 0, 5, 6, 3, 7, 2, 6, 0, 2, 3, 8, 0, 7, 4, 7, 3, 1, 8, 5, 3, 7, 1, 5, 3, 7, 3, 4, 0, 7, 7, 4, 4, 7, 5, 0, 5, 8, 2, 6, 6, 4, 2, 4, 5, 7, 8, 7, 7, 2, 6, 3, 4, 5, 0, 5, 6, 2, 3, 9, 7, 0, 4, 0, 6, 2, 5, 3, 3, 1, 2, 0, 3, 5, 4, 5, 3, 5, 1, 9, 4, 1, 8, 9, 9, 9, 0, 1, 4, 9, 9, 0, 4, 6, 3, 2, 3, 1, 5, 4, 8, 3, 3, 2, 9, 3, 5, 9, 0, 1, 0, 6, 6, 7, 0, 3, 2, 2, 7, 4, 5, 0, 5, 0, 2, 8, 9, 4, 4, 7, 9, 1, 5, 7, 2, 9, 7, 2, 1, 3, 4, 9, 9, 0, 4, 2, 0, 6, 0, 2, 2, 5, 8, 4, 5, 6, 0, 9, 7, 4, 7, 2, 4, 6, 5, 5, 3, 9, 2, 3, 1, 3, 1, 4, 3, 5, 1, 0, 4, 9, 9, 0, 5, 6, 8, 4, 3, 8, 2, 0, 7, 7, 3, 3, 2, 7, 2, 1, 6, 9, 0, 5, 5, 6, 7, 0, 3, 6, 3, 3, 3, 8, 5, 1, 4, 5, 0, 6, 8, 6, 3, 8, 5, 7, 0, 5, 1, 5, 0, 0, 4, 6, 4, 6, 8, 4, 7, 6, 9, 7, 8, 7, 9, 4, 5, 9, 3, 6, 4, 2, 0, 3, 4, 0, 2, 2, 1, 3, 5, 4, 9, 1, 2, 7, 7, 2, 9, 0, 7, 2, 7, 5, 2, 4, 1, 1, 4, 3, 7, 9, 7, 9, 9, 0, 7, 3, 2, 7, 3, 5, 4, 4, 3, 1, 8, 8, 3, 8, 7, 1, 2, 1, 2, 2, 1, 3, 4, 3, 8, 6, 9, 1, 3, 4, 9, 5, 7, 9, 0, 3, 8, 1, 3, 3, 4, 6, 9, 5, 2, 6, 7, 4, 5, 8, 8, 7, 8, 0, 7, 4, 8, 2, 4, 1, 9, 8, 6, 0, 6, 5, 8, 9, 2, 7, 3, 4, 3, 8, 0, 2, 7, 9, 0, 3, 3, 7, 2, 3, 6, 6, 1, 0, 0, 9, 0, 2, 0, 4, 4, 7, 8, 1, 9, 4, 5, 4, 1, 5, 7, 3, 7, 4, 6, 9, 2, 7, 3, 6, 8, 7, 7, 1, 7, 1, 0, 4, 0, 0, 3, 8, 6, 8, 1, 4, 0, 0, 3, 2, 4, 9, 9, 3, 1, 5, 6, 7, 6, 2, 0, 6, 2, 2, 5, 4, 9, 9, 3, 7, 5, 9, 2, 4, 5, 3, 9, 4, 8, 2, 0, 4, 5, 5, 9, 0, 9, 9, 5, 8, 0, 3, 2, 3, 8, 0, 1, 6, 0, 7, 5, 8, 2, 3, 3, 3, 8, 5, 7, 2, 4, 0, 8, 6, 6, 3, 9, 4, 5, 8, 6, 0, 8, 9, 1, 3, 6, 4, 1, 9, 1, 7, 8, 7, 7, 1, 9, 3, 0, 9, 5, 1, 3, 8, 3, 9, 1, 1, 6, 9, 1, 2, 0, 7, 3, 8, 4, 1, 9, 1, 3, 7, 1, 7, 6, 1, 7, 0, 5, 5, 9, 2, 1, 1, 7, 1, 7, 3, 1, 9, 7, 1, 1, 6, 5, 2, 5, 8, 6, 9, 2, 3, 4, 5, 1, 7, 3, 8, 1, 7, 3, 1, 2, 2, 6, 9, 5, 0, 0, 3, 1, 3, 1, 3, 6, 8, 0, 3, 8, 7, 2, 2, 1, 2, 6, 8, 1, 5, 8, 3, 9, 7, 9, 9, 0, 5, 9, 6, 3, 1, 1, 1, 3, 9, 7, 9, 9, 0, 9, 3, 0, 0, 4, 3, 1, 8, 8, 9, 2, 7, 6, 0, 0, 6, 3, 4, 1, 7, 1, 7, 7, 9, 1, 3, 3, 4, 5, 1, 7, 8, 0, 9, 0, 1, 9, 5, 7, 1, 4, 1, 6, 2, 3, 5, 2, 9, 1, 4, 8, 9, 2, 1, 8, 1, 3, 7, 7, 7, 0, 4, 3, 0, 1, 2, 6, 2, 2, 8, 6, 1, 5, 1, 8, 1, 7, 4, 9, 1, 5, 8, 9, 0, 3, 5, 1, 9, 6, 7, 7, 8, 2, 8, 8, 9, 0, 0, 7, 9, 0, 5, 4, 3, 9, 1, 3, 1, 6, 2, 5, 2, 6, 8, 9, 2, 3, 6, 7, 0, 5, 4, 9, 6, 4, 5, 7, 2, 1, 0, 1, 7, 0, 7, 3, 1, 2, 2, 4, 8, 0, 9, 7, 3, 7, 7, 1, 9, 4, 7, 5, 3, 5, 8, 8, 4, 7, 8, 3, 5, 2, 5, 2, 6, 1, 4, 7, 7, 1, 4, 2, 5, 2, 9, 4, 4, 5, 4, 2, 6, 5, 0, 8, 5, 3, 1, 7, 0, 6, 9, 3, 0, 6, 1, 9, 7, 1, 7, 9, 7, 4, 3, 7, 4, 8, 0, 8, 3, 1, 7, 5, 4, 5, 5, 6, 9, 0, 8, 8, 5, 9, 2, 3, 7, 7, 4, 6, 2, 7, 2, 2, 4, 5, 3, 6, 4, 5, 5, 3, 8, 3, 6, 2, 6, 7, 1, 0, 6, 3, 4, 5, 6, 9, 3, 1, 6, 0, 0, 7, 0, 2, 2, 2, 5, 5, 1, 5, 1, 4, 7, 9, 1, 3, 8, 3, 0, 8, 0, 8, 4, 4, 5, 0, 1, 4, 3, 8, 3, 2, 0, 1, 0, 1, 6, 3, 1, 7, 2, 2, 5, 7, 1, 9, 4, 5, 4, 2, 9, 0, 7, 6, 8, 5, 3, 7, 0, 7, 6, 4, 3, 4, 9, 1, 6, 3, 6, 7, 6, 1, 8, 9, 0, 4, 5, 5, 6, 6, 8, 7, 2, 2, 9, 9, 0, 7, 9, 6, 5, 8, 4, 7, 7, 7, 8, 3, 7, 3, 6, 0, 6, 3, 7, 5, 5, 0, 2, 6, 2, 7, 3, 6, 0, 0, 9, 7, 1, 9, 8, 0, 6, 9, 6, 7, 4, 0, 9, 6, 0, 1, 9, 6, 2, 5, 3, 4, 7, 2, 0, 1, 5, 6, 7, 7, 9, 2, 5, 5, 9, 7, 2, 8, 5, 1, 8, 6, 5, 3, 7, 1, 7, 5, 6, 5, 1, 1, 7, 1, 9, 4, 5, 2, 7, 5, 1, 6, 1, 6, 4, 9, 5, 1, 7, 1, 6, 0, 8, 3, 2, 1, 1, 6, 3, 5, 4, 0, 8, 6, 0, 2, 4, 1, 9, 1, 7, 3, 0, 2, 1, 0, 4, 4, 7, 4, 8, 2, 2, 0, 4, 4, 5, 6, 7, 2, 1, 2, 3, 7, 2, 7, 0, 5, 8, 0, 9, 7, 9, 9, 0, 7, 7, 2, 3, 7, 4, 2, 8, 5, 7, 5, 0, 9, 4, 7, 3, 3, 0, 2, 4, 4, 6, 8, 6, 2, 1, 5, 5, 4, 3, 6, 9, 7, 9, 5, 8, 9, 3, 3, 7, 2, 3, 9, 5, 8, 0, 6, 0, 8, 3, 0, 9, 0, 2, 1, 1, 9, 6, 2, 2, 1, 1, 8, 8, 8, 7, 1, 9, 8, 0, 4, 6, 3, 5, 2, 8, 5, 3, 0, 5, 5, 4, 0, 6, 0, 1, 1, 3, 5, 7, 3, 8, 0, 5, 2, 1, 7, 9, 1, 9, 4, 9, 0, 8, 7, 5, 4, 1, 1, 0, 7, 7, 5, 7, 8, 2, 4, 8, 8, 9, 0, 5, 9, 9, 5, 1, 4, 4, 9, 5, 7, 3, 7, 0, 5, 1, 6, 9, 7, 5, 0, 0, 2, 7, 5, 0, 7, 0, 9, 5, 5, 8, 3, 4, 7, 4, 2, 2, 4, 9, 7, 0, 5, 6, 3, 1, 5, 9, 3, 8, 6, 6, 9, 0, 9, 5, 6, 2, 8, 9, 3, 5, 9, 1, 4, 3, 1, 4, 9, 0, 4, 2, 6, 3, 8, 5, 9, 9, 1, 8, 6, 3, 3, 0, 0, 7, 5, 1, 3, 1, 1, 5, 7, 2, 4, 0, 4, 7, 5, 8, 0, 7, 4, 4, 8, 9, 9, 0, 7, 6, 6, 2, 2, 5, 0, 9, 4, 1, 2, 9, 1, 7, 6, 2, 3, 7, 6, 5, 0, 4, 9, 8, 5, 1, 9, 6, 6, 3, 9, 1, 1, 9, 1, 5, 2, 1, 2, 4, 8, 0, 8, 6, 3, 2, 6, 5, 1, 6, 0, 4, 5, 6, 3, 4, 2, 0, 3, 8, 7, 6, 4, 4, 3, 0, 9, 7, 8, 7, 7, 8, 7, 0, 8, 8, 7, 7, 7, 8, 5, 4, 8, 5, 4, 1, 0, 4, 7, 6, 9, 7, 4, 9, 2, 7, 6, 0, 3, 9, 7, 4, 5, 0, 9, 1, 7, 9, 6, 1, 1, 5, 2, 1, 0, 4, 3, 2, 9, 3, 2, 6, 7, 1, 2, 4, 1, 6, 7, 9, 4, 0, 8, 5, 9, 0, 9, 6, 7, 8, 1, 9, 8, 7, 5, 6, 7, 7, 6, 8, 1, 6, 7, 0, 6, 3, 7, 6, 4, 3, 1, 9, 9, 3, 3, 6, 4, 0, 1, 8, 0, 1, 9, 0, 5, 6, 4, 8, 4, 5, 5, 8, 2, 0, 0, 8, 3, 8, 9, 8, 9, 2, 2, 8, 9, 5, 5, 8, 1, 7, 0, 7, 9, 1, 2, 3, 7, 4, 4, 8, 7, 6, 8, 2, 5, 9, 8, 2, 3, 7, 3, 1, 0, 1, 4, 5, 7, 9, 4, 7, 7, 2, 5, 8, 0, 6, 2, 5, 1, 5, 1, 6, 8, 3, 2, 5, 4, 4, 6, 5, 6, 9, 5, 4, 5, 3, 1, 5, 4, 8, 0, 8, 6, 4, 3, 7, 7, 0, 8, 6, 0, 8, 3, 6, 5, 7, 1, 2, 1, 2, 4, 1, 2, 2, 5, 2, 9, 4, 9, 8, 8, 3, 1, 5, 1, 3, 8, 2, 0, 8, 6, 8, 5, 8, 5, 4, 2, 4, 0, 7, 6, 4, 8, 6, 5, 1, 8, 2, 2, 2, 2, 1, 0, 7, 4, 0, 0, 9, 2, 0, 1, 8, 5, 8, 1, 5, 0, 0, 4, 4, 8, 9, 6, 2, 6, 3, 0, 2, 4, 3, 7, 9, 4, 0, 6, 2, 9, 3, 2, 2, 1, 8, 7, 0, 7, 1, 6, 2, 1, 8, 9, 4, 3, 6, 7, 2, 9, 6, 0, 2, 5, 2, 7, 2, 4, 8, 0, 5, 6, 1, 5, 9, 1, 9, 8, 3, 7, 8, 4, 0, 1, 7, 0, 2, 3, 0, 1, 3, 2, 8, 1, 1, 0, 4, 2, 0, 9, 2, 4, 2, 0, 0, 0, 9, 3, 0, 5, 8, 4, 0, 1, 9, 2, 3, 9, 0, 9, 8, 9, 0, 0, 7, 9, 0, 3, 2, 6, 4, 9, 4, 2, 1, 8, 5, 7, 6, 5, 1, 2, 9, 1, 9, 1, 7, 2, 5, 6, 6, 6, 6, 4, 6, 6, 0, 5, 8, 8, 1, 9, 9, 8, 8, 5, 6, 6, 7, 0, 1, 8, 5, 7, 5, 3, 6, 9, 9, 3, 3, 1, 3, 6, 3, 2, 3, 0, 5, 7, 3, 1, 0, 4, 6, 0, 8, 1, 1, 4, 7, 5, 2, 1, 6, 7, 3, 0, 1, 0, 5, 0, 4, 7, 6, 8, 5, 0, 1, 1, 8, 3, 2, 3, 6, 9, 3, 9, 9, 9, 7, 6, 2, 8, 9, 5, 0, 4, 3, 6, 8, 2, 9, 9, 8, 2, 2, 4, 6, 6, 6, 4, 5, 7, 0, 7, 2, 3, 2, 0, 7, 8, 6, 8, 5, 6, 1, 5, 7, 1, 2, 2, 1, 5, 1, 0, 0, 4, 1, 7, 6, 9, 5, 2, 3, 2, 5, 0, 6, 5, 2, 8, 6, 1, 3, 9, 3, 9, 3, 7, 8, 7, 1, 7, 5, 5, 1, 1, 5, 8, 3, 2, 4, 7, 4, 7, 9, 0, 8, 6, 0, 0, 2, 1, 6, 4, 4, 4, 9, 2, 2, 9, 6, 7, 3, 6, 0, 8, 1, 4, 5, 7, 5, 4, 6, 0, 4, 7, 5, 6, 9, 9, 5, 7, 5, 6, 0, 8, 9, 4, 3, 4, 3, 4, 6, 0, 0, 2, 4, 0, 3, 8, 9, 6, 9, 0, 8, 4, 3, 5, 2, 3, 3, 2, 7, 1, 6, 6, 1, 1, 9, 5, 7, 5, 4, 8, 3, 9, 1, 0, 8, 3, 7, 2, 0, 3, 5, 0, 9, 1, 9, 5, 9, 6, 7, 4, 2, 7, 4, 3, 2, 4, 6, 7, 9, 4, 5, 0, 3, 7, 7, 2, 5, 6, 8, 6, 7, 3, 7, 1, 2, 8, 4, 4, 6, 3, 2, 2, 9, 5, 6, 7, 8, 4, 9, 3, 8, 3, 4, 5, 1, 6, 6, 5, 4, 2, 4, 0, 1, 1, 7, 6, 8, 3, 9, 1, 8, 1, 4, 5, 9, 8, 5, 2, 5, 8, 6, 4, 8, 1, 3, 3, 7, 2, 5, 8, 7, 1, 4, 5, 5, 9, 6, 0, 7, 3, 6, 0, 9, 8, 1, 7, 6, 8, 4, 6, 9, 7, 9, 5, 0, 8, 1, 2, 4, 2, 4, 3, 6, 9, 1, 6, 4, 9, 0, 5, 7, 1, 2, 6, 0, 3, 8, 5, 1, 0, 0, 2, 3, 5, 7, 2, 5, 9, 3, 4, 4, 3, 1, 3, 8, 8, 1, 7, 1, 2, 8, 8, 5, 8, 6, 8, 2, 4, 5, 6, 2, 3, 2, 6, 1, 5, 2, 5, 2, 5, 0, 2, 8, 5, 7, 9, 4, 8, 5, 4, 2, 4, 1, 5, 3, 8, 1, 2, 4, 6, 4, 3, 3, 3, 1, 8, 8, 3, 4, 5, 6, 1, 8, 6, 1, 8, 2, 0, 8, 9, 6, 1, 9, 9, 4, 2, 3, 0, 6, 8, 9, 1, 9, 5, 6, 5, 7, 8, 0, 4, 3, 7, 7, 9, 9, 1, 5, 0, 0, 4, 7, 6, 8, 8, 7, 7, 3, 3, 0, 2, 5, 2, 3, 4, 4, 7, 8, 8, 6, 7, 2, 4, 4, 2, 9, 6, 6, 5, 6, 4, 5, 0, 9, 9, 7, 4, 2, 0, 5, 5, 3, 5, 9, 4, 5, 3, 6, 7, 6, 3, 5, 9, 8, 2, 5, 8, 1, 0, 8, 6, 5, 4, 9, 8, 1, 1, 3, 6, 7, 5, 8, 3, 7, 9, 9, 8, 0, 2, 4, 2, 2, 5, 9, 5, 5, 3, 3, 3, 2, 1, 1, 2, 9, 5, 0, 8, 8, 8, 7, 5, 7, 7, 4, 6, 9, 6, 0, 3, 9, 9, 7, 3, 2, 3, 9, 5, 9, 1, 4, 2, 6, 3, 7, 0, 9, 3, 9, 6, 5, 7, 6, 6, 1, 2, 1, 0, 9, 4, 4, 4, 2, 0, 3, 8, 2, 0, 9, 4, 3, 4, 6, 6, 0, 6, 0, 9, 8, 7, 1, 5, 8, 8, 1, 4, 5, 5, 1, 7, 1, 1, 9, 2, 2, 3, 7, 0, 0, 5, 0, 3, 0, 7, 7, 8, 9, 1, 2, 1, 0, 3, 7, 0, 9, 1, 9, 9, 0, 8, 2, 5, 7, 2, 8, 8, 8, 9, 7, 7, 6, 2, 0, 0, 4, 0, 7, 3, 9, 0, 4, 5, 1, 6, 3, 7, 6, 9, 8, 1, 9, 0, 8, 2, 6, 1, 9, 9, 2, 4, 7, 6, 6, 8, 1, 6, 3, 3, 7, 9, 1, 7, 9, 6, 2, 9, 7, 3, 4, 5, 0, 9, 6, 0, 6, 1, 3, 2, 5, 1, 1, 1, 7, 1, 8, 8, 4, 6, 1, 4, 4, 9, 6, 2, 7, 2, 1, 0, 0, 9, 2, 1, 8, 9, 6, 8, 4, 2, 5, 8, 4, 3, 3, 6, 8, 5, 9, 9, 4, 1, 8, 1, 1, 7, 7, 8, 1, 5, 2, 1, 1, 2, 6, 1, 3, 3, 3, 7, 5, 3, 9, 4, 4, 2, 6, 8, 4, 6, 6, 5, 8, 6, 3, 6, 9, 6, 2, 4, 8, 0, 4, 0, 9, 9, 9, 6, 1, 5, 9, 6, 5, 4, 5, 1, 9, 2, 2, 1, 7, 4, 0, 7, 6, 1, 9, 8, 0, 1, 2, 7, 0, 0, 7, 9, 2, 9, 1, 4, 7, 8, 8, 5, 5, 9, 6, 3, 0, 9, 8, 2, 5, 7, 8, 5, 1, 8, 5, 8, 9, 3, 2, 3, 2, 5, 6, 3, 2, 5, 9, 2, 1, 0, 4, 8, 9, 6, 7, 8, 5, 2, 0, 2, 1, 9, 4, 4, 6, 4, 8, 2, 4, 2, 5, 6, 6, 3, 3, 1, 2, 9, 3, 8, 4, 6, 5, 7, 2, 4, 2, 7, 0, 1, 8, 5, 2, 6, 1, 3, 3, 6, 8, 0, 2, 6, 0, 8, 1, 7, 4, 8, 6, 1, 7, 6, 1, 1, 7, 1, 4, 8, 6, 0, 9, 1, 4, 5, 8, 5, 7, 4, 6, 5, 6, 2, 7, 8, 3, 5, 6, 7, 3, 0, 8, 6, 4, 2, 3, 8, 6, 9, 3, 0, 9, 9, 2, 4, 9, 0, 5, 8, 9, 9, 2, 2, 2, 9, 5, 6, 6, 5, 4, 3, 4, 5, 1, 7, 9, 3, 8, 9, 9, 9, 4, 0, 4, 9, 2, 1, 5, 8, 2, 6, 2, 9, 0, 4, 6, 7, 9, 4, 8, 3, 5, 2, 3, 7, 2, 6, 5, 0, 5, 0, 3, 7, 1, 4, 2, 1, 7, 5, 4, 8, 3, 5, 0, 2, 4, 1, 1, 8, 5, 3, 9, 3, 5, 3, 6, 7, 4, 3, 8, 0, 7, 3, 0, 8, 8, 7, 7, 7, 6, 1, 1, 5, 3, 1, 1, 0, 0, 8, 7, 3, 1, 0, 0, 8, 2, 2, 8, 6, 9, 0, 3, 3, 7, 9, 4, 2, 5, 4, 8, 9, 4, 9, 9, 2, 3, 9, 5, 1, 7, 2, 5, 8, 1, 8, 1, 6, 3, 1, 4, 4, 9, 4, 7, 5, 3, 2, 2, 1, 0, 3, 7, 8, 4, 4, 1, 5, 0, 8, 0, 5, 8, 9, 8, 0, 6, 1, 3, 5, 3, 0, 9, 2, 2, 1, 3, 4, 7, 4, 9, 0, 8, 0, 0, 0, 4, 0, 0, 2, 8, 1, 4, 6, 2, 2, 5, 3, 2, 8, 2, 2, 3, 3, 3, 9, 7, 8, 5, 2, 7, 5, 5, 5, 9, 2, 2, 3, 4, 0, 7, 5, 5, 3, 6, 2, 7, 0, 0, 0, 1, 4, 8, 8, 9, 4, 1, 6, 4, 5, 6, 6, 9, 4, 9, 0, 6, 3, 8, 5, 5, 9, 5, 9, 3, 5, 0, 6, 6, 6, 8, 2, 5, 3, 5, 5, 6, 3, 6, 3, 2, 0, 9, 6, 8, 0, 3, 2, 4, 0, 7, 8, 2, 0, 8, 4, 8, 4, 1, 5, 3, 1, 1, 0, 4, 8, 1, 7, 9, 7, 2, 6, 4, 6, 8, 0, 6, 5, 6, 4, 3, 1, 1, 0, 9, 7, 0, 7, 3, 0, 0, 3, 5, 4, 0, 8, 1, 3, 4, 2, 2, 7, 0, 7, 7, 8, 0, 9, 3, 2, 1, 9, 6, 3, 2, 7, 9, 1, 0, 3, 5, 2, 7, 5, 1, 6, 6, 9, 0, 7, 9, 2, 5, 8, 4, 2, 2, 6, 5, 7, 3, 1, 0, 1, 2, 4, 7, 0, 8, 5, 2, 2, 9, 2, 5, 4, 7, 4, 5, 1, 5, 3, 0, 3, 9, 5, 7, 1, 3, 1, 8, 9, 2, 1, 4, 5, 8, 3, 9, 1, 6, 0, 1, 4, 4, 1, 7, 7, 6, 7, 3, 5, 8, 8, 7, 4, 0, 2, 7, 4, 0, 0, 6, 6, 2, 8, 1, 9, 3, 5, 7, 3, 3, 2, 8, 1, 0, 8, 0, 1, 0, 2, 6, 0, 1, 0, 0, 2, 6, 2, 8, 9, 7, 9, 3, 7, 7, 9, 7, 6, 8, 5, 0, 9, 3, 7, 8, 5, 6, 9, 3, 8, 1, 2, 2, 2, 4, 9, 3, 6, 3, 4, 1, 9, 8, 3, 0, 2, 5, 5, 7, 0, 9, 7, 1, 0, 1, 6, 1, 8, 0, 1, 8, 7, 8, 6, 9, 9, 5, 3, 8, 3, 9, 3, 7, 4, 7, 8, 0, 1, 3, 2, 7, 4, 4, 0, 7, 6, 8, 9, 5, 1, 1, 7, 8, 5, 6, 5, 3, 4, 7, 6, 4, 6, 1, 5, 8, 5, 5, 8, 0, 9, 1, 3, 0, 3, 9, 0, 6, 8, 6, 2, 8, 3, 9, 5, 6, 7, 8, 5, 3, 3, 1, 5, 4, 0, 1, 0, 5, 3, 6, 4, 0, 6, 6, 3, 6, 1, 4, 2, 4, 8, 0, 0, 8, 9, 2, 6, 8, 3, 5, 4, 4, 5, 1, 0, 7, 2, 9, 8, 5, 3, 8, 5, 5, 5, 4, 0, 3, 3, 6, 4, 3, 0, 9, 8, 5, 1, 3, 8, 0, 9, 5, 8, 9, 7, 0, 9, 8, 9, 1, 8, 0, 1, 1, 6, 2, 2, 6, 6, 0, 2, 7, 0, 1, 0, 5, 5, 3, 4, 4, 2, 2, 5, 2, 8, 7, 1, 4, 7, 3, 6, 9, 9, 0, 6, 4, 5, 1, 5, 0, 6, 2, 7, 5, 4, 2, 8, 0, 7, 0, 6, 5, 1, 1, 6, 2, 6, 7, 8, 3, 7, 6, 7, 4, 8, 4, 4, 4, 9, 4, 1, 0, 1, 1, 5, 5, 3, 3, 6, 3, 8, 9, 9, 2, 5, 5, 0, 2, 5, 9, 7, 6, 5, 1, 7, 8, 9, 0, 6, 9, 5, 6, 9, 8, 5, 7, 0, 8, 5, 0, 0, 5, 6, 5, 6, 3, 4, 6, 1, 7, 4, 5, 5, 9, 0, 5, 2, 3, 7, 6, 1, 5, 3, 5, 0, 6, 3, 8, 5, 4, 2, 4, 9, 1, 8, 3, 3, 3, 8, 1, 2, 9, 5, 1, 9, 9, 1, 1, 7, 4, 3, 6, 3, 3, 2, 6, 7, 0, 3, 1, 2, 9, 9, 4, 2, 4, 7, 6, 0, 9, 0, 9, 2, 1, 6, 0, 2, 5, 2, 3, 6, 5, 1, 7, 8, 1, 6, 7, 5, 6, 1, 9, 9, 0, 6, 7, 5, 7, 5, 5, 5, 2, 8, 4, 0, 1, 6, 6, 5, 7, 4, 7, 9, 4, 0, 8, 4, 2, 9, 7, 6, 4, 8, 4, 9, 8, 3, 4, 4, 4, 1, 6, 0, 3, 1, 2, 3, 0, 7, 2, 3, 2, 3, 1, 7, 0, 6, 5, 0, 7, 5, 8, 5, 9, 3, 2, 6, 1, 4, 0, 7, 5, 6, 1, 9, 3, 5, 2, 2, 6, 8, 1, 8, 7, 6, 4, 1, 2, 4, 0, 6, 6, 1, 8, 2, 9, 8, 6, 7, 1, 0, 8, 2, 0, 6, 2, 0, 1, 1, 6, 8, 9, 9, 9, 2, 8, 4, 2, 6, 0, 9, 5, 7, 5, 1, 2, 1, 8, 2, 4, 9, 2, 6, 1, 7, 7, 6, 6, 2, 8, 9, 7, 3, 5, 1, 5, 5, 7, 3, 4, 8, 0, 6, 6, 1, 1, 7, 0, 6, 3, 8, 9, 9, 5, 2, 4, 8, 5, 8, 8, 0, 1, 1, 5, 1, 2, 5, 1, 1, 6, 6, 5, 3, 1, 4, 0, 4, 4, 5, 5, 1, 2, 5, 7, 8, 4, 2, 3, 9, 0, 0, 1, 3, 5, 6, 5, 0, 7, 2, 6, 2, 7, 2, 5, 0, 9, 8, 1, 7, 7, 5, 5, 1, 4, 5, 4, 0, 9, 7, 7, 8, 0, 6, 7, 0, 5, 5, 5, 3, 9, 4, 4, 1, 9, 5, 6, 0, 1, 5, 8, 7, 3, 0, 1, 4, 7, 4, 1, 1, 6, 3, 8, 2, 2, 5, 3, 6, 2, 1, 8, 2, 3, 3, 2, 8, 1, 7, 2, 1, 0, 3, 2, 0, 9, 1, 7, 1, 6, 6, 6, 4, 2, 9, 5, 9, 2, 5, 1, 7, 4, 2, 8, 6, 0, 3, 0, 3, 4, 9, 6, 1, 4, 5, 3, 9, 2, 4, 8, 3, 5, 2, 4, 8, 7, 2, 9, 2, 7, 8, 4, 0, 8, 4, 9, 8, 9, 9, 0, 0, 8, 0, 9, 8, 7, 5, 7, 3, 9, 3, 6, 3, 5, 1, 7, 4, 9, 5, 4, 5, 1, 8, 9, 0, 0, 9, 0, 8, 5, 7, 9, 7, 2, 8, 0, 0, 3, 0, 7, 7, 4, 8, 5, 6, 1, 6, 6, 1, 7, 0, 4, 5, 5, 3, 4, 6, 5, 7, 4, 1, 9, 5, 1, 2, 4, 0, 1, 5, 0, 0, 0, 6, 9, 7, 1, 0, 4, 9, 2, 5, 9, 4, 0, 3, 7, 9, 0, 3, 6, 5, 1, 6, 9, 8, 5, 7, 8, 5, 0, 1, 6, 0, 3, 3, 1, 0, 4, 0, 9, 8, 5, 4, 6, 8, 5, 3, 0, 3, 7, 4, 5, 4, 5, 1, 4, 8, 2, 0, 1, 4, 2, 9, 7, 1, 2, 5, 3, 2, 5, 0, 7, 4, 9, 2, 8, 4, 8, 1, 5, 7, 3, 1, 2, 5, 7, 3, 3, 6, 0, 5, 2, 5, 5, 3, 4, 1, 1, 6, 8, 7, 8, 8, 9, 8, 9, 9, 0, 5, 7, 7, 5, 5, 0, 1, 9, 6, 2, 8, 2, 2, 9, 8, 7, 5, 0, 6, 3, 6, 9, 1, 7, 2, 6, 0, 5, 9, 5, 4, 5, 0, 3, 4, 6, 0, 5, 2, 8, 3, 0, 8, 8, 6, 5, 2, 8, 4, 7, 9, 5, 7, 2, 8, 6, 8, 9, 7, 5, 9, 3, 2, 1, 8, 0, 0, 1, 7, 3, 4, 7, 6, 4, 5, 1, 8, 6, 2, 9, 0, 6, 3, 2, 8, 6, 3, 7, 3, 2, 3, 1, 8, 0, 8, 3, 9, 4, 9, 9, 4, 7, 2, 6, 4, 5, 3, 7, 0, 0, 7, 9, 8, 6, 3, 4, 5, 9, 5, 3, 5, 9, 1, 2, 4, 8, 6, 4, 6, 6, 6, 9, 4, 5, 2, 7, 2, 9, 1, 2, 2, 0, 9, 4, 2, 0, 6, 4, 9, 6, 0, 5, 1, 6, 4, 9, 0, 5, 0, 2, 9, 5, 0, 3, 1, 7, 7, 0, 2, 0, 5, 3, 4, 9, 5, 8, 6, 9, 2, 3, 9, 7, 2, 6, 8, 3, 5, 7, 1, 4, 7, 9, 5, 5, 8, 1, 9, 7, 6, 2, 7, 9, 7, 8, 1, 3, 7, 6, 1, 8, 5, 2, 4, 3, 6, 4, 5, 5, 8, 8, 2, 6, 9, 9, 9, 7, 4, 1, 0, 7, 8, 9, 8, 0, 5, 5, 7, 9, 6, 9, 8, 0, 2, 3, 2, 5, 7, 9, 8, 2, 6, 9, 8, 4, 8, 9, 6, 3, 0, 9, 2, 5, 5, 2, 4, 4, 7, 6, 3, 8, 3, 6, 0, 2, 3, 7, 8, 3, 2, 3, 2, 3, 3, 8, 9, 0, 6, 5, 8, 8, 7, 5, 1, 3, 5, 3, 2, 2, 0, 7, 3, 3, 2, 9, 1, 3, 0, 2, 4, 6, 4, 4, 7, 5, 2, 3, 2, 1, 3, 4, 5, 0, 8, 9, 0, 9, 6, 3, 7, 8, 2, 1, 8, 3, 3, 2, 5, 3, 3, 3, 4, 4, 8, 9, 2, 1, 4, 2, 6, 1, 4, 9, 7, 8, 0, 4, 9, 2, 9, 4, 5, 9, 8, 2, 4, 1, 4, 5, 4, 8, 5, 0, 8, 6, 4, 1, 9, 9, 7, 6, 5, 8, 9, 6, 5, 6, 1, 2, 6, 1, 7, 3, 1, 0, 8, 5, 9, 0, 5, 3, 8, 8, 7, 6, 1, 2, 1, 6, 7, 3, 8, 3, 9, 8, 6, 9, 9, 3, 5, 7, 5, 0, 8, 8, 0, 2, 6, 3, 3, 2, 4, 7, 4, 8, 1, 2, 0, 3, 9, 4, 6, 9, 6, 9, 0, 8, 3, 1, 9, 7, 7, 7, 2, 8, 5, 5, 5, 9, 7, 0, 0, 2, 0, 8, 6, 2, 3, 4, 3, 7, 6, 4, 7, 6, 3, 3, 6, 3, 9, 1, 7, 2, 9, 2, 3, 6, 2, 1, 3, 1, 0, 1, 4, 1, 4, 7, 2, 1, 4, 1, 7, 3, 8, 7, 2, 2, 4, 5, 2, 3, 6, 7, 4, 8, 2, 2, 0, 7, 8, 9, 3, 9, 4, 1, 7, 2, 6, 7, 0, 5, 9, 7, 1, 9, 4, 4, 4, 3, 1, 7, 2, 1, 6, 5, 5, 4, 1, 6, 9, 8, 5, 4, 8, 7, 4, 8, 9, 0, 3, 6, 7, 5, 6, 7, 3, 6, 8, 0, 9, 0, 0, 3, 4, 2, 0, 8, 0, 3, 6, 3, 9, 1, 6, 9, 0, 8, 3, 3, 7, 5, 4, 1, 2, 8, 1, 3, 0, 0, 0, 3, 0, 0, 8, 0, 7, 8, 8, 3, 7, 8, 7, 5, 9, 0, 0, 2, 6, 4, 0, 9, 1, 1, 0, 8, 7, 8, 2, 6, 7, 8, 2, 1, 9, 6, 1, 4, 1, 0, 0, 3, 2, 9, 9, 1, 2, 2, 5, 8, 9, 1, 8, 7, 2, 4, 9, 2, 5, 4, 7, 7, 1, 8, 5, 5, 5, 0, 4, 8, 2, 9, 2, 6, 5, 8, 8, 9, 8, 4, 5, 3, 6, 0, 3, 3, 9, 4, 1, 1, 6, 7, 8, 2, 8, 4, 4, 0, 2, 2, 2, 5, 0, 5, 2, 7, 1, 8, 7, 7, 2, 1, 2, 2, 0, 0, 6, 2, 0, 0, 6, 1, 5, 4, 2, 9, 0, 4, 0, 7, 7, 2, 8, 1, 8, 5, 0, 4, 8, 4, 6, 2, 4, 9, 3, 5, 2, 1, 4, 5, 6, 7, 2, 1, 2, 1, 9, 8, 9, 4, 2, 1, 8, 8, 9, 4, 1, 4, 9, 5, 0, 7, 6, 2, 7, 9, 6, 0, 7, 8, 5, 4, 8, 0, 5, 6, 8, 0, 2, 1, 6, 4, 5, 9, 6, 3, 6, 6, 9, 4, 2, 6, 0, 4, 4, 5, 6, 9, 2, 1, 4, 7, 9, 0, 5, 5, 0, 5, 7, 1, 5, 9, 8, 4, 9, 7, 9, 7, 1, 4, 4, 7, 8, 6, 2, 5, 3, 2, 6, 4, 6, 2, 5, 4, 3, 3, 6, 1, 2, 1, 7, 8, 5, 1, 1, 3, 4, 6, 5, 0, 3, 0, 0, 8, 6, 0, 3, 0, 1, 9, 5, 0, 3, 5, 5, 1, 5, 7, 1, 7, 5, 9, 7, 4, 8, 3, 8, 2, 9, 5, 5, 6, 0, 9, 2, 0, 1, 1, 5, 3, 8, 1, 6, 1, 2, 5, 1, 2, 0, 9, 5, 5, 1, 8, 0, 9, 4, 9, 1, 6, 8, 3, 6, 7, 8, 7, 7, 6, 1, 8, 3, 3, 1, 1, 5, 3, 2, 8, 6, 1, 5, 9, 4, 3, 8, 2, 5, 2, 3, 6, 8, 2, 2, 3, 2, 6, 1, 3, 2, 6, 4, 5, 2, 9, 8, 6, 2, 4, 7, 0, 8, 1, 5, 1, 3, 7, 0, 6, 1, 7, 8, 8, 2, 5, 8, 4, 4, 7, 1, 8, 2, 8, 6, 0, 9, 4, 4, 6, 6, 1, 7, 5, 7, 7, 4, 6, 7, 1, 1, 4, 9, 4, 2, 6, 3, 8, 9, 6, 9, 4, 3, 1, 5, 1, 9, 5, 4, 8, 6, 3, 0, 6, 0, 4, 4, 1, 8, 2, 1, 5, 5, 0, 6, 6, 7, 1, 8, 2, 5, 6, 2, 2, 5, 3, 0, 9, 0, 4, 1, 0, 2, 3, 4, 3, 1, 7, 4, 7, 1, 0, 6, 3, 8, 8, 1, 8, 8, 8, 1, 9, 9, 8, 5, 2, 8, 2, 5, 3, 6, 8, 7, 2, 3, 4, 3, 0, 1, 5, 0, 2, 7, 9, 3, 0, 3, 1, 7, 6, 8, 5, 4, 9, 8, 7, 7, 5, 9, 8, 5, 8, 3, 2, 7, 5, 3, 6, 1, 6, 7, 6, 9, 5, 4, 6, 8, 1, 7, 8, 4, 7, 9, 8, 0, 8, 8, 4, 9, 1, 6, 1, 5, 7, 5, 6, 9, 6, 0, 6, 1, 1, 1, 4, 9, 5, 7, 0, 8, 6, 2, 1, 3, 8, 4, 4, 4, 9, 7, 2, 3, 3, 3, 2, 5, 0, 5, 0, 7, 6, 4, 6, 3, 9, 4, 7, 2, 4, 3, 4, 4, 2, 5, 0, 7, 6, 8, 2, 2, 4, 4, 0, 0, 0, 2, 1, 7, 8, 4, 1, 3, 9, 4, 5, 1, 5, 6, 7, 6, 0, 7, 3, 0, 9, 4, 7, 2, 6, 9, 2, 9, 6, 3, 0, 9, 1, 7, 1, 8, 3, 3, 0, 5, 9, 9, 4, 9, 0, 7, 1, 7, 3, 8, 4, 9, 3, 6, 0, 0, 8, 7, 1, 2, 9, 9, 1, 8, 0, 8, 1, 7, 5, 6, 4, 5, 1, 0, 9, 1, 1, 8, 2, 2, 5, 6, 2, 7, 0, 9, 4, 0, 8, 4, 9, 2, 5, 4, 1, 2, 2, 3, 0, 2, 9, 7, 2, 7, 7, 6, 8, 5, 8, 0, 1, 2, 3, 4, 0, 9, 1, 4, 6, 8, 3, 1, 9, 5, 3, 6, 4, 6, 4, 3, 2, 7, 0, 4, 3, 2, 4, 5, 2, 1, 3, 1, 5, 2, 9, 8, 5, 5, 9, 3, 8, 9, 6, 7, 5, 2, 6, 9, 3, 8, 1, 9, 4, 4, 5, 7, 5, 0, 4, 0, 6, 3, 9, 6, 5, 6, 7, 9, 1, 7, 7, 5, 5, 8, 3, 4, 1, 2, 4, 2, 8, 9, 6, 0, 1, 0, 0, 7, 0, 3, 1, 7, 1, 0, 5, 0, 1, 0, 4, 0, 4, 1, 7, 9, 3, 4, 9, 7, 4, 4, 1, 5, 4, 4, 4, 1, 1, 7, 4, 7, 2, 0, 2, 9, 4, 0, 2, 1, 2, 6, 1, 1, 6, 9, 9, 4, 6, 1, 9, 7, 2, 5, 9, 8, 7, 6, 4, 0, 5, 9, 5, 4, 1, 6, 6, 2, 9, 5, 7, 5, 0, 0, 1, 5, 4, 0, 0, 2, 5, 3, 7, 0, 9, 4, 1, 3, 7, 8, 0, 7, 2, 2, 2, 2, 8, 5, 9, 4, 5, 2, 9, 8, 0, 7, 0, 6, 4, 6, 2, 2, 0, 4, 1, 7, 3, 6, 5, 3, 9, 8, 3, 6, 7, 9, 2, 0, 0, 5, 3, 0, 1, 8, 2, 5, 3, 3, 0, 0, 2, 1, 7, 7, 5, 8, 8, 7, 9, 1, 5, 0, 8, 4, 9, 8, 6, 0, 5, 6, 5, 7, 3, 8, 0, 6, 5, 0, 2, 0, 4, 0, 0, 3, 5, 6, 2, 5, 9, 0, 0, 0, 5, 5, 8, 4, 5, 1, 5, 9, 4, 5, 6, 3, 2, 4, 2, 9, 7, 8, 5, 4, 1, 6, 7, 7, 6, 1, 5, 3, 8, 0, 6, 2, 6, 2, 9, 3, 7, 0, 7, 2, 4, 2, 5, 2, 0, 1, 2, 7, 5, 7, 4, 3, 1, 3, 1, 4, 4, 3, 0, 4, 1, 7, 8, 8, 1, 7, 3, 4, 9, 7, 7, 9, 2, 2, 4, 5, 0, 4, 8, 3, 7, 7, 3, 9, 3, 8, 1, 9, 4, 4, 1, 4, 7, 2, 9, 2, 5, 9, 6, 8, 0, 4, 9, 6, 3, 8, 1, 7, 3, 4, 3, 1, 9, 6, 8, 9, 5, 2, 1, 7, 6, 6, 4, 6, 4, 0, 4, 9, 5, 6, 3, 0, 5, 0, 7, 9, 0, 8, 6, 2, 4, 4, 4, 9, 0, 1, 2, 4, 1, 4, 6, 0, 3, 6, 0, 2, 1, 6, 4, 7, 3, 2, 5, 0, 3, 5, 4, 3, 0, 6, 0, 4, 8, 9, 7, 2, 9, 6, 4, 0, 5, 0, 4, 3, 0, 3, 1, 1, 7, 4, 5, 1, 2, 7, 7, 4, 9, 9, 4, 1, 0, 3, 4, 6, 1, 7, 6, 6, 6, 7, 3, 4, 6, 8, 9, 7, 6, 6, 1, 8, 3, 2, 3, 8, 6, 4, 8, 7, 6, 7, 4, 0, 4, 5, 3, 0, 9, 5, 2, 7, 7, 1, 7, 9, 9, 0, 8, 3, 1, 1, 2, 1, 1, 0, 4, 9, 9, 5, 0, 1, 8, 3, 7, 2, 9, 2, 0, 0, 3, 3, 8, 4, 0, 6, 8, 5, 6, 8, 3, 6, 0, 0, 9, 9, 2, 3, 0, 0, 0, 1, 0, 0, 1, 6, 3, 5, 7, 7, 5, 7, 7, 9, 4, 8, 4, 1, 2, 1, 3, 8, 2, 5, 1, 4, 0, 1, 8, 3, 9, 1, 3, 7, 7, 2, 8, 8, 8, 3, 3, 2, 3, 1, 7, 0, 4, 5, 2, 9, 1, 8, 4, 7, 9, 9, 5, 5, 2, 9, 8, 1, 7, 8, 8, 5, 3, 9, 0, 1, 3, 3, 8, 4, 3, 1, 7, 0, 6, 3, 4, 2, 1, 4, 8, 1, 9, 2, 8, 0, 2, 0, 5, 4, 3, 1, 9, 5, 4, 3, 2, 3, 2, 2, 6, 1, 6, 2, 9, 5, 6, 3, 7, 7, 5, 5, 3, 5, 3, 9, 9, 6, 6, 7, 0, 3, 4, 3, 9, 1, 2, 8, 4, 9, 5, 3, 0, 0, 5, 8, 6, 8, 6, 2, 4, 6, 5, 1, 9, 6, 7, 6, 8, 3, 7, 7, 1, 0, 4, 8, 5, 1, 2, 4, 3, 1, 9, 5, 4, 7, 4, 1, 6, 6, 8, 7, 0, 0, 5, 2, 6, 3, 3, 3, 7, 9, 4, 1, 8, 5, 8, 0, 9, 5, 0, 9, 4, 4, 3, 8, 6, 7, 3, 0, 5, 0, 9, 6, 4, 0, 2, 4, 3, 1, 5, 2, 5, 9, 5, 8, 6, 5, 1, 5, 0, 3, 9, 8, 1, 6, 9, 5, 0, 4, 0, 6, 7, 6, 0, 0, 1, 9, 7, 8, 0, 3, 9, 3, 6, 0, 5, 7, 5, 4, 6, 4, 7, 3, 1, 8, 8, 7, 4, 5, 9, 3, 3, 2, 6, 4, 9, 0, 2, 4, 4, 0, 0, 3, 2, 8, 5, 5, 1, 3, 2, 1, 0, 1, 6, 3, 1, 0, 2, 0, 1, 6, 5, 0, 7, 9, 6, 6, 8, 3, 6, 2, 2, 2, 6, 8, 2, 4, 2, 5, 0, 1, 6, 9, 7, 7, 9, 8, 5, 9, 3, 4, 7, 8, 0, 9, 1, 2, 9, 0, 5, 9, 4, 2, 1, 0, 6, 0, 2, 7, 3, 8, 4, 3, 9, 6, 1, 4, 3, 1, 1, 2, 9, 2, 3, 7, 2, 4, 5, 5, 2, 9, 7, 1, 6, 0, 7, 4, 7, 3, 0, 1, 0, 6, 7, 9, 5, 9, 3, 6, 3, 3, 7, 4, 7, 5, 4, 3, 3, 6, 9, 4, 9, 1, 8, 5, 8, 3, 6, 5, 5, 9, 0, 4, 5, 9, 8, 0, 3, 7, 6, 9, 1, 8, 4, 2, 7, 9, 2, 5, 5, 4, 8, 9, 0, 9, 0, 9, 7, 1, 7, 8, 8, 3, 4, 2, 0, 0, 1, 6, 9, 7, 1, 8, 1, 0, 1, 8, 7, 6, 0, 3, 4, 6, 3, 5, 7, 4, 6, 7, 5, 1, 3, 3, 7, 2, 6, 5, 4, 3, 6, 3, 6, 1, 8, 7, 6, 0, 7, 2, 4, 8, 0, 2, 5, 9, 3, 4, 9, 3, 8, 4, 6, 1, 1, 6, 6, 9, 9, 9, 1, 0, 8, 0, 3, 1, 7, 9, 1, 0, 9, 3, 6, 1, 1, 5, 3, 8, 9, 9, 9, 3, 8, 7, 3, 8, 6, 8, 1, 4, 7, 7, 6, 2, 2, 3, 1, 5, 4, 0, 1, 2, 1, 5, 4, 2, 6, 9, 2, 7, 1, 2, 0, 3, 0, 3, 6, 2, 3, 5, 7, 5, 6, 7, 7, 6, 2, 0, 3, 4, 8, 9, 4, 6, 4, 0, 9, 7, 1, 3, 8, 3, 8, 6, 7, 2, 2, 8, 4, 6, 9, 0, 4, 5, 7, 7, 2, 0, 1, 2, 6, 4, 0, 3, 6, 2, 3, 7, 1, 4, 2, 9, 6, 9, 2, 8, 4, 0, 7, 4, 1, 7, 9, 3, 0, 5, 7, 9, 6, 1, 2, 0, 3, 7, 0, 5, 2, 7, 2, 8, 8, 3, 1, 5, 1, 5, 2, 9, 2, 7, 5, 1, 8, 2, 9, 5, 1, 7, 1, 7, 0, 9, 5, 7, 9, 3, 0, 2, 8, 3, 8, 4, 1, 5, 9, 2, 3, 6, 2, 8, 0, 0, 9, 1, 4, 9, 3, 2, 9, 3, 7, 0, 3, 6, 6, 8, 1, 8, 0, 2, 9, 7, 8, 0, 8, 5, 9, 4, 9, 5, 0, 9, 6, 0, 5, 7, 5, 8, 4, 8, 1, 7, 9, 3, 1, 2, 3, 2, 2, 3, 0, 4, 4, 3, 0, 4, 5, 0, 8, 4, 9, 9, 4, 3, 1, 9, 1, 8, 3, 2, 5, 6, 3, 8, 2, 2, 6, 1, 0, 7, 3, 4, 2, 6, 5, 4, 5, 0, 3, 8, 1, 8, 6, 3, 9, 0, 9, 1, 1, 7, 7, 7, 5, 2, 2, 1, 6, 9, 9, 2, 4, 8, 0, 3, 2, 6, 3, 7, 4, 5, 7, 1, 9, 0, 2, 2, 2, 0, 3, 4, 8, 1, 2, 9, 1, 9, 7, 2, 4, 2, 2, 1, 4, 7, 0, 2, 4, 7, 8, 2, 1, 7, 5, 0, 4, 4, 7, 8, 3, 5, 7, 2, 9, 9, 9, 3, 6, 3, 2, 6, 0, 9, 3, 8, 9, 0, 7, 9, 6, 9, 9, 3, 6, 7, 3, 2, 8, 0, 1, 4, 1, 7, 6, 4, 2, 7, 5, 0, 9, 1, 9, 9, 1, 1, 0, 4, 3, 5, 6, 2, 0, 5, 8, 3, 6, 0, 5, 3, 7, 0, 4, 4, 5, 7, 6, 4, 9, 3, 3, 4, 6, 4, 9, 4, 0, 4, 4, 3, 8, 7, 4, 3, 6, 5, 4, 0, 2, 5, 8, 6, 4, 6, 3, 6, 8, 0, 1, 3, 7, 1, 0, 2, 0, 2, 7, 6, 7, 7, 2, 9, 7, 4, 3, 3, 2, 0, 7, 4, 4, 9, 4, 4, 5, 5, 5, 0, 5, 2, 4, 9, 1, 3, 1, 8, 8, 2, 6, 9, 5, 2, 9, 8, 4, 0, 8, 8, 1, 6, 3, 3, 3, 9, 6, 5, 6, 2, 3, 9, 7, 4, 1, 1, 7, 6, 3, 4, 6, 6, 4, 2, 7, 9, 3, 8, 5, 8, 3, 6, 3, 3, 2, 3, 5, 7, 9, 8, 0, 6, 2, 2, 8, 7, 4, 0, 0, 1, 5, 3, 2, 3, 0, 6, 7, 5, 5, 6, 0, 3, 1, 4, 0, 0, 2, 2, 4, 9, 6, 1, 6, 6, 4, 5, 4, 0, 2, 1, 5, 7, 1, 9, 7, 9, 8, 3, 2, 4, 6, 2, 3, 4, 5, 8, 2, 4, 7, 0, 4, 3, 8, 0, 5, 6, 2, 7, 8, 1, 3, 4, 3, 1, 1, 0, 3, 8, 8, 7, 9, 8, 3, 6, 1, 9, 1, 7, 3, 2, 3, 1, 9, 4, 5, 7, 3, 9, 7, 0, 4, 7, 6, 1, 6, 0, 5, 1, 0, 7, 2, 9, 6, 4, 0, 1, 7, 6, 6, 7, 5, 8, 4, 7, 2, 1, 4, 5, 2, 7, 3, 4, 0, 7, 2, 3, 5, 7, 8, 9, 9, 4, 5, 5, 9, 8, 4, 0, 5, 0, 8, 9, 6, 1, 2, 9, 5, 4, 0, 0, 6, 2, 3, 5, 4, 9, 1, 1, 5, 7, 9, 2, 9, 3, 8, 4, 8, 6, 5, 1, 2, 0, 2, 9, 8, 8, 1, 9, 6, 7, 9, 3, 8, 7, 6, 8, 9, 1, 8, 3, 8, 7, 0, 2, 7, 3, 3, 3, 5, 8, 4, 8, 0, 8, 8, 1, 7, 0, 3, 1, 3, 3, 5, 4, 7, 8, 3, 2, 8, 0, 1, 1, 2, 3, 0, 7, 2, 2, 5, 8, 3, 3, 2, 7, 2, 9, 7, 0, 8, 3, 6, 8, 1, 8, 7, 3, 0, 4, 9, 0, 5, 4, 2, 8, 9, 9, 6, 9, 2, 2, 1, 9, 2, 1, 5, 1, 5, 1, 0, 2, 6, 3, 6, 5, 7, 9, 3, 2, 1, 5, 1, 1, 0, 2, 0, 4, 6, 1, 0, 5, 8, 8, 6, 5, 7, 1, 9, 6, 9, 2, 1, 5, 3, 8, 5, 5, 8, 2, 7, 0, 6, 5, 1, 1, 6, 9, 7, 8, 4, 7, 3, 7, 3, 7, 1, 3, 4, 0, 9, 4, 1, 8, 1, 3, 0, 4, 1, 0, 4, 8, 1, 0, 6, 0, 4, 4, 5, 5, 1, 8, 5, 1, 7, 6, 8, 6, 3, 0, 7, 8, 1, 8, 5, 6, 8, 5, 1, 6, 4, 2, 7, 5, 8, 4, 9, 1, 4, 9, 0, 2, 4, 0, 8, 5, 3, 4, 7, 6, 3, 6, 7, 2, 0, 8, 3, 2, 2, 1, 0, 8, 4, 1, 8, 7, 5, 3, 1, 2, 1, 9, 6, 0, 5, 3, 4, 4, 4, 4, 6, 8, 3, 7, 8, 6, 8, 4, 9, 5, 4, 6, 4, 8, 9, 0, 8, 1, 6, 0, 6, 5, 2, 9, 6, 6, 0, 8, 6, 7, 8, 8, 8, 7, 5, 4, 5, 8, 3, 8, 3, 8, 9, 6, 8, 1, 1, 5, 6, 7, 2, 1, 2, 7, 5, 8, 8, 5, 9, 8, 8, 5, 2, 0, 3, 2, 7, 9, 2, 1, 8, 2, 8, 9, 9, 0, 8, 0, 7, 8, 1, 5, 5, 0, 8, 2, 0, 5, 4, 9, 8, 7, 6, 1, 8, 3, 3, 2, 2, 0, 9, 5, 6, 2, 0, 6, 6, 0, 3, 9, 2, 6, 6, 9, 0, 3, 3, 8, 3, 2, 1, 2, 9, 1, 2, 5, 0, 0, 5, 1, 8, 5, 7, 6, 8, 5, 6, 3, 9, 9, 6, 2, 7, 5, 4, 7, 7, 7, 6, 4, 2, 5, 5, 6, 9, 8, 3, 0, 7, 0, 5, 4, 4, 9, 6, 6, 0, 1, 9, 9, 3, 3, 2, 1, 6, 1, 5, 7, 9, 2, 2, 3, 9, 5, 8, 4, 9, 6, 4, 2, 6, 5, 3, 8, 9, 0, 6, 9, 5, 3, 6, 3, 1, 6, 1, 4, 7, 2, 3, 5, 4, 5, 0, 6, 1, 8, 9, 5, 0, 3, 5, 4, 0, 7, 6, 4, 4, 7, 7, 8, 8, 9, 5, 7, 6, 9, 7, 8, 9, 9, 8, 9, 8, 8, 1, 4, 6, 9, 3, 5, 8, 1, 8, 1, 2, 4, 6, 2, 2, 8, 6, 4, 3, 8, 4, 7, 2, 7, 8, 1, 3, 7, 8, 2, 9, 6, 6, 7, 2, 8, 8, 6, 8, 8, 5, 7, 2, 5, 7, 4, 6, 1, 6, 3, 9, 2, 9, 2, 7, 7, 8, 8, 8, 4, 0, 1, 4, 4, 7, 3, 3, 7, 5, 0, 1, 5, 7, 8, 6, 4, 4, 7, 3, 3, 3, 0, 5, 2, 9, 2, 8, 0, 3, 5, 5, 7, 3, 3, 6, 3, 1, 4, 9, 0, 8, 6, 7, 3, 5, 6, 0, 1, 6, 9, 1, 2, 7, 8, 8, 0, 2, 1, 7, 5, 9, 2, 8, 7, 8, 3, 9, 7, 6, 6, 8, 3, 5, 5, 6, 3, 1, 8, 4, 3, 6, 6, 7, 5, 7, 5, 0, 3, 3, 0, 0, 7, 2, 0, 4, 4, 9, 6, 9, 4, 6, 1, 9, 6, 4, 5, 7, 0, 5, 5, 1, 8, 2, 5, 6, 7, 6, 5, 8, 3, 1, 5, 2, 2, 7, 8, 4, 5, 2, 8, 4, 9, 5, 8, 4, 1, 7, 0, 3, 4, 5, 0, 2, 1, 6, 2, 6, 4, 3, 4, 8, 3, 5, 8, 6, 7, 3, 9, 4, 2, 9, 8, 4, 8, 7, 1, 3, 0, 1, 9, 9, 0, 3, 7, 9, 6, 7, 5, 5, 6, 3, 7, 7, 0, 5, 7, 6, 8, 3, 8, 0, 4, 6, 6, 9, 7, 4, 7, 9, 8, 2, 5, 4, 2, 4, 7, 1, 6, 8, 9, 2, 8, 9, 0, 4, 0, 0, 0, 9, 9, 8, 4, 2, 5, 0, 9, 4, 1, 0, 5, 0, 2, 3, 9, 8, 8, 4, 6, 5, 0, 3, 3, 0, 3, 5, 0, 8, 1, 6, 2, 2, 0, 4, 9, 6, 0, 4, 8, 2, 6, 9, 2, 1, 6, 3, 2, 2, 5, 5, 1, 4, 7, 3, 7, 2, 0, 1, 8, 1, 7, 2, 5, 6, 8, 5, 3, 4, 3, 5, 8, 6, 3, 9, 7, 5, 2, 2, 0, 3, 5, 2, 1, 4, 6, 3, 3, 6, 0, 8, 8, 8, 3, 4, 1, 0, 1, 0, 1, 6, 6, 7, 9, 4, 6, 5, 3, 1, 6, 0, 2, 1, 3, 9, 9, 9, 4, 4, 7, 0, 1, 5, 3, 2, 4, 0, 6, 8, 8, 5, 6, 4, 9, 1, 2, 3, 2, 0, 4, 9, 5, 4, 4, 9, 1, 9, 7, 3, 1, 6, 7, 8, 6, 0, 1, 4, 0, 5, 1, 0, 3, 6, 0, 7, 5, 5, 1, 1, 3, 0, 3, 8, 3, 7, 4, 9, 7, 3, 9, 4, 1, 0, 6, 2, 8, 8, 6, 7, 2, 3, 9, 9, 5, 0, 4, 6, 9, 6, 9, 7, 7, 3, 0, 0, 5, 1, 7, 7, 7, 2, 4, 5, 0, 1, 6, 1, 4, 8, 4, 0, 1, 9, 5, 2, 3, 0, 9, 7, 9, 3, 7, 6, 1, 0, 9, 2, 8, 7, 1, 7, 4, 8, 9, 5, 4, 9, 6, 4, 3, 1, 6, 8, 3, 6, 2, 3, 4, 7, 3, 6, 5, 2, 4, 0, 2, 7, 0, 0, 7, 3, 7, 6, 6, 8, 7, 3, 8, 1, 3, 6, 2, 4, 8, 3, 0, 1, 3, 7, 2, 0, 9, 3, 6, 1, 9, 0, 0, 1, 0, 8, 5, 2, 5, 4, 9, 9, 7, 4, 7, 1, 6, 2, 0, 3, 4, 8, 0, 9, 3, 7, 2, 0, 3, 4, 7, 0, 0, 7, 2, 0, 9, 0, 6, 6, 1, 7, 4, 7, 5, 1, 7, 9, 7, 9, 3, 2, 3, 2, 3, 4, 9, 7, 9, 8, 9, 6, 0, 0, 1, 7, 3, 4, 9, 1, 5, 1, 4, 2, 3, 4, 8, 4, 3, 9, 1, 8, 8, 3, 5, 3, 0, 5, 7, 5, 7, 0, 4, 9, 8, 2, 6, 5, 9, 5, 1, 7, 8, 5, 1, 8, 4, 8, 9, 2, 5, 3, 8, 4, 4, 2, 0, 8, 8, 5, 2, 3, 7, 0, 0, 8, 4, 4, 7, 0, 0, 9, 6, 8, 6, 0, 8, 1, 9, 2, 7, 6, 6, 9, 0, 6, 1, 2, 1, 8, 9, 0, 7, 7, 1, 1, 1, 8, 2, 1, 8, 3, 1, 3, 8, 9, 1, 3, 3, 5, 5, 2, 3, 8, 5, 2, 7, 7, 8, 0, 9, 7, 1, 1, 8, 0, 7, 9, 3, 0, 0, 6, 2, 8, 9, 8, 1, 6, 6, 4, 4, 0, 8, 4, 4, 6, 9, 9, 8, 2, 7, 5, 4, 0, 1, 5, 8, 4, 7, 9, 4, 6, 2, 7, 5, 7, 0, 7, 8, 7, 2, 7, 5, 9, 0, 2, 4, 7, 8, 9, 1, 8, 4, 5, 0, 7, 2, 3, 5, 4, 0, 1, 2, 2, 1, 0, 0, 9, 8, 0, 2, 1, 9, 6, 3, 9, 3, 9, 8, 3, 1, 2, 1, 0, 2, 4, 4, 9, 8, 0, 4, 8, 3, 5, 4, 8, 8, 1, 1, 0, 2, 5, 9, 0, 5, 4, 3, 2, 8, 4, 5, 5, 3, 9, 9, 2, 8, 5, 3, 3, 9, 0, 9, 4, 8, 1, 7, 1, 6, 6, 7, 1, 3, 1, 5, 4, 7, 1, 0, 9, 3, 8, 7, 2, 1, 9, 6, 2, 4, 0, 1, 6, 9, 5, 5, 7, 3, 6, 5, 5, 6, 5, 1, 8, 6, 6, 2, 7, 5, 8, 4, 0, 3, 5, 7, 9, 3, 0, 2, 4, 6, 3, 1, 3, 9, 1, 9, 5, 5, 2, 1, 4, 4, 4, 4, 3, 7, 9, 7, 6, 5, 3, 9, 6, 8, 2, 2, 5, 6, 2, 6, 5, 0, 2, 2, 1, 7, 5, 1, 6, 2, 3, 9, 0, 7, 6, 7, 1, 2, 0, 1, 0, 4, 0, 3, 3, 7, 8, 9, 1, 3, 3, 9, 4, 6, 4, 2, 8, 0, 7, 2, 7, 3, 2, 6, 1, 6, 9, 4, 2, 6, 0, 1, 3, 5, 6, 0, 9, 6, 4, 7, 3, 8, 5, 1, 1, 3, 5, 5, 7, 6, 9, 8, 9, 6, 6, 7, 1, 4, 1, 7, 1, 1, 7, 7, 2, 7, 5, 6, 9, 7, 2, 3, 6, 4, 3, 1, 6, 1, 2, 2, 0, 1, 7, 0, 3, 4, 0, 5, 8, 7, 8, 4, 1, 0, 3, 6, 2, 8, 7, 2, 6, 1, 9, 1, 9, 5, 2, 5, 0, 6, 7, 8, 4, 0, 0, 6, 2, 6, 8, 5, 2, 2, 9, 8, 7, 3, 0, 3, 8, 0, 2, 8, 6, 7, 3, 8, 5, 1, 1, 9, 7, 0, 4, 8, 2, 8, 9, 4, 7, 3, 9, 6, 1, 7, 6, 7, 5, 4, 9, 4, 5, 5, 0, 3, 7, 9, 8, 4, 1, 3, 5, 6, 1, 5, 0, 2, 5, 6, 7, 6, 3, 7, 0, 1, 0, 5, 3, 3, 8, 4, 8, 2, 6, 5, 1, 0, 0, 0, 5, 7, 0, 4, 3, 6, 0, 0, 8, 8, 7, 3, 6, 7, 3, 3, 7, 3, 6, 5, 3, 6, 0, 6, 9, 8, 6, 7, 3, 7, 0, 8, 7, 2, 7, 2, 9, 5, 0, 9, 8, 0, 8, 6, 8, 3, 8, 7, 8, 2, 7, 9, 3, 6, 9, 6, 3, 9, 7, 5, 6, 9, 3, 5, 0, 7, 7, 9, 4, 7, 2, 6, 5, 9, 8, 9, 5, 8, 3, 3, 8, 4, 1, 4, 9, 5, 6, 2, 0, 5, 9, 9, 9, 8, 2, 9, 4, 5, 2, 3, 6, 7, 6, 1, 1, 9, 5, 2, 4, 0, 5, 4, 8, 2, 9, 2, 0, 2, 8, 0, 6, 8, 1, 8, 1, 8, 5, 8, 2, 1, 3, 1, 6, 2, 4, 1, 2, 3, 9, 3, 1, 7, 6, 9, 7, 4, 7, 8, 2, 5, 8, 9, 7, 2, 4, 8, 6, 4, 2, 8, 8, 4, 6, 9, 1, 5, 7, 3, 6, 5, 1, 5, 8, 8, 0, 5, 2, 3, 0, 8, 4, 7, 4, 8, 1, 2, 5, 5, 3, 1, 4, 8, 2, 3, 4, 9, 0, 6, 3, 0, 8, 4, 4, 6, 3, 7, 1, 9, 9, 6, 2, 3, 9, 4, 3, 7, 0, 7, 5, 6, 0, 0, 5, 5, 0, 2, 4, 6, 9, 3, 9, 0, 8, 5, 5, 6, 6, 4, 5, 1, 9, 8, 2, 4, 1, 5, 7, 7, 0, 3, 2, 9, 5, 6, 0, 9, 4, 2, 8, 8, 4, 2, 5, 1, 7, 1, 6, 8, 8, 8, 4, 3, 8, 3, 0, 2, 5, 2, 2, 9, 9, 4, 7, 6, 6, 2, 7, 7, 0, 6, 4, 2, 9, 6, 7, 1, 6, 9, 9, 8, 2, 9, 5, 8, 2, 8, 5, 3, 8, 2, 0, 7, 5, 9, 6, 5, 9, 9, 7, 3, 5, 0, 9, 1, 8, 9, 5, 6, 1, 1, 1, 3, 6, 2, 3, 8, 3, 7, 0, 4, 6, 5, 2, 6, 8, 2, 7, 1, 4, 3, 6, 1, 0, 2, 7, 5, 8, 9, 2, 7, 4, 2, 3, 5, 0, 2, 6, 9, 5, 8, 0, 6, 7, 0, 7, 8, 3, 0, 8, 3, 3, 6, 7, 5, 4, 9, 9, 7, 4, 7, 4, 6, 0, 3, 8, 8, 9, 8, 8, 7, 0, 6, 1, 2, 8, 9, 7, 6, 5, 9, 1, 3, 7, 7, 9, 0, 9, 6, 6, 4, 9, 7, 2, 7, 4, 5, 5, 6, 0, 7, 6, 5, 9, 7, 4, 9, 9, 2, 3, 7, 3, 0, 3, 4, 1, 5, 0, 8, 9, 3, 6, 1, 7, 3, 6, 7, 1, 4, 2, 6, 0, 1, 8, 7, 4, 6, 0, 1, 4, 2, 6, 9, 1, 9, 6, 7, 3, 2, 3, 2, 5, 4, 1, 2, 1, 5, 9, 6, 4, 2, 7, 3, 1, 4, 3, 0, 3, 6, 2, 4, 6, 7, 2, 6, 0, 0, 6, 1, 3, 0, 8, 2, 6, 9, 7, 0, 1, 3, 4, 4, 0, 3, 4, 1, 6, 3, 0, 5, 5, 8, 7, 5, 6, 3, 7, 8, 0, 3, 0, 5, 8, 7, 9, 3, 4, 4, 2, 4, 4, 9, 8, 8, 7, 1, 5, 4, 0, 1, 6, 4, 9, 0, 1, 9, 0, 9, 5, 4, 7, 4, 0, 6, 3, 9, 7, 8, 1, 8, 7, 2, 4, 1, 0, 7, 7, 0, 7, 7, 7, 7, 2, 2, 1, 3, 9, 2, 1, 3, 5, 3, 7, 6, 4, 7, 8, 4, 0, 4, 6, 2, 4, 6, 0, 6, 4, 0, 7, 2, 4, 0, 5, 6, 0, 6, 5, 6, 6, 0, 3, 5, 2, 3, 0, 6, 9, 2, 2, 9, 2, 1, 8, 4, 7, 0, 0, 4, 0, 4, 5, 8, 1, 9, 6, 3, 5, 5, 2, 3, 5, 8, 6, 7, 4, 8, 0, 8, 3, 2, 8, 8, 8, 0, 6, 9, 2, 6, 5, 3, 2, 1, 9, 2, 2, 7, 8, 9, 6, 9, 9, 5, 8, 7, 1, 0, 5, 7, 0, 5, 7, 3, 9, 2, 1, 5, 9, 3, 1, 3, 2, 2, 6, 5, 6, 4, 3, 2, 2, 7, 3, 7, 4, 3, 7, 4, 0, 7, 3, 6, 6, 9, 6, 8, 4, 9, 5, 0, 5, 4, 4, 0, 8, 8, 6, 6, 3, 9, 7, 9, 6, 4, 6, 7, 3, 2, 5, 5, 2, 2, 8, 5, 8, 1, 2, 5, 8, 1, 3, 4, 3, 1, 3, 6, 2, 9, 0, 2, 2, 9, 5, 9, 1, 3, 4, 0, 5, 2, 7, 2, 3, 8, 0, 9, 2, 2, 7, 6, 3, 1, 4, 7, 7, 2, 1, 0, 7, 1, 8, 5, 0, 5, 9, 8, 3, 9, 3, 4, 4, 6, 1, 8, 2, 0, 8, 7, 6, 4, 5, 4, 1, 6, 3, 9, 3, 0, 7, 2, 7, 0, 2, 4, 1, 9, 4, 9, 7, 6, 4, 0, 2, 6, 2, 7, 1, 1, 5, 5, 1, 9, 5, 4, 7, 4, 5, 9, 1, 8, 8, 0, 7, 0, 8, 5, 9, 7, 0, 1, 5, 6, 4, 1, 6, 4, 4, 6, 5, 6, 2, 8, 6, 4, 4, 8, 8, 2, 6, 2, 5, 2, 2, 3, 9, 4, 7, 8, 8, 2, 7, 6, 5, 9, 7, 5, 0, 8, 6, 0, 1, 2, 8, 5, 9, 8, 5, 8, 7, 3, 3, 6, 7, 0, 0, 9, 5, 9, 1, 6, 5, 8, 1, 0, 2, 1, 1, 0, 5, 5, 3, 0, 4, 5, 9, 2, 6, 2, 0, 8, 2, 5, 1, 2, 9, 5, 2, 0, 5, 0, 3, 3, 0, 0, 2, 3, 8, 9, 6, 6, 1, 8, 8, 3, 7, 5, 1, 7, 3, 6, 1, 2, 8, 7, 0, 5, 6, 7, 5, 0, 9, 2, 5, 0, 3, 6, 4, 6, 1, 0, 1, 1, 8, 3, 8, 3, 0, 3, 9, 4, 2, 8, 3, 4, 1, 9, 2, 4, 6, 9, 8, 8, 8, 3, 3, 5, 4, 5, 3, 5, 0, 1, 1, 3, 6, 7, 8, 8, 3, 6, 6, 0, 4, 7, 1, 6, 0, 8, 4, 9, 6, 1, 6, 8, 7, 9, 0, 4, 3, 0, 5, 7, 4, 6, 8, 6, 9, 0, 7, 9, 7, 7, 7, 7, 3, 1, 6, 7, 0, 2, 4, 1, 3, 3, 8, 9, 5, 5, 4, 3, 0, 3, 9, 6, 2, 1, 4, 4, 9, 6, 7, 8, 1, 5, 8, 6, 1, 8, 7, 2, 6, 4, 2, 4, 1, 2, 9, 3, 4, 0, 8, 1, 0, 2, 4, 3, 4, 8, 2, 3, 0, 2, 9, 7, 0, 1, 4, 0, 9, 4, 2, 7, 1, 8, 4, 8, 3, 3, 4, 9, 6, 1, 5, 8, 1, 1, 7, 0, 0, 7, 6, 7, 9, 1, 8, 8, 2, 1, 6, 2, 5, 6, 8, 9, 9, 2, 7, 7, 8, 4, 8, 4, 6, 6, 4, 5, 5, 3, 5, 7, 1, 2, 7, 0, 9, 6, 6, 0, 4, 8, 7, 6, 9, 2, 0, 9, 6, 3, 5, 1, 8, 4, 8, 2, 0, 4, 8, 9, 9, 1, 8, 4, 6, 0, 4, 3, 5, 3, 4, 8, 5, 8, 2, 6, 0, 3, 4, 2, 5, 2, 2, 5, 9, 4, 7, 7, 3, 5, 6, 1, 2, 0, 1, 8, 2, 3, 6, 3, 4, 2, 3, 1, 2, 1, 3, 6, 2, 9, 9, 1, 7, 1, 4, 3, 7, 0, 1, 0, 1, 3, 2, 5, 1, 9, 7, 9, 1, 9, 1, 6, 5, 1, 3, 7, 5, 1, 1, 6, 9, 2, 5, 0, 7, 2, 4, 2, 2, 1, 4, 2, 9, 7, 8, 4, 8, 3, 2, 0, 8, 8, 9, 0, 5, 9, 0, 9, 5, 0, 7, 3, 0, 0, 3, 7, 0, 9, 1, 3, 1, 5, 1, 3, 9, 2, 8, 0, 5, 0, 2, 8, 9, 4, 5, 4, 4, 0, 4, 8, 5, 5, 5, 7, 2, 5, 6, 3, 4, 3, 9, 3, 4, 1, 9, 5, 9, 3, 0, 9, 1, 0, 0, 1, 8, 6, 4, 8, 0, 7, 0, 7, 8, 2, 4, 1, 7, 6, 8, 5, 7, 9, 1, 7, 0, 1, 2, 2, 5, 0, 2, 4, 6, 7, 2, 6, 7, 2, 6, 4, 9, 5, 7, 6, 7, 7, 6, 8, 4, 6, 2, 9, 8, 6, 0, 7, 3, 3, 0, 9, 4, 8, 2, 3, 6, 4, 1, 5, 0, 8, 9, 1, 3, 3, 5, 7, 5, 6, 1, 3, 7, 3, 7, 8, 8, 3, 5, 6, 2, 6, 6, 0, 9, 3, 8, 6, 7, 5, 7, 4, 3, 1, 0, 9, 9, 7, 6, 8, 1, 7, 3, 1, 9, 8, 6, 6, 2, 2, 2, 8, 2, 8, 9, 5, 2, 1, 5, 4, 9, 3, 7, 4, 2, 6, 0, 0, 9, 2, 6, 0, 7, 6, 9, 3, 8, 5, 2, 8, 3, 7, 3, 4, 1, 2, 5, 5, 1, 9, 9, 2, 9, 3, 1, 2, 0, 6, 0, 2, 4, 2, 9, 9, 5, 6, 3, 7, 0, 0, 1, 3, 2, 2, 6, 5, 0, 6, 2, 3, 0, 7, 3, 7, 4, 1, 4, 5, 4, 1, 1, 9, 1, 5, 3, 6, 8, 2, 3, 2, 1, 0, 7, 4, 5, 6, 6, 3, 9, 2, 1, 5, 3, 8, 3, 8, 0, 2, 1, 3, 5, 7, 9, 8, 0, 2, 5, 8, 5, 8, 9, 9, 6, 5, 1, 7, 3, 2, 1, 0, 4, 0, 3, 7, 9, 9, 4, 8, 9, 6, 0, 6, 2, 9, 2, 0, 3, 8, 4, 4, 9, 5, 8, 5, 0, 9, 5, 4, 9, 3, 3, 6, 8, 9, 1, 7, 7, 8, 9, 7, 0, 4, 7, 8, 6, 6, 2, 7, 6, 3, 6, 1, 2, 6, 3, 9, 1, 6, 3, 6, 5, 0, 2, 0, 1, 3, 0, 6, 4, 1, 7, 4, 1, 8, 5, 1, 3, 0, 1, 5, 9, 2, 1, 4, 0, 2, 6, 4, 9, 3, 6, 4, 9, 1, 4, 3, 4, 3, 1, 7, 9, 7, 2, 8, 0, 8, 7, 9, 6, 7, 6, 7, 9, 8, 7, 7, 0, 7, 5, 1, 5, 1, 5, 6, 0, 5, 8, 5, 4, 2, 0, 2, 1, 3, 0, 3, 9, 1, 6, 3, 8, 1, 5, 1, 0, 2, 3, 6, 8, 2, 2, 5, 6, 9, 9, 9, 7, 1, 9, 9, 9, 3, 7, 7, 7, 7, 2, 3, 4, 0, 1, 8, 2, 5, 8, 2, 7, 0, 3, 3, 3, 7, 6, 4, 2, 1, 0, 7, 1, 5, 1, 5, 4, 6, 8, 1, 6, 2, 4, 8, 6, 9, 9, 1, 2, 0, 9, 1, 0, 0, 5, 4, 5, 8, 5, 4, 2, 6, 3, 1, 1, 6, 7, 4, 0, 1, 4, 5, 3, 7, 6, 5, 3, 3, 6, 1, 8, 2, 5, 1, 8, 3, 2, 9, 8, 3, 9, 1, 5, 9, 5, 3, 1, 8, 5, 2, 4, 0, 2, 5, 4, 1, 4, 8, 6, 1, 5, 5, 3, 8, 0, 7, 1, 8, 1, 9, 4, 6, 7, 7, 6, 3, 4, 7, 4, 1, 5, 9, 1, 9, 4, 3, 0, 3, 5, 4, 6, 8, 9, 6, 4, 8, 7, 8, 7, 5, 9, 3, 8, 5, 6, 5, 7, 1, 9, 3, 0, 4, 6, 2, 7, 1, 5, 3, 5, 4, 0, 6, 7, 8, 3, 8, 8, 9, 7, 7, 2, 6, 6, 6, 1, 1, 9, 0, 3, 1, 6, 4, 5, 6, 8, 0, 0, 1, 7, 4, 7, 1, 8, 4, 7, 4, 4, 7, 6, 2, 7, 6, 9, 2, 7, 7, 6, 7, 4, 2, 5, 0, 4, 4, 1, 1, 9, 6, 0, 0, 2, 4, 4, 2, 9, 1, 4, 5, 2, 5, 9, 8, 0, 6, 9, 9, 4, 8, 4, 1, 6, 1, 7, 0, 3, 0, 6, 8, 8, 2, 9, 5, 5, 5, 0, 0, 6, 3, 0, 4, 7, 2, 7, 6, 9, 7, 5, 0, 9, 0, 7, 4, 7, 1, 9, 4, 8, 8, 5, 2, 5, 1, 4, 6, 2, 5, 4, 1, 4, 1, 0, 8, 8, 7, 2, 8, 1, 5, 8, 8, 3, 7, 2, 7, 1, 2, 1, 8, 0, 4, 3, 1, 8, 1, 3, 2, 3, 7, 2, 9, 8, 4, 6, 3, 4, 6, 4, 5, 3, 0, 7, 5, 1, 5, 0, 6, 4, 6, 6, 9, 7, 0, 8, 8, 0, 9, 9, 3, 2, 3, 8, 2, 7, 1, 9, 9, 9, 7, 9, 4, 6, 1, 4, 1, 6, 1, 3, 8, 2, 0, 1, 8, 8, 9, 3, 3, 7, 2, 1, 6, 9, 9, 6, 6, 1, 8, 7, 5, 5, 3, 9, 1, 9, 0, 2, 3, 2, 9, 3, 1, 9, 4, 4, 8, 2, 9, 2, 5, 0, 5, 3, 4, 1, 6, 7, 4, 5, 0, 9, 6, 0, 1, 2, 6, 0, 9, 7, 9, 2, 4, 2, 5, 1, 1, 1, 5, 7, 3, 2, 7, 8, 0, 5, 9, 5, 0, 6, 9, 9, 0, 5, 3, 7, 2, 9, 3, 2, 4, 3, 2, 7, 1, 8, 2, 4, 7, 2, 9, 7, 5, 0, 3, 7, 5, 0, 7, 4, 8, 4, 5, 6, 4, 7, 7, 6, 6, 6, 9, 8, 5, 7, 0, 1, 5, 4, 7, 4, 4, 4, 2, 3, 1, 4, 4, 9, 8, 3, 5, 0, 1, 4, 5, 9, 6, 0, 7, 7, 2, 8, 7, 2, 6, 4, 7, 8, 8, 8, 9, 2, 7, 0, 2, 8, 7, 4, 5, 5, 5, 5, 2, 5, 7, 2, 9, 8, 4, 4, 9, 7, 6, 7, 6, 7, 4, 9, 5, 1, 8, 0, 5, 9, 7, 8, 9, 2, 1, 6, 9, 6, 9, 8, 6, 2, 5, 6, 6, 0, 9, 3, 1, 8, 1, 8, 4, 6, 8, 7, 7, 3, 3, 9, 4, 2, 7, 0, 4, 2, 5, 7, 2, 8, 8, 6, 7, 6, 0, 7, 6, 8, 4, 3, 9, 6, 4, 8, 0, 7, 1, 8, 1, 1, 6, 4, 0, 5, 0, 0, 9, 3, 9, 0, 5, 9, 0, 6, 6, 0, 4, 5, 8, 3, 3, 9, 4, 3, 8, 5, 7, 7, 7, 6, 2, 1, 6, 9, 8, 2, 9, 5, 1, 7, 8, 8, 9, 0, 3, 0, 2, 5, 1, 2, 3, 4, 2, 0, 0, 6, 6, 9, 3, 7, 5, 2, 4, 7, 8, 2, 8, 2, 4, 4, 3, 2, 0, 6, 8, 2, 0, 7, 2, 9, 2, 9, 2, 5, 8, 0, 7, 2, 7, 2, 5, 7, 5, 4, 2, 0, 2, 2, 1, 0, 3, 7, 0, 7, 1, 8, 9, 2, 5, 9, 7, 5, 2, 4, 9, 1, 0, 3, 2, 4, 0, 2, 0, 7, 2, 8, 5, 4, 0, 2, 8, 6, 8, 8, 6, 1, 4, 4, 7, 3, 5, 1, 6, 1, 2, 2, 1, 8, 8, 6, 3, 6, 3, 7, 1, 7, 0, 2, 2, 0, 8, 1, 3, 6, 1, 9, 8, 5, 5, 8, 6, 5, 2, 0, 0, 4, 0, 2, 4, 7, 7, 2, 9, 0, 8, 1, 2, 1, 2, 4, 2, 3, 6, 4, 0, 2, 1, 1, 6, 6, 3, 5, 7, 3, 6, 7, 6, 9, 8, 9, 6, 1, 0, 1, 9, 7, 9, 3, 5, 7, 0, 4, 2, 1, 1, 9, 1, 8, 3, 4, 7, 1, 9, 9, 3, 1, 6, 4, 6, 4, 3, 4, 7, 5, 3, 8, 8, 4, 8, 5, 9, 4, 0, 6, 0, 8, 6, 9, 3, 7, 4, 3, 9, 6, 4, 1, 8, 2, 7, 0, 7, 7, 7, 7, 4, 5, 4, 6, 9, 7, 6, 4, 9, 8, 3, 4, 4, 8, 8, 0, 0, 8, 0, 6, 0, 7, 0, 4, 2, 6, 2, 1, 7, 9, 5, 8, 5, 1, 0, 4, 0, 5, 0, 2, 6, 5, 2, 6, 9, 7, 7, 6, 9, 2, 1, 0, 2, 3, 7, 6, 3, 9, 5, 6, 0, 5, 1, 0, 0, 1, 9, 0, 8, 0, 1, 4, 0, 7, 7, 6, 5, 4, 7, 5, 8, 8, 9, 9, 8, 9, 9, 4, 0, 9, 6, 2, 1, 3, 9, 1, 4, 6, 0, 9, 2, 6, 0, 7, 1, 6, 0, 8, 0, 5, 2, 7, 9, 4, 3, 7, 0, 1, 2, 5, 4, 8, 6, 8, 5, 3, 9, 8, 3, 8, 3, 3, 7, 9, 4, 4, 8, 8, 0, 9, 9, 5, 7, 8, 9, 0, 5, 4, 9, 9, 7, 6, 4, 0, 3, 2, 1, 4, 1, 8, 1, 5, 4, 3, 2, 1, 7, 9, 6, 4, 9, 3, 4, 6, 2, 1, 4, 1, 6, 2, 6, 2, 4, 1, 5, 3, 4, 0, 6, 1, 1, 2, 5, 0, 4, 2, 7, 0, 2, 9, 3, 4, 9, 8, 4, 6, 4, 0, 3, 6, 2, 5, 0, 2, 0, 2, 0, 6, 7, 0, 0, 1, 4, 2, 2, 1, 8, 3, 8, 6, 5, 1, 5, 7, 9, 1, 0, 4, 0, 6, 4, 0, 7, 7, 2, 5, 0, 0, 5, 0, 1, 3, 5, 8, 6, 9, 6, 5, 9, 8, 1, 8, 2, 2, 5, 9, 5, 1, 2, 6, 3, 7, 8, 7, 5, 6, 3, 8, 5, 5, 9, 6, 1, 8, 3, 1, 7, 5, 6, 5, 2, 6, 4, 4, 1, 9, 6, 2, 1, 4, 1, 5, 6, 2, 2, 2, 6, 3, 1, 5, 9, 8, 5, 8, 0, 9, 0, 6, 8, 9, 4, 9, 9, 2, 5, 7, 9, 5, 0, 9, 9, 1, 4, 4, 2, 8, 1, 6, 2, 1, 6, 7, 3, 6, 6, 9, 0, 2, 5, 4, 5, 8, 6, 6, 7, 1, 3, 4, 8, 5, 8, 1, 7, 4, 1, 0, 4, 0, 4, 0, 0, 1, 1, 5, 0, 3, 5, 1, 0, 6, 6, 3, 6, 1, 2, 9, 8, 7, 3, 2, 0, 0, 8, 2, 2, 7, 1, 4, 5, 5, 9, 1, 3, 8, 3, 5, 5, 7, 1, 4, 8, 5, 6, 9, 1, 5, 1, 9, 4, 4, 1, 0, 5, 8, 4, 2, 2, 4, 3, 1, 6, 7, 1, 3, 4, 3, 9, 4, 6, 7, 0, 7, 1, 8, 3, 4, 3, 2, 1, 4, 9, 8, 2, 3, 2, 3, 6, 4, 9, 1, 7, 2, 8, 5, 9, 8, 6, 1, 7, 4, 2, 7, 8, 9, 1, 8, 9, 4, 1, 2, 2, 8, 6, 6, 4, 3, 6, 3, 9, 6, 2, 3, 1, 9, 6, 4, 6, 0, 5, 9, 2, 0, 9, 1, 6, 1, 1, 6, 1, 3, 1, 4, 1, 3, 0, 3, 1, 7, 4, 6, 8, 7, 2, 1, 4, 0, 2, 2, 4, 3, 1, 8, 0, 8, 0, 0, 7, 6, 5, 0, 8, 0, 4, 6, 7, 6, 6, 0, 3, 9, 8, 5, 2, 5, 6, 0, 1, 9, 6, 6, 9, 3, 5, 9, 4, 0, 5, 1, 1, 0, 6, 0, 3, 8, 7, 3, 4, 1, 2, 0, 4, 5, 8, 5, 2, 4, 8, 7, 7, 9, 7, 6, 8, 9, 5, 6, 7, 6, 3, 3, 6, 2, 4, 1, 9, 3, 5, 9, 6, 1, 5, 5, 6, 5, 2, 5, 0, 0, 8, 8, 6, 2, 1, 0, 7, 8, 1, 3, 6, 7, 4, 4, 1, 2, 7, 8, 7, 9, 4, 0, 3, 3, 6, 7, 9, 5, 6, 2, 3, 4, 9, 0, 1, 0, 1, 5, 2, 7, 7, 8, 6, 9, 6, 0, 1, 3, 5, 1, 9, 6, 0, 9, 6, 9, 1, 4, 8, 8, 4, 5, 0, 4, 9, 9, 6, 7, 3, 0, 4, 0, 0, 6, 2, 5, 1, 0, 6, 9, 5, 2, 7, 0, 2, 1, 3, 5, 2, 2, 0, 8, 9, 8, 7, 4, 6, 5, 0, 8, 6, 5, 3, 9, 8, 5, 0, 9, 4, 7, 2, 5, 3, 5, 4, 0, 2, 4, 1, 0, 1, 0, 8, 5, 6, 3, 2, 6, 9, 1, 2, 8, 6, 0, 3, 8, 8, 9, 3, 6, 1, 5, 7, 3, 3, 8, 2, 4, 9, 9, 7, 8, 8, 1, 3, 4, 7, 2, 7, 1, 2, 9, 0, 8, 3, 9, 8, 8, 0, 8, 7, 4, 0, 3, 0, 8, 8, 3, 6, 6, 3, 3, 7, 5, 0, 5, 9, 1, 9, 5, 7, 1, 5, 1, 0, 0, 0, 8, 2, 0, 7, 1, 0, 7, 6, 7, 4, 6, 8, 1, 6, 5, 3, 7, 7, 4, 3, 0, 5, 5, 6, 2, 4, 0, 0, 9, 0, 5, 8, 5, 6, 0, 9, 7, 1, 3, 5, 4, 0, 8, 3, 1, 4, 7, 1, 1, 8, 0, 9, 4, 5, 4, 0, 2, 4, 2, 7, 7, 0, 0, 3, 2, 8, 8, 3, 8, 1, 9, 4, 7, 9, 6, 2, 0, 1, 3, 1, 6, 9, 4, 6, 6, 8, 0, 5, 1, 3, 7, 6, 8, 5, 1, 4, 7, 6, 5, 4, 7, 4, 7, 1, 1, 0, 7, 7, 2, 1, 6, 2, 2, 7, 4, 2, 8, 5, 9, 7, 0, 2, 0, 5, 2, 6, 6, 8, 9, 8, 4, 0, 6, 3, 4, 5, 3, 8, 3, 9, 0, 5, 6, 0, 3, 6, 3, 7, 4, 2, 7, 8, 2, 2, 2, 1, 7, 8, 8, 1, 1, 5, 0, 3, 8, 5, 5, 4, 8, 2, 1, 9, 7, 9, 5, 8, 8, 4, 4, 4, 0, 0, 2, 3, 8, 1, 0, 1, 0, 1, 1, 4, 6, 3, 5, 7, 0, 7, 7, 2, 2, 8, 0, 8, 5, 8, 2, 3, 8, 2, 6, 1, 0, 2, 4, 9, 6, 0, 7, 7, 8, 6, 6, 0, 0, 8, 0, 6, 9, 2, 7, 0, 2, 7, 7, 1, 2, 3, 4, 8, 3, 9, 4, 2, 1, 9, 1, 6, 6, 6, 7, 5, 8, 6, 1, 9, 4, 6, 7, 6, 0, 5, 5, 1, 8, 9, 0, 6, 2, 6, 6, 5, 6, 3, 1, 9, 8, 5, 7, 5, 3, 3, 2, 4, 6, 4, 6, 4, 1, 8, 4, 0, 4, 3, 2, 9, 6, 5, 5, 1, 8, 3, 7, 3, 8, 7, 5, 1, 8, 2, 4, 8, 8, 2, 4, 8, 5, 4, 3, 8, 0, 4, 2, 0, 6, 4, 6, 7, 9, 3, 5, 2, 7, 6, 9, 5, 9, 0, 2, 1, 6, 0, 8, 4, 0, 0, 8, 2, 7, 8, 3, 3, 0, 6, 9, 6, 7, 8, 0, 4, 3, 6, 0, 8, 1, 5, 7, 7, 4, 0, 7, 3, 8, 2, 6, 5, 5, 7, 7, 0, 7, 1, 6, 4, 2, 1, 4, 5, 7, 7, 1, 9, 7, 2, 3, 7, 9, 9, 1, 0, 7, 8, 8, 4, 3, 9, 4, 2, 2, 1, 8, 9, 0, 6, 2, 3, 8, 3, 3, 0, 9, 9, 0, 8, 3, 9, 7, 4, 4, 8, 8, 2, 0, 8, 1, 1, 9, 1, 0, 8, 1, 3, 0, 6, 0, 7, 0, 2, 2, 5, 6, 6, 7, 8, 8, 7, 5, 6, 6, 5, 4, 7, 1, 1, 9, 2, 6, 2, 6, 5, 6, 1, 2, 2, 5, 1, 9, 7, 1, 5, 4, 9, 7, 9, 6, 5, 4, 8, 0, 0, 7, 8, 2, 1, 5, 7, 3, 8, 0, 3, 5, 1, 6, 9, 9, 2, 2, 2, 5, 9, 9, 7, 4, 1, 6, 0, 1, 8, 0, 7, 0, 0, 9, 9, 6, 1, 0, 1, 5, 1, 7, 2, 4, 5, 1, 7, 9, 4, 2, 6, 8, 4, 7, 8, 0, 6, 1, 6, 4, 7, 4, 9, 6, 0, 9, 7, 9, 0, 8, 5, 0, 9, 5, 8, 6, 3, 2, 7, 1, 0, 0, 7, 6, 6, 3, 2, 5, 1, 6, 7, 6, 3, 1, 3, 5, 6, 2, 1, 6, 7, 5, 5, 4, 4, 3, 0, 7, 5, 5, 4, 0, 1, 5, 0, 0, 0, 9, 2, 4, 4, 3, 9, 8, 0, 0, 5, 5, 9, 2, 7, 0, 4, 9, 5, 1, 9, 6, 3, 3, 0, 1, 3, 4, 6, 8, 2, 2, 7, 2, 9, 0, 9, 3, 0, 8, 2, 0, 0, 9, 0, 4, 2, 7, 7, 3, 6, 7, 8, 2, 6, 5, 8, 6, 4, 7, 4, 7, 5, 0, 0, 5, 2, 4, 1, 8, 0, 9, 1, 1, 0, 5, 6, 8, 6, 5, 9, 9, 8, 4, 2, 6, 8, 1, 5, 0, 2, 1, 7, 3, 9, 6, 0, 3, 3, 1, 4, 1, 5, 9, 9, 2, 6, 2, 0, 2, 4, 5, 3, 3, 8, 8, 8, 6, 2, 4, 1, 6, 2, 8, 1, 9, 6, 4, 1, 3, 2, 4, 1, 1, 6, 0, 6, 3, 6, 6, 5, 4, 7, 1, 4, 5, 8, 7, 8, 8, 1, 6, 1, 2, 1, 1, 4, 4, 0, 2, 0, 7, 1, 7, 0, 2, 7, 0, 7, 9, 1, 8, 5, 5, 4, 9, 0, 9, 4, 8, 5, 4, 1, 5, 5, 9, 6, 3, 3, 8, 8, 4, 7, 2, 9, 1, 1, 0, 8, 6, 4, 5, 3, 2, 1, 1, 7, 0, 1, 5, 0, 8, 4, 8, 4, 0, 6, 7, 6, 2, 6, 5, 7, 4, 8, 6, 9, 4, 8, 3, 1, 6, 1, 9, 1, 6, 9, 7, 1, 5, 4, 2, 7, 9, 8, 0, 7, 4, 9, 7, 6, 6, 0, 6, 7, 0, 7, 5, 9, 3, 7, 4, 7, 8, 6, 8, 0, 7, 3, 7, 3, 3, 0, 9, 7, 7, 2, 3, 1, 6, 1, 4, 2, 2, 1, 2, 3, 1, 9, 9, 5, 8, 2, 6, 4, 7, 7, 2, 5, 3, 3, 3, 3, 0, 1, 5, 6, 0, 4, 8, 3, 5, 2, 5, 9, 1, 7, 0, 2, 7, 4, 2, 8, 6, 8, 1, 6, 9, 6, 1, 0, 3, 5, 4, 7, 8, 6, 9, 6, 7, 7, 7, 2, 5, 9, 7, 3, 8, 3, 1, 4, 2, 7, 7, 5, 6, 1, 3, 8, 4, 5, 5, 2, 7, 5, 6, 6, 0, 3, 3, 9, 9, 7, 4, 7, 4, 4, 3, 3, 1, 7, 9, 1, 2, 3, 8, 8, 6, 0, 5, 9, 8, 9, 1, 3, 5, 4, 1, 4, 5, 7, 9, 9, 2, 9, 2, 8, 7, 2, 4, 9, 3, 5, 1, 0, 7, 9, 8, 7, 6, 6, 9, 3, 1, 7, 9, 7, 3, 3, 2, 3, 6, 8, 7, 2, 3, 5, 7, 6, 3, 2, 4, 8, 8, 9, 9, 5, 9, 8, 8, 9, 0, 7, 8, 5, 7, 5, 9, 3, 4, 3, 6, 7, 7, 8, 1, 3, 2, 4, 5, 1, 7, 6, 5, 9, 4, 8, 9, 0, 1, 8, 3, 1, 8, 4, 6, 9, 9, 5, 5, 3, 8, 8, 8, 4, 8, 0, 4, 5, 8, 5, 2, 4, 5, 3, 2, 5, 6, 2, 4, 6, 8, 4, 9, 9, 5, 8, 6, 7, 3, 7, 1, 8, 3, 7, 4, 5, 8, 6, 9, 3, 8, 7, 1, 4, 1, 2, 0, 1, 4, 9, 3, 1, 3, 5, 7, 9, 2, 2, 3, 6, 9, 2, 7, 1, 0, 8, 8, 3, 2, 2, 6, 7, 3, 7, 2, 1, 4, 3, 9, 0, 8, 2, 8, 6, 3, 9, 5, 0, 2, 4, 7, 2, 4, 2, 4, 7, 0, 3, 7, 4, 5, 1, 1, 8, 9, 4, 6, 2, 2, 2, 4, 5, 1, 5, 3, 4, 0, 7, 9, 8, 1, 8, 7, 1, 9, 7, 3, 5, 6, 5, 9, 9, 6, 1, 3, 8, 9, 6, 9, 6, 5, 7, 0, 1, 8, 3, 1, 7, 6, 1, 5, 1, 1, 8, 3, 4, 8, 5, 5, 4, 5, 3, 2, 6, 8, 5, 1, 9, 3, 9, 1, 7, 3, 2, 5, 3, 5, 1, 4, 0, 3, 7, 1, 2, 8, 4, 6, 4, 3, 3, 1, 3, 4, 3, 4, 1, 7, 2, 3, 8, 4, 0, 9, 9, 3, 4, 0, 7, 3, 7, 9, 6, 9, 5, 0, 4, 2, 1, 2, 8, 6, 7, 2, 1, 4, 1, 9, 4, 3, 1, 2, 1, 8, 9, 1, 9, 7, 7, 6, 8, 2, 2, 5, 1, 1, 2, 0, 1, 5, 5, 8, 3, 9, 7, 2, 1, 1, 4, 4, 6, 3, 3, 3, 4, 8, 9, 5, 6, 0, 2, 2, 3, 1, 0, 5, 5, 0, 4, 5, 7, 3, 2, 9, 9, 9, 5, 9, 6, 3, 4, 1, 8, 7, 7, 9, 6, 2, 0, 3, 3, 6, 2, 3, 1, 9, 7, 1, 6, 0, 2, 7, 3, 3, 7, 4, 2, 9, 2, 4, 0, 2, 4, 6, 8, 7, 1, 8, 4, 4, 1, 9, 8, 4, 6, 7, 3, 3, 6, 8, 5, 9, 8, 2, 5, 4, 7, 8, 1, 9, 8, 8, 9, 0, 9, 6, 8, 2, 3, 2, 3, 0, 1, 5, 1, 2, 2, 6, 6, 9, 1, 3, 4, 3, 6, 5, 2, 5, 1, 7, 6, 7, 8, 1, 3, 0, 8, 2, 8, 4, 2, 2, 2, 2, 6, 7, 5, 8, 6, 6, 1, 6, 7, 5, 8, 5, 7, 1, 1, 3, 3, 7, 7, 9, 7, 5, 7, 9, 9, 5, 6, 3, 5, 2, 9, 1, 2, 4, 1, 6, 8, 4, 9, 3, 9, 1, 1, 7, 0, 8, 6, 8, 6, 4, 4, 5, 7, 2, 0, 1, 1, 2, 5, 3, 5, 0, 2, 8, 0, 8, 5, 4, 4, 8, 0, 6, 8, 9, 9, 2, 3, 1, 9, 9, 3, 3, 5, 1, 9, 1, 7, 9, 7, 9, 6, 0, 2, 5, 8, 6, 1, 6, 7, 6, 7, 9, 8, 9, 2, 0, 7, 9, 2, 9, 0, 0, 8, 8, 2, 4, 2, 1, 8, 2, 4, 2, 8, 8, 6, 6, 6, 1, 1, 0, 3, 4, 5, 0, 0, 4, 0, 4, 2, 7, 5, 2, 8, 6, 9, 1, 9, 0, 1, 7, 4, 7, 9, 3, 3, 9, 5, 8, 4, 3, 1, 0, 3, 6, 4, 7, 2, 4, 8, 2, 9, 9, 5, 6, 9, 6, 0, 5, 2, 4, 3, 2, 7, 7, 2, 9, 0, 0, 6, 1, 2, 2, 2, 8, 6, 1, 9, 0, 3, 2, 2, 0, 3, 1, 2, 8, 0, 1, 1, 3, 2, 3, 3, 7, 9, 6, 3, 5, 5, 7, 3, 4, 4, 4, 5, 0, 2, 7, 6, 3, 6, 3, 4, 2, 5, 2, 9, 7, 1, 2, 9, 0, 5, 7, 3, 5, 3, 0, 5, 1, 1, 4, 8, 0, 1, 3, 1, 7, 5, 9, 2, 1, 9, 2, 7, 3, 3, 2, 5, 7, 2, 3, 3, 7, 6, 4, 5, 1, 7, 2, 0, 6, 2, 5, 4, 4, 6, 6, 7, 5, 0, 4, 1, 7, 5, 7, 2, 5, 7, 1, 9, 1, 9, 1, 8, 3, 9, 3, 5, 2, 3, 6, 9, 1, 6, 0, 4, 9, 3, 3, 0, 0, 2, 4, 4, 9, 8, 5, 2, 5, 5, 5, 1, 7, 8, 2, 3, 7, 2, 4, 7, 8, 5, 0, 9, 7, 8, 3, 4, 3, 4, 5, 0, 0, 9, 6, 5, 2, 7, 6, 0, 2, 2, 2, 1, 6, 8, 9, 4, 9, 0, 2, 2, 1, 5, 1, 9, 6, 8, 9, 0, 0, 3, 7, 3, 7, 0, 4, 1, 9, 8, 3, 0, 3, 2, 1, 8, 5, 0, 0, 5, 6, 1, 3, 0, 1, 8, 4, 4, 5, 6, 7, 8, 8, 8, 7, 6, 7, 8, 5, 2, 8, 0, 8, 2, 6, 2, 7, 5, 8, 7, 8, 5, 4, 1, 3, 1, 3, 4, 4, 5, 6, 3, 1, 9, 0, 6, 0, 5, 2, 5, 1, 8, 5, 8, 2, 0, 1, 4, 0, 6, 4, 7, 8, 2, 8, 3, 1, 0, 5, 7, 3, 8, 0, 3, 1, 4, 3, 4, 2, 8, 3, 1, 1, 6, 6, 4, 1, 9, 7, 8, 5, 0, 4, 2, 5, 2, 6, 6, 6, 5, 1, 3, 3, 3, 0, 3, 0, 6, 2, 9, 8, 2, 7, 4, 6, 0, 0, 3, 8, 7, 4, 8, 0, 2, 3, 5, 9, 3, 1, 0, 3, 9, 5, 1, 3, 7, 0, 5, 9, 7, 8, 8, 7, 8, 7, 7, 1, 8, 0, 4, 5, 1, 6, 3, 8, 7, 7, 9, 4, 1, 6, 5, 6, 4, 5, 2, 5, 2, 0, 7, 9, 2, 4, 0, 8, 1, 5, 1, 2, 5, 7, 2, 4, 2, 4, 5, 1, 3, 0, 7, 7, 2, 5, 6, 6, 3, 8, 0, 5, 8, 4, 9, 1, 5, 2, 0, 6, 2, 1, 0, 8, 7, 9, 1, 8, 4, 9, 7, 8, 1, 3, 2, 9, 4, 6, 6, 4, 8, 2, 3, 0, 6, 6, 1, 9, 4, 5, 6, 0, 0, 5, 4, 0, 5, 8, 5, 2, 0, 2, 7, 7, 9, 2, 5, 3, 6, 1, 7, 3, 6, 2, 5, 4, 0, 0, 1, 6, 1, 0, 1, 6, 9, 6, 5, 6, 5, 0, 1, 9, 9, 6, 9, 1, 3, 1, 2, 6, 9, 0, 2, 1, 1, 3, 1, 6, 1, 1, 5, 2, 5, 0, 0, 0, 3, 3, 2, 7, 4, 4, 5, 3, 0, 4, 7, 9, 0, 2, 9, 9, 6, 4, 8, 6, 5, 2, 8, 9, 1, 2, 3, 0, 8, 6, 5, 7, 0, 9, 9, 5, 1, 9, 3, 2, 2, 8, 9, 1, 0, 4, 5, 1, 3, 8, 0, 4, 2, 0, 9, 0, 6, 7, 9, 4, 1, 7, 8, 3, 6, 8, 4, 7, 8, 9, 8, 2, 5, 5, 1, 1, 8, 2, 7, 5, 0, 1, 3, 8, 3, 0, 3, 1, 8, 6, 4, 8, 1, 6, 8, 3, 6, 5, 6, 8, 1, 1, 4, 6, 4, 0, 1, 2, 7, 4, 9, 0, 2, 0, 4, 3, 7, 1, 4, 4, 1, 4, 1, 6, 0, 2, 3, 7, 1, 8, 2, 0, 8, 1, 9, 7, 8, 5, 2, 8, 3, 8, 7, 1, 8, 4, 8, 8, 8, 8, 4, 6, 0, 1, 3, 4, 0, 3, 1, 9, 3, 2, 4, 2, 8, 0, 1, 0, 0, 0, 1, 6, 6, 4, 1, 3, 6, 3, 9, 9, 4, 3, 3, 7, 8, 5, 5, 8, 4, 7, 5, 8, 4, 3, 2, 2, 5, 1, 9, 6, 4, 2, 7, 0, 7, 5, 0, 7, 9, 2, 7, 8, 7, 9, 6, 5, 4, 8, 7, 8, 1, 1, 8, 1, 9, 6, 0, 3, 9, 7, 1, 6, 4, 4, 5, 5, 1, 8, 8, 0, 8, 6, 3, 5, 3, 6, 1, 4, 4, 3, 8, 7, 4, 6, 9, 1, 3, 5, 5, 2, 4, 2, 5, 5, 0, 3, 1, 2, 7, 3, 0, 6, 1, 2, 1, 3, 6, 3, 0, 7, 2, 1, 2, 0, 1, 9, 1, 5, 1, 6, 0, 7, 1, 1, 7, 7, 4, 2, 1, 3, 6, 8, 7, 9, 4, 0, 0, 7, 3, 4, 8, 5, 4, 2, 3, 5, 0, 6, 5, 6, 7, 1, 3, 5, 1, 8, 4, 6, 3, 6, 0, 1, 8, 4, 0, 4, 5, 0, 4, 9, 6, 8, 6, 6, 5, 5, 9, 2, 4, 4, 7, 6, 1, 6, 3, 2, 7, 5, 7, 8, 9, 0, 8, 7, 4, 9, 8, 5, 7, 2, 8, 4, 5, 6, 7, 7, 2, 6, 8, 5, 0, 7, 4, 0, 4, 2, 4, 0, 4, 0, 2, 0, 0, 2, 9, 0, 1, 1, 5, 0, 0, 8, 0, 8, 3, 3, 8, 7, 7, 4, 9, 7, 6, 3, 1, 9, 5, 9, 0, 4, 1, 1, 1, 5, 9, 6, 8, 6, 6, 4, 8, 5, 9, 6, 5, 4, 3, 7, 0, 3, 6, 3, 0, 3, 0, 4, 4, 7, 7, 1, 4, 1, 3, 6, 3, 5, 3, 2, 3, 9, 5, 0, 7, 3, 0, 0, 7, 0, 8, 4, 9, 7, 3, 2, 5, 8, 2, 3, 7, 1, 4, 0, 8, 8, 0, 4, 6, 1, 7, 8, 8, 0, 8, 3, 0, 5, 0, 9, 8, 7, 8, 4, 2, 1, 7, 7, 9, 0, 3, 0, 1, 8, 5, 5, 9, 5, 6, 9, 4, 0, 6, 0, 4, 4, 8, 2, 1, 9, 9, 4, 2, 0, 8, 6, 9, 9, 0, 9, 2, 3, 1, 2, 9, 1, 5, 7, 0, 9, 1, 0, 7, 7, 1, 2, 5, 5, 1, 2, 6, 1, 9, 5, 9, 5, 8, 2, 7, 8, 1, 3, 1, 5, 1, 7, 8, 8, 9, 4, 8, 4, 7, 2, 6, 0, 8, 4, 2, 1, 0, 2, 3, 1, 6, 7, 3, 6, 5, 7, 6, 9, 8, 7, 2, 6, 2, 6, 3, 1, 9, 9, 2, 5, 6, 0, 4, 9, 2, 2, 1, 4, 0, 4, 4, 0, 3, 3, 5, 6, 5, 6, 9, 6, 8, 7, 7, 4, 7, 8, 4, 7, 8, 9, 0, 9, 0, 6, 8, 5, 0, 2, 5, 6, 5, 4, 7, 8, 5, 5, 9, 3, 3, 4, 0, 9, 5, 1, 2, 4, 7, 6, 4, 3, 3, 3, 7, 3, 7, 8, 3, 6, 0, 6, 8, 1, 1, 7, 7, 9, 1, 7, 9, 3, 1, 7, 5, 5, 6, 9, 3, 8, 8, 4, 6, 9, 8, 6, 2, 7, 0, 3, 1, 8, 9, 9, 0, 3, 9, 2, 3, 8, 4, 3, 1, 8, 1, 1, 8, 7, 4, 2, 2, 5, 3, 6, 9, 1, 4, 5, 5, 0, 0, 0, 3, 6, 2, 4, 2, 2, 0, 6, 8, 1, 0, 8, 0, 8, 0, 3, 5, 4, 8, 5, 8, 8, 6, 2, 6, 6, 2, 6, 9, 3, 8, 5, 0, 9, 3, 1, 8, 7, 2, 5, 5, 1, 2, 2, 3, 4, 1, 0, 5, 9, 1, 5, 4, 1, 3, 9, 7, 2, 2, 7, 1, 0, 2, 5, 8, 3, 6, 3, 4, 4, 6, 5, 3, 9, 1, 0, 8, 9, 1, 3, 8, 9, 6, 3, 0, 9, 8, 0, 8, 1, 1, 3, 0, 6, 1, 6, 2, 3, 4, 1, 6, 3, 1, 3, 1, 3, 8, 1, 8, 2, 8, 9, 3, 9, 3, 4, 7, 7, 2, 7, 0, 5, 2, 0, 5, 2, 0, 3, 3, 5, 9, 1, 9, 2, 7, 3, 1, 5, 4, 3, 2, 1, 9, 3, 2, 6, 3, 5, 3, 4, 3, 2, 8, 3, 9, 0, 4, 6, 7, 2, 6, 2, 8, 3, 3, 4, 6, 5, 1, 2, 0, 5, 2, 0, 5, 3, 7, 4, 7, 9, 7, 3, 7, 0, 6, 4, 0, 2, 7, 7, 7, 9, 3, 5, 9, 9, 8, 8, 3, 9, 3, 4, 3, 0, 7, 1, 5, 3, 4, 9, 3, 4, 7, 2, 1, 3, 8, 8, 2, 4, 1, 6, 2, 2, 5, 5, 1, 0, 7, 7, 7, 5, 1, 0, 1, 9, 2, 0, 7, 2, 1, 1, 7, 7, 4, 4, 0, 6, 8, 7, 1, 6, 0, 5, 2, 9, 5, 5, 9, 1, 6, 5, 4, 2, 0, 8, 3, 0, 3, 5, 1, 2, 7, 1, 9, 1, 6, 5, 5, 5, 8, 3, 9, 9, 2, 1, 9, 0, 8, 6, 0, 2, 3, 7, 2, 3, 7, 9, 1, 3, 9, 6, 0, 2, 4, 9, 8, 3, 6, 1, 6, 3, 0, 3, 3, 0, 2, 4, 2, 2, 3, 6, 0, 5, 6, 1, 2, 1, 2, 7, 0, 1, 1, 5, 0, 5, 5, 7, 8, 7, 2, 4, 6, 9, 7, 0, 5, 0, 9, 2, 4, 6, 8, 0, 8, 8, 4, 6, 2, 7, 2, 2, 4, 3, 9, 3, 2, 7, 9, 1, 9, 1, 8, 2, 6, 0, 4, 1, 9, 2, 0, 4, 8, 2, 2, 5, 9, 4, 9, 7, 0, 9, 0, 9, 5, 5, 6, 3, 1, 6, 9, 7, 3, 5, 1, 8, 2, 6, 7, 2, 5, 5, 7, 5, 5, 0, 5, 0, 2, 8, 4, 0, 5, 5, 9, 4, 0, 8, 3, 0, 0, 1, 4, 2, 6, 1, 6, 8, 5, 2, 0, 3, 8, 6, 8, 3, 3, 8, 3, 6, 8, 0, 2, 2, 3, 2, 1, 0, 5, 6, 1, 8, 6, 9, 7, 2, 0, 5, 0, 0, 4, 8, 8, 8, 4, 9, 1, 3, 2, 3, 7, 9, 1, 2, 7, 3, 8, 4, 9, 3, 5, 2, 8, 7, 6, 0, 3, 9, 4, 8, 7, 4, 1, 6, 2, 9, 6, 2, 0, 9, 1, 9, 7, 8, 1, 5, 7, 8, 0, 4, 1, 2, 9, 7, 9, 4, 5, 9, 1, 1, 0, 8, 7, 0, 3, 9, 6, 7, 0, 9, 4, 1, 7, 5, 7, 6, 3, 8, 3, 7, 9, 9, 8, 5, 2, 6, 7, 4, 4, 8, 0, 1, 9, 5, 2, 5, 1, 0, 3, 2, 3, 5, 5, 0, 3, 0, 4, 4, 0, 4, 5, 8, 3, 2, 6, 6, 4, 0, 9, 8, 6, 5, 3, 4, 3, 1, 6, 8, 9, 8, 6, 0, 3, 5, 4, 8, 2, 3, 5, 5, 0, 5, 0, 8, 6, 6, 0, 2, 3, 9, 3, 5, 1, 1, 1, 4, 7, 2, 4, 8, 7, 6, 3, 6, 8, 5, 2, 3, 0, 0, 1, 3, 5, 6, 5, 0, 9, 2, 0, 1, 8, 1, 2, 8, 3, 7, 3, 3, 9, 7, 8, 8, 1, 3, 4, 5, 8, 2, 0, 5, 4, 0, 7, 9, 8, 5, 0, 1, 4, 6, 0, 7, 9, 1, 0, 5, 5, 5, 7, 2, 9, 5, 8, 3, 9, 3, 6, 2, 2, 0, 3, 3, 1, 4, 1, 5, 8, 4, 8, 5, 0, 2, 5, 5, 3, 7, 1, 9, 1, 1, 7, 9, 9, 2, 1, 5, 8, 9, 7, 8, 2, 2, 1, 1, 7, 5, 0, 0, 5, 1, 0, 4, 1, 1, 4, 0, 7, 2, 5, 0, 7, 0, 8, 3, 7, 8, 8, 4, 1, 4, 8, 3, 6, 8, 2, 1, 3, 9, 7, 9, 8, 8, 8, 2, 4, 1, 8, 4, 3, 0, 3, 9, 8, 3, 9, 4, 6, 4, 4, 8, 3, 0, 8, 5, 9, 1, 3, 0, 1, 7, 2, 5, 3, 5, 9, 7, 0, 4, 4, 7, 0, 4, 3, 0, 5, 2, 1, 6, 9, 5, 5, 3, 5, 7, 8, 5, 7, 2, 2, 0, 8, 1, 9, 9, 7, 0, 6, 0, 2, 5, 9, 0, 7, 5, 4, 2, 9, 9, 4, 6, 7, 5, 5, 9, 7, 3, 1, 2, 1, 7, 6, 2, 3, 9, 2, 8, 5, 0, 5, 4, 5, 3, 4, 3, 5, 0, 1, 0, 0, 3, 8, 0, 2, 3, 7, 6, 9, 1, 4, 8, 3, 6, 1, 2, 1, 6, 9, 4, 8, 4, 4, 0, 4, 9, 3, 6, 2, 4, 0, 7, 5, 8, 7, 2, 9, 5, 6, 4, 3, 5, 2, 9, 2, 3, 6, 3, 7, 8, 9, 5, 2, 6, 3, 6, 7, 2, 8, 7, 6, 0, 9, 4, 7, 8, 8, 1, 1, 8, 9, 5, 2, 1, 6, 1, 8, 7, 0, 6, 7, 2, 6, 6, 3, 4, 0, 6, 1, 8, 3, 8, 4, 9, 5, 8, 0, 8, 6, 6, 2, 9, 9, 1, 4, 8, 0, 9, 9, 1, 6, 3, 6, 3, 0, 8, 1, 1, 6, 5, 0, 3, 4, 8, 6, 8, 1, 4, 1, 2, 0, 4, 7, 3, 0, 5, 1, 5, 4, 8, 4, 3, 7, 3, 1, 5, 5, 1, 8, 6, 7, 1, 6, 9, 1, 5, 8, 4, 1, 7, 4, 8, 2, 4, 5, 2, 9, 1, 3, 3, 4, 6, 0, 1, 7, 4, 5, 8, 5, 1, 3, 7, 5, 6, 4, 2, 8, 3, 5, 6, 9, 0, 6, 1, 8, 3, 9, 1, 3, 3, 3, 2, 4, 7, 2, 2, 2, 5, 9, 8, 4, 2, 8, 9, 9, 2, 4, 3, 1, 2, 0, 0, 5, 7, 7, 0, 5, 5, 1, 1, 7, 0, 9, 5, 6, 0, 3, 3, 9, 7, 1, 2, 6, 5, 7, 9, 4, 9, 3, 6, 7, 2, 8, 8, 4, 7, 4, 2, 4, 8, 1, 6, 9, 6, 3, 1, 4, 7, 7, 4, 8, 1, 4, 2, 5, 1, 5, 2, 5, 3, 4, 3, 8, 6, 9, 0, 1, 0, 6, 2, 0, 4, 2, 0, 0, 0, 4, 9, 9, 0, 4, 4, 0, 7, 0, 7, 8, 3, 4, 9, 2, 8, 0, 5, 3, 3, 5, 3, 7, 7, 3, 7, 7, 2, 7, 1, 1, 7, 5, 9, 8, 9, 7, 1, 0, 7, 5, 5, 9, 7, 9, 6, 6, 1, 6, 7, 4, 9, 3, 5, 2, 0, 2, 1, 3, 2, 9, 2, 6, 8, 6, 4, 8, 3, 8, 5, 4, 0, 9, 0, 4, 2, 9, 0, 2, 9, 2, 1, 1, 3, 7, 4, 0, 9, 9, 9, 3, 5, 7, 2, 9, 4, 8, 7, 5, 2, 3, 6, 7, 9, 2, 0, 3, 4, 7, 6, 8, 3, 3, 2, 1, 0, 7, 6, 0, 6, 5, 9, 6, 2, 9, 0, 0, 1, 9, 8, 9, 3, 7, 0, 8, 5, 5, 3, 1, 1, 2, 5, 6, 8, 7, 8, 2, 3, 8, 7, 8, 0, 1, 0, 3, 5, 2, 4, 3, 8, 7, 1, 2, 5, 1, 0, 4, 5, 6, 6, 7, 7, 3, 8, 7, 9, 8, 7, 8, 2, 1, 9, 8, 8, 4, 4, 9, 6, 9, 3, 3, 2, 6, 9, 4, 4, 5, 0, 4, 1, 5, 2, 7, 9, 8, 4, 9, 6, 9, 9, 4, 8, 8, 6, 0, 5, 5, 1, 4, 8, 8, 8, 6, 9, 7, 2, 2, 6, 2, 9, 2, 6, 6, 8, 8, 9, 2, 3, 0, 0, 5, 9, 9, 6, 7, 7, 5, 0, 5, 3, 4, 5, 1, 5, 0, 3, 4, 9, 1, 8, 1, 7, 3, 4, 2, 1, 9, 1, 6, 6, 8, 8, 8, 4, 3, 0, 9, 0, 2, 4, 4, 3, 9, 6, 6, 7, 4, 2, 4, 2, 2, 3, 9, 2, 8, 6, 0, 6, 6, 3, 5, 7, 1, 5, 2, 8, 5, 3, 3, 4, 6, 0, 3, 3, 8, 0, 0, 2, 9, 1, 6, 0, 4, 0, 3, 2, 5, 3, 8, 3, 4, 3, 1, 6, 7, 1, 0, 2, 3, 9, 8, 8, 3, 6, 2, 4, 7, 9, 3, 4, 4, 7, 0, 8, 7, 8, 9, 9, 8, 9, 7, 9, 1, 3, 8, 2, 0, 3, 6, 2, 2, 5, 6, 4, 2, 8, 4, 6, 4, 6, 2, 6, 3, 0, 7, 8, 6, 2, 4, 1, 7, 8, 0, 4, 3, 5, 8, 3, 7, 7, 3, 1, 0, 5, 3, 3, 1, 8, 9, 4, 0, 4, 9, 8, 1, 5, 6, 4, 1, 4, 2, 5, 5, 0, 4, 8, 9, 2, 4, 5, 6, 8, 9, 6, 8, 1, 9, 5, 3, 7, 4, 1, 8, 9, 5, 2, 2, 8, 1, 9, 0, 1, 9, 2, 9, 0, 4, 4, 9, 9, 6, 6, 1, 1, 7, 7, 2, 9, 3, 2, 4, 1, 2, 6, 1, 5, 5, 3, 5, 4, 1, 1, 4, 2, 6, 8, 0, 0, 4, 5, 9, 0, 6, 0, 3, 6, 0, 4, 9, 7, 9, 6, 7, 6, 5, 3, 0, 8, 9, 6, 4, 9, 7, 2, 2, 2, 8, 8, 0, 3, 0, 3, 0, 6, 4, 3, 3, 1, 6, 9, 6, 2, 8, 2, 0, 3, 3, 7, 4, 6, 3, 9, 5, 4, 5, 8, 1, 3, 6, 7, 8, 9, 8, 9, 4, 2, 6, 0, 6, 9, 4, 7, 3, 6, 8, 9, 5, 0, 7, 1, 0, 2, 8, 6, 8, 1, 3, 2, 1, 5, 9, 3, 6, 6, 1, 6, 0, 9, 0, 8, 2, 2, 3, 3, 6, 2, 5, 5, 4, 1, 8, 4, 1, 4, 5, 5, 9, 8, 8, 9, 2, 9, 3, 2, 1, 2, 6, 4, 5, 1, 3, 1, 7, 4, 8, 2, 3, 7, 2, 1, 6, 1, 4, 6, 6, 7, 6, 0, 6, 2, 1, 6, 1, 9, 0, 0, 2, 2, 3, 8, 6, 7, 6, 7, 0, 1, 6, 0, 0, 9, 0, 1, 7, 9, 0, 7, 1, 8, 3, 1, 1, 4, 0, 6, 5, 0, 4, 0, 1, 3, 9, 8, 0, 5, 9, 5, 6, 8, 1, 3, 3, 2, 2, 8, 1, 1, 5, 9, 3, 1, 3, 6, 0, 0, 0, 5, 0, 5, 6, 6, 2, 7, 1, 6, 3, 3, 6, 3, 3, 6, 5, 2, 7, 2, 1, 4, 1, 8, 9, 2, 8, 9, 6, 7, 6, 6, 6, 6, 3, 4, 6, 6, 7, 8, 7, 7, 2, 2, 8, 2, 9, 6, 7, 4, 9, 7, 2, 4, 8, 1, 6, 2, 0, 6, 5, 2, 2, 4, 9, 7, 9, 9, 3, 2, 4, 0, 6, 4, 3, 2, 0, 8, 0, 9, 8, 1, 9, 4, 0, 8, 6, 1, 7, 2, 1, 4, 1, 4, 0, 6, 9, 3, 9, 0, 3, 6, 4, 0, 1, 8, 6, 8, 1, 5, 9, 2, 7, 8, 0, 0, 4, 6, 1, 6, 3, 5, 3, 1, 3, 1, 5, 5, 7, 5, 7, 8, 4, 7, 2, 2, 5, 8, 4, 3, 3, 9, 7, 5, 2, 6, 1, 9, 6, 4, 1, 9, 1, 5, 0, 3, 2, 1, 1, 6, 0, 7, 7, 1, 5, 1, 0, 5, 5, 2, 7, 4, 1, 5, 4, 8, 6, 0, 0, 5, 4, 4, 0, 7, 2, 2, 7, 3, 4, 3, 9, 6, 7, 8, 7, 3, 1, 9, 5, 5, 3, 7, 6, 4, 0, 2, 4, 3, 4, 8, 3, 6, 6, 2, 9, 4, 2, 4, 2, 9, 6, 3, 8, 8, 5, 3, 8, 5, 8, 2, 6, 3, 3, 2, 2, 2, 8, 4, 6, 4, 1, 9, 0, 5, 4, 5, 1, 9, 7, 7, 2, 9, 4, 1, 4, 7, 9, 4, 4, 8, 5, 9, 2, 6, 3, 2, 8, 7, 2, 1, 3, 3, 9, 3, 8, 2, 8, 9, 2, 9, 0, 3, 2, 2, 4, 8, 4, 8, 1, 4, 6, 1, 6, 4, 3, 3, 9, 9, 2, 0, 3, 5, 1, 8, 3, 9, 0, 8, 3, 1, 1, 0, 0, 5, 6, 2, 6, 9, 6, 3, 5, 8, 8, 8, 5, 1, 1, 1, 4, 6, 3, 5, 8, 1, 0, 9, 4, 6, 7, 2, 3, 7, 3, 2, 2, 7, 4, 8, 3, 2, 4, 8, 9, 3, 8, 4, 6, 5, 3, 3, 8, 2, 6, 1, 0, 2, 9, 3, 4, 8, 1, 9, 9, 0, 8, 6, 6, 2, 4, 3, 6, 1, 4, 2, 0, 4, 4, 2, 8, 7, 7, 9, 9, 7, 7, 9, 3, 7, 3, 5, 1, 2, 6, 3, 4, 9, 8, 1, 4, 9, 3, 3, 5, 2, 8, 5, 6, 7, 2, 3, 6, 4, 2, 1, 7, 2, 2, 7, 3, 4, 5, 1, 6, 7, 5, 0, 6, 0, 5, 9, 8, 6, 6]\n"
          ]
        }
      ],
      "source": [
        "print(labels)"
      ]
    },
    {
      "cell_type": "code",
      "execution_count": 26,
      "metadata": {
        "colab": {
          "base_uri": "https://localhost:8080/",
          "height": 49
        },
        "id": "T9lPzxQ5A2fD",
        "outputId": "82a62a00-ef49-4462-d42d-02080d9e2f1a"
      },
      "outputs": [
        {
          "output_type": "display_data",
          "data": {
            "text/plain": [
              "<PIL.Image.Image image mode=RGB size=32x32>"
            ],
            "image/png": "[encoded data removed]"
          },
          "metadata": {}
        }
      ],
      "source": [
        "#displays sample images\n",
        "\n",
        "import cv2\n",
        "from google.colab.patches import cv2_imshow\n",
        "\n",
        "img = cv2.imread('/content/train/10897.png')\n",
        "cv2_imshow(img)\n",
        "\n"
      ]
    },
    {
      "cell_type": "code",
      "execution_count": 27,
      "metadata": {
        "id": "259DoDH0A2bS"
      },
      "outputs": [],
      "source": [
        "id_list = list(label_df['id'])"
      ]
    },
    {
      "cell_type": "markdown",
      "metadata": {
        "id": "uYMj4R2eG3mp"
      },
      "source": [
        "**Image** **Processing**"
      ]
    },
    {
      "cell_type": "code",
      "execution_count": 28,
      "metadata": {
        "id": "obx9sB28G3Qg"
      },
      "outputs": [],
      "source": [
        "#convert images to numpy array\n",
        "\n",
        "train_data_folder = '/content/train/'\n",
        "\n",
        "data = []\n",
        "\n",
        "for id in id_list:\n",
        "  img_path = train_data_folder + str(id) + '.png'\n",
        "  image = Image.open(img_path)\n",
        "  image = np.array(image)\n",
        "  data.append(image)\n"
      ]
    },
    {
      "cell_type": "code",
      "execution_count": 29,
      "metadata": {
        "colab": {
          "base_uri": "https://localhost:8080/"
        },
        "id": "uyiLecWFG1jv",
        "outputId": "acb61fd2-884a-4db9-f93e-f27ef1708360"
      },
      "outputs": [
        {
          "output_type": "execute_result",
          "data": {
            "text/plain": [
              "50000"
            ]
          },
          "metadata": {},
          "execution_count": 29
        }
      ],
      "source": [
        "len(data)"
      ]
    },
    {
      "cell_type": "code",
      "execution_count": 30,
      "metadata": {
        "colab": {
          "base_uri": "https://localhost:8080/"
        },
        "id": "bC_HqKvtIMvy",
        "outputId": "6205512c-fd26-494b-ec67-b0fdd2b60b43"
      },
      "outputs": [
        {
          "output_type": "execute_result",
          "data": {
            "text/plain": [
              "(32, 32, 3)"
            ]
          },
          "metadata": {},
          "execution_count": 30
        }
      ],
      "source": [
        "data[0].shape"
      ]
    },
    {
      "cell_type": "code",
      "execution_count": 31,
      "metadata": {
        "colab": {
          "base_uri": "https://localhost:8080/"
        },
        "id": "P0B2v37oA2YP",
        "outputId": "b2a1368c-885b-4d18-b228-9a03d0114b1a"
      },
      "outputs": [
        {
          "output_type": "execute_result",
          "data": {
            "text/plain": [
              "array([[[ 59,  62,  63],\n",
              "        [ 43,  46,  45],\n",
              "        [ 50,  48,  43],\n",
              "        ...,\n",
              "        [158, 132, 108],\n",
              "        [152, 125, 102],\n",
              "        [148, 124, 103]],\n",
              "\n",
              "       [[ 16,  20,  20],\n",
              "        [  0,   0,   0],\n",
              "        [ 18,   8,   0],\n",
              "        ...,\n",
              "        [123,  88,  55],\n",
              "        [119,  83,  50],\n",
              "        [122,  87,  57]],\n",
              "\n",
              "       [[ 25,  24,  21],\n",
              "        [ 16,   7,   0],\n",
              "        [ 49,  27,   8],\n",
              "        ...,\n",
              "        [118,  84,  50],\n",
              "        [120,  84,  50],\n",
              "        [109,  73,  42]],\n",
              "\n",
              "       ...,\n",
              "\n",
              "       [[208, 170,  96],\n",
              "        [201, 153,  34],\n",
              "        [198, 161,  26],\n",
              "        ...,\n",
              "        [160, 133,  70],\n",
              "        [ 56,  31,   7],\n",
              "        [ 53,  34,  20]],\n",
              "\n",
              "       [[180, 139,  96],\n",
              "        [173, 123,  42],\n",
              "        [186, 144,  30],\n",
              "        ...,\n",
              "        [184, 148,  94],\n",
              "        [ 97,  62,  34],\n",
              "        [ 83,  53,  34]],\n",
              "\n",
              "       [[177, 144, 116],\n",
              "        [168, 129,  94],\n",
              "        [179, 142,  87],\n",
              "        ...,\n",
              "        [216, 184, 140],\n",
              "        [151, 118,  84],\n",
              "        [123,  92,  72]]], dtype=uint8)"
            ]
          },
          "metadata": {},
          "execution_count": 31
        }
      ],
      "source": [
        "data[0]"
      ]
    },
    {
      "cell_type": "code",
      "execution_count": 32,
      "metadata": {
        "id": "HyMU9ukrA2V0"
      },
      "outputs": [],
      "source": [
        "#convert image and label lists into numpy array\n",
        "\n",
        "X = np.array(data)\n",
        "Y = np.array(labels)"
      ]
    },
    {
      "cell_type": "code",
      "execution_count": 33,
      "metadata": {
        "colab": {
          "base_uri": "https://localhost:8080/"
        },
        "id": "GiQdd7ZJA2TT",
        "outputId": "a46c145c-540f-482f-9865-f3f95dbec4c2"
      },
      "outputs": [
        {
          "output_type": "stream",
          "name": "stdout",
          "text": [
            "(50000, 32, 32, 3)\n",
            "(50000,)\n"
          ]
        }
      ],
      "source": [
        "print(X.shape)\n",
        "print(Y.shape)"
      ]
    },
    {
      "cell_type": "code",
      "execution_count": 34,
      "metadata": {
        "id": "PTYEZNCnA2Qq"
      },
      "outputs": [],
      "source": [
        "X_train, X_test, Y_train, Y_test = train_test_split(X, Y, test_size = 0.2, random_state=2)"
      ]
    },
    {
      "cell_type": "code",
      "execution_count": 35,
      "metadata": {
        "colab": {
          "base_uri": "https://localhost:8080/"
        },
        "id": "K1xlwPuSA2Nr",
        "outputId": "351b1e35-1e34-4f82-9c1a-fdaccb027b40"
      },
      "outputs": [
        {
          "output_type": "stream",
          "name": "stdout",
          "text": [
            "(50000, 32, 32, 3) (10000, 32, 32, 3) (40000, 32, 32, 3)\n"
          ]
        }
      ],
      "source": [
        "print(X.shape, X_test.shape, X_train.shape)"
      ]
    },
    {
      "cell_type": "code",
      "execution_count": 36,
      "metadata": {
        "id": "C32SKGdTA2J_"
      },
      "outputs": [],
      "source": [
        "#scaling the data\n",
        "\n",
        "X_train_scaled = X_train/255\n",
        "X_test_scaled = X_test/255"
      ]
    },
    {
      "cell_type": "code",
      "execution_count": 37,
      "metadata": {
        "colab": {
          "base_uri": "https://localhost:8080/"
        },
        "id": "YkW7CXWhA2Es",
        "outputId": "7cbd1cfc-32c9-4f12-d718-ee205220f0b9"
      },
      "outputs": [
        {
          "output_type": "execute_result",
          "data": {
            "text/plain": [
              "array([[[[0.81960784, 0.82352941, 0.79607843],\n",
              "         [0.83529412, 0.83921569, 0.81960784],\n",
              "         [0.85490196, 0.85882353, 0.84313725],\n",
              "         ...,\n",
              "         [0.49803922, 0.29019608, 0.15294118],\n",
              "         [0.47843137, 0.26666667, 0.1372549 ],\n",
              "         [0.45490196, 0.24705882, 0.1254902 ]],\n",
              "\n",
              "        [[0.82352941, 0.82352941, 0.79215686],\n",
              "         [0.83529412, 0.83921569, 0.81176471],\n",
              "         [0.85490196, 0.8627451 , 0.83921569],\n",
              "         ...,\n",
              "         [0.48627451, 0.2745098 , 0.1372549 ],\n",
              "         [0.4745098 , 0.2627451 , 0.12941176],\n",
              "         [0.48235294, 0.27058824, 0.14117647]],\n",
              "\n",
              "        [[0.80784314, 0.80392157, 0.76470588],\n",
              "         [0.81960784, 0.81960784, 0.79215686],\n",
              "         [0.83529412, 0.84313725, 0.81960784],\n",
              "         ...,\n",
              "         [0.48627451, 0.2745098 , 0.14509804],\n",
              "         [0.51372549, 0.30196078, 0.16470588],\n",
              "         [0.51372549, 0.30588235, 0.16078431]],\n",
              "\n",
              "        ...,\n",
              "\n",
              "        [[0.49803922, 0.42352941, 0.38039216],\n",
              "         [0.54117647, 0.47843137, 0.43137255],\n",
              "         [0.55294118, 0.49803922, 0.4627451 ],\n",
              "         ...,\n",
              "         [0.61960784, 0.58431373, 0.5254902 ],\n",
              "         [0.63137255, 0.61176471, 0.59215686],\n",
              "         [0.53333333, 0.5372549 , 0.58039216]],\n",
              "\n",
              "        [[0.56862745, 0.50980392, 0.46666667],\n",
              "         [0.58039216, 0.52941176, 0.50196078],\n",
              "         [0.53333333, 0.49803922, 0.50196078],\n",
              "         ...,\n",
              "         [0.68627451, 0.68235294, 0.6745098 ],\n",
              "         [0.62745098, 0.63137255, 0.66666667],\n",
              "         [0.56078431, 0.58039216, 0.64313725]],\n",
              "\n",
              "        [[0.54117647, 0.50196078, 0.48235294],\n",
              "         [0.54901961, 0.51764706, 0.53333333],\n",
              "         [0.53333333, 0.51372549, 0.54901961],\n",
              "         ...,\n",
              "         [0.58823529, 0.60392157, 0.6627451 ],\n",
              "         [0.56862745, 0.58431373, 0.65098039],\n",
              "         [0.54901961, 0.56862745, 0.63921569]]],\n",
              "\n",
              "\n",
              "       [[[0.73333333, 0.81176471, 0.94117647],\n",
              "         [0.72941176, 0.80392157, 0.92941176],\n",
              "         [0.7372549 , 0.81176471, 0.94117647],\n",
              "         ...,\n",
              "         [0.64705882, 0.78823529, 0.9254902 ],\n",
              "         [0.63921569, 0.77647059, 0.92156863],\n",
              "         [0.63921569, 0.78039216, 0.9254902 ]],\n",
              "\n",
              "        [[0.75686275, 0.83137255, 0.95294118],\n",
              "         [0.75294118, 0.82352941, 0.94509804],\n",
              "         [0.76078431, 0.83137255, 0.95294118],\n",
              "         ...,\n",
              "         [0.6627451 , 0.8       , 0.93333333],\n",
              "         [0.65490196, 0.79215686, 0.93333333],\n",
              "         [0.65490196, 0.79215686, 0.93333333]],\n",
              "\n",
              "        [[0.77647059, 0.83921569, 0.95686275],\n",
              "         [0.76862745, 0.83137255, 0.94509804],\n",
              "         [0.77647059, 0.83921569, 0.95294118],\n",
              "         ...,\n",
              "         [0.6745098 , 0.80392157, 0.93333333],\n",
              "         [0.66666667, 0.79607843, 0.9254902 ],\n",
              "         [0.66666667, 0.8       , 0.93333333]],\n",
              "\n",
              "        ...,\n",
              "\n",
              "        [[0.24705882, 0.63529412, 0.67058824],\n",
              "         [0.23921569, 0.62352941, 0.65882353],\n",
              "         [0.25490196, 0.63921569, 0.6745098 ],\n",
              "         ...,\n",
              "         [0.38039216, 0.71372549, 0.71372549],\n",
              "         [0.38039216, 0.70980392, 0.70980392],\n",
              "         [0.38431373, 0.72156863, 0.72156863]],\n",
              "\n",
              "        [[0.22745098, 0.64705882, 0.68235294],\n",
              "         [0.21568627, 0.63137255, 0.6627451 ],\n",
              "         [0.24313725, 0.64705882, 0.67843137],\n",
              "         ...,\n",
              "         [0.37254902, 0.70196078, 0.70196078],\n",
              "         [0.36862745, 0.70196078, 0.69411765],\n",
              "         [0.36862745, 0.70980392, 0.69803922]],\n",
              "\n",
              "        [[0.20392157, 0.64705882, 0.68627451],\n",
              "         [0.21176471, 0.65098039, 0.6745098 ],\n",
              "         [0.25882353, 0.66666667, 0.69019608],\n",
              "         ...,\n",
              "         [0.37254902, 0.68235294, 0.69019608],\n",
              "         [0.36470588, 0.68627451, 0.6745098 ],\n",
              "         [0.36470588, 0.69803922, 0.67058824]]],\n",
              "\n",
              "\n",
              "       [[[0.41568627, 0.4627451 , 0.56078431],\n",
              "         [0.40392157, 0.45098039, 0.54901961],\n",
              "         [0.40784314, 0.45882353, 0.55294118],\n",
              "         ...,\n",
              "         [0.34901961, 0.38039216, 0.49411765],\n",
              "         [0.34509804, 0.36862745, 0.4745098 ],\n",
              "         [0.32941176, 0.34509804, 0.44313725]],\n",
              "\n",
              "        [[0.34901961, 0.38823529, 0.50588235],\n",
              "         [0.34117647, 0.38431373, 0.49803922],\n",
              "         [0.34509804, 0.38823529, 0.50196078],\n",
              "         ...,\n",
              "         [0.28235294, 0.32156863, 0.44705882],\n",
              "         [0.31372549, 0.34509804, 0.4627451 ],\n",
              "         [0.30196078, 0.3254902 , 0.43529412]],\n",
              "\n",
              "        [[0.29803922, 0.37254902, 0.49411765],\n",
              "         [0.29411765, 0.36470588, 0.48627451],\n",
              "         [0.29411765, 0.36470588, 0.48627451],\n",
              "         ...,\n",
              "         [0.22352941, 0.29411765, 0.45490196],\n",
              "         [0.23921569, 0.29803922, 0.45098039],\n",
              "         [0.23529412, 0.29019608, 0.43529412]],\n",
              "\n",
              "        ...,\n",
              "\n",
              "        [[0.16078431, 0.19607843, 0.31372549],\n",
              "         [0.15294118, 0.18823529, 0.30196078],\n",
              "         [0.14509804, 0.18039216, 0.29411765],\n",
              "         ...,\n",
              "         [0.14509804, 0.18039216, 0.30980392],\n",
              "         [0.14509804, 0.18039216, 0.30980392],\n",
              "         [0.15686275, 0.19215686, 0.32156863]],\n",
              "\n",
              "        [[0.17647059, 0.20784314, 0.31764706],\n",
              "         [0.16470588, 0.19607843, 0.30980392],\n",
              "         [0.16470588, 0.19215686, 0.31372549],\n",
              "         ...,\n",
              "         [0.15294118, 0.18039216, 0.30980392],\n",
              "         [0.15686275, 0.18431373, 0.31764706],\n",
              "         [0.16078431, 0.19215686, 0.32156863]],\n",
              "\n",
              "        [[0.18431373, 0.22745098, 0.33333333],\n",
              "         [0.16078431, 0.20392157, 0.31764706],\n",
              "         [0.16470588, 0.20392157, 0.32941176],\n",
              "         ...,\n",
              "         [0.16078431, 0.18431373, 0.31372549],\n",
              "         [0.16078431, 0.18431373, 0.31764706],\n",
              "         [0.15686275, 0.18039216, 0.31372549]]],\n",
              "\n",
              "\n",
              "       ...,\n",
              "\n",
              "\n",
              "       [[[0.79215686, 0.65098039, 0.54117647],\n",
              "         [0.84313725, 0.70196078, 0.59607843],\n",
              "         [0.91764706, 0.77647059, 0.67058824],\n",
              "         ...,\n",
              "         [0.61960784, 0.62745098, 0.61568627],\n",
              "         [0.61568627, 0.62745098, 0.61176471],\n",
              "         [0.64705882, 0.65490196, 0.64313725]],\n",
              "\n",
              "        [[0.81176471, 0.68627451, 0.57254902],\n",
              "         [0.86666667, 0.74117647, 0.63137255],\n",
              "         [0.93333333, 0.81176471, 0.69803922],\n",
              "         ...,\n",
              "         [0.67058824, 0.67843137, 0.66666667],\n",
              "         [0.57254902, 0.58039216, 0.56862745],\n",
              "         [0.53333333, 0.54117647, 0.52941176]],\n",
              "\n",
              "        [[0.84705882, 0.71764706, 0.60392157],\n",
              "         [0.89411765, 0.76862745, 0.65490196],\n",
              "         [0.94117647, 0.81568627, 0.70196078],\n",
              "         ...,\n",
              "         [0.55294118, 0.56078431, 0.54901961],\n",
              "         [0.52156863, 0.52941176, 0.51764706],\n",
              "         [0.57647059, 0.58431373, 0.57254902]],\n",
              "\n",
              "        ...,\n",
              "\n",
              "        [[0.65882353, 0.67058824, 0.65882353],\n",
              "         [0.58823529, 0.60392157, 0.58431373],\n",
              "         [0.53333333, 0.55294118, 0.5254902 ],\n",
              "         ...,\n",
              "         [0.03137255, 0.0627451 , 0.0745098 ],\n",
              "         [0.10196078, 0.17254902, 0.23137255],\n",
              "         [0.16470588, 0.27058824, 0.36470588]],\n",
              "\n",
              "        [[0.48235294, 0.49411765, 0.49019608],\n",
              "         [0.29019608, 0.31372549, 0.30196078],\n",
              "         [0.32941176, 0.36862745, 0.34117647],\n",
              "         ...,\n",
              "         [0.03137255, 0.0745098 , 0.10196078],\n",
              "         [0.11764706, 0.2       , 0.26666667],\n",
              "         [0.18431373, 0.29411765, 0.39215686]],\n",
              "\n",
              "        [[0.3372549 , 0.34509804, 0.35294118],\n",
              "         [0.14509804, 0.17647059, 0.19215686],\n",
              "         [0.17647059, 0.22352941, 0.24705882],\n",
              "         ...,\n",
              "         [0.05490196, 0.10980392, 0.16862745],\n",
              "         [0.16078431, 0.25098039, 0.34509804],\n",
              "         [0.18823529, 0.29803922, 0.41568627]]],\n",
              "\n",
              "\n",
              "       [[[1.        , 1.        , 1.        ],\n",
              "         [1.        , 1.        , 1.        ],\n",
              "         [1.        , 1.        , 1.        ],\n",
              "         ...,\n",
              "         [1.        , 1.        , 1.        ],\n",
              "         [1.        , 1.        , 1.        ],\n",
              "         [1.        , 0.99607843, 1.        ]],\n",
              "\n",
              "        [[1.        , 1.        , 1.        ],\n",
              "         [1.        , 1.        , 1.        ],\n",
              "         [1.        , 1.        , 1.        ],\n",
              "         ...,\n",
              "         [1.        , 1.        , 1.        ],\n",
              "         [1.        , 1.        , 1.        ],\n",
              "         [1.        , 1.        , 1.        ]],\n",
              "\n",
              "        [[1.        , 1.        , 1.        ],\n",
              "         [1.        , 1.        , 1.        ],\n",
              "         [1.        , 1.        , 1.        ],\n",
              "         ...,\n",
              "         [1.        , 1.        , 1.        ],\n",
              "         [0.99607843, 1.        , 1.        ],\n",
              "         [0.99215686, 1.        , 1.        ]],\n",
              "\n",
              "        ...,\n",
              "\n",
              "        [[0.88235294, 0.8745098 , 0.88235294],\n",
              "         [0.84313725, 0.84313725, 0.84705882],\n",
              "         [0.75294118, 0.76078431, 0.76470588],\n",
              "         ...,\n",
              "         [0.80392157, 0.84705882, 0.82745098],\n",
              "         [0.81176471, 0.84705882, 0.84313725],\n",
              "         [0.86666667, 0.88627451, 0.89803922]],\n",
              "\n",
              "        [[0.87058824, 0.87058824, 0.8627451 ],\n",
              "         [0.84705882, 0.85098039, 0.84313725],\n",
              "         [0.8       , 0.81568627, 0.80392157],\n",
              "         ...,\n",
              "         [0.81568627, 0.85882353, 0.83921569],\n",
              "         [0.83529412, 0.8745098 , 0.86666667],\n",
              "         [0.88627451, 0.90588235, 0.92156863]],\n",
              "\n",
              "        [[0.8745098 , 0.8745098 , 0.85882353],\n",
              "         [0.86666667, 0.8745098 , 0.85490196],\n",
              "         [0.84705882, 0.8627451 , 0.83921569],\n",
              "         ...,\n",
              "         [0.80784314, 0.84705882, 0.83137255],\n",
              "         [0.83137255, 0.8627451 , 0.85882353],\n",
              "         [0.85882353, 0.87843137, 0.88627451]]],\n",
              "\n",
              "\n",
              "       [[[0.70196078, 0.7254902 , 0.77647059],\n",
              "         [0.68627451, 0.70980392, 0.76078431],\n",
              "         [0.71764706, 0.74117647, 0.78823529],\n",
              "         ...,\n",
              "         [0.75686275, 0.84705882, 0.91372549],\n",
              "         [0.76078431, 0.83137255, 0.89019608],\n",
              "         [0.78823529, 0.83921569, 0.87843137]],\n",
              "\n",
              "        [[0.69411765, 0.74117647, 0.80784314],\n",
              "         [0.69019608, 0.72156863, 0.77647059],\n",
              "         [0.71764706, 0.7372549 , 0.78039216],\n",
              "         ...,\n",
              "         [0.79215686, 0.86666667, 0.92156863],\n",
              "         [0.76862745, 0.83529412, 0.89019608],\n",
              "         [0.76862745, 0.82745098, 0.87058824]],\n",
              "\n",
              "        [[0.67843137, 0.74117647, 0.82745098],\n",
              "         [0.70196078, 0.7372549 , 0.8       ],\n",
              "         [0.70196078, 0.71764706, 0.76078431],\n",
              "         ...,\n",
              "         [0.84705882, 0.90196078, 0.94901961],\n",
              "         [0.8       , 0.85490196, 0.90588235],\n",
              "         [0.77647059, 0.83921569, 0.89019608]],\n",
              "\n",
              "        ...,\n",
              "\n",
              "        [[0.15294118, 0.17254902, 0.14901961],\n",
              "         [0.17254902, 0.18039216, 0.14117647],\n",
              "         [0.18823529, 0.18823529, 0.14117647],\n",
              "         ...,\n",
              "         [0.04705882, 0.05098039, 0.03137255],\n",
              "         [0.09411765, 0.09019608, 0.07058824],\n",
              "         [0.2       , 0.18823529, 0.17254902]],\n",
              "\n",
              "        [[0.15686275, 0.16862745, 0.14509804],\n",
              "         [0.19215686, 0.19215686, 0.16470588],\n",
              "         [0.24313725, 0.23529412, 0.2       ],\n",
              "         ...,\n",
              "         [0.04705882, 0.05098039, 0.03529412],\n",
              "         [0.05098039, 0.04705882, 0.02745098],\n",
              "         [0.18039216, 0.16078431, 0.13333333]],\n",
              "\n",
              "        [[0.14901961, 0.14901961, 0.12941176],\n",
              "         [0.15686275, 0.1372549 , 0.12156863],\n",
              "         [0.17647059, 0.14901961, 0.13333333],\n",
              "         ...,\n",
              "         [0.05098039, 0.04313725, 0.03921569],\n",
              "         [0.07843137, 0.0627451 , 0.03921569],\n",
              "         [0.16078431, 0.13333333, 0.09019608]]]])"
            ]
          },
          "metadata": {},
          "execution_count": 37
        }
      ],
      "source": [
        "X_train_scaled"
      ]
    },
    {
      "cell_type": "markdown",
      "metadata": {
        "id": "ZjxLs_hjMHha"
      },
      "source": [
        "**Building** **Neural** **Network**"
      ]
    },
    {
      "cell_type": "code",
      "execution_count": 38,
      "metadata": {
        "id": "yvh_PMHPMDjt"
      },
      "outputs": [],
      "source": [
        "import tensorflow as tf\n",
        "from tensorflow import keras\n"
      ]
    },
    {
      "cell_type": "code",
      "execution_count": 39,
      "metadata": {
        "id": "9WVHMc30MDhI"
      },
      "outputs": [],
      "source": [
        "num_of_class = 10\n",
        "\n",
        "#setting up layers of the neural network\n",
        "\n",
        "model = keras.Sequential([\n",
        "    keras.layers.Flatten(input_shape = (32,32,3)),\n",
        "    keras.layers.Dense(64, activation = 'relu'),\n",
        "    keras.layers.Dense(num_of_class, activation = 'softmax')\n",
        "\n",
        "\n",
        "])"
      ]
    },
    {
      "cell_type": "code",
      "execution_count": 40,
      "metadata": {
        "id": "-w0bQvNuMDec"
      },
      "outputs": [],
      "source": [
        "#compile the neural network\n",
        "\n",
        "model.compile(optimizer = 'adam',\n",
        "              loss = 'sparse_categorical_crossentropy',\n",
        "              metrics = ['acc'])"
      ]
    },
    {
      "cell_type": "code",
      "execution_count": 41,
      "metadata": {
        "colab": {
          "base_uri": "https://localhost:8080/"
        },
        "id": "bhmHy5aBMDbs",
        "outputId": "a9e87c8d-5efb-42f2-c69d-9fb98f735d75"
      },
      "outputs": [
        {
          "output_type": "stream",
          "name": "stdout",
          "text": [
            "Epoch 1/10\n",
            "1125/1125 [==============================] - 9s 8ms/step - loss: 2.0058 - acc: 0.2669 - val_loss: 1.8826 - val_acc: 0.3065\n",
            "Epoch 2/10\n",
            "1125/1125 [==============================] - 7s 6ms/step - loss: 1.8749 - acc: 0.3138 - val_loss: 1.8317 - val_acc: 0.3298\n",
            "Epoch 3/10\n",
            "1125/1125 [==============================] - 8s 7ms/step - loss: 1.8448 - acc: 0.3283 - val_loss: 1.8484 - val_acc: 0.3370\n",
            "Epoch 4/10\n",
            "1125/1125 [==============================] - 6s 6ms/step - loss: 1.8298 - acc: 0.3348 - val_loss: 1.8279 - val_acc: 0.3280\n",
            "Epoch 5/10\n",
            "1125/1125 [==============================] - 8s 7ms/step - loss: 1.8130 - acc: 0.3419 - val_loss: 1.8216 - val_acc: 0.3408\n",
            "Epoch 6/10\n",
            "1125/1125 [==============================] - 6s 5ms/step - loss: 1.8051 - acc: 0.3453 - val_loss: 1.7938 - val_acc: 0.3510\n",
            "Epoch 7/10\n",
            "1125/1125 [==============================] - 8s 7ms/step - loss: 1.7941 - acc: 0.3520 - val_loss: 1.8182 - val_acc: 0.3358\n",
            "Epoch 8/10\n",
            "1125/1125 [==============================] - 6s 5ms/step - loss: 1.7857 - acc: 0.3549 - val_loss: 1.7808 - val_acc: 0.3510\n",
            "Epoch 9/10\n",
            "1125/1125 [==============================] - 8s 7ms/step - loss: 1.7750 - acc: 0.3588 - val_loss: 1.7633 - val_acc: 0.3643\n",
            "Epoch 10/10\n",
            "1125/1125 [==============================] - 6s 5ms/step - loss: 1.7677 - acc: 0.3623 - val_loss: 1.7756 - val_acc: 0.3545\n"
          ]
        },
        {
          "output_type": "execute_result",
          "data": {
            "text/plain": [
              "<keras.src.callbacks.History at 0x7d0793651c90>"
            ]
          },
          "metadata": {},
          "execution_count": 41
        }
      ],
      "source": [
        "#training neural network\n",
        "model.fit(X_train_scaled, Y_train, validation_split = 0.1, epochs=10)"
      ]
    },
    {
      "cell_type": "markdown",
      "metadata": {
        "id": "fakjK7mckJrQ"
      },
      "source": [
        "**ResNet 50**"
      ]
    },
    {
      "cell_type": "code",
      "execution_count": 42,
      "metadata": {
        "id": "DylCP292MDZO"
      },
      "outputs": [],
      "source": [
        "from tensorflow.keras import Sequential, models, layers\n",
        "from tensorflow.keras.layers import Dense, Dropout, Flatten\n",
        "from tensorflow.keras.layers import BatchNormalization\n",
        "from tensorflow.keras.models import load_model\n",
        "from tensorflow.keras.models import Model\n",
        "from tensorflow.keras.applications.resnet50 import ResNet50\n",
        "from tensorflow.keras import optimizers"
      ]
    },
    {
      "cell_type": "code",
      "execution_count": 43,
      "metadata": {
        "colab": {
          "base_uri": "https://localhost:8080/"
        },
        "id": "VEY8BZOGMDWU",
        "outputId": "d10853d0-e658-4e7b-8875-7e88a792f528"
      },
      "outputs": [
        {
          "output_type": "stream",
          "name": "stdout",
          "text": [
            "Downloading data from https://storage.googleapis.com/tensorflow/keras-applications/resnet/resnet50_weights_tf_dim_ordering_tf_kernels_notop.h5\n",
            "94765736/94765736 [==============================] - 1s 0us/step\n",
            "Model: \"resnet50\"\n",
            "__________________________________________________________________________________________________\n",
            " Layer (type)                Output Shape                 Param #   Connected to                  \n",
            "==================================================================================================\n",
            " input_1 (InputLayer)        [(None, 256, 256, 3)]        0         []                            \n",
            "                                                                                                  \n",
            " conv1_pad (ZeroPadding2D)   (None, 262, 262, 3)          0         ['input_1[0][0]']             \n",
            "                                                                                                  \n",
            " conv1_conv (Conv2D)         (None, 128, 128, 64)         9472      ['conv1_pad[0][0]']           \n",
            "                                                                                                  \n",
            " conv1_bn (BatchNormalizati  (None, 128, 128, 64)         256       ['conv1_conv[0][0]']          \n",
            " on)                                                                                              \n",
            "                                                                                                  \n",
            " conv1_relu (Activation)     (None, 128, 128, 64)         0         ['conv1_bn[0][0]']            \n",
            "                                                                                                  \n",
            " pool1_pad (ZeroPadding2D)   (None, 130, 130, 64)         0         ['conv1_relu[0][0]']          \n",
            "                                                                                                  \n",
            " pool1_pool (MaxPooling2D)   (None, 64, 64, 64)           0         ['pool1_pad[0][0]']           \n",
            "                                                                                                  \n",
            " conv2_block1_1_conv (Conv2  (None, 64, 64, 64)           4160      ['pool1_pool[0][0]']          \n",
            " D)                                                                                               \n",
            "                                                                                                  \n",
            " conv2_block1_1_bn (BatchNo  (None, 64, 64, 64)           256       ['conv2_block1_1_conv[0][0]'] \n",
            " rmalization)                                                                                     \n",
            "                                                                                                  \n",
            " conv2_block1_1_relu (Activ  (None, 64, 64, 64)           0         ['conv2_block1_1_bn[0][0]']   \n",
            " ation)                                                                                           \n",
            "                                                                                                  \n",
            " conv2_block1_2_conv (Conv2  (None, 64, 64, 64)           36928     ['conv2_block1_1_relu[0][0]'] \n",
            " D)                                                                                               \n",
            "                                                                                                  \n",
            " conv2_block1_2_bn (BatchNo  (None, 64, 64, 64)           256       ['conv2_block1_2_conv[0][0]'] \n",
            " rmalization)                                                                                     \n",
            "                                                                                                  \n",
            " conv2_block1_2_relu (Activ  (None, 64, 64, 64)           0         ['conv2_block1_2_bn[0][0]']   \n",
            " ation)                                                                                           \n",
            "                                                                                                  \n",
            " conv2_block1_0_conv (Conv2  (None, 64, 64, 256)          16640     ['pool1_pool[0][0]']          \n",
            " D)                                                                                               \n",
            "                                                                                                  \n",
            " conv2_block1_3_conv (Conv2  (None, 64, 64, 256)          16640     ['conv2_block1_2_relu[0][0]'] \n",
            " D)                                                                                               \n",
            "                                                                                                  \n",
            " conv2_block1_0_bn (BatchNo  (None, 64, 64, 256)          1024      ['conv2_block1_0_conv[0][0]'] \n",
            " rmalization)                                                                                     \n",
            "                                                                                                  \n",
            " conv2_block1_3_bn (BatchNo  (None, 64, 64, 256)          1024      ['conv2_block1_3_conv[0][0]'] \n",
            " rmalization)                                                                                     \n",
            "                                                                                                  \n",
            " conv2_block1_add (Add)      (None, 64, 64, 256)          0         ['conv2_block1_0_bn[0][0]',   \n",
            "                                                                     'conv2_block1_3_bn[0][0]']   \n",
            "                                                                                                  \n",
            " conv2_block1_out (Activati  (None, 64, 64, 256)          0         ['conv2_block1_add[0][0]']    \n",
            " on)                                                                                              \n",
            "                                                                                                  \n",
            " conv2_block2_1_conv (Conv2  (None, 64, 64, 64)           16448     ['conv2_block1_out[0][0]']    \n",
            " D)                                                                                               \n",
            "                                                                                                  \n",
            " conv2_block2_1_bn (BatchNo  (None, 64, 64, 64)           256       ['conv2_block2_1_conv[0][0]'] \n",
            " rmalization)                                                                                     \n",
            "                                                                                                  \n",
            " conv2_block2_1_relu (Activ  (None, 64, 64, 64)           0         ['conv2_block2_1_bn[0][0]']   \n",
            " ation)                                                                                           \n",
            "                                                                                                  \n",
            " conv2_block2_2_conv (Conv2  (None, 64, 64, 64)           36928     ['conv2_block2_1_relu[0][0]'] \n",
            " D)                                                                                               \n",
            "                                                                                                  \n",
            " conv2_block2_2_bn (BatchNo  (None, 64, 64, 64)           256       ['conv2_block2_2_conv[0][0]'] \n",
            " rmalization)                                                                                     \n",
            "                                                                                                  \n",
            " conv2_block2_2_relu (Activ  (None, 64, 64, 64)           0         ['conv2_block2_2_bn[0][0]']   \n",
            " ation)                                                                                           \n",
            "                                                                                                  \n",
            " conv2_block2_3_conv (Conv2  (None, 64, 64, 256)          16640     ['conv2_block2_2_relu[0][0]'] \n",
            " D)                                                                                               \n",
            "                                                                                                  \n",
            " conv2_block2_3_bn (BatchNo  (None, 64, 64, 256)          1024      ['conv2_block2_3_conv[0][0]'] \n",
            " rmalization)                                                                                     \n",
            "                                                                                                  \n",
            " conv2_block2_add (Add)      (None, 64, 64, 256)          0         ['conv2_block1_out[0][0]',    \n",
            "                                                                     'conv2_block2_3_bn[0][0]']   \n",
            "                                                                                                  \n",
            " conv2_block2_out (Activati  (None, 64, 64, 256)          0         ['conv2_block2_add[0][0]']    \n",
            " on)                                                                                              \n",
            "                                                                                                  \n",
            " conv2_block3_1_conv (Conv2  (None, 64, 64, 64)           16448     ['conv2_block2_out[0][0]']    \n",
            " D)                                                                                               \n",
            "                                                                                                  \n",
            " conv2_block3_1_bn (BatchNo  (None, 64, 64, 64)           256       ['conv2_block3_1_conv[0][0]'] \n",
            " rmalization)                                                                                     \n",
            "                                                                                                  \n",
            " conv2_block3_1_relu (Activ  (None, 64, 64, 64)           0         ['conv2_block3_1_bn[0][0]']   \n",
            " ation)                                                                                           \n",
            "                                                                                                  \n",
            " conv2_block3_2_conv (Conv2  (None, 64, 64, 64)           36928     ['conv2_block3_1_relu[0][0]'] \n",
            " D)                                                                                               \n",
            "                                                                                                  \n",
            " conv2_block3_2_bn (BatchNo  (None, 64, 64, 64)           256       ['conv2_block3_2_conv[0][0]'] \n",
            " rmalization)                                                                                     \n",
            "                                                                                                  \n",
            " conv2_block3_2_relu (Activ  (None, 64, 64, 64)           0         ['conv2_block3_2_bn[0][0]']   \n",
            " ation)                                                                                           \n",
            "                                                                                                  \n",
            " conv2_block3_3_conv (Conv2  (None, 64, 64, 256)          16640     ['conv2_block3_2_relu[0][0]'] \n",
            " D)                                                                                               \n",
            "                                                                                                  \n",
            " conv2_block3_3_bn (BatchNo  (None, 64, 64, 256)          1024      ['conv2_block3_3_conv[0][0]'] \n",
            " rmalization)                                                                                     \n",
            "                                                                                                  \n",
            " conv2_block3_add (Add)      (None, 64, 64, 256)          0         ['conv2_block2_out[0][0]',    \n",
            "                                                                     'conv2_block3_3_bn[0][0]']   \n",
            "                                                                                                  \n",
            " conv2_block3_out (Activati  (None, 64, 64, 256)          0         ['conv2_block3_add[0][0]']    \n",
            " on)                                                                                              \n",
            "                                                                                                  \n",
            " conv3_block1_1_conv (Conv2  (None, 32, 32, 128)          32896     ['conv2_block3_out[0][0]']    \n",
            " D)                                                                                               \n",
            "                                                                                                  \n",
            " conv3_block1_1_bn (BatchNo  (None, 32, 32, 128)          512       ['conv3_block1_1_conv[0][0]'] \n",
            " rmalization)                                                                                     \n",
            "                                                                                                  \n",
            " conv3_block1_1_relu (Activ  (None, 32, 32, 128)          0         ['conv3_block1_1_bn[0][0]']   \n",
            " ation)                                                                                           \n",
            "                                                                                                  \n",
            " conv3_block1_2_conv (Conv2  (None, 32, 32, 128)          147584    ['conv3_block1_1_relu[0][0]'] \n",
            " D)                                                                                               \n",
            "                                                                                                  \n",
            " conv3_block1_2_bn (BatchNo  (None, 32, 32, 128)          512       ['conv3_block1_2_conv[0][0]'] \n",
            " rmalization)                                                                                     \n",
            "                                                                                                  \n",
            " conv3_block1_2_relu (Activ  (None, 32, 32, 128)          0         ['conv3_block1_2_bn[0][0]']   \n",
            " ation)                                                                                           \n",
            "                                                                                                  \n",
            " conv3_block1_0_conv (Conv2  (None, 32, 32, 512)          131584    ['conv2_block3_out[0][0]']    \n",
            " D)                                                                                               \n",
            "                                                                                                  \n",
            " conv3_block1_3_conv (Conv2  (None, 32, 32, 512)          66048     ['conv3_block1_2_relu[0][0]'] \n",
            " D)                                                                                               \n",
            "                                                                                                  \n",
            " conv3_block1_0_bn (BatchNo  (None, 32, 32, 512)          2048      ['conv3_block1_0_conv[0][0]'] \n",
            " rmalization)                                                                                     \n",
            "                                                                                                  \n",
            " conv3_block1_3_bn (BatchNo  (None, 32, 32, 512)          2048      ['conv3_block1_3_conv[0][0]'] \n",
            " rmalization)                                                                                     \n",
            "                                                                                                  \n",
            " conv3_block1_add (Add)      (None, 32, 32, 512)          0         ['conv3_block1_0_bn[0][0]',   \n",
            "                                                                     'conv3_block1_3_bn[0][0]']   \n",
            "                                                                                                  \n",
            " conv3_block1_out (Activati  (None, 32, 32, 512)          0         ['conv3_block1_add[0][0]']    \n",
            " on)                                                                                              \n",
            "                                                                                                  \n",
            " conv3_block2_1_conv (Conv2  (None, 32, 32, 128)          65664     ['conv3_block1_out[0][0]']    \n",
            " D)                                                                                               \n",
            "                                                                                                  \n",
            " conv3_block2_1_bn (BatchNo  (None, 32, 32, 128)          512       ['conv3_block2_1_conv[0][0]'] \n",
            " rmalization)                                                                                     \n",
            "                                                                                                  \n",
            " conv3_block2_1_relu (Activ  (None, 32, 32, 128)          0         ['conv3_block2_1_bn[0][0]']   \n",
            " ation)                                                                                           \n",
            "                                                                                                  \n",
            " conv3_block2_2_conv (Conv2  (None, 32, 32, 128)          147584    ['conv3_block2_1_relu[0][0]'] \n",
            " D)                                                                                               \n",
            "                                                                                                  \n",
            " conv3_block2_2_bn (BatchNo  (None, 32, 32, 128)          512       ['conv3_block2_2_conv[0][0]'] \n",
            " rmalization)                                                                                     \n",
            "                                                                                                  \n",
            " conv3_block2_2_relu (Activ  (None, 32, 32, 128)          0         ['conv3_block2_2_bn[0][0]']   \n",
            " ation)                                                                                           \n",
            "                                                                                                  \n",
            " conv3_block2_3_conv (Conv2  (None, 32, 32, 512)          66048     ['conv3_block2_2_relu[0][0]'] \n",
            " D)                                                                                               \n",
            "                                                                                                  \n",
            " conv3_block2_3_bn (BatchNo  (None, 32, 32, 512)          2048      ['conv3_block2_3_conv[0][0]'] \n",
            " rmalization)                                                                                     \n",
            "                                                                                                  \n",
            " conv3_block2_add (Add)      (None, 32, 32, 512)          0         ['conv3_block1_out[0][0]',    \n",
            "                                                                     'conv3_block2_3_bn[0][0]']   \n",
            "                                                                                                  \n",
            " conv3_block2_out (Activati  (None, 32, 32, 512)          0         ['conv3_block2_add[0][0]']    \n",
            " on)                                                                                              \n",
            "                                                                                                  \n",
            " conv3_block3_1_conv (Conv2  (None, 32, 32, 128)          65664     ['conv3_block2_out[0][0]']    \n",
            " D)                                                                                               \n",
            "                                                                                                  \n",
            " conv3_block3_1_bn (BatchNo  (None, 32, 32, 128)          512       ['conv3_block3_1_conv[0][0]'] \n",
            " rmalization)                                                                                     \n",
            "                                                                                                  \n",
            " conv3_block3_1_relu (Activ  (None, 32, 32, 128)          0         ['conv3_block3_1_bn[0][0]']   \n",
            " ation)                                                                                           \n",
            "                                                                                                  \n",
            " conv3_block3_2_conv (Conv2  (None, 32, 32, 128)          147584    ['conv3_block3_1_relu[0][0]'] \n",
            " D)                                                                                               \n",
            "                                                                                                  \n",
            " conv3_block3_2_bn (BatchNo  (None, 32, 32, 128)          512       ['conv3_block3_2_conv[0][0]'] \n",
            " rmalization)                                                                                     \n",
            "                                                                                                  \n",
            " conv3_block3_2_relu (Activ  (None, 32, 32, 128)          0         ['conv3_block3_2_bn[0][0]']   \n",
            " ation)                                                                                           \n",
            "                                                                                                  \n",
            " conv3_block3_3_conv (Conv2  (None, 32, 32, 512)          66048     ['conv3_block3_2_relu[0][0]'] \n",
            " D)                                                                                               \n",
            "                                                                                                  \n",
            " conv3_block3_3_bn (BatchNo  (None, 32, 32, 512)          2048      ['conv3_block3_3_conv[0][0]'] \n",
            " rmalization)                                                                                     \n",
            "                                                                                                  \n",
            " conv3_block3_add (Add)      (None, 32, 32, 512)          0         ['conv3_block2_out[0][0]',    \n",
            "                                                                     'conv3_block3_3_bn[0][0]']   \n",
            "                                                                                                  \n",
            " conv3_block3_out (Activati  (None, 32, 32, 512)          0         ['conv3_block3_add[0][0]']    \n",
            " on)                                                                                              \n",
            "                                                                                                  \n",
            " conv3_block4_1_conv (Conv2  (None, 32, 32, 128)          65664     ['conv3_block3_out[0][0]']    \n",
            " D)                                                                                               \n",
            "                                                                                                  \n",
            " conv3_block4_1_bn (BatchNo  (None, 32, 32, 128)          512       ['conv3_block4_1_conv[0][0]'] \n",
            " rmalization)                                                                                     \n",
            "                                                                                                  \n",
            " conv3_block4_1_relu (Activ  (None, 32, 32, 128)          0         ['conv3_block4_1_bn[0][0]']   \n",
            " ation)                                                                                           \n",
            "                                                                                                  \n",
            " conv3_block4_2_conv (Conv2  (None, 32, 32, 128)          147584    ['conv3_block4_1_relu[0][0]'] \n",
            " D)                                                                                               \n",
            "                                                                                                  \n",
            " conv3_block4_2_bn (BatchNo  (None, 32, 32, 128)          512       ['conv3_block4_2_conv[0][0]'] \n",
            " rmalization)                                                                                     \n",
            "                                                                                                  \n",
            " conv3_block4_2_relu (Activ  (None, 32, 32, 128)          0         ['conv3_block4_2_bn[0][0]']   \n",
            " ation)                                                                                           \n",
            "                                                                                                  \n",
            " conv3_block4_3_conv (Conv2  (None, 32, 32, 512)          66048     ['conv3_block4_2_relu[0][0]'] \n",
            " D)                                                                                               \n",
            "                                                                                                  \n",
            " conv3_block4_3_bn (BatchNo  (None, 32, 32, 512)          2048      ['conv3_block4_3_conv[0][0]'] \n",
            " rmalization)                                                                                     \n",
            "                                                                                                  \n",
            " conv3_block4_add (Add)      (None, 32, 32, 512)          0         ['conv3_block3_out[0][0]',    \n",
            "                                                                     'conv3_block4_3_bn[0][0]']   \n",
            "                                                                                                  \n",
            " conv3_block4_out (Activati  (None, 32, 32, 512)          0         ['conv3_block4_add[0][0]']    \n",
            " on)                                                                                              \n",
            "                                                                                                  \n",
            " conv4_block1_1_conv (Conv2  (None, 16, 16, 256)          131328    ['conv3_block4_out[0][0]']    \n",
            " D)                                                                                               \n",
            "                                                                                                  \n",
            " conv4_block1_1_bn (BatchNo  (None, 16, 16, 256)          1024      ['conv4_block1_1_conv[0][0]'] \n",
            " rmalization)                                                                                     \n",
            "                                                                                                  \n",
            " conv4_block1_1_relu (Activ  (None, 16, 16, 256)          0         ['conv4_block1_1_bn[0][0]']   \n",
            " ation)                                                                                           \n",
            "                                                                                                  \n",
            " conv4_block1_2_conv (Conv2  (None, 16, 16, 256)          590080    ['conv4_block1_1_relu[0][0]'] \n",
            " D)                                                                                               \n",
            "                                                                                                  \n",
            " conv4_block1_2_bn (BatchNo  (None, 16, 16, 256)          1024      ['conv4_block1_2_conv[0][0]'] \n",
            " rmalization)                                                                                     \n",
            "                                                                                                  \n",
            " conv4_block1_2_relu (Activ  (None, 16, 16, 256)          0         ['conv4_block1_2_bn[0][0]']   \n",
            " ation)                                                                                           \n",
            "                                                                                                  \n",
            " conv4_block1_0_conv (Conv2  (None, 16, 16, 1024)         525312    ['conv3_block4_out[0][0]']    \n",
            " D)                                                                                               \n",
            "                                                                                                  \n",
            " conv4_block1_3_conv (Conv2  (None, 16, 16, 1024)         263168    ['conv4_block1_2_relu[0][0]'] \n",
            " D)                                                                                               \n",
            "                                                                                                  \n",
            " conv4_block1_0_bn (BatchNo  (None, 16, 16, 1024)         4096      ['conv4_block1_0_conv[0][0]'] \n",
            " rmalization)                                                                                     \n",
            "                                                                                                  \n",
            " conv4_block1_3_bn (BatchNo  (None, 16, 16, 1024)         4096      ['conv4_block1_3_conv[0][0]'] \n",
            " rmalization)                                                                                     \n",
            "                                                                                                  \n",
            " conv4_block1_add (Add)      (None, 16, 16, 1024)         0         ['conv4_block1_0_bn[0][0]',   \n",
            "                                                                     'conv4_block1_3_bn[0][0]']   \n",
            "                                                                                                  \n",
            " conv4_block1_out (Activati  (None, 16, 16, 1024)         0         ['conv4_block1_add[0][0]']    \n",
            " on)                                                                                              \n",
            "                                                                                                  \n",
            " conv4_block2_1_conv (Conv2  (None, 16, 16, 256)          262400    ['conv4_block1_out[0][0]']    \n",
            " D)                                                                                               \n",
            "                                                                                                  \n",
            " conv4_block2_1_bn (BatchNo  (None, 16, 16, 256)          1024      ['conv4_block2_1_conv[0][0]'] \n",
            " rmalization)                                                                                     \n",
            "                                                                                                  \n",
            " conv4_block2_1_relu (Activ  (None, 16, 16, 256)          0         ['conv4_block2_1_bn[0][0]']   \n",
            " ation)                                                                                           \n",
            "                                                                                                  \n",
            " conv4_block2_2_conv (Conv2  (None, 16, 16, 256)          590080    ['conv4_block2_1_relu[0][0]'] \n",
            " D)                                                                                               \n",
            "                                                                                                  \n",
            " conv4_block2_2_bn (BatchNo  (None, 16, 16, 256)          1024      ['conv4_block2_2_conv[0][0]'] \n",
            " rmalization)                                                                                     \n",
            "                                                                                                  \n",
            " conv4_block2_2_relu (Activ  (None, 16, 16, 256)          0         ['conv4_block2_2_bn[0][0]']   \n",
            " ation)                                                                                           \n",
            "                                                                                                  \n",
            " conv4_block2_3_conv (Conv2  (None, 16, 16, 1024)         263168    ['conv4_block2_2_relu[0][0]'] \n",
            " D)                                                                                               \n",
            "                                                                                                  \n",
            " conv4_block2_3_bn (BatchNo  (None, 16, 16, 1024)         4096      ['conv4_block2_3_conv[0][0]'] \n",
            " rmalization)                                                                                     \n",
            "                                                                                                  \n",
            " conv4_block2_add (Add)      (None, 16, 16, 1024)         0         ['conv4_block1_out[0][0]',    \n",
            "                                                                     'conv4_block2_3_bn[0][0]']   \n",
            "                                                                                                  \n",
            " conv4_block2_out (Activati  (None, 16, 16, 1024)         0         ['conv4_block2_add[0][0]']    \n",
            " on)                                                                                              \n",
            "                                                                                                  \n",
            " conv4_block3_1_conv (Conv2  (None, 16, 16, 256)          262400    ['conv4_block2_out[0][0]']    \n",
            " D)                                                                                               \n",
            "                                                                                                  \n",
            " conv4_block3_1_bn (BatchNo  (None, 16, 16, 256)          1024      ['conv4_block3_1_conv[0][0]'] \n",
            " rmalization)                                                                                     \n",
            "                                                                                                  \n",
            " conv4_block3_1_relu (Activ  (None, 16, 16, 256)          0         ['conv4_block3_1_bn[0][0]']   \n",
            " ation)                                                                                           \n",
            "                                                                                                  \n",
            " conv4_block3_2_conv (Conv2  (None, 16, 16, 256)          590080    ['conv4_block3_1_relu[0][0]'] \n",
            " D)                                                                                               \n",
            "                                                                                                  \n",
            " conv4_block3_2_bn (BatchNo  (None, 16, 16, 256)          1024      ['conv4_block3_2_conv[0][0]'] \n",
            " rmalization)                                                                                     \n",
            "                                                                                                  \n",
            " conv4_block3_2_relu (Activ  (None, 16, 16, 256)          0         ['conv4_block3_2_bn[0][0]']   \n",
            " ation)                                                                                           \n",
            "                                                                                                  \n",
            " conv4_block3_3_conv (Conv2  (None, 16, 16, 1024)         263168    ['conv4_block3_2_relu[0][0]'] \n",
            " D)                                                                                               \n",
            "                                                                                                  \n",
            " conv4_block3_3_bn (BatchNo  (None, 16, 16, 1024)         4096      ['conv4_block3_3_conv[0][0]'] \n",
            " rmalization)                                                                                     \n",
            "                                                                                                  \n",
            " conv4_block3_add (Add)      (None, 16, 16, 1024)         0         ['conv4_block2_out[0][0]',    \n",
            "                                                                     'conv4_block3_3_bn[0][0]']   \n",
            "                                                                                                  \n",
            " conv4_block3_out (Activati  (None, 16, 16, 1024)         0         ['conv4_block3_add[0][0]']    \n",
            " on)                                                                                              \n",
            "                                                                                                  \n",
            " conv4_block4_1_conv (Conv2  (None, 16, 16, 256)          262400    ['conv4_block3_out[0][0]']    \n",
            " D)                                                                                               \n",
            "                                                                                                  \n",
            " conv4_block4_1_bn (BatchNo  (None, 16, 16, 256)          1024      ['conv4_block4_1_conv[0][0]'] \n",
            " rmalization)                                                                                     \n",
            "                                                                                                  \n",
            " conv4_block4_1_relu (Activ  (None, 16, 16, 256)          0         ['conv4_block4_1_bn[0][0]']   \n",
            " ation)                                                                                           \n",
            "                                                                                                  \n",
            " conv4_block4_2_conv (Conv2  (None, 16, 16, 256)          590080    ['conv4_block4_1_relu[0][0]'] \n",
            " D)                                                                                               \n",
            "                                                                                                  \n",
            " conv4_block4_2_bn (BatchNo  (None, 16, 16, 256)          1024      ['conv4_block4_2_conv[0][0]'] \n",
            " rmalization)                                                                                     \n",
            "                                                                                                  \n",
            " conv4_block4_2_relu (Activ  (None, 16, 16, 256)          0         ['conv4_block4_2_bn[0][0]']   \n",
            " ation)                                                                                           \n",
            "                                                                                                  \n",
            " conv4_block4_3_conv (Conv2  (None, 16, 16, 1024)         263168    ['conv4_block4_2_relu[0][0]'] \n",
            " D)                                                                                               \n",
            "                                                                                                  \n",
            " conv4_block4_3_bn (BatchNo  (None, 16, 16, 1024)         4096      ['conv4_block4_3_conv[0][0]'] \n",
            " rmalization)                                                                                     \n",
            "                                                                                                  \n",
            " conv4_block4_add (Add)      (None, 16, 16, 1024)         0         ['conv4_block3_out[0][0]',    \n",
            "                                                                     'conv4_block4_3_bn[0][0]']   \n",
            "                                                                                                  \n",
            " conv4_block4_out (Activati  (None, 16, 16, 1024)         0         ['conv4_block4_add[0][0]']    \n",
            " on)                                                                                              \n",
            "                                                                                                  \n",
            " conv4_block5_1_conv (Conv2  (None, 16, 16, 256)          262400    ['conv4_block4_out[0][0]']    \n",
            " D)                                                                                               \n",
            "                                                                                                  \n",
            " conv4_block5_1_bn (BatchNo  (None, 16, 16, 256)          1024      ['conv4_block5_1_conv[0][0]'] \n",
            " rmalization)                                                                                     \n",
            "                                                                                                  \n",
            " conv4_block5_1_relu (Activ  (None, 16, 16, 256)          0         ['conv4_block5_1_bn[0][0]']   \n",
            " ation)                                                                                           \n",
            "                                                                                                  \n",
            " conv4_block5_2_conv (Conv2  (None, 16, 16, 256)          590080    ['conv4_block5_1_relu[0][0]'] \n",
            " D)                                                                                               \n",
            "                                                                                                  \n",
            " conv4_block5_2_bn (BatchNo  (None, 16, 16, 256)          1024      ['conv4_block5_2_conv[0][0]'] \n",
            " rmalization)                                                                                     \n",
            "                                                                                                  \n",
            " conv4_block5_2_relu (Activ  (None, 16, 16, 256)          0         ['conv4_block5_2_bn[0][0]']   \n",
            " ation)                                                                                           \n",
            "                                                                                                  \n",
            " conv4_block5_3_conv (Conv2  (None, 16, 16, 1024)         263168    ['conv4_block5_2_relu[0][0]'] \n",
            " D)                                                                                               \n",
            "                                                                                                  \n",
            " conv4_block5_3_bn (BatchNo  (None, 16, 16, 1024)         4096      ['conv4_block5_3_conv[0][0]'] \n",
            " rmalization)                                                                                     \n",
            "                                                                                                  \n",
            " conv4_block5_add (Add)      (None, 16, 16, 1024)         0         ['conv4_block4_out[0][0]',    \n",
            "                                                                     'conv4_block5_3_bn[0][0]']   \n",
            "                                                                                                  \n",
            " conv4_block5_out (Activati  (None, 16, 16, 1024)         0         ['conv4_block5_add[0][0]']    \n",
            " on)                                                                                              \n",
            "                                                                                                  \n",
            " conv4_block6_1_conv (Conv2  (None, 16, 16, 256)          262400    ['conv4_block5_out[0][0]']    \n",
            " D)                                                                                               \n",
            "                                                                                                  \n",
            " conv4_block6_1_bn (BatchNo  (None, 16, 16, 256)          1024      ['conv4_block6_1_conv[0][0]'] \n",
            " rmalization)                                                                                     \n",
            "                                                                                                  \n",
            " conv4_block6_1_relu (Activ  (None, 16, 16, 256)          0         ['conv4_block6_1_bn[0][0]']   \n",
            " ation)                                                                                           \n",
            "                                                                                                  \n",
            " conv4_block6_2_conv (Conv2  (None, 16, 16, 256)          590080    ['conv4_block6_1_relu[0][0]'] \n",
            " D)                                                                                               \n",
            "                                                                                                  \n",
            " conv4_block6_2_bn (BatchNo  (None, 16, 16, 256)          1024      ['conv4_block6_2_conv[0][0]'] \n",
            " rmalization)                                                                                     \n",
            "                                                                                                  \n",
            " conv4_block6_2_relu (Activ  (None, 16, 16, 256)          0         ['conv4_block6_2_bn[0][0]']   \n",
            " ation)                                                                                           \n",
            "                                                                                                  \n",
            " conv4_block6_3_conv (Conv2  (None, 16, 16, 1024)         263168    ['conv4_block6_2_relu[0][0]'] \n",
            " D)                                                                                               \n",
            "                                                                                                  \n",
            " conv4_block6_3_bn (BatchNo  (None, 16, 16, 1024)         4096      ['conv4_block6_3_conv[0][0]'] \n",
            " rmalization)                                                                                     \n",
            "                                                                                                  \n",
            " conv4_block6_add (Add)      (None, 16, 16, 1024)         0         ['conv4_block5_out[0][0]',    \n",
            "                                                                     'conv4_block6_3_bn[0][0]']   \n",
            "                                                                                                  \n",
            " conv4_block6_out (Activati  (None, 16, 16, 1024)         0         ['conv4_block6_add[0][0]']    \n",
            " on)                                                                                              \n",
            "                                                                                                  \n",
            " conv5_block1_1_conv (Conv2  (None, 8, 8, 512)            524800    ['conv4_block6_out[0][0]']    \n",
            " D)                                                                                               \n",
            "                                                                                                  \n",
            " conv5_block1_1_bn (BatchNo  (None, 8, 8, 512)            2048      ['conv5_block1_1_conv[0][0]'] \n",
            " rmalization)                                                                                     \n",
            "                                                                                                  \n",
            " conv5_block1_1_relu (Activ  (None, 8, 8, 512)            0         ['conv5_block1_1_bn[0][0]']   \n",
            " ation)                                                                                           \n",
            "                                                                                                  \n",
            " conv5_block1_2_conv (Conv2  (None, 8, 8, 512)            2359808   ['conv5_block1_1_relu[0][0]'] \n",
            " D)                                                                                               \n",
            "                                                                                                  \n",
            " conv5_block1_2_bn (BatchNo  (None, 8, 8, 512)            2048      ['conv5_block1_2_conv[0][0]'] \n",
            " rmalization)                                                                                     \n",
            "                                                                                                  \n",
            " conv5_block1_2_relu (Activ  (None, 8, 8, 512)            0         ['conv5_block1_2_bn[0][0]']   \n",
            " ation)                                                                                           \n",
            "                                                                                                  \n",
            " conv5_block1_0_conv (Conv2  (None, 8, 8, 2048)           2099200   ['conv4_block6_out[0][0]']    \n",
            " D)                                                                                               \n",
            "                                                                                                  \n",
            " conv5_block1_3_conv (Conv2  (None, 8, 8, 2048)           1050624   ['conv5_block1_2_relu[0][0]'] \n",
            " D)                                                                                               \n",
            "                                                                                                  \n",
            " conv5_block1_0_bn (BatchNo  (None, 8, 8, 2048)           8192      ['conv5_block1_0_conv[0][0]'] \n",
            " rmalization)                                                                                     \n",
            "                                                                                                  \n",
            " conv5_block1_3_bn (BatchNo  (None, 8, 8, 2048)           8192      ['conv5_block1_3_conv[0][0]'] \n",
            " rmalization)                                                                                     \n",
            "                                                                                                  \n",
            " conv5_block1_add (Add)      (None, 8, 8, 2048)           0         ['conv5_block1_0_bn[0][0]',   \n",
            "                                                                     'conv5_block1_3_bn[0][0]']   \n",
            "                                                                                                  \n",
            " conv5_block1_out (Activati  (None, 8, 8, 2048)           0         ['conv5_block1_add[0][0]']    \n",
            " on)                                                                                              \n",
            "                                                                                                  \n",
            " conv5_block2_1_conv (Conv2  (None, 8, 8, 512)            1049088   ['conv5_block1_out[0][0]']    \n",
            " D)                                                                                               \n",
            "                                                                                                  \n",
            " conv5_block2_1_bn (BatchNo  (None, 8, 8, 512)            2048      ['conv5_block2_1_conv[0][0]'] \n",
            " rmalization)                                                                                     \n",
            "                                                                                                  \n",
            " conv5_block2_1_relu (Activ  (None, 8, 8, 512)            0         ['conv5_block2_1_bn[0][0]']   \n",
            " ation)                                                                                           \n",
            "                                                                                                  \n",
            " conv5_block2_2_conv (Conv2  (None, 8, 8, 512)            2359808   ['conv5_block2_1_relu[0][0]'] \n",
            " D)                                                                                               \n",
            "                                                                                                  \n",
            " conv5_block2_2_bn (BatchNo  (None, 8, 8, 512)            2048      ['conv5_block2_2_conv[0][0]'] \n",
            " rmalization)                                                                                     \n",
            "                                                                                                  \n",
            " conv5_block2_2_relu (Activ  (None, 8, 8, 512)            0         ['conv5_block2_2_bn[0][0]']   \n",
            " ation)                                                                                           \n",
            "                                                                                                  \n",
            " conv5_block2_3_conv (Conv2  (None, 8, 8, 2048)           1050624   ['conv5_block2_2_relu[0][0]'] \n",
            " D)                                                                                               \n",
            "                                                                                                  \n",
            " conv5_block2_3_bn (BatchNo  (None, 8, 8, 2048)           8192      ['conv5_block2_3_conv[0][0]'] \n",
            " rmalization)                                                                                     \n",
            "                                                                                                  \n",
            " conv5_block2_add (Add)      (None, 8, 8, 2048)           0         ['conv5_block1_out[0][0]',    \n",
            "                                                                     'conv5_block2_3_bn[0][0]']   \n",
            "                                                                                                  \n",
            " conv5_block2_out (Activati  (None, 8, 8, 2048)           0         ['conv5_block2_add[0][0]']    \n",
            " on)                                                                                              \n",
            "                                                                                                  \n",
            " conv5_block3_1_conv (Conv2  (None, 8, 8, 512)            1049088   ['conv5_block2_out[0][0]']    \n",
            " D)                                                                                               \n",
            "                                                                                                  \n",
            " conv5_block3_1_bn (BatchNo  (None, 8, 8, 512)            2048      ['conv5_block3_1_conv[0][0]'] \n",
            " rmalization)                                                                                     \n",
            "                                                                                                  \n",
            " conv5_block3_1_relu (Activ  (None, 8, 8, 512)            0         ['conv5_block3_1_bn[0][0]']   \n",
            " ation)                                                                                           \n",
            "                                                                                                  \n",
            " conv5_block3_2_conv (Conv2  (None, 8, 8, 512)            2359808   ['conv5_block3_1_relu[0][0]'] \n",
            " D)                                                                                               \n",
            "                                                                                                  \n",
            " conv5_block3_2_bn (BatchNo  (None, 8, 8, 512)            2048      ['conv5_block3_2_conv[0][0]'] \n",
            " rmalization)                                                                                     \n",
            "                                                                                                  \n",
            " conv5_block3_2_relu (Activ  (None, 8, 8, 512)            0         ['conv5_block3_2_bn[0][0]']   \n",
            " ation)                                                                                           \n",
            "                                                                                                  \n",
            " conv5_block3_3_conv (Conv2  (None, 8, 8, 2048)           1050624   ['conv5_block3_2_relu[0][0]'] \n",
            " D)                                                                                               \n",
            "                                                                                                  \n",
            " conv5_block3_3_bn (BatchNo  (None, 8, 8, 2048)           8192      ['conv5_block3_3_conv[0][0]'] \n",
            " rmalization)                                                                                     \n",
            "                                                                                                  \n",
            " conv5_block3_add (Add)      (None, 8, 8, 2048)           0         ['conv5_block2_out[0][0]',    \n",
            "                                                                     'conv5_block3_3_bn[0][0]']   \n",
            "                                                                                                  \n",
            " conv5_block3_out (Activati  (None, 8, 8, 2048)           0         ['conv5_block3_add[0][0]']    \n",
            " on)                                                                                              \n",
            "                                                                                                  \n",
            "==================================================================================================\n",
            "Total params: 23587712 (89.98 MB)\n",
            "Trainable params: 23534592 (89.78 MB)\n",
            "Non-trainable params: 53120 (207.50 KB)\n",
            "__________________________________________________________________________________________________\n"
          ]
        }
      ],
      "source": [
        "convolutional_base = ResNet50(weights = 'imagenet', include_top = False, input_shape = (256,256,3))\n",
        "convolutional_base.summary()"
      ]
    },
    {
      "cell_type": "code",
      "execution_count": 44,
      "metadata": {
        "id": "AQrc49yimN1v"
      },
      "outputs": [],
      "source": [
        "num_of_class = 10\n",
        "\n",
        "model = models.Sequential()\n",
        "model.add(layers.UpSampling2D((2,2)))\n",
        "model.add(layers.UpSampling2D((2,2)))\n",
        "model.add(layers.UpSampling2D((2,2)))\n",
        "model.add(convolutional_base)\n",
        "model.add(layers.Flatten())\n",
        "model.add(layers.BatchNormalization())\n",
        "model.add(layers.Dense(128, activation = 'relu'))\n",
        "model.add(layers.Dropout(0.5))\n",
        "model.add(layers.BatchNormalization())\n",
        "model.add(layers.Dense(64, activation = 'relu'))\n",
        "model.add(layers.Dropout(0.5))\n",
        "model.add(layers.BatchNormalization())\n",
        "model.add(layers.Dense(num_of_class, activation = 'relu'))\n"
      ]
    },
    {
      "cell_type": "code",
      "execution_count": 47,
      "metadata": {
        "id": "e7KS4zufoQVm"
      },
      "outputs": [],
      "source": [
        "model.compile(optimizer = optimizers.RMSprop(learning_rate = 2e-5), loss = 'sparse_categorical_crossentropy', metrics = ['acc'])"
      ]
    },
    {
      "cell_type": "code",
      "execution_count": null,
      "metadata": {
        "colab": {
          "base_uri": "https://localhost:8080/"
        },
        "id": "H0HI3RypoQO5",
        "outputId": "9096a325-805e-40d0-f678-18ca5f34f5ed"
      },
      "outputs": [
        {
          "output_type": "stream",
          "name": "stdout",
          "text": [
            "Epoch 1/10\n",
            "  69/1125 [>.............................] - ETA: 9:29:49 - loss: 8.9842 - acc: 0.1141"
          ]
        }
      ],
      "source": [
        "history = model.fit(X_train_scaled, Y_train, validation_split = 0.1, epochs=10)"
      ]
    },
    {
      "cell_type": "code",
      "execution_count": null,
      "metadata": {
        "id": "hDxiLRMjoQGC"
      },
      "outputs": [],
      "source": [
        "h = history\n",
        "\n",
        "#plot loss values\n",
        "\n",
        "plt.plot(h.history['loss'], label = 'train_loss')\n",
        "plt.plot(h.history['val_loss'], label = 'validation_loss')\n",
        "plt.legend()\n",
        "plt.show()\n",
        "\n",
        "\n",
        "plt.plot(h.history['acc'], label = 'train_accuracy')\n",
        "plt.plot(h.history['val_acc'], label = 'validation_accuracy')\n",
        "plt.legend()\n",
        "plt.show()\n",
        "\n"
      ]
    },
    {
      "cell_type": "markdown",
      "metadata": {
        "id": "usGF2U0mu0UN"
      },
      "source": []
    }
  ],
  "metadata": {
    "colab": {
      "provenance": [],
      "authorship_tag": "ABX9TyNH2TbBFXKW9jvXV8jrcUEm",
      "include_colab_link": true
    },
    "kernelspec": {
      "display_name": "Python 3",
      "name": "python3"
    },
    "language_info": {
      "name": "python"
    }
  },
  "nbformat": 4,
  "nbformat_minor": 0
}